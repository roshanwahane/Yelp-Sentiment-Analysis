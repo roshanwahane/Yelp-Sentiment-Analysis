{
  "nbformat": 4,
  "nbformat_minor": 0,
  "metadata": {
    "colab": {
      "name": "Sentiment classification for product review - Yelp",
      "provenance": [],
      "collapsed_sections": []
    },
    "kernelspec": {
      "name": "python3",
      "display_name": "Python 3"
    }
  },
  "cells": [
    {
      "cell_type": "markdown",
      "metadata": {
        "id": "LtxGB-JykMRN",
        "colab_type": "text"
      },
      "source": [
        "# Sentiment classification for product review - Yelp\n",
        "### Natural Language Processing\n",
        "**Roshan Wahane**\n",
        "\n",
        "Note: When you see a ``%%time`` statement in the cell, it means that executing that cell will take a long time for it to finish."
      ]
    },
    {
      "cell_type": "markdown",
      "metadata": {
        "id": "NTiPdp0rkdao",
        "colab_type": "text"
      },
      "source": [
        "## Import libraries\n",
        "We use the following libraries:\n",
        "\n",
        "- **(internal):** We use various internal Python libraries for utility purposes\n",
        "- **pandas:** For dataframe data structure\n",
        "- **np:** For fast numerical computation and its methods\n",
        "- **nltk:** For preprocessing the text\n",
        "- **sklearn:** For fitting and predicting machine learning models on datasets\n",
        "- **h2o:** For training and predicting deep learning models on datasets\n",
        "- **matplotlib.pyplot:** For EDA visualisations"
      ]
    },
    {
      "cell_type": "code",
      "metadata": {
        "id": "6lAFJgVqn1mV",
        "colab_type": "code",
        "outputId": "caa7102c-d618-4f56-b492-64af6aa42219",
        "colab": {
          "base_uri": "https://localhost:8080/",
          "height": 366
        }
      },
      "source": [
        "!pip install h2o"
      ],
      "execution_count": 0,
      "outputs": [
        {
          "output_type": "stream",
          "text": [
            "Collecting h2o\n",
            "\u001b[?25l  Downloading https://files.pythonhosted.org/packages/26/50/74c2d1393d657b7cbf2ff38bb8338f4c83db36d2013e5d6e497a6f5021a3/h2o-3.26.0.9.tar.gz (123.7MB)\n",
            "\u001b[K     |████████████████████████████████| 123.7MB 78kB/s \n",
            "\u001b[?25hRequirement already satisfied: requests in /usr/local/lib/python3.6/dist-packages (from h2o) (2.21.0)\n",
            "Requirement already satisfied: tabulate in /usr/local/lib/python3.6/dist-packages (from h2o) (0.8.5)\n",
            "Requirement already satisfied: future in /usr/local/lib/python3.6/dist-packages (from h2o) (0.16.0)\n",
            "Collecting colorama>=0.3.8\n",
            "  Downloading https://files.pythonhosted.org/packages/4f/a6/728666f39bfff1719fc94c481890b2106837da9318031f71a8424b662e12/colorama-0.4.1-py2.py3-none-any.whl\n",
            "Requirement already satisfied: idna<2.9,>=2.5 in /usr/local/lib/python3.6/dist-packages (from requests->h2o) (2.8)\n",
            "Requirement already satisfied: urllib3<1.25,>=1.21.1 in /usr/local/lib/python3.6/dist-packages (from requests->h2o) (1.24.3)\n",
            "Requirement already satisfied: chardet<3.1.0,>=3.0.2 in /usr/local/lib/python3.6/dist-packages (from requests->h2o) (3.0.4)\n",
            "Requirement already satisfied: certifi>=2017.4.17 in /usr/local/lib/python3.6/dist-packages (from requests->h2o) (2019.9.11)\n",
            "Building wheels for collected packages: h2o\n",
            "  Building wheel for h2o (setup.py) ... \u001b[?25l\u001b[?25hdone\n",
            "  Created wheel for h2o: filename=h2o-3.26.0.9-py2.py3-none-any.whl size=123719079 sha256=f48d09638b7159538b3b3a8c6c422044702104bcc0950070a73b2228dbd6a8c8\n",
            "  Stored in directory: /root/.cache/pip/wheels/ff/a9/36/487108894572fb92f9262ef16b3db700601992274b9705b214\n",
            "Successfully built h2o\n",
            "Installing collected packages: colorama, h2o\n",
            "Successfully installed colorama-0.4.1 h2o-3.26.0.9\n"
          ],
          "name": "stdout"
        }
      ]
    },
    {
      "cell_type": "code",
      "metadata": {
        "id": "XMPTkU5O0oc8",
        "colab_type": "code",
        "outputId": "23d8cc45-f26a-4a5b-d79d-efdce4051522",
        "colab": {
          "base_uri": "https://localhost:8080/",
          "height": 17
        }
      },
      "source": [
        "import os, itertools, string, operator, re, unicodedata, nltk, textwrap\n",
        "import multiprocessing as mp\n",
        "import pandas as pd\n",
        "import numpy as np\n",
        "from operator import itemgetter\n",
        "from collections import Counter\n",
        "\n",
        "'''Text preprocessing'''\n",
        "from nltk.tokenize import TweetTokenizer\n",
        "from nltk.corpus import wordnet\n",
        "from nltk.stem import WordNetLemmatizer\n",
        "\n",
        "'''Feature extraction'''\n",
        "from sklearn.feature_extraction.stop_words import ENGLISH_STOP_WORDS\n",
        "from sklearn.decomposition import TruncatedSVD\n",
        "from sklearn.feature_extraction.text import TfidfVectorizer\n",
        "from gensim.models import Phrases\n",
        "from scipy.sparse import vstack\n",
        "\n",
        "'''Classifiers'''\n",
        "from sklearn.dummy import DummyClassifier\n",
        "from sklearn.linear_model import SGDClassifier, LogisticRegression\n",
        "from sklearn.naive_bayes import GaussianNB\n",
        "from sklearn.tree import DecisionTreeClassifier\n",
        "from sklearn.ensemble import RandomForestClassifier, AdaBoostClassifier\n",
        "from sklearn.neighbors import KNeighborsClassifier\n",
        "from sklearn.multiclass import OneVsRestClassifier\n",
        "from sklearn.naive_bayes import MultinomialNB\n",
        "import h2o\n",
        "from h2o.estimators.deeplearning import H2ODeepLearningEstimator\n",
        "from h2o.estimators.glm import H2OGeneralizedLinearEstimator\n",
        "from h2o.estimators.gbm import H2OGradientBoostingEstimator\n",
        "from h2o.estimators.random_forest import H2ORandomForestEstimator\n",
        "from h2o.estimators.deeplearning import H2OAutoEncoderEstimator\n",
        "\n",
        "'''Metrics/Evaluation'''\n",
        "from sklearn.model_selection import train_test_split, GridSearchCV\n",
        "from sklearn.metrics import (\n",
        "    accuracy_score,\n",
        "    confusion_matrix,\n",
        "    classification_report\n",
        ")\n",
        "from scipy import interp\n",
        "from itertools import cycle\n",
        "\n",
        "'''Plotting'''\n",
        "import matplotlib.pyplot as plt\n",
        "import seaborn as sns\n",
        "sns.set_style('darkgrid')\n",
        "\n",
        "'''Display'''\n",
        "from IPython.core.display import display, HTML\n",
        "display(HTML(\"<style>.container { width:95% !important; }</style>\"))\n",
        "import warnings\n",
        "warnings.filterwarnings('ignore')\n",
        "pd.options.display.float_format = '{:,.4f}'.format\n",
        "pd.set_option('display.max_colwidth', 0)"
      ],
      "execution_count": 0,
      "outputs": [
        {
          "output_type": "display_data",
          "data": {
            "text/html": [
              "<style>.container { width:95% !important; }</style>"
            ],
            "text/plain": [
              "<IPython.core.display.HTML object>"
            ]
          },
          "metadata": {
            "tags": []
          }
        }
      ]
    },
    {
      "cell_type": "code",
      "metadata": {
        "id": "DjT4lhnM4zjh",
        "colab_type": "code",
        "outputId": "55d242c8-822d-4045-9fa1-b34ef06e7f09",
        "colab": {
          "base_uri": "https://localhost:8080/",
          "height": 146
        }
      },
      "source": [
        "## Download required nltk packages\n",
        "nltk.download('punkt')\n",
        "nltk.download('reuters')\n",
        "nltk.download('averaged_perceptron_tagger')"
      ],
      "execution_count": 0,
      "outputs": [
        {
          "output_type": "stream",
          "text": [
            "[nltk_data] Downloading package punkt to /root/nltk_data...\n",
            "[nltk_data]   Unzipping tokenizers/punkt.zip.\n",
            "[nltk_data] Downloading package reuters to /root/nltk_data...\n",
            "[nltk_data] Downloading package averaged_perceptron_tagger to\n",
            "[nltk_data]     /root/nltk_data...\n",
            "[nltk_data]   Unzipping taggers/averaged_perceptron_tagger.zip.\n"
          ],
          "name": "stdout"
        },
        {
          "output_type": "execute_result",
          "data": {
            "text/plain": [
              "True"
            ]
          },
          "metadata": {
            "tags": []
          },
          "execution_count": 5
        }
      ]
    },
    {
      "cell_type": "markdown",
      "metadata": {
        "id": "vFUX-Lp87nKZ",
        "colab_type": "text"
      },
      "source": [
        "## Load datasets\n",
        "We load all three datasets: labeled, unlabeled, and test."
      ]
    },
    {
      "cell_type": "code",
      "metadata": {
        "id": "cz6jc2yZ03iD",
        "colab_type": "code",
        "outputId": "a1b103ea-6c1b-4485-9894-dde18f971618",
        "colab": {
          "base_uri": "https://localhost:8080/",
          "height": 129
        }
      },
      "source": [
        "from google.colab import drive, files\n",
        "drive.mount('/content/drive')"
      ],
      "execution_count": 0,
      "outputs": [
        {
          "output_type": "stream",
          "text": [
            "Go to this URL in a browser: https://accounts.google.com/o/oauth2/auth?client_id=947318989803-6bn6qk8qdgf4n4g3pfee6491hc0brc4i.apps.googleusercontent.com&redirect_uri=urn%3Aietf%3Awg%3Aoauth%3A2.0%3Aoob&scope=email%20https%3A%2F%2Fwww.googleapis.com%2Fauth%2Fdocs.test%20https%3A%2F%2Fwww.googleapis.com%2Fauth%2Fdrive%20https%3A%2F%2Fwww.googleapis.com%2Fauth%2Fdrive.photos.readonly%20https%3A%2F%2Fwww.googleapis.com%2Fauth%2Fpeopleapi.readonly&response_type=code\n",
            "\n",
            "Enter your authorization code:\n",
            "··········\n",
            "Mounted at /content/drive\n"
          ],
          "name": "stdout"
        }
      ]
    },
    {
      "cell_type": "code",
      "metadata": {
        "id": "-Ayz3vNl4pYa",
        "colab_type": "code",
        "colab": {}
      },
      "source": [
        "root_path = \"drive/Shared drives/FIT5149 A2 Group 21/Datasets\"\n",
        "\n",
        "labeled_data = pd.read_csv(os.path.join(root_path, \"labeled_data.csv\"))\n",
        "unlabeled_data = pd.read_csv(os.path.join(root_path, \"unlabeled_data.csv\"))\n",
        "test_data = pd.read_csv(os.path.join(root_path, \"test_data.csv\"))"
      ],
      "execution_count": 0,
      "outputs": []
    },
    {
      "cell_type": "markdown",
      "metadata": {
        "id": "Z2pDa7HMQ3O5",
        "colab_type": "text"
      },
      "source": [
        "We examine the first few rows of each dataset."
      ]
    },
    {
      "cell_type": "code",
      "metadata": {
        "id": "yutY8GvG25N_",
        "colab_type": "code",
        "outputId": "89f8f1ba-f43d-449a-bb03-bbe99e224565",
        "colab": {
          "base_uri": "https://localhost:8080/",
          "height": 415
        }
      },
      "source": [
        "labeled_data.head()"
      ],
      "execution_count": 0,
      "outputs": [
        {
          "output_type": "execute_result",
          "data": {
            "text/html": [
              "<div>\n",
              "<style scoped>\n",
              "    .dataframe tbody tr th:only-of-type {\n",
              "        vertical-align: middle;\n",
              "    }\n",
              "\n",
              "    .dataframe tbody tr th {\n",
              "        vertical-align: top;\n",
              "    }\n",
              "\n",
              "    .dataframe thead th {\n",
              "        text-align: right;\n",
              "    }\n",
              "</style>\n",
              "<table border=\"1\" class=\"dataframe\">\n",
              "  <thead>\n",
              "    <tr style=\"text-align: right;\">\n",
              "      <th></th>\n",
              "      <th>text</th>\n",
              "      <th>label</th>\n",
              "    </tr>\n",
              "  </thead>\n",
              "  <tbody>\n",
              "    <tr>\n",
              "      <th>0</th>\n",
              "      <td>The new rule is - \\r\\nif you are waiting for a table (which you almost always are) , you cant wait inside. \\r\\nThey just posted a sign upfront that it causes some concerns for the seated patrons. \\r\\nHow awful is that? \\r\\n\\r\\nI like that they included the apology along with \"especially now in the cold\". \\r\\n\\r\\np.s you can try calling in ahead to reserve a table but thats ONLY if the waiting list is short. Otherwise, you have to show up to reserve. Boourns. \\r\\n\\r\\n\\r\\nThis place could do no wrong in my eyes. Rattle away you equally-clever/witty-name-for a hot beverage.\\r\\n\\r\\nMust mention - I am obsessed with Mad Gab. \\r\\n\\r\\nxoxo\\r\\nM.</td>\n",
              "      <td>4</td>\n",
              "    </tr>\n",
              "    <tr>\n",
              "      <th>1</th>\n",
              "      <td>Flirted with giving this two stars, but that's a pretty damning rating for what might have just been an off night...\\r\\n\\r\\nNew to the East side, and so we don't know many of these hidden gems, but me and the fiance met her friend for drinks here and ended up getting some things to nibble. \\r\\n\\r\\nFirst off, service was pretty slow, which was unusual because the restaurant is pretty small and galley style. You would think it would be easy for servers to routinely hit up tables as you pass by. \\r\\n\\r\\nThe fiance ordered the Quinoa Salad, and said it was pretty good, but dry. I wasn't too hungry and so I simply ordered the Bruchetta 3-way which came with burnt crostinis. And I ordered a side of fries, which were either hard or chewy.\\r\\n\\r\\nThe friend ordered the macaroni &amp; cheese, and added chicken and bacon (her usual order) and liked it.  \\r\\n\\r\\nCan't remember the last time I thought to myself- \"Huh... they failed at fries...\" So, like I said- two stars. But, the decor was good, it was a good place to have a conversation, and I might be back to try more expensive fare, but-... ah... the fry thing... yeeesh... I dunno, man...</td>\n",
              "      <td>3</td>\n",
              "    </tr>\n",
              "    <tr>\n",
              "      <th>2</th>\n",
              "      <td>I was staying at planet Hollywood across the street and saw good reviews on this place so my husband and I decided to give it a try. We love a good breakfast sandwich. We both ordered the bacon egg and cheese, cold brew, a biscuit and a salted caramel cookie. Everything tasted amazing! The egg is medium so it pops when you take a bite so be prepared for that. The cookie was absolutely delicious and the biscuit was soft and fluffy. We got there are around 10:30am and there was a line already. Luckily the line moves very quick and we were able to find seating. Highly recommend this place.</td>\n",
              "      <td>5</td>\n",
              "    </tr>\n",
              "    <tr>\n",
              "      <th>3</th>\n",
              "      <td>Food is good but prices are super expensive.  8 bucks for the \"Extra Large\" Carne Asada burrito and it's a little bigger then a Taco Bell bean burrito.  Don't get me wrong, it's good carne asada but you can get one at Filibertos and it's literally three times the size for 3 bucks.\\r\\n\\r\\nLower your prices or make the portions bigger - don't forget that you're using the cheapest cut of beef you can buy, marinating it with some orange juice, garlic and onions and then grilling it.  We're not talking Foie gras and heirloom tomatoes. \\r\\n\\r\\nAnd seriously, one piece of cucumber and a quarter of a radish?\\r\\n\\r\\nI've gone there 4 or five times and each time do I'm left with the same opinion so here it is publicly.</td>\n",
              "      <td>2</td>\n",
              "    </tr>\n",
              "    <tr>\n",
              "      <th>4</th>\n",
              "      <td>Worse company to deal with they do horrible work had to bring my truck back on a door replacement the door paint didn't match and trim molding wasn't straight the bolt to keep the door on wasn't even tight. My speaker in the door wasn't hooked back up. I don't recommend anyone to bring the vehicle here. A gentleman by the name of Jesus that works there every time you call for an update because they say they will call you and never do he makes you feel like your bothering him and then he says he will call you back with an update and never do. If you need work on your vehicle I would double think it before you bring it here.</td>\n",
              "      <td>1</td>\n",
              "    </tr>\n",
              "  </tbody>\n",
              "</table>\n",
              "</div>"
            ],
            "text/plain": [
              "                                                                                                                                                                                                                                                                                                                                                                                                                                                                                                                                                                                                                                                                                                                                                                                                                                                                                                                                                                                                                                                                                                                                                                                       text  label\n",
              "0  The new rule is - \\r\\nif you are waiting for a table (which you almost always are) , you cant wait inside. \\r\\nThey just posted a sign upfront that it causes some concerns for the seated patrons. \\r\\nHow awful is that? \\r\\n\\r\\nI like that they included the apology along with \"especially now in the cold\". \\r\\n\\r\\np.s you can try calling in ahead to reserve a table but thats ONLY if the waiting list is short. Otherwise, you have to show up to reserve. Boourns. \\r\\n\\r\\n\\r\\nThis place could do no wrong in my eyes. Rattle away you equally-clever/witty-name-for a hot beverage.\\r\\n\\r\\nMust mention - I am obsessed with Mad Gab. \\r\\n\\r\\nxoxo\\r\\nM.                                                                                                                                                                                                                                                                                                                                                                                                                                                                                                                    4    \n",
              "1  Flirted with giving this two stars, but that's a pretty damning rating for what might have just been an off night...\\r\\n\\r\\nNew to the East side, and so we don't know many of these hidden gems, but me and the fiance met her friend for drinks here and ended up getting some things to nibble. \\r\\n\\r\\nFirst off, service was pretty slow, which was unusual because the restaurant is pretty small and galley style. You would think it would be easy for servers to routinely hit up tables as you pass by. \\r\\n\\r\\nThe fiance ordered the Quinoa Salad, and said it was pretty good, but dry. I wasn't too hungry and so I simply ordered the Bruchetta 3-way which came with burnt crostinis. And I ordered a side of fries, which were either hard or chewy.\\r\\n\\r\\nThe friend ordered the macaroni & cheese, and added chicken and bacon (her usual order) and liked it.  \\r\\n\\r\\nCan't remember the last time I thought to myself- \"Huh... they failed at fries...\" So, like I said- two stars. But, the decor was good, it was a good place to have a conversation, and I might be back to try more expensive fare, but-... ah... the fry thing... yeeesh... I dunno, man...  3    \n",
              "2  I was staying at planet Hollywood across the street and saw good reviews on this place so my husband and I decided to give it a try. We love a good breakfast sandwich. We both ordered the bacon egg and cheese, cold brew, a biscuit and a salted caramel cookie. Everything tasted amazing! The egg is medium so it pops when you take a bite so be prepared for that. The cookie was absolutely delicious and the biscuit was soft and fluffy. We got there are around 10:30am and there was a line already. Luckily the line moves very quick and we were able to find seating. Highly recommend this place.                                                                                                                                                                                                                                                                                                                                                                                                                                                                                                                                                                         5    \n",
              "3  Food is good but prices are super expensive.  8 bucks for the \"Extra Large\" Carne Asada burrito and it's a little bigger then a Taco Bell bean burrito.  Don't get me wrong, it's good carne asada but you can get one at Filibertos and it's literally three times the size for 3 bucks.\\r\\n\\r\\nLower your prices or make the portions bigger - don't forget that you're using the cheapest cut of beef you can buy, marinating it with some orange juice, garlic and onions and then grilling it.  We're not talking Foie gras and heirloom tomatoes. \\r\\n\\r\\nAnd seriously, one piece of cucumber and a quarter of a radish?\\r\\n\\r\\nI've gone there 4 or five times and each time do I'm left with the same opinion so here it is publicly.                                                                                                                                                                                                                                                                                                                                                                                                                                            2    \n",
              "4  Worse company to deal with they do horrible work had to bring my truck back on a door replacement the door paint didn't match and trim molding wasn't straight the bolt to keep the door on wasn't even tight. My speaker in the door wasn't hooked back up. I don't recommend anyone to bring the vehicle here. A gentleman by the name of Jesus that works there every time you call for an update because they say they will call you and never do he makes you feel like your bothering him and then he says he will call you back with an update and never do. If you need work on your vehicle I would double think it before you bring it here.                                                                                                                                                                                                                                                                                                                                                                                                                                                                                                                                    1    "
            ]
          },
          "metadata": {
            "tags": []
          },
          "execution_count": 8
        }
      ]
    },
    {
      "cell_type": "markdown",
      "metadata": {
        "id": "-kLLH2i88l_p",
        "colab_type": "text"
      },
      "source": [
        "There are two columns in the labeled set: \"text\" (which contains the document), as well as \"label\" (the corresponding sentiment value for that document)."
      ]
    },
    {
      "cell_type": "code",
      "metadata": {
        "id": "azu_hFaf3a7T",
        "colab_type": "code",
        "outputId": "84464223-a712-4fe2-c8b0-cb1952fc71ac",
        "colab": {
          "base_uri": "https://localhost:8080/",
          "height": 415
        }
      },
      "source": [
        "unlabeled_data.head()"
      ],
      "execution_count": 0,
      "outputs": [
        {
          "output_type": "execute_result",
          "data": {
            "text/html": [
              "<div>\n",
              "<style scoped>\n",
              "    .dataframe tbody tr th:only-of-type {\n",
              "        vertical-align: middle;\n",
              "    }\n",
              "\n",
              "    .dataframe tbody tr th {\n",
              "        vertical-align: top;\n",
              "    }\n",
              "\n",
              "    .dataframe thead th {\n",
              "        text-align: right;\n",
              "    }\n",
              "</style>\n",
              "<table border=\"1\" class=\"dataframe\">\n",
              "  <thead>\n",
              "    <tr style=\"text-align: right;\">\n",
              "      <th></th>\n",
              "      <th>text</th>\n",
              "    </tr>\n",
              "  </thead>\n",
              "  <tbody>\n",
              "    <tr>\n",
              "      <th>0</th>\n",
              "      <td>Had a good experience when my wife and I sat at the bar. Great pizza and wings. \\r\\n\\r\\nHowever, we tried to go recently with a larger group (8 people) and it was 1.25 hr wait. At 5pm on a Wednesday... Riiiiight.  \\r\\n\\r\\nI tried to call ahead and they don't accept call aheads. They apparently only have 1 table capable of seating larger parties. Kinda missed the mark on that one Oreganos. Brand spankin new building and all. \\r\\n\\r\\nSo we went across the street to Native NewYorker and got seated immediately.</td>\n",
              "    </tr>\n",
              "    <tr>\n",
              "      <th>1</th>\n",
              "      <td>On my first to Montreal with my gf we came here to eat a nice mid day lunch before walking around more and departing from Montreal. Now obviously i am one that has a love/hate relationship with spots that are touristy and well known but in this case it was worth it. I liked the fact that we walked down a nice cobblestone corridor then was greeted by the hostess who promptly showed us to our table. Our seating was right in front where they had two jazz players performing throughout the lunch playing soft melodies for all of the diners entertainment and i always believe with soothing music a meal is always made more enjoyable. \\r\\n\\r\\nLooking around this was definite a place i could fall in love with, beautiful flower bed arrangements with different colors that made the restaurant really pop, the large umbrella's which provided a nice cool atmosphere and most importantly shade, plus birds flying around during the meal and  nicely arranged plants i loved the ambiance. The food on the other hand could be improved, with such a nicely designed restaurant i would expect a vast selection, also my gf suggested that when your in a new place you should try new food and i 100% agree with that, but in this case i should have just gotten the salmon, because everything else i looked at on the menu, i just was not feeling. Had the veal meatballs style dish and it wasn't that great i'd say it was at best a 6 out of 10 if i had to grade it. But overall the decor/ambiance made up for that. Plus our waitress was extremely helpful/friendly. I also agree with some of the reviews a bit overpriced for what they were serving.</td>\n",
              "    </tr>\n",
              "    <tr>\n",
              "      <th>2</th>\n",
              "      <td>One of our favorite places to go when it's cold and rainy out.  Re-defines comfort food. And you have to try the Rice Crispy Squares. The best!</td>\n",
              "    </tr>\n",
              "    <tr>\n",
              "      <th>3</th>\n",
              "      <td>The doctor was very nice, got in in a good amount of time and feel like the visit was acceptable. After seeing the doctor I selected my glasses, I was told about this great way they are ordered right from Oakley and how everything was done right at Oakley. I asked them if they could do a rush even said I would pay more. See explained it usually takes 5-7 business days. I was in on July 3 2014 and today July 23 2014 just got them. The lenses ARE NOT Oakley quality the tint is not even to the edge of the lens. I contacted Oakley to find out the aren't even Oakley lenses. Why did I order these and not even get what I ordered. Not happy at all would not recommended buying for brand from this company!!!</td>\n",
              "    </tr>\n",
              "    <tr>\n",
              "      <th>4</th>\n",
              "      <td>The Nook is an immediate phoenix staple!  I came here and met up with the fam, I didn't really have any expectations whatsoever.  I feel like that is the best type of experience to have, it really gives any establishment the opportunity to wow their customers.  That's exactly what The Nook did for me.  I love how it is connected to a hotel with easy access from inside, also the decor was very modern and hipster-ish.  This \"new age\" restaurant atmosphere that numbers of restaurant owners have adopted is so amazing.  The Nook sets the ambiance to a very relaxed, comfortable feeling which makes it great to come in groups. \\r\\n\\r\\nThe mixologist Dustin is very skillful, and constructed the drink menu himself from my understanding.  He definitely sets the bar for any other bartender out there.  By experimenting with different aromas all the way to different types of seasonings.  He truly makes it a day to remember.  Check out my pics of the drinks he made, I attached the recipes.\\r\\n\\r\\nI love how the city is coming to fruition, with so many new and upcoming restaurants like The Nook, it makes me proud to be a Phoenician.</td>\n",
              "    </tr>\n",
              "  </tbody>\n",
              "</table>\n",
              "</div>"
            ],
            "text/plain": [
              "                                                                                                                                                                                                                                                                                                                                                                                                                                                                                                                                                                                                                                                                                                                                                                                                                                                                                                                                                                                                                                                                                                                                                                                                                                                                                                                                                                                                                                                                                                                                                                                                                                                                                           text\n",
              "0  Had a good experience when my wife and I sat at the bar. Great pizza and wings. \\r\\n\\r\\nHowever, we tried to go recently with a larger group (8 people) and it was 1.25 hr wait. At 5pm on a Wednesday... Riiiiight.  \\r\\n\\r\\nI tried to call ahead and they don't accept call aheads. They apparently only have 1 table capable of seating larger parties. Kinda missed the mark on that one Oreganos. Brand spankin new building and all. \\r\\n\\r\\nSo we went across the street to Native NewYorker and got seated immediately.                                                                                                                                                                                                                                                                                                                                                                                                                                                                                                                                                                                                                                                                                                                                                                                                                                                                                                                                                                                                                                                                                                                                                            \n",
              "1  On my first to Montreal with my gf we came here to eat a nice mid day lunch before walking around more and departing from Montreal. Now obviously i am one that has a love/hate relationship with spots that are touristy and well known but in this case it was worth it. I liked the fact that we walked down a nice cobblestone corridor then was greeted by the hostess who promptly showed us to our table. Our seating was right in front where they had two jazz players performing throughout the lunch playing soft melodies for all of the diners entertainment and i always believe with soothing music a meal is always made more enjoyable. \\r\\n\\r\\nLooking around this was definite a place i could fall in love with, beautiful flower bed arrangements with different colors that made the restaurant really pop, the large umbrella's which provided a nice cool atmosphere and most importantly shade, plus birds flying around during the meal and  nicely arranged plants i loved the ambiance. The food on the other hand could be improved, with such a nicely designed restaurant i would expect a vast selection, also my gf suggested that when your in a new place you should try new food and i 100% agree with that, but in this case i should have just gotten the salmon, because everything else i looked at on the menu, i just was not feeling. Had the veal meatballs style dish and it wasn't that great i'd say it was at best a 6 out of 10 if i had to grade it. But overall the decor/ambiance made up for that. Plus our waitress was extremely helpful/friendly. I also agree with some of the reviews a bit overpriced for what they were serving.\n",
              "2  One of our favorite places to go when it's cold and rainy out.  Re-defines comfort food. And you have to try the Rice Crispy Squares. The best!                                                                                                                                                                                                                                                                                                                                                                                                                                                                                                                                                                                                                                                                                                                                                                                                                                                                                                                                                                                                                                                                                                                                                                                                                                                                                                                                                                                                                                                                                                                                             \n",
              "3  The doctor was very nice, got in in a good amount of time and feel like the visit was acceptable. After seeing the doctor I selected my glasses, I was told about this great way they are ordered right from Oakley and how everything was done right at Oakley. I asked them if they could do a rush even said I would pay more. See explained it usually takes 5-7 business days. I was in on July 3 2014 and today July 23 2014 just got them. The lenses ARE NOT Oakley quality the tint is not even to the edge of the lens. I contacted Oakley to find out the aren't even Oakley lenses. Why did I order these and not even get what I ordered. Not happy at all would not recommended buying for brand from this company!!!                                                                                                                                                                                                                                                                                                                                                                                                                                                                                                                                                                                                                                                                                                                                                                                                                                                                                                                                                         \n",
              "4  The Nook is an immediate phoenix staple!  I came here and met up with the fam, I didn't really have any expectations whatsoever.  I feel like that is the best type of experience to have, it really gives any establishment the opportunity to wow their customers.  That's exactly what The Nook did for me.  I love how it is connected to a hotel with easy access from inside, also the decor was very modern and hipster-ish.  This \"new age\" restaurant atmosphere that numbers of restaurant owners have adopted is so amazing.  The Nook sets the ambiance to a very relaxed, comfortable feeling which makes it great to come in groups. \\r\\n\\r\\nThe mixologist Dustin is very skillful, and constructed the drink menu himself from my understanding.  He definitely sets the bar for any other bartender out there.  By experimenting with different aromas all the way to different types of seasonings.  He truly makes it a day to remember.  Check out my pics of the drinks he made, I attached the recipes.\\r\\n\\r\\nI love how the city is coming to fruition, with so many new and upcoming restaurants like The Nook, it makes me proud to be a Phoenician.                                                                                                                                                                                                                                                                                                                                                                                                                                                                                                              "
            ]
          },
          "metadata": {
            "tags": []
          },
          "execution_count": 9
        }
      ]
    },
    {
      "cell_type": "markdown",
      "metadata": {
        "id": "qu6p10Jq8vw8",
        "colab_type": "text"
      },
      "source": [
        "The unlabeled set only contains documents in a single column called \"text\"."
      ]
    },
    {
      "cell_type": "code",
      "metadata": {
        "id": "lXhWL_-M8jAk",
        "colab_type": "code",
        "outputId": "f11e6b18-c653-49c1-ec65-f0abff24a679",
        "colab": {
          "base_uri": "https://localhost:8080/",
          "height": 363
        }
      },
      "source": [
        "test_data.head()"
      ],
      "execution_count": 0,
      "outputs": [
        {
          "output_type": "execute_result",
          "data": {
            "text/html": [
              "<div>\n",
              "<style scoped>\n",
              "    .dataframe tbody tr th:only-of-type {\n",
              "        vertical-align: middle;\n",
              "    }\n",
              "\n",
              "    .dataframe tbody tr th {\n",
              "        vertical-align: top;\n",
              "    }\n",
              "\n",
              "    .dataframe thead th {\n",
              "        text-align: right;\n",
              "    }\n",
              "</style>\n",
              "<table border=\"1\" class=\"dataframe\">\n",
              "  <thead>\n",
              "    <tr style=\"text-align: right;\">\n",
              "      <th></th>\n",
              "      <th>test_id</th>\n",
              "      <th>text</th>\n",
              "    </tr>\n",
              "  </thead>\n",
              "  <tbody>\n",
              "    <tr>\n",
              "      <th>0</th>\n",
              "      <td>test_1</td>\n",
              "      <td>trying to have a nice quiet dinner.  the announcer for the awards giveaways is way too loud in the restaurant</td>\n",
              "    </tr>\n",
              "    <tr>\n",
              "      <th>1</th>\n",
              "      <td>test_2</td>\n",
              "      <td>Been getting food to go from here for over 3yrs. My wife usually tend to get the same items. Why fix something when it works.\\r\\n\\r\\nShe always gets the Mongolian Beef lunch special, or dinner. Every once in a while we indulge in the Crab Rangoon. I tend to alternate between the Singapore Noodle, Chicken Fried Rice and the Chow Mai Fun.\\r\\n\\r\\nIt's not the best Chinese food I've had, but I never had a complaint regarding the quality and quantity of my food. I've never had to wait longer then 10 mins to pick up my food as well.\\r\\n\\r\\nThey recently raised the price on their lunch specials by $0.50, but it is still a killer deal at $5.49.\\r\\n\\r\\nGood food, good prices.</td>\n",
              "    </tr>\n",
              "    <tr>\n",
              "      <th>2</th>\n",
              "      <td>test_3</td>\n",
              "      <td>Ugh. I've had to eat here a couple of times because of work events. This of course makes the scantily clad girls super awkward...\\r\\nIf you're vegan there is not much you can eat. You're looking at an overpriced salad that you've negotiated with the server to make sure you're getting food at all. I called ahead and planned something out with the manager, who was pretty helpful. But it did still mean I was paying a ridiculous amount of $$ for lettuce and a couple of strawberries. And for the most part they are terrible when dealing with people with dietary considerations:\\r\\n1. I ordered a salad and asked for no meat or cheese. You'd think they would put more of the other ingredients in it to compensate, but no - so I was essentially eating just lettuce with a very very sparse sprinkling of nuts. ALSO they served it WITH THE MEAT! and then clearly just took off the meat and gave it back to me instead of making a new one. EW. The manager apologized and said it wouldn't be charged - very nice. However, this didn't get communicated to the server who DID charge me for it!\\r\\n2. Their \"vegetarian green beans\" are made with beef broth! When I told the person that that wasn't \"vegetarian\" she argued it was \"just the broth\". I totally don't trust them at ALL to know what's in their food or to care if someone can't eat something.</td>\n",
              "    </tr>\n",
              "    <tr>\n",
              "      <th>3</th>\n",
              "      <td>test_4</td>\n",
              "      <td>The people here are so nice! I ordered on eat 24 and they promptly called me to double check that everything was correct it was really sweet! Will definitely be returning! :)</td>\n",
              "    </tr>\n",
              "    <tr>\n",
              "      <th>4</th>\n",
              "      <td>test_5</td>\n",
              "      <td>Heard alot of good things about this place and decided to grab some breakfast burritos today. Have to say we enjoyed our burritos! We had the potato egg and cheese burrito and the chorizo potato and egg burrito.\\r\\n\\r\\nFirstly the burritos were rather large, you could easily share if not extremely hungry. But since we both ate our own, we probably won't need lunch! \\r\\n\\r\\nThe hot sauce is excellent - spicy . They also have a green sauce and that one is milder but def flavorful.\\r\\n\\r\\nDefinitely will be back to try their other dishes.</td>\n",
              "    </tr>\n",
              "  </tbody>\n",
              "</table>\n",
              "</div>"
            ],
            "text/plain": [
              "  test_id                                                                                                                                                                                                                                                                                                                                                                                                                                                                                                                                                                                                                                                                                                                                                                                                                                                                                                                                                                                                                                                                                                                                                                                                                                                                                                                                                                                           text\n",
              "0  test_1  trying to have a nice quiet dinner.  the announcer for the awards giveaways is way too loud in the restaurant                                                                                                                                                                                                                                                                                                                                                                                                                                                                                                                                                                                                                                                                                                                                                                                                                                                                                                                                                                                                                                                                                                                                                                                                                                                                                \n",
              "1  test_2  Been getting food to go from here for over 3yrs. My wife usually tend to get the same items. Why fix something when it works.\\r\\n\\r\\nShe always gets the Mongolian Beef lunch special, or dinner. Every once in a while we indulge in the Crab Rangoon. I tend to alternate between the Singapore Noodle, Chicken Fried Rice and the Chow Mai Fun.\\r\\n\\r\\nIt's not the best Chinese food I've had, but I never had a complaint regarding the quality and quantity of my food. I've never had to wait longer then 10 mins to pick up my food as well.\\r\\n\\r\\nThey recently raised the price on their lunch specials by $0.50, but it is still a killer deal at $5.49.\\r\\n\\r\\nGood food, good prices.                                                                                                                                                                                                                                                                                                                                                                                                                                                                                                                                                                                                                                                                                          \n",
              "2  test_3  Ugh. I've had to eat here a couple of times because of work events. This of course makes the scantily clad girls super awkward...\\r\\nIf you're vegan there is not much you can eat. You're looking at an overpriced salad that you've negotiated with the server to make sure you're getting food at all. I called ahead and planned something out with the manager, who was pretty helpful. But it did still mean I was paying a ridiculous amount of $$ for lettuce and a couple of strawberries. And for the most part they are terrible when dealing with people with dietary considerations:\\r\\n1. I ordered a salad and asked for no meat or cheese. You'd think they would put more of the other ingredients in it to compensate, but no - so I was essentially eating just lettuce with a very very sparse sprinkling of nuts. ALSO they served it WITH THE MEAT! and then clearly just took off the meat and gave it back to me instead of making a new one. EW. The manager apologized and said it wouldn't be charged - very nice. However, this didn't get communicated to the server who DID charge me for it!\\r\\n2. Their \"vegetarian green beans\" are made with beef broth! When I told the person that that wasn't \"vegetarian\" she argued it was \"just the broth\". I totally don't trust them at ALL to know what's in their food or to care if someone can't eat something.\n",
              "3  test_4  The people here are so nice! I ordered on eat 24 and they promptly called me to double check that everything was correct it was really sweet! Will definitely be returning! :)                                                                                                                                                                                                                                                                                                                                                                                                                                                                                                                                                                                                                                                                                                                                                                                                                                                                                                                                                                                                                                                                                                                                                                                                               \n",
              "4  test_5  Heard alot of good things about this place and decided to grab some breakfast burritos today. Have to say we enjoyed our burritos! We had the potato egg and cheese burrito and the chorizo potato and egg burrito.\\r\\n\\r\\nFirstly the burritos were rather large, you could easily share if not extremely hungry. But since we both ate our own, we probably won't need lunch! \\r\\n\\r\\nThe hot sauce is excellent - spicy . They also have a green sauce and that one is milder but def flavorful.\\r\\n\\r\\nDefinitely will be back to try their other dishes.                                                                                                                                                                                                                                                                                                                                                                                                                                                                                                                                                                                                                                                                                                                                                                                                                                "
            ]
          },
          "metadata": {
            "tags": []
          },
          "execution_count": 10
        }
      ]
    },
    {
      "cell_type": "markdown",
      "metadata": {
        "id": "mNY36SO-85ze",
        "colab_type": "text"
      },
      "source": [
        "The test set contains two columns: \"test_id\" (to identify the document), and \"text\" (which contains the document itself)."
      ]
    },
    {
      "cell_type": "markdown",
      "metadata": {
        "id": "mvNeWCkZj_Am",
        "colab_type": "text"
      },
      "source": [
        "## Text preprocessing\n",
        "The data preparation stage consists of the following steps:\n",
        "\n",
        "1. **Tokenization:** We tokenize the text using TwitterTokenizer\n",
        "2. **Expand contractions:** We expand contractions (such as \"don't\" -> \"do not\") for each token\n",
        "3. **Stemming:**  We reduce the vocabulary by removing inflections in words and putting them in stemmed format.\n",
        "4. **Remove misleading characters**: These include removing stopwords.\n",
        "\n",
        "Below is the implementation for the data preparation stage:"
      ]
    },
    {
      "cell_type": "code",
      "metadata": {
        "id": "7WEfHkSV_7ez",
        "colab_type": "code",
        "colab": {}
      },
      "source": [
        "def preprocess_text(text):\n",
        "    ## Tokenise text\n",
        "    tokenized = casual_tokenizer(text)\n",
        "\n",
        "    ## Expand contractions for each token\n",
        "    decontract = (expandContractions(item, c_re=c_re) for item in tokenized)\n",
        "\n",
        "    ## Stem tokens\n",
        "    stemmer = nltk.stem.porter.PorterStemmer()\n",
        "    stemmed = (stemmer.stem(token) for token in decontract)\n",
        "\n",
        "    ## Remove misleading characters\n",
        "    tidied_text = remove_misleading_characters(stemmed)\n",
        "\n",
        "    ## Return result\n",
        "    preprocessed_text = list(tidied_text)\n",
        "    return preprocessed_text"
      ],
      "execution_count": 0,
      "outputs": []
    },
    {
      "cell_type": "markdown",
      "metadata": {
        "id": "QbjE7l1d_Io6",
        "colab_type": "text"
      },
      "source": [
        "We now go each step of the data preparation stage, to see how they are implemented."
      ]
    },
    {
      "cell_type": "markdown",
      "metadata": {
        "id": "fLT1CDWN5nHA",
        "colab_type": "text"
      },
      "source": [
        "### Decontracting words\n",
        "We map each contraction to its expansion."
      ]
    },
    {
      "cell_type": "code",
      "metadata": {
        "id": "sv_B_Th_4rui",
        "colab_type": "code",
        "colab": {}
      },
      "source": [
        "## Define contraction map\n",
        "c_dict = {\n",
        "    \"ain't\": \"am not\",\n",
        "    \"aren't\": \"are not\",\n",
        "    \"can't\": \"cannot\",\n",
        "    \"can't've\": \"cannot have\",\n",
        "    \"'cause\": \"because\",\n",
        "    \"could've\": \"could have\",\n",
        "    \"couldn't\": \"could not\",\n",
        "    \"couldn't've\": \"could not have\",\n",
        "    \"didn't\": \"did not\",\n",
        "    \"doesn't\": \"does not\",\n",
        "    \"don't\": \"do not\",\n",
        "    \"hadn't\": \"had not\",\n",
        "    \"hadn't've\": \"had not have\",\n",
        "    \"hasn't\": \"has not\",\n",
        "    \"haven't\": \"have not\",\n",
        "    \"he'd\": \"he would\",\n",
        "    \"he'd've\": \"he would have\",\n",
        "    \"he'll\": \"he will\",\n",
        "    \"he'll've\": \"he will have\",\n",
        "    \"he's\": \"he is\",\n",
        "    \"how'd\": \"how did\",\n",
        "    \"how'd'y\": \"how do you\",\n",
        "    \"how'll\": \"how will\",\n",
        "    \"how's\": \"how is\",\n",
        "    \"i'd\": \"I would\",\n",
        "    \"i'd've\": \"I would have\",\n",
        "    \"i'll\": \"I will\",\n",
        "    \"i'll've\": \"I will have\",\n",
        "    \"i'm\": \"I am\",\n",
        "    \"i've\": \"I have\",\n",
        "    \"isn't\": \"is not\",\n",
        "    \"it'd\": \"it had\",\n",
        "    \"it'd've\": \"it would have\",\n",
        "    \"it'll\": \"it will\",\n",
        "    \"it'll've\": \"it will have\",\n",
        "    \"it's\": \"it is\",\n",
        "    \"let's\": \"let us\",\n",
        "    \"ma'am\": \"madam\",\n",
        "    \"mayn't\": \"may not\",\n",
        "    \"might've\": \"might have\",\n",
        "    \"mightn't\": \"might not\",\n",
        "    \"mightn't've\": \"might not have\",\n",
        "    \"must've\": \"must have\",\n",
        "    \"mustn't\": \"must not\",\n",
        "    \"mustn't've\": \"must not have\",\n",
        "    \"needn't\": \"need not\",\n",
        "    \"needn't've\": \"need not have\",\n",
        "    \"o'clock\": \"of the clock\",\n",
        "    \"oughtn't\": \"ought not\",\n",
        "    \"oughtn't've\": \"ought not have\",\n",
        "    \"shan't\": \"shall not\",\n",
        "    \"sha'n't\": \"shall not\",\n",
        "    \"shan't've\": \"shall not have\",\n",
        "    \"she'd\": \"she would\",\n",
        "    \"she'd've\": \"she would have\",\n",
        "    \"she'll\": \"she will\",\n",
        "    \"she'll've\": \"she will have\",\n",
        "    \"she's\": \"she is\",\n",
        "    \"should've\": \"should have\",\n",
        "    \"shouldn't\": \"should not\",\n",
        "    \"shouldn't've\": \"should not have\",\n",
        "    \"so've\": \"so have\",\n",
        "    \"so's\": \"so is\",\n",
        "    \"that'd\": \"that would\",\n",
        "    \"that'd've\": \"that would have\",\n",
        "    \"that's\": \"that is\",\n",
        "    \"there'd\": \"there had\",\n",
        "    \"there'd've\": \"there would have\",\n",
        "    \"there's\": \"there is\",\n",
        "    \"they'd\": \"they would\",\n",
        "    \"they'd've\": \"they would have\",\n",
        "    \"they'll\": \"they will\",\n",
        "    \"they'll've\": \"they will have\",\n",
        "    \"they're\": \"they are\",\n",
        "    \"they've\": \"they have\",\n",
        "    \"to've\": \"to have\",\n",
        "    \"wasn't\": \"was not\",\n",
        "    \"we'd\": \"we had\",\n",
        "    \"we'd've\": \"we would have\",\n",
        "    \"we'll\": \"we will\",\n",
        "    \"we'll've\": \"we will have\",\n",
        "    \"we're\": \"we are\",\n",
        "    \"we've\": \"we have\",\n",
        "    \"weren't\": \"were not\",\n",
        "    \"what'll\": \"what will\",\n",
        "    \"what'll've\": \"what will have\",\n",
        "    \"what're\": \"what are\",\n",
        "    \"what's\": \"what is\",\n",
        "    \"what've\": \"what have\",\n",
        "    \"when's\": \"when is\",\n",
        "    \"when've\": \"when have\",\n",
        "    \"where'd\": \"where did\",\n",
        "    \"where's\": \"where is\",\n",
        "    \"where've\": \"where have\",\n",
        "    \"who'll\": \"who will\",\n",
        "    \"who'll've\": \"who will have\",\n",
        "    \"who's\": \"who is\",\n",
        "    \"who've\": \"who have\",\n",
        "    \"why's\": \"why is\",\n",
        "    \"why've\": \"why have\",\n",
        "    \"will've\": \"will have\",\n",
        "    \"won't\": \"will not\",\n",
        "    \"won't've\": \"will not have\",\n",
        "    \"would've\": \"would have\",\n",
        "    \"wouldn't\": \"would not\",\n",
        "    \"wouldn't've\": \"would not have\",\n",
        "    \"y'all\": \"you all\",\n",
        "    \"y'alls\": \"you alls\",\n",
        "    \"y'all'd\": \"you all would\",\n",
        "    \"y'all'd've\": \"you all would have\",\n",
        "    \"y'all're\": \"you all are\",\n",
        "    \"y'all've\": \"you all have\",\n",
        "    \"you'd\": \"you had\",\n",
        "    \"you'd've\": \"you would have\",\n",
        "    \"you'll\": \"you will\",\n",
        "    \"you'll've\": \"you will have\",\n",
        "    \"you're\": \"you are\",\n",
        "    \"you've\": \"you have\"\n",
        "}\n",
        "\n",
        "## Combine all keys into a list of ors\n",
        "c_re = re.compile('(%s)' % '|'.join(c_dict.keys()))"
      ],
      "execution_count": 0,
      "outputs": []
    },
    {
      "cell_type": "code",
      "metadata": {
        "id": "ndNBGa6H5-S2",
        "colab_type": "code",
        "colab": {}
      },
      "source": [
        "def expandContractions(text, c_re=c_re):\n",
        "    def replace(match):\n",
        "        return c_dict[match.group(0)]\n",
        "    return c_re.sub(replace, text)"
      ],
      "execution_count": 0,
      "outputs": []
    },
    {
      "cell_type": "markdown",
      "metadata": {
        "id": "gCcUpnyN5udq",
        "colab_type": "text"
      },
      "source": [
        "### Tokenizer\n",
        "We use the Twitter tokenizer to tokenize the text, in case we have emojis in our dataset."
      ]
    },
    {
      "cell_type": "code",
      "metadata": {
        "id": "I73HX6XrAYFB",
        "colab_type": "code",
        "colab": {}
      },
      "source": [
        "def casual_tokenizer(text):\n",
        "    \"\"\"Splits words on white spaces (leaves contractions intact) and splits out\n",
        "    trailing punctuation\"\"\"\n",
        "    tokenizer = TweetTokenizer() # TreebankWordTokenizer() is worse\n",
        "    tokens = tokenizer.tokenize(text)\n",
        "    return tokens"
      ],
      "execution_count": 0,
      "outputs": []
    },
    {
      "cell_type": "markdown",
      "metadata": {
        "id": "6xjQEvjZ8xlO",
        "colab_type": "text"
      },
      "source": [
        "### Remove misleading characters\n",
        "This final preprocessing step aims to remove the noise from the signal."
      ]
    },
    {
      "cell_type": "code",
      "metadata": {
        "id": "VL2RB6qs8QUm",
        "colab_type": "code",
        "colab": {}
      },
      "source": [
        "def remove_misleading_characters(text):\n",
        "    ## Remove numbers\n",
        "    no_num = (re.sub('[0-9]+', '', each) for each in text)\n",
        "    \n",
        "    ## Remove punctuation\n",
        "    no_punc = (w for w in no_num if w not in string.punctuation)\n",
        "\n",
        "    ## Return result\n",
        "    tidied_text = list(no_punc)\n",
        "    return tidied_text"
      ],
      "execution_count": 0,
      "outputs": []
    },
    {
      "cell_type": "markdown",
      "metadata": {
        "id": "YScpzMSs6pz4",
        "colab_type": "text"
      },
      "source": [
        "### Preprocessing the text\n",
        "Putting all of this together, we preprocess the text, and save the results in a new column."
      ]
    },
    {
      "cell_type": "code",
      "metadata": {
        "id": "tAgAGV915Bhj",
        "colab_type": "code",
        "outputId": "61846502-9ac1-4444-b66d-b182e0d1678e",
        "colab": {
          "base_uri": "https://localhost:8080/",
          "height": 54
        }
      },
      "source": [
        "%%time\n",
        "with mp.Pool(mp.cpu_count()) as pool:\n",
        "    labeled_data['clean_text'] = pool.map(preprocess_text, labeled_data['text'])"
      ],
      "execution_count": 0,
      "outputs": [
        {
          "output_type": "stream",
          "text": [
            "CPU times: user 1.5 s, sys: 506 ms, total: 2 s\n",
            "Wall time: 2min 8s\n"
          ],
          "name": "stdout"
        }
      ]
    },
    {
      "cell_type": "code",
      "metadata": {
        "id": "dPutoqrb4sW9",
        "colab_type": "code",
        "outputId": "f45b8548-bcb2-4358-bc99-75b059e254dc",
        "colab": {
          "base_uri": "https://localhost:8080/",
          "height": 692
        }
      },
      "source": [
        "labeled_data.head()"
      ],
      "execution_count": 0,
      "outputs": [
        {
          "output_type": "execute_result",
          "data": {
            "text/html": [
              "<div>\n",
              "<style scoped>\n",
              "    .dataframe tbody tr th:only-of-type {\n",
              "        vertical-align: middle;\n",
              "    }\n",
              "\n",
              "    .dataframe tbody tr th {\n",
              "        vertical-align: top;\n",
              "    }\n",
              "\n",
              "    .dataframe thead th {\n",
              "        text-align: right;\n",
              "    }\n",
              "</style>\n",
              "<table border=\"1\" class=\"dataframe\">\n",
              "  <thead>\n",
              "    <tr style=\"text-align: right;\">\n",
              "      <th></th>\n",
              "      <th>text</th>\n",
              "      <th>label</th>\n",
              "      <th>clean_text</th>\n",
              "    </tr>\n",
              "  </thead>\n",
              "  <tbody>\n",
              "    <tr>\n",
              "      <th>0</th>\n",
              "      <td>The new rule is - \\r\\nif you are waiting for a table (which you almost always are) , you cant wait inside. \\r\\nThey just posted a sign upfront that it causes some concerns for the seated patrons. \\r\\nHow awful is that? \\r\\n\\r\\nI like that they included the apology along with \"especially now in the cold\". \\r\\n\\r\\np.s you can try calling in ahead to reserve a table but thats ONLY if the waiting list is short. Otherwise, you have to show up to reserve. Boourns. \\r\\n\\r\\n\\r\\nThis place could do no wrong in my eyes. Rattle away you equally-clever/witty-name-for a hot beverage.\\r\\n\\r\\nMust mention - I am obsessed with Mad Gab. \\r\\n\\r\\nxoxo\\r\\nM.</td>\n",
              "      <td>4</td>\n",
              "      <td>[the, new, rule, is, if, you, are, wait, for, a, tabl, which, you, almost, alway, are, you, cant, wait, insid, they, just, post, a, sign, upfront, that, it, caus, some, concern, for, the, seat, patron, how, aw, is, that, I, like, that, they, includ, the, apolog, along, with, especi, now, in, the, cold, p, s, you, can, tri, call, in, ahead, to, reserv, a, tabl, but, that, onli, if, the, wait, list, is, short, otherwis, you, have, to, show, up, to, reserv, boourn, thi, place, could, do, no, wrong, in, my, eye, rattl, away, you, equally-clev, witty-name-for, a, hot, beverag, ...]</td>\n",
              "    </tr>\n",
              "    <tr>\n",
              "      <th>1</th>\n",
              "      <td>Flirted with giving this two stars, but that's a pretty damning rating for what might have just been an off night...\\r\\n\\r\\nNew to the East side, and so we don't know many of these hidden gems, but me and the fiance met her friend for drinks here and ended up getting some things to nibble. \\r\\n\\r\\nFirst off, service was pretty slow, which was unusual because the restaurant is pretty small and galley style. You would think it would be easy for servers to routinely hit up tables as you pass by. \\r\\n\\r\\nThe fiance ordered the Quinoa Salad, and said it was pretty good, but dry. I wasn't too hungry and so I simply ordered the Bruchetta 3-way which came with burnt crostinis. And I ordered a side of fries, which were either hard or chewy.\\r\\n\\r\\nThe friend ordered the macaroni &amp; cheese, and added chicken and bacon (her usual order) and liked it.  \\r\\n\\r\\nCan't remember the last time I thought to myself- \"Huh... they failed at fries...\" So, like I said- two stars. But, the decor was good, it was a good place to have a conversation, and I might be back to try more expensive fare, but-... ah... the fry thing... yeeesh... I dunno, man...</td>\n",
              "      <td>3</td>\n",
              "      <td>[flirt, with, give, thi, two, star, but, that i, a, pretti, damn, rate, for, what, might, have, just, been, an, off, night, ..., new, to, the, east, side, and, so, we, do not, know, mani, of, these, hidden, gem, but, me, and, the, fianc, met, her, friend, for, drink, here, and, end, up, get, some, thing, to, nibbl, first, off, servic, wa, pretti, slow, which, wa, unusu, becaus, the, restaur, is, pretti, small, and, galley, style, you, would, think, it, would, be, easi, for, server, to, routin, hit, up, tabl, as, you, pass, by, the, fianc, order, the, quinoa, salad, and, said, ...]</td>\n",
              "    </tr>\n",
              "    <tr>\n",
              "      <th>2</th>\n",
              "      <td>I was staying at planet Hollywood across the street and saw good reviews on this place so my husband and I decided to give it a try. We love a good breakfast sandwich. We both ordered the bacon egg and cheese, cold brew, a biscuit and a salted caramel cookie. Everything tasted amazing! The egg is medium so it pops when you take a bite so be prepared for that. The cookie was absolutely delicious and the biscuit was soft and fluffy. We got there are around 10:30am and there was a line already. Luckily the line moves very quick and we were able to find seating. Highly recommend this place.</td>\n",
              "      <td>5</td>\n",
              "      <td>[I, wa, stay, at, planet, hollywood, across, the, street, and, saw, good, review, on, thi, place, so, my, husband, and, I, decid, to, give, it, a, tri, We, love, a, good, breakfast, sandwich, We, both, order, the, bacon, egg, and, chees, cold, brew, a, biscuit, and, a, salt, caramel, cooki, everyth, tast, amaz, the, egg, is, medium, so, it, pop, when, you, take, a, bite, so, be, prepar, for, that, the, cooki, wa, absolut, delici, and, the, biscuit, wa, soft, and, fluffi, We, got, there, are, around, am, and, there, wa, a, line, alreadi, luckili, the, line, move, veri, quick, ...]</td>\n",
              "    </tr>\n",
              "    <tr>\n",
              "      <th>3</th>\n",
              "      <td>Food is good but prices are super expensive.  8 bucks for the \"Extra Large\" Carne Asada burrito and it's a little bigger then a Taco Bell bean burrito.  Don't get me wrong, it's good carne asada but you can get one at Filibertos and it's literally three times the size for 3 bucks.\\r\\n\\r\\nLower your prices or make the portions bigger - don't forget that you're using the cheapest cut of beef you can buy, marinating it with some orange juice, garlic and onions and then grilling it.  We're not talking Foie gras and heirloom tomatoes. \\r\\n\\r\\nAnd seriously, one piece of cucumber and a quarter of a radish?\\r\\n\\r\\nI've gone there 4 or five times and each time do I'm left with the same opinion so here it is publicly.</td>\n",
              "      <td>2</td>\n",
              "      <td>[food, is, good, but, price, are, super, expens, buck, for, the, extra, larg, carn, asada, burrito, and, it i, a, littl, bigger, then, a, taco, bell, bean, burrito, don't, get, me, wrong, it i, good, carn, asada, but, you, can, get, one, at, filiberto, and, it i, liter, three, time, the, size, for, buck, lower, your, price, or, make, the, portion, bigger, do not, forget, that, you ar, use, the, cheapest, cut, of, beef, you, can, buy, marin, it, with, some, orang, juic, garlic, and, onion, and, then, grill, it, we'r, not, talk, foie, gra, and, heirloom, tomato, and, serious, one, piec, of, cucumb, and, ...]</td>\n",
              "    </tr>\n",
              "    <tr>\n",
              "      <th>4</th>\n",
              "      <td>Worse company to deal with they do horrible work had to bring my truck back on a door replacement the door paint didn't match and trim molding wasn't straight the bolt to keep the door on wasn't even tight. My speaker in the door wasn't hooked back up. I don't recommend anyone to bring the vehicle here. A gentleman by the name of Jesus that works there every time you call for an update because they say they will call you and never do he makes you feel like your bothering him and then he says he will call you back with an update and never do. If you need work on your vehicle I would double think it before you bring it here.</td>\n",
              "      <td>1</td>\n",
              "      <td>[wors, compani, to, deal, with, they, do, horribl, work, had, to, bring, my, truck, back, on, a, door, replac, the, door, paint, did not, match, and, trim, mold, was not, straight, the, bolt, to, keep, the, door, on, was not, even, tight, My, speaker, in, the, door, was not, hook, back, up, I, do not, recommend, anyon, to, bring, the, vehicl, here, A, gentleman, by, the, name, of, jesu, that, work, there, everi, time, you, call, for, an, updat, becaus, they, say, they, will, call, you, and, never, do, he, make, you, feel, like, your, bother, him, and, then, he, say, he, will, call, you, ...]</td>\n",
              "    </tr>\n",
              "  </tbody>\n",
              "</table>\n",
              "</div>"
            ],
            "text/plain": [
              "                                                                                                                                                                                                                                                                                                                                                                                                                                                                                                                                                                                                                                                                                                                                                                                                                                                                                                                                                                                                                                                                                                                                                                                       text  ...                                                                                                                                                                                                                                                                                                                                                                                                                                                                                                                                                                                                                             clean_text\n",
              "0  The new rule is - \\r\\nif you are waiting for a table (which you almost always are) , you cant wait inside. \\r\\nThey just posted a sign upfront that it causes some concerns for the seated patrons. \\r\\nHow awful is that? \\r\\n\\r\\nI like that they included the apology along with \"especially now in the cold\". \\r\\n\\r\\np.s you can try calling in ahead to reserve a table but thats ONLY if the waiting list is short. Otherwise, you have to show up to reserve. Boourns. \\r\\n\\r\\n\\r\\nThis place could do no wrong in my eyes. Rattle away you equally-clever/witty-name-for a hot beverage.\\r\\n\\r\\nMust mention - I am obsessed with Mad Gab. \\r\\n\\r\\nxoxo\\r\\nM.                                                                                                                                                                                                                                                                                                                                                                                                                                                                                                                    ...  [the, new, rule, is, if, you, are, wait, for, a, tabl, which, you, almost, alway, are, you, cant, wait, insid, they, just, post, a, sign, upfront, that, it, caus, some, concern, for, the, seat, patron, how, aw, is, that, I, like, that, they, includ, the, apolog, along, with, especi, now, in, the, cold, p, s, you, can, tri, call, in, ahead, to, reserv, a, tabl, but, that, onli, if, the, wait, list, is, short, otherwis, you, have, to, show, up, to, reserv, boourn, thi, place, could, do, no, wrong, in, my, eye, rattl, away, you, equally-clev, witty-name-for, a, hot, beverag, ...]                              \n",
              "1  Flirted with giving this two stars, but that's a pretty damning rating for what might have just been an off night...\\r\\n\\r\\nNew to the East side, and so we don't know many of these hidden gems, but me and the fiance met her friend for drinks here and ended up getting some things to nibble. \\r\\n\\r\\nFirst off, service was pretty slow, which was unusual because the restaurant is pretty small and galley style. You would think it would be easy for servers to routinely hit up tables as you pass by. \\r\\n\\r\\nThe fiance ordered the Quinoa Salad, and said it was pretty good, but dry. I wasn't too hungry and so I simply ordered the Bruchetta 3-way which came with burnt crostinis. And I ordered a side of fries, which were either hard or chewy.\\r\\n\\r\\nThe friend ordered the macaroni & cheese, and added chicken and bacon (her usual order) and liked it.  \\r\\n\\r\\nCan't remember the last time I thought to myself- \"Huh... they failed at fries...\" So, like I said- two stars. But, the decor was good, it was a good place to have a conversation, and I might be back to try more expensive fare, but-... ah... the fry thing... yeeesh... I dunno, man...  ...  [flirt, with, give, thi, two, star, but, that i, a, pretti, damn, rate, for, what, might, have, just, been, an, off, night, ..., new, to, the, east, side, and, so, we, do not, know, mani, of, these, hidden, gem, but, me, and, the, fianc, met, her, friend, for, drink, here, and, end, up, get, some, thing, to, nibbl, first, off, servic, wa, pretti, slow, which, wa, unusu, becaus, the, restaur, is, pretti, small, and, galley, style, you, would, think, it, would, be, easi, for, server, to, routin, hit, up, tabl, as, you, pass, by, the, fianc, order, the, quinoa, salad, and, said, ...]                          \n",
              "2  I was staying at planet Hollywood across the street and saw good reviews on this place so my husband and I decided to give it a try. We love a good breakfast sandwich. We both ordered the bacon egg and cheese, cold brew, a biscuit and a salted caramel cookie. Everything tasted amazing! The egg is medium so it pops when you take a bite so be prepared for that. The cookie was absolutely delicious and the biscuit was soft and fluffy. We got there are around 10:30am and there was a line already. Luckily the line moves very quick and we were able to find seating. Highly recommend this place.                                                                                                                                                                                                                                                                                                                                                                                                                                                                                                                                                                         ...  [I, wa, stay, at, planet, hollywood, across, the, street, and, saw, good, review, on, thi, place, so, my, husband, and, I, decid, to, give, it, a, tri, We, love, a, good, breakfast, sandwich, We, both, order, the, bacon, egg, and, chees, cold, brew, a, biscuit, and, a, salt, caramel, cooki, everyth, tast, amaz, the, egg, is, medium, so, it, pop, when, you, take, a, bite, so, be, prepar, for, that, the, cooki, wa, absolut, delici, and, the, biscuit, wa, soft, and, fluffi, We, got, there, are, around, am, and, there, wa, a, line, alreadi, luckili, the, line, move, veri, quick, ...]                           \n",
              "3  Food is good but prices are super expensive.  8 bucks for the \"Extra Large\" Carne Asada burrito and it's a little bigger then a Taco Bell bean burrito.  Don't get me wrong, it's good carne asada but you can get one at Filibertos and it's literally three times the size for 3 bucks.\\r\\n\\r\\nLower your prices or make the portions bigger - don't forget that you're using the cheapest cut of beef you can buy, marinating it with some orange juice, garlic and onions and then grilling it.  We're not talking Foie gras and heirloom tomatoes. \\r\\n\\r\\nAnd seriously, one piece of cucumber and a quarter of a radish?\\r\\n\\r\\nI've gone there 4 or five times and each time do I'm left with the same opinion so here it is publicly.                                                                                                                                                                                                                                                                                                                                                                                                                                            ...  [food, is, good, but, price, are, super, expens, buck, for, the, extra, larg, carn, asada, burrito, and, it i, a, littl, bigger, then, a, taco, bell, bean, burrito, don't, get, me, wrong, it i, good, carn, asada, but, you, can, get, one, at, filiberto, and, it i, liter, three, time, the, size, for, buck, lower, your, price, or, make, the, portion, bigger, do not, forget, that, you ar, use, the, cheapest, cut, of, beef, you, can, buy, marin, it, with, some, orang, juic, garlic, and, onion, and, then, grill, it, we'r, not, talk, foie, gra, and, heirloom, tomato, and, serious, one, piec, of, cucumb, and, ...]\n",
              "4  Worse company to deal with they do horrible work had to bring my truck back on a door replacement the door paint didn't match and trim molding wasn't straight the bolt to keep the door on wasn't even tight. My speaker in the door wasn't hooked back up. I don't recommend anyone to bring the vehicle here. A gentleman by the name of Jesus that works there every time you call for an update because they say they will call you and never do he makes you feel like your bothering him and then he says he will call you back with an update and never do. If you need work on your vehicle I would double think it before you bring it here.                                                                                                                                                                                                                                                                                                                                                                                                                                                                                                                                    ...  [wors, compani, to, deal, with, they, do, horribl, work, had, to, bring, my, truck, back, on, a, door, replac, the, door, paint, did not, match, and, trim, mold, was not, straight, the, bolt, to, keep, the, door, on, was not, even, tight, My, speaker, in, the, door, was not, hook, back, up, I, do not, recommend, anyon, to, bring, the, vehicl, here, A, gentleman, by, the, name, of, jesu, that, work, there, everi, time, you, call, for, an, updat, becaus, they, say, they, will, call, you, and, never, do, he, make, you, feel, like, your, bother, him, and, then, he, say, he, will, call, you, ...]               \n",
              "\n",
              "[5 rows x 3 columns]"
            ]
          },
          "metadata": {
            "tags": []
          },
          "execution_count": 17
        }
      ]
    },
    {
      "cell_type": "markdown",
      "metadata": {
        "id": "Dq7p8MZ1jpNs",
        "colab_type": "text"
      },
      "source": [
        "## Feature extraction\n",
        "We use tf-idf to vectorize the preprocessed text. We extract both unigrams and bigrams from each document. We also do more preprocessing, by removing words that only occur once, and words appearing in more than 95% of documents."
      ]
    },
    {
      "cell_type": "code",
      "metadata": {
        "id": "J4vL55mjrTCp",
        "colab_type": "code",
        "colab": {}
      },
      "source": [
        "def extract_features(texts):\n",
        "    # Only considering unigrams and bigrams\n",
        "    tfidf_vectorizer = TfidfVectorizer(ngram_range=(1, 2), \n",
        "                                    min_df = 2, \n",
        "                                    max_df = .95)\n",
        "\n",
        "    transformed_texts = tfidf_vectorizer.fit_transform(texts)\n",
        "    return transformed_texts, tfidf_vectorizer"
      ],
      "execution_count": 0,
      "outputs": []
    },
    {
      "cell_type": "markdown",
      "metadata": {
        "id": "YtCDoVoemwZg",
        "colab_type": "text"
      },
      "source": [
        "We extract features from the labelled dataset, and we save the vectorizer, so that we can transform the unlabelled and test datasets using the same bag-of-words as the labelled datasets."
      ]
    },
    {
      "cell_type": "code",
      "metadata": {
        "id": "YnG2-RuO_uFb",
        "colab_type": "code",
        "outputId": "ac6e2f53-cf4a-45a8-fb09-50f0ee67641d",
        "colab": {
          "base_uri": "https://localhost:8080/",
          "height": 54
        }
      },
      "source": [
        "%%time\n",
        "''' -------- !!! EXPENSIVE !!! -------- '''\n",
        "# Creating the features (tf-idf weights) for the processed text\n",
        "text = labeled_data['clean_text'].astype('str')\n",
        "X, tfidf_vectorizer = extract_features(text)\n",
        "y = labeled_data['label'].values # target"
      ],
      "execution_count": 0,
      "outputs": [
        {
          "output_type": "stream",
          "text": [
            "CPU times: user 22.5 s, sys: 263 ms, total: 22.8 s\n",
            "Wall time: 22.8 s\n"
          ],
          "name": "stdout"
        }
      ]
    },
    {
      "cell_type": "markdown",
      "metadata": {
        "id": "UfLmpQ6v_7qd",
        "colab_type": "text"
      },
      "source": [
        "### Dimensionality reduction\n",
        "We have more than 300k tokens. Since any document is unlikely to have too many unique tokens, and it would take too much computational resources to process all tokens, we have decided to reduce the number of dimensions to 500."
      ]
    },
    {
      "cell_type": "code",
      "metadata": {
        "id": "TNAAz6DqxL_M",
        "colab_type": "code",
        "colab": {}
      },
      "source": [
        "def reduce_dimensions(X):\n",
        "    lsa = TruncatedSVD(n_components=500, n_iter=10, random_state=3)\n",
        "    return lsa.fit_transform(X)"
      ],
      "execution_count": 0,
      "outputs": []
    },
    {
      "cell_type": "code",
      "metadata": {
        "id": "YofQ-2_FjA96",
        "colab_type": "code",
        "outputId": "37615ac7-36b5-4f11-f9ba-cc4aa10a0c03",
        "colab": {
          "base_uri": "https://localhost:8080/",
          "height": 54
        }
      },
      "source": [
        "%%time\n",
        "X_new = reduce_dimensions(X)"
      ],
      "execution_count": 0,
      "outputs": [
        {
          "output_type": "stream",
          "text": [
            "CPU times: user 8min 37s, sys: 20.7 s, total: 8min 58s\n",
            "Wall time: 7min 29s\n"
          ],
          "name": "stdout"
        }
      ]
    },
    {
      "cell_type": "code",
      "metadata": {
        "id": "rF7Q31JBGrsV",
        "colab_type": "code",
        "outputId": "804d86f4-466e-4ec6-9e40-14ac490028ea",
        "colab": {
          "base_uri": "https://localhost:8080/",
          "height": 256
        }
      },
      "source": [
        "X_new"
      ],
      "execution_count": 0,
      "outputs": [
        {
          "output_type": "execute_result",
          "data": {
            "text/plain": [
              "array([[ 0.1639799 ,  0.08059258, -0.06497316, ...,  0.0007979 ,\n",
              "        -0.01224931,  0.01333909],\n",
              "       [ 0.26331417, -0.06631381,  0.00257641, ..., -0.0162723 ,\n",
              "        -0.01417977,  0.00602489],\n",
              "       [ 0.20646348, -0.07610774,  0.02025546, ..., -0.02327162,\n",
              "        -0.0083097 ,  0.00220273],\n",
              "       ...,\n",
              "       [ 0.19029497,  0.08605543,  0.00871069, ..., -0.00497382,\n",
              "         0.00097687, -0.0191207 ],\n",
              "       [ 0.16773658,  0.10370696, -0.03958488, ...,  0.025419  ,\n",
              "        -0.01261465,  0.01136425],\n",
              "       [ 0.17534244,  0.02163348,  0.03427538, ...,  0.00475678,\n",
              "        -0.01782363,  0.02703127]])"
            ]
          },
          "metadata": {
            "tags": []
          },
          "execution_count": 22
        }
      ]
    },
    {
      "cell_type": "code",
      "metadata": {
        "id": "zNTQi_gXDw4j",
        "colab_type": "code",
        "colab": {}
      },
      "source": [
        "X_dataframe = pd.DataFrame.from_records(X_new)"
      ],
      "execution_count": 0,
      "outputs": []
    },
    {
      "cell_type": "code",
      "metadata": {
        "id": "_fauENBuD5fB",
        "colab_type": "code",
        "colab": {}
      },
      "source": [
        "y_dataframe = pd.DataFrame(y)"
      ],
      "execution_count": 0,
      "outputs": []
    },
    {
      "cell_type": "markdown",
      "metadata": {
        "id": "ygH7I_Ah7D7m",
        "colab_type": "text"
      },
      "source": [
        "## Exploratory data analysis\n",
        "We perform exploratory data analysis on our labelled dataset, so that we can gain more insights, and potentially form better decisions in model development stage."
      ]
    },
    {
      "cell_type": "markdown",
      "metadata": {
        "id": "lHd1r7o1og-I",
        "colab_type": "text"
      },
      "source": [
        "### Summary of token, document, and vocabulary statistics\n",
        "We first determine the minimum, maximum, and average number of tokens each document has. We can do this by counting how many elements are nonzero along each row in the document-term matrix.\n"
      ]
    },
    {
      "cell_type": "code",
      "metadata": {
        "id": "bCy2FOeSpWP-",
        "colab_type": "code",
        "outputId": "00da0907-d58a-4624-9bb4-8e347f4a1d0a",
        "colab": {
          "base_uri": "https://localhost:8080/",
          "height": 182
        }
      },
      "source": [
        "pd.Series(labeled_data[\"clean_text\"].apply(len)).describe()"
      ],
      "execution_count": 0,
      "outputs": [
        {
          "output_type": "execute_result",
          "data": {
            "text/plain": [
              "count   50,000.0000\n",
              "mean    121.9508   \n",
              "std     111.6847   \n",
              "min     1.0000     \n",
              "25%     48.0000    \n",
              "50%     88.0000    \n",
              "75%     157.0000   \n",
              "max     1,015.0000 \n",
              "Name: clean_text, dtype: float64"
            ]
          },
          "metadata": {
            "tags": []
          },
          "execution_count": 25
        }
      ]
    },
    {
      "cell_type": "markdown",
      "metadata": {
        "id": "NINRFDMqGOz1",
        "colab_type": "text"
      },
      "source": [
        "As specified in the assignment document, there are 50,000 documents total in the labelled dataset. We have 121.9508 tokens on average. The document with the least number of tokens only has 1 token in it. The document with the most number of tokens has 1,015 tokens."
      ]
    },
    {
      "cell_type": "markdown",
      "metadata": {
        "id": "aWzhc1t4ClSH",
        "colab_type": "text"
      },
      "source": [
        "Now let us look at the shapes of the extracted features, as well as their corresponding labels."
      ]
    },
    {
      "cell_type": "code",
      "metadata": {
        "id": "s8IVM5n9B1sy",
        "colab_type": "code",
        "outputId": "4dec6080-196f-4121-8b18-cd9540316888",
        "colab": {
          "base_uri": "https://localhost:8080/",
          "height": 54
        }
      },
      "source": [
        "print(X.shape)\n",
        "print(y.shape)"
      ],
      "execution_count": 0,
      "outputs": [
        {
          "output_type": "stream",
          "text": [
            "(50000, 341801)\n",
            "(50000,)\n"
          ],
          "name": "stdout"
        }
      ]
    },
    {
      "cell_type": "markdown",
      "metadata": {
        "id": "XguOYgMOHMdb",
        "colab_type": "text"
      },
      "source": [
        "Like what we found earlier, there are 50,000 labelled documents. The number of columns in the extracted feature matrix tells us that there are 341,801 unigrams/bigrams in the vocabulary of the labelled dataset."
      ]
    },
    {
      "cell_type": "markdown",
      "metadata": {
        "id": "3-vJaGbt2Z9f",
        "colab_type": "text"
      },
      "source": [
        "### Unique character set\n",
        "We find out which characters are being used in the labeled set."
      ]
    },
    {
      "cell_type": "code",
      "metadata": {
        "id": "Uuwh8I8JKjr4",
        "colab_type": "code",
        "outputId": "1adaa8aa-5890-4256-ecb9-ec9c045ab552",
        "colab": {
          "base_uri": "https://localhost:8080/",
          "height": 54
        }
      },
      "source": [
        "set_of_words = labeled_data.text.apply(lambda x: set(x)).values\n",
        "uniq_chars = \"\".join(set(itertools.chain.from_iterable(set_of_words)))\n",
        "uniq_chars = \"\".join(sorted(uniq_chars))\n",
        "print(uniq_chars)"
      ],
      "execution_count": 0,
      "outputs": [
        {
          "output_type": "stream",
          "text": [
            "\n",
            "\r !\"#$%&'()*+,-./0123456789:;=?@ABCDEFGHIJKLMNOPQRSTUVWXYZ[\\]^_`abcdefghijklmnopqrstuvwxyz{|}~ ¡¢£¤¥¦§¨©ª«¬­®¯°±²³´µ¶·¸¹º»¼½¾¿ÂÃÄÅâãäåæçèéï\n"
          ],
          "name": "stdout"
        }
      ]
    },
    {
      "cell_type": "markdown",
      "metadata": {
        "id": "46JJ35112jxC",
        "colab_type": "text"
      },
      "source": [
        "We see that all alphabetical letters are being used (both uppercase and lowercase). We also see some special characters, such as ¶, which is quite peculiar."
      ]
    },
    {
      "cell_type": "code",
      "metadata": {
        "id": "v2SeiXYr3Af9",
        "colab_type": "code",
        "outputId": "dbf66d04-3899-4d47-e0df-3fda18039a90",
        "colab": {
          "base_uri": "https://localhost:8080/",
          "height": 1000
        }
      },
      "source": [
        "labeled_data[labeled_data[\"text\"].str.contains('¶')]"
      ],
      "execution_count": 0,
      "outputs": [
        {
          "output_type": "execute_result",
          "data": {
            "text/html": [
              "<div>\n",
              "<style scoped>\n",
              "    .dataframe tbody tr th:only-of-type {\n",
              "        vertical-align: middle;\n",
              "    }\n",
              "\n",
              "    .dataframe tbody tr th {\n",
              "        vertical-align: top;\n",
              "    }\n",
              "\n",
              "    .dataframe thead th {\n",
              "        text-align: right;\n",
              "    }\n",
              "</style>\n",
              "<table border=\"1\" class=\"dataframe\">\n",
              "  <thead>\n",
              "    <tr style=\"text-align: right;\">\n",
              "      <th></th>\n",
              "      <th>text</th>\n",
              "      <th>label</th>\n",
              "      <th>clean_text</th>\n",
              "    </tr>\n",
              "  </thead>\n",
              "  <tbody>\n",
              "    <tr>\n",
              "      <th>4323</th>\n",
              "      <td>ï¼ãæåãã¾ããï¼å¤§å¥½ãã§ãã\\r\\nï¼ãç¾å³ããï¼æ²¢å±±ã®äººã«ç´¹ä»ãããï¼\\r\\nï¼ãã¢ãã¬ã¼ã¸ï¼\\r\\nï¼ãç§ã®å¥½ã¿ã§ã¯ããã¾ããã§ãããã§ãã¾ããã¤ããã£ã¬ã³ã¸ãã¦ãããããªããã\\r\\nï¼ãããäºåº¦ã¨ä¼ºããã¨ã¯ããã¾ããã\\r\\n\\r\\nãã¼ã«ã®ç¨®é¡ãè±å¯ï¼\\r\\nä½ãããããªã®ãããã¼ã«ã°ã©ã¹ããã¤ãç¶ºéºã«æ´æµããã¦ãããã¨ï¼\\r\\n\\r\\nãã­ã³ãã§ã¯ãããã§ãã¼ã«ãé£²ãã®ã1çªå¥½ãããã</td>\n",
              "      <td>3</td>\n",
              "      <td>[ï¼, , ã, , , æ, , , å, , , ã, , , ã, , ¾ã, , , ã, , , ï¼, , å, ¤, §, å, ¥, ½ã, , , ã, , §, ã, , , ã, , , ï¼, , ã, , , ç¾, , å, , ³ã, , , ã, , , ï¼, , æ², ¢, å, ±, ±, ã, , ®, äººã, , «, ç, ´, ¹ä, », , ã, , , ã, , , ã, , , ï¼, , ï¼, , ã, , , ã, , ¢, ã, , , ã, , ¬, ã, ...]</td>\n",
              "    </tr>\n",
              "    <tr>\n",
              "      <th>4949</th>\n",
              "      <td>Wir haben im Mai die \"Historic Boulder City\"-Tour gemacht.\\r\\nGebucht haben wir von Deutschland aus per Mail und mit Gutscheinen von MyVegas. Unsere Tour war somit komplett kostenlos. (Inzwischen gibt es Ã¼ber MyVegas nur noch 2-fÃ¼r-1 oder 50$-Rabatt-Gutscheine.) Der Normalpreis fÃ¼r diese Tour liegt bei 189$ pro Person und wir haben das angemessen empfunden.\\r\\nWir wurden morgens am Hotel mit einem Mini-Van abgeholt und fuhren dann zu einem weiteren Hotel um die restlichen Teilnehmer einzuladen.\\r\\nWÃ¤hrend der Fahrt hat Chuck (unser Tourguide) uns gut unterhalten. \\r\\nVor Ort angekommen wartete schon Chris (vom Support) mit den Segways auf uns. FÃ¼r alle standen Helme, KopfhÃ¶rer und viel kaltes Wasser bereit. Nachdem jeder auf dem groÃem Parkplatz in die Bedienung des Segways eingewiesen wurde und sich sicher fÃ¼hlte, ging die Tour los.\\r\\nZuerst fuhren wir durch die Stadt zum Museum. Dort hatten wir ca. eine 1/2 Stunde Aufenthalt. Der Eintrittspreis ist bereits inklusive. Hier hat man auch die MÃ¶glichkeit zur Toilette zu gehen.\\r\\nDas Museum beschÃ¤ftigt sich mit dem Bau des Hoover Dams (fÃ¼r die Arbeiter wurde Boulder City damals gebaut) und ist recht interessant.\\r\\nDanach ging die Tour weiter und es gab richtig lange Strecken zu fahren. Die Strecken sind sehr gut gewÃ¤hlt, man gerÃ¤t nirgendwo in brenzlige Situationen und fÃ¼r \"Neugierige\" gibt es viele MÃ¶glichkeiten zu testen, was ein Segway so alles kann.\\r\\nAn einer Stelle hat uns Chuck \"Big Horn Sheeps\" versprochen, aber die hatten an dem Tag wohl schon etwas besseres vor. ;-)\\r\\nAuf einem Berg - im Hintergrund sehr malerisch der Lake Mead - wurde ein Erinnerungsfoto gemacht, dass uns hinterher per Mail zugesendet wurde (kostenlos).\\r\\nZum AbschluÃ fuhren wir dann noch zum Lunch (im Preis inklusive). Man wird bereits bei der Buchung gefragt, was man gerne essen mÃ¶chte. Bei uns standen 5 oder 6 Gerichte zur Auswahl. Die QualitÃ¤t war ... naja ... Wir wÃ¼rden dort jedenfalls keinesfalls nochmal hingehen. Insgesamt hat das Essen aber wohl doch bei einigen den Geschmack getroffen. Es sind jedenfalls sehr groÃe und fettige Portionen. Eiskalte Softdrinks waren dort ebenfalls inklusive.\\r\\nAnschlieÃend ging zurÃ¼ck zum Van.\\r\\nChuck ist auf dem RÃ¼ckweg noch mit uns zum Hoover Dam gefahren, dort gab es allerdings nur einen kurzen Stop. AnschlieÃend wurden alle wieder zu Ihren Hotel (oder zum Wunschziel) gefahren.\\r\\n\\r\\nWir werden auf jeden Fall wieder eine Tour buchen, denn uns hat es supergut gefallen. Die Segways waren top in Schuss, Chuck und Chris hatten allzeit ein Auge darauf, dass alle gut klar kommen und sind geduldig und freundlich mit jedem, der etwas zÃ¶gerlich ist. Chuck wusste viel Ã¼ber Boulder City zu erzÃ¤hlen.\\r\\nJedes Segway hat vorne einen Rucksack, in dem man seine persÃ¶nlichen Sachen und GetrÃ¤nke verstauen kann.\\r\\nUnser Tipp: Bei Sonne auf jeden Fall Sonnenschutz verwenden - und dabei die HÃ¤nde nicht vergessen!</td>\n",
              "      <td>5</td>\n",
              "      <td>[wir, haben, im, mai, die, histor, boulder, citi, tour, gemacht, gebucht, haben, wir, von, deutschland, au, per, mail, und, mit, gutscheinen, von, myvega, unser, tour, war, somit, komplett, kostenlo, inzwischen, gibt, es, ã¼ber, myvega, nur, noch, fã¼r, oder, rabatt-gutschein, der, normalprei, fã¼r, dies, tour, liegt, bei, pro, person, und, wir, haben, da, angemessen, empfunden, wir, wurden, morgen, am, hotel, mit, einem, mini-van, abgeholt, und, fuhren, dann, zu, einem, weiteren, hotel, um, die, restlichen, teilnehm, einzuladen, WÃ, ¤, hrend, der, fahrt, hat, chuck, unser, tourguid, un, gut, unterhalten, vor, ort, angekommen, wartet, schon, chri, vom, support, mit, den, segway, auf, un, ...]</td>\n",
              "    </tr>\n",
              "    <tr>\n",
              "      <th>10588</th>\n",
              "      <td>Ganz normale TiefkÃ¼hlpommes mit gewÃ¶hnungsbedÃ¼rftiger Limonade (no refill) fÃ¼r Ã¼ber 10 USD fÃ¼r das MenÃ¼ sollte man nochmal in sich gehen bevor man sich hierfÃ¼r entscheidet. Das Wichtigste - und namensgebende - war dagegen sehr lecker. Ich wÃ¼rde deshalb nur empfehlen spaÃeshalber mal einen Hot Dog am Stil zu essen - den Rest kann man lassen.</td>\n",
              "      <td>2</td>\n",
              "      <td>[ganz, normal, tiefkã¼hlpomm, mit, gewã, ¶, hnungsbedã¼rftig, limonad, no, refil, fã¼r, ã¼ber, usd, fã¼r, da, menã¼, sollt, man, nochmal, in, sich, gehen, bevor, man, sich, hierfã¼r, entscheidet, da, wichtigst, und, namensgebend, war, dagegen, sehr, lecker, ich, wã¼rde, deshalb, nur, empfehlen, spaã, , eshalb, mal, einen, hot, dog, am, stil, zu, essen, den, rest, kann, man, lassen]</td>\n",
              "    </tr>\n",
              "    <tr>\n",
              "      <th>12644</th>\n",
              "      <td>éè »å¥½åçï¼åªæ¯é¸è¾£æ¹¯åºæå¯ä»¥å¤ä¸é»ãå°é¾æ¹¯åå¾åçªé¦éï¼å¾æåµæãå°é¾æ¹¯åçªé¦éçåºç¤éæï¼1çååå°å°çè¿èçè¶ï¼é¸è¾£æ¹¯é¸é¸è¾£è¾£çä¹æä¸é»é»çå¾å¥½åãåçåä¹å¾å¥½åï¼å¤ªæ£äºï¼</td>\n",
              "      <td>4</td>\n",
              "      <td>[é, , , è, », å, ¥, ½å, , , ç, , , ï¼, , å, , ªæ, , ¯, é, ¸, è¾, £, æ¹, ¯, åº, , æ, , , å, , ¯, ä, », ¥, å, ¤, , ä, ¸, , é, », , ã, , , å, °, , é¾, , æ¹, ¯, å, , å¾, , å, , , ç, , ªé, , ¦, é, , , ï¼, , å¾, , æ, , , å, , µæ, , , ã, , , å, °, , é¾, , æ¹, ¯, å, , ç, , ªé, , ¦, ...]</td>\n",
              "    </tr>\n",
              "    <tr>\n",
              "      <th>13859</th>\n",
              "      <td>ä¸é¯çè¶åç²ãéç¶æ°´åä¸ ä¸ä½å°æ¹å¤ æ¸æ½ã æ¹¯åºéå¯ä»¥ã æåæ¥, å¸ææ°´æºæä¿æå°ãNot bad noodle soup. But quality not consistent. Hope the restaurant can maintain its quality because it is within the neighborhood and very convenient for my family.</td>\n",
              "      <td>4</td>\n",
              "      <td>[ä, ¸, , é, , ¯, ç, , , è, ¶, , å, , , ç², , ã, , , é, , , ç, , ¶, æ, °, ´, å, , , ä, ¸, , ä, ¸, , ä½, , å, , °, æ, , ¹å, ¤, æ, ¸, æ½, , ã, , , æ¹, ¯, åº, , é, , , å, , ¯, ä, », ¥, ã, , , æ, , , å, , , æ, , ¥, å, ¸, , æ, , , æ, °, ´, æº, , æ, , , ä, ¿, , æ, , , å, ...]</td>\n",
              "    </tr>\n",
              "    <tr>\n",
              "      <th>13942</th>\n",
              "      <td>Das Tom's Urban wurde bei unserem Aufenthalt in Vegas schon zu unserem \"Stammlokal\", da es sich genau am New York New York Hotel befand, wo wir wohnten nur einen Katzensprung entfernt.\\r\\n\\r\\nBei Tom's kann man sowohl drinnen und klimatisiert sitzen, als auch sehr nett draussen.\\r\\nGerade Abends, wenn die Sonne untergegangen ist, ist das ein super Ort, um den Abend ausklingen zulassen, die vorbeilaufenden Menschen zu beobachten und die Happy Hour mitzunehmen.\\r\\n\\r\\nDiese gibt es zwei mal am Tag. Von 16-19 und und von 23-02 Uhr. In der ersten Phase, steigt der Preis bis 19 Uhr jeweils um einen Dollar und in der nÃ¤chtlichen Phase, fÃ¤llt der Preis, umso spÃ¤ter es wird. Witzige Idee.\\r\\n\\r\\nDie Preise sind ingesamt fÃ¼r Vegas aber sehr moderat und angenehmen. Die Speisenauswahl ist groÃ und bietet amerikanische KÃ¼che, aber auch internationale Gerichte.\\r\\nDas Bier-MenÃ¼ ist auch hier riesig und bietet eine groÃe Auswahl an Bieren vom Fass.\\r\\n\\r\\nDie erste Empfehlung beim Essen sind definitiv die Lobster &amp; Shrimp Mac'n'Cheese. Diese war der Hammer und mit dem Lobster-Fleisch und Shrimps toll. Die Portion war wirklich groÃ und fÃ¼r 19 Dollar vollkommen angemessen.\\r\\nAuch der Hangover Slopper war klasse. Ein Angus Beef Burger mit allem was so auf einen Burger gehÃ¶rt, dazu noch eine Cheese-Sauce und zwei Eiern. Auch eine Bombe, aber super lecker und mal etwas ganz Anderes, als andere Burger. Hatte ich in der Form noch nicht. Siehe meine Fotos. Ansonsten sind die Mini-Slider auch gut, drei kleine Burger fÃ¼r den Hunger zwischendurch.\\r\\n\\r\\nBesonders zu empfehlen ist im Tom's auch noch der Baby Kale (GrÃ¼nkohl) Salat, als Caesar Variante mit Chicken. GrÃ¼nkohl als Salat ist wunderbar und hoffe, das es sich auch mehr in Deutschland durchsetzt. Super lecker, sehr gesund und geschmacklich auch mal ganz anders, als unsere Salatvarianten.\\r\\n\\r\\nDas Tom's Urban ist also immer ein guter Anlaufpunkt fÃ¼r einen Drink oder ein Essen. \\r\\nDer Service war Ã¼brigens durchweg sehr freundlich und super aufmerksam. Freies Wlan gibt es vom New York Hotel noch obendrauf. Was will man mehr?! :-)</td>\n",
              "      <td>5</td>\n",
              "      <td>[da, tom', urban, wurd, bei, unserem, aufenthalt, in, vega, schon, zu, unserem, stammlok, da, es, sich, genau, am, new, york, new, york, hotel, befand, wo, wir, wohnten, nur, einen, katzensprung, entfernt, bei, tom', kann, man, sowohl, drinnen, und, klimatisiert, sitzen, al, auch, sehr, nett, draussen, gerad, abend, wenn, die, sonn, untergegangen, ist, ist, da, ein, super, ort, um, den, abend, ausklingen, zulassen, die, vorbeilaufenden, menschen, zu, beobachten, und, die, happi, hour, mitzunehmen, dies, gibt, es, zwei, mal, am, tag, von, und, und, von, uhr, In, der, ersten, phase, steigt, der, prei, bi, uhr, jeweil, um, einen, dollar, und, in, der, ...]</td>\n",
              "    </tr>\n",
              "    <tr>\n",
              "      <th>16577</th>\n",
              "      <td>Essen ist eher schlechte deutsche kost. Mitten im dinner wurde die rechnung gebracht. Musik ist alles andere als typisch. Meine meinung ist das es mehr ein mÃ¶chtegern restaurant ist. Das einzig gute ist das bier das ist fast orginal</td>\n",
              "      <td>2</td>\n",
              "      <td>[essen, ist, eher, schlecht, deutsch, kost, mitten, im, dinner, wurd, die, rechnung, gebracht, musik, ist, all, ander, al, typisch, mein, meinung, ist, da, es, mehr, ein, mÃ, ¶, chtegern, restaur, ist, da, einzig, gute, ist, da, bier, da, ist, fast, orgin]</td>\n",
              "    </tr>\n",
              "    <tr>\n",
              "      <th>17879</th>\n",
              "      <td>dazu gibt's wohl nicht viel zu sagen: ob mittags, abends oder tief in der Nacht: mein preferred Burger Laden wenn ich im Linq nÃ¤chtige. Am liebsten so Voodoo BÃ¼rger = in Salat anstelle eines PappbrÃ¶tchens eingeschlagen. FÃ¼r die, die es nicht wissen: Hackfleisch wird vor Ort frisch durch den Fleischwolf gejagt und die Kartoffeln fÃ¼r die Fritten werden auch frisch zubereitet.</td>\n",
              "      <td>5</td>\n",
              "      <td>[dazu, gibt', wohl, nicht, viel, zu, sagen, ob, mittag, abend, oder, tief, in, der, nacht, mein, prefer, burger, laden, wenn, ich, im, linq, nÃ, ¤, chtige, Am, liebsten, so, voodoo, bã¼rger, in, salat, anstel, ein, pappbrã, ¶, tchen, eingeschlagen, fã¼r, die, die, es, nicht, wissen, hackfleisch, wird, vor, ort, frisch, durch, den, fleischwolf, gejagt, und, die, kartoffeln, fã¼r, die, fritten, werden, auch, frisch, zubereitet]</td>\n",
              "    </tr>\n",
              "    <tr>\n",
              "      <th>22022</th>\n",
              "      <td>The service is really bad. å¼ºå¶30%å°è´¹ å¥½å§ åä¸ç¼ºé£ä¸¤åé± ä½ è¯´ä½ æ¶å°±æ¶äºå§ å¥½é®è¯´ä¸å£°å§ ä¸è¯´ ææå°±æ¶äº  ãæå¡åæåº¦å·® æªæä»¬æktvç»å¼ä¹±äº æææä»¬å±å®æ­äºè¿å¾ç»å®æ¶æ¾å¥½äºæè½èµ°ï¼ ç¶åé£é³ç®±é£ç®ç´äº å¥å¥ç ´é³ å°¼çè¿æ²¡æå®¶é³ç®±ææå¥½å¢ ãå¯ä¸çä¼ç¹å§ è£ä¿®ç¨å¾®æ°ä¸ç¹ ä½æè§è·å½åä¹¡ä¸çktvæ¯ä¼°è®¡è¿å¾å·®ä¸ä¸ªæ°´å</td>\n",
              "      <td>1</td>\n",
              "      <td>[the, servic, is, realli, bad, å¼ºå, , ¶, å, °, , è, ´, ¹, å, ¥, ½å, , §, å, , , ä, ¸, , ç¼ºé, , £, ä, ¸, ¤, å, , , é, , ±, ä½, è, ¯, ´, ä½, æ, , ¶, å, °, ±, æ, , ¶, äº, , å, , §, å, ¥, ½é, , ®, è, ¯, ´, ä, ¸, , å, £, °, å, , §, ä, ¸, , è, ¯, ´, æ, , , æ, , , å, °, ±, æ, , ¶, äº, , ã, , , æ, , , å, ...]</td>\n",
              "    </tr>\n",
              "    <tr>\n",
              "      <th>23903</th>\n",
              "      <td>Hatten dieses Hotel gebucht, da es direkt bei der Musichall war, wo am Abend das Konzert war. Parkplatz &amp; Internet Gratis. am Abend einbisschen aufpassen auf Obdachlose, tauchen ab und zu vom hinterhalt auf und mÃ¶chten Spenden.</td>\n",
              "      <td>3</td>\n",
              "      <td>[hatten, dies, hotel, gebucht, da, es, direkt, bei, der, musichal, war, wo, am, abend, da, konzert, war, parkplatz, internet, grati, am, abend, einbisschen, aufpassen, auf, obdachlos, tauchen, ab, und, zu, vom, hinterhalt, auf, und, mÃ, ¶, chten, spenden]</td>\n",
              "    </tr>\n",
              "    <tr>\n",
              "      <th>25276</th>\n",
              "      <td>I thought I have written this restaurant but somehow couldn't find it in my review\\r\\n\\r\\nRecommended by friend that it is good.  Browsing through its menu really found that there are a lot of varieties not found in traditional vegetarian Chinese restaurant.  \\r\\n\\r\\nThe most memorable dish is the A vegetable palm.  It is something different, soft but you can bite it.  Usually you can order fried A vegetable but never did I find the palm to be used.\\r\\n\\r\\nThe presentation of all dishes are nice and clean.\\r\\n\\r\\nAt the end, the waitress introduced us äºå°å±±éè²è±è¶ Wu Tai flower tea that is good for your stomach.  We bought some to try.  This is a good place to have vegetarian dishes.  Whatever you pay minus expenses is used to fund the building of the Wu Tai temple in Pickering that is now under construction.  You can have a meal and at the same time do some fund raising.</td>\n",
              "      <td>3</td>\n",
              "      <td>[I, thought, I, have, written, thi, restaur, but, somehow, could not, find, it, in, my, review, recommend, by, friend, that, it, is, good, brows, through, it, menu, realli, found, that, there, are, a, lot, of, varieti, not, found, in, tradit, vegetarian, chines, restaur, the, most, memor, dish, is, the, A, veget, palm, It, is, someth, differ, soft, but, you, can, bite, it, usual, you, can, order, fri, A, veget, but, never, did, I, find, the, palm, to, be, use, the, present, of, all, dish, are, nice, and, clean, At, the, end, the, waitress, introduc, us, äº, , å, , °, å, ...]</td>\n",
              "    </tr>\n",
              "    <tr>\n",
              "      <th>26397</th>\n",
              "      <td>ä¹ãã¶ãã«å£ã«åããªãï¼\\r\\nã¹ã¢ã¼ã«ãã¼ã·ã§ã³ã®ã³ã¼ã¹ããªã¼ãã¼ãã¾ããã\\r\\nåãï¼\\r\\nã¡ãã¥ã¼ã®ã»ã¨ãã©ã®ç¨®é¡ã®æçãåºã¦ãã¾ãã\\r\\nããã¯ãå¾ã§ãï¼\\r\\nå¨é¨ã§20ç¨®é¡ãè¶ãããï¼\\r\\nãã®å¨ã¦ãå£ã«åããªãã¨è¨ãå¿«æï¼\\r\\nç´ æ´ãããï¼\\r\\né¢ç½ãï¼\\r\\nè©±é¡ã¨ãã¦ã¯æé«ã«ãªãã¨æãï¼</td>\n",
              "      <td>2</td>\n",
              "      <td>[ä¹, ã, , , ã, , ¶, ã, , , ã, , «, å, , £, ã, , «, å, , , ã, , , ã, , ªã, , , ï¼, , ã, , ¹ã, , ¢, ã, , ¼ã, , «, ã, , , ã, , ¼ã, , ·, ã, , §, ã, , ³ã, , ®, ã, , ³ã, , ¼ã, , ¹ã, , , ã, , ªã, , ¼ã, , , ã, , ¼ã, , , ã, , ¾ã, , , ã, , , ã, , , å, , , ã, , , ï¼, , ã, , ...]</td>\n",
              "    </tr>\n",
              "    <tr>\n",
              "      <th>28964</th>\n",
              "      <td>åå§ååççè¶é£²åºéå°ç¦»å£«åå ¡ãä½äºmidland and finchçééååãç¯å¢èµ°çç¾å°èµé£ï¼è±å¢ãLINE FRIENDSçBROWNå°çå¤§å¬ä»ï¼ç»å¯¹æ¯æç§ç­ç¹ãåºåæ¹é¢ï¼æ°´æè¶çè¶ä½æ·¡äºå°å°ï¼æ°´æåç§æè¥¿çãæ©ãç¾é¦æãå£«å¤å¤æ¢¨ãä»·é±ä¸­ä¸ï¼æ¬§åè¿æ²¡è¯ï¼å ä¸ºåç±»åºçæ¶é´æ¯å¤©é½ä¸åï¼æä»¥éæ©æç¹åä¸</td>\n",
              "      <td>4</td>\n",
              "      <td>[å, , , å, §, å, , , å, , , ç, , , ç, , , è, , ¶, é, £, ²åº, , é, , , å, , °, ç, ¦, », å, £, «, å, , , å, ¡, ã, , , ä½, , äº, , midland, and, finchç, , , é, , , é, , , å, , , å, , ã, , , ç, , ¯, å, ¢, , èµ, °, ç, , , ç¾, , å, °, , èµ, , é, £, , ï¼, , è, , ±, å, ¢, , ã, , , line, ...]</td>\n",
              "    </tr>\n",
              "    <tr>\n",
              "      <th>34566</th>\n",
              "      <td>Sehr schÃ¶nes Steakhaus mitten auf dem Strip. \\r\\n\\r\\nHier gabs das beste Steak das ich jemals gegessen habe. :-)</td>\n",
              "      <td>5</td>\n",
              "      <td>[sehr, schã, ¶, ne, steakhau, mitten, auf, dem, strip, hier, gab, da, best, steak, da, ich, jemal, gegessen, habe, :-)]</td>\n",
              "    </tr>\n",
              "    <tr>\n",
              "      <th>34862</th>\n",
              "      <td>We came here for dim sum #é»å¿ on a Sat morning after being on vacation in Europe, so we we're definitely craving some good Chinese food. We had a reservation for 12pm but we still waited 45min to get seated because there was already a crowd of people still waiting for a table. I think it just has to be managed better, like have an app that customers can bid for tables or have organized seating times. I saw some people leave in frustration (i.e. banging the sh*t out of the handicap button to open the door); and while it's understandable to react like that when you're hungry, it's certainly not very mature and respectful behavior. Nevertheless, I guess you just have be patient if you want to eat their food..\\r\\n\\r\\nI think what business owners should realize is that if you have a less hectic environment in the front of the house, your customers will probably be more polite to the servers.\\r\\n\\r\\nThe food, I thought was really good, and again if you're patient enough to wait for your table, you get to order their BBQ pork. Tea wasn't that great, I mean it's called #é£²è¶ for a reason, so it gets -1 star, but the food is consistent. We just ordered alot of random things (that guy sold us on so many extra dishes), that by the end, everything gets cold and gummy, and lunch turns into the \"who ordered this on the sheet?!\" game. Nevertheless, it was fun to drink tea and catch up with your friends.\\r\\n\\r\\nAnyways, the moral of this story is: be patient at the door, try and book your lunches during off peak hours (either 30min after opening or 3pm), be kind to your servers/compliment them once in a while, and  you'll have a better experience.. not like all the 1star reviews that you read on this.\\r\\n\\r\\nP.S. try not to drool on your cellphone screen.</td>\n",
              "      <td>4</td>\n",
              "      <td>[We, came, here, for, dim, sum, é, », , å, ¿, , on, a, sat, morn, after, be, on, vacat, in, europ, so, we, we ar, definit, crave, some, good, chines, food, We, had, a, reserv, for, pm, but, we, still, wait, min, to, get, seat, becaus, there, wa, alreadi, a, crowd, of, peopl, still, wait, for, a, tabl, I, think, it, just, ha, to, be, manag, better, like, have, an, app, that, custom, can, bid, for, tabl, or, have, organ, seat, time, I, saw, some, peopl, leav, in, frustrat, i, e, bang, the, sh, t, out, of, the, handicap, button, ...]</td>\n",
              "    </tr>\n",
              "    <tr>\n",
              "      <th>35682</th>\n",
              "      <td>FÃ¶rutsatt att du inte har allt fÃ¶r svÃ¥rt fÃ¶r unga kvinnor med vÃ¤ldigt stor byst som serverar dig sÃ¥ kan detta stÃ¤lle absolut rekommenderas. Ok, det Ã¤r inte sÃ¥ illa som pÃ¥ the Hooters i USA men dock. HÃ¤r Ã¶ppnar du med en gin(hendricks)&amp;tonic i baren och bestÃ¤ller sedan in en steak till maten och den Ã¤r helt enkelt jÃ¤vligt bra. StÃ¤llet andas trendigt, hippt och affÃ¤rsfolk mÃ¶ter trendiga designer kids. Till fÃ¶rrÃ¤tt vÃ¤ljer du fÃ¶rslagsvis salladen med jordgubbar, nÃ¶tter och annat.</td>\n",
              "      <td>4</td>\n",
              "      <td>[FÃ, ¶, rutsatt, att, du, int, har, allt, fÃ, ¶, r, svã, ¥, rt, fÃ, ¶, r, unga, kvinnor, med, vÃ, ¤, ldigt, stor, byst, som, serverar, dig, sÃ, ¥, kan, detta, stã, ¤, lle, absolut, rekommendera, Ok, det, Ã, ¤, r, int, sÃ, ¥, illa, som, pÃ, ¥, the, hooter, i, usa, men, dock, HÃ, ¤, r, Ã, ¶, ppnar, du, med, en, gin, hendrick, tonic, i, baren, och, bestã, ¤, ller, sedan, in, en, steak, till, maten, och, den, Ã, ¤, r, helt, enkelt, jÃ, ¤, vligt, bra, stã, ¤, llet, anda, trendigt, hippt, och, affã, ¤, rsfolk, ...]</td>\n",
              "    </tr>\n",
              "    <tr>\n",
              "      <th>35716</th>\n",
              "      <td>Valu-Martç³»PCéå¢æä¸çè¶å¸ä¹ä¸ï¼ä¸ªäººè§å¾å¥½ä¼¼ä»ä¹äºloblawsåno frillsä¹é´çï¼ååºç¸å¯¹ç¦»è®²åç®å¤ãå¢é´ä½äºbayviewå¤¹cummerçä¸åè§ãç¯å¢æ´æ´ï¼äººä¹åå¤ï¼åç§oké½å¨ï¼ä½åäººé£åç±»å°±åå¤ªå¤ãå¦ææ¯PC Clubä¼åçè¯ç¦»ä¹°èè´­ç©å°±å¯ä»¥åºç¤ºä¼åå¡å¨ç§¯å</td>\n",
              "      <td>3</td>\n",
              "      <td>[valu-martç³, », pcé, , , å, , ¢, æ, , , ä, ¸, , ç, , , è, ¶, å, ¸, , ä¹, , ä, ¸, , ï¼, , ä, ¸, ªäººè, §, , å¾, , å, ¥, ½ä¼¼ä, », , ä¹, , äº, , loblawså, , , no, frillsä¹, , é, , ´, ç, , , ï¼, , å, , , åº, , ç, , ¸, å, ¯, ¹ç, ¦, », è, ®, ²å, , , ç, ®, , å, ¤, , ã, , , å, , ¢, é, , ´, ä½, , äº, , bayviewå, ¤, ¹cummerç, , ...]</td>\n",
              "    </tr>\n",
              "    <tr>\n",
              "      <th>35906</th>\n",
              "      <td>å¨ææ6çdinnerï¼ä¸è¥¿å¾å¤ï¼éå¸¸çå¤éæ©ï¼è¿æç¾èï¼å¤ªå«äººæå¤äºï¼èä¸è·¨äºå¾å¤çèç³»ï¼\\r\\n\\r\\nè¿éçè¹è¿æ¯æå¨lvåè¿ä¸­æå¥½çï¼è¥èçèï¼è¶çº§æ æå¥½åï¼No.1ï¼å¤æ±ï¼å¾Qãpai thaiï¼ä¹å¾æå³éï¼\\r\\n\\r\\nsushi é£tnndå®å¨æ¯ä¸ä¸ªæ¸£ï¼ççé£çå­ï¼ä¸ä¸ä¸¤ç§é¢è²ï¼å¾ä¸å¹²åï¼èèµ·é£æ ·çæçéå¸¸å¼ºçä¸ä¸ä¸ï¼å¸åä»¬åsushiçææ¯ä¹æ¯éå¸¸çä¸çæ³ï¼é£é±¼åä»ä¹çï¼ç²ç²çï¼å£æä¸Qåï¼æ3ç§é±¼å­é±ï¼å¯æ¯é£ä¸ªå¥³çæåº¦æç¹é®é¢ï¼å¥½åéå¸¸çä¸ææ¿ï¼æ¿äºä¸æ¬¡å°±æ²¡æå»äºã\\r\\n\\r\\næ°´ææ¯å«æéå¸¸çæ°çï¼æä»¥æç»äº2æãå¸åå¨è¡¥è´§çæ¶åæ²¡æå»æ¢çï¼é£çå­ççå°±æ¶å¿ï¼\\r\\n\\r\\næ¾å¤¹å­çé£ä¸ªçå­ççéå¸¸ç ä¸èæ</td>\n",
              "      <td>2</td>\n",
              "      <td>[å, , ¨, æ, , , æ, , , ç, , , dinnerï¼, , ä, ¸, , è, ¥, ¿, å¾, , å, ¤, , ï¼, , é, , , å, ¸, ¸, ç, , , å, ¤, , é, , , æ, , ©, ï¼, , è, ¿, , æ, , , ç¾, , è, , , ï¼, , å, ¤, ªå, , «, äººæ, , , å, ¤, , äº, , ï¼, , è, , , ä, ¸, , è, ·, ¨, äº, , å¾, , å, ¤, , ç, , , è, , , ç³, », ï¼, ...]</td>\n",
              "    </tr>\n",
              "    <tr>\n",
              "      <th>39799</th>\n",
              "      <td>MÃ¤dels das ist eine geile Show, sexy MÃ¤nner mit einem unwiderstehlich gut gebautem KÃ¶rper, die sich saugeil bewegen kÃ¶nnen und sich im String auf Tischen, StÃ¼hlen und Frauen rÃ¤ckeln. \\r\\n\\r\\n\\r\\n Die Stimmung ist super, die MÃ¤nner lÃ¤cheln zum dahinschmelzen und man kann und will sich gar nicht fÃ¼r einen entscheiden .... Milchmann, Bauarbeiter, Banker??? Egal!\\r\\n\\r\\n\\r\\n Preis - Leistung sind absolut ok. Die AtmosphÃ¤re stimmt, kleiner dunkler Raum mit bequemen Tischen und Nischen. Die Tische direkt vor der BÃ¼hne werden von den MÃ¤nnern auch als BÃ¼hne benutzt, wo auch mal anfassen statt nur gucken erwÃ¼nscht ist. Ein Mordsgaudi!!!!\\r\\n\\r\\n\\r\\n Ein super geiler MÃ¤delsabend mit nettem Erinnerungsfoto (20 USD)</td>\n",
              "      <td>5</td>\n",
              "      <td>[MÃ, ¤, del, da, ist, ein, geil, show, sexi, MÃ, ¤, nner, mit, einem, unwiderstehlich, gut, gebautem, KÃ, ¶, rper, die, sich, saugeil, bewegen, kÃ, ¶, nnen, und, sich, im, string, auf, tischen, stã¼hlen, und, frauen, rÃ, ¤, ckeln, die, stimmung, ist, super, die, MÃ, ¤, nner, lÃ, ¤, cheln, zum, dahinschmelzen, und, man, kann, und, will, sich, gar, nicht, fã¼r, einen, entscheiden, ..., milchmann, bauarbeit, banker, egal, prei, leistung, sind, absolut, ok, die, atmosphã, ¤, re, stimmt, kleiner, dunkler, raum, mit, bequemen, tischen, und, nischen, die, tisch, direkt, vor, der, bã¼hne, werden, von, den, MÃ, ¤, nnern, auch, al, ...]</td>\n",
              "    </tr>\n",
              "    <tr>\n",
              "      <th>46210</th>\n",
              "      <td>Netter Sportartikelladen mit einer recht groÃen Auswahl an Kleidung und AusrÃ¼stung. Leider ist alles etwas teurer als in vergleichbaren anderen GeachÃ¤ften. Zum Schauen ganz schÃ¶n, zum Kaufen nicht die erste Wahl.</td>\n",
              "      <td>3</td>\n",
              "      <td>[netter, sportartikelladen, mit, einer, recht, groã, , en, auswahl, an, kleidung, und, ausrã¼stung, leider, ist, all, etwa, teurer, al, in, vergleichbaren, anderen, geachã, ¤, ften, zum, schauen, ganz, schã, ¶, n, zum, kaufen, nicht, die, erst, wahl]</td>\n",
              "    </tr>\n",
              "    <tr>\n",
              "      <th>46639</th>\n",
              "      <td>I had the Tiroler GrÃ¶stl, a sampler of diced meats with German style potatoes. It was a tad salty for my usual taste, but overall very well prepared and seasoned. Service was very slow, and I had to wait much longer than usual for drink refills and general table service.  \\r\\n\\r\\nOverall assessment: Good food, dated decor, and waitresses leave much to be desired when it comes to attentiveness.  I would go back and back and try something new, in hopes that the lacking service was due to an off night and not normal operations.</td>\n",
              "      <td>3</td>\n",
              "      <td>[I, had, the, tirol, grã, ¶, stl, a, sampler, of, dice, meat, with, german, style, potato, It, wa, a, tad, salti, for, my, usual, tast, but, overal, veri, well, prepar, and, season, servic, wa, veri, slow, and, I, had, to, wait, much, longer, than, usual, for, drink, refil, and, gener, tabl, servic, overal, assess, good, food, date, decor, and, waitress, leav, much, to, be, desir, when, it, come, to, attent, I, would, go, back, and, back, and, tri, someth, new, in, hope, that, the, lack, servic, wa, due, to, an, off, night, and, not, normal, oper]</td>\n",
              "    </tr>\n",
              "  </tbody>\n",
              "</table>\n",
              "</div>"
            ],
            "text/plain": [
              "                                                                                                                                                                                                                                                                                                                                                                                                                                                                                                                                                                                                                                                                                                                                                                                                                                                                                                                                                                                                                                                                                                                                                                                                                                                                                                                                                                                                                                                                                                                                                                                                                                                                                                                                                                                                                                                                                                                                                                                                                                                                                                                                                                                                                                                                                                                                                                                                                                                                                                                                                                                                                                                                                                                                                                                                                                                                                                                                                                                                                                                                           text  ...                                                                                                                                                                                                                                                                                                                                                                                                                                                                                                                                                                                                                                                                                                                     clean_text\n",
              "4323   ï¼ãæåãã¾ããï¼å¤§å¥½ãã§ãã\\r\\nï¼ãç¾å³ããï¼æ²¢å±±ã®äººã«ç´¹ä»ãããï¼\\r\\nï¼ãã¢ãã¬ã¼ã¸ï¼\\r\\nï¼ãç§ã®å¥½ã¿ã§ã¯ããã¾ããã§ãããã§ãã¾ããã¤ããã£ã¬ã³ã¸ãã¦ãããããªããã\\r\\nï¼ãããäºåº¦ã¨ä¼ºããã¨ã¯ããã¾ããã\\r\\n\\r\\nãã¼ã«ã®ç¨®é¡ãè±å¯ï¼\\r\\nä½ãããããªã®ãããã¼ã«ã°ã©ã¹ããã¤ãç¶ºéºã«æ´æµããã¦ãããã¨ï¼\\r\\n\\r\\nãã­ã³ãã§ã¯ãããã§ãã¼ã«ãé£²ãã®ã1çªå¥½ãããã                                                                                                                                                                                                                                                                                                                                                                                                                                                                                                                                                                                                                                                                                                                                                                                                                                                                                                                                                                                                                                                                                                                                                                                                                                                                                                                                                                                                                                                                                                                                                                                                                                                                                                                                                                                                                                                                                                                                                                                                                                                                                                                                                                                                                                                                                                                                                                                                                                                                                                                         ...  [ï¼, , ã, , , æ, , , å, , , ã, , , ã, , ¾ã, , , ã, , , ï¼, , å, ¤, §, å, ¥, ½ã, , , ã, , §, ã, , , ã, , , ï¼, , ã, , , ç¾, , å, , ³ã, , , ã, , , ï¼, , æ², ¢, å, ±, ±, ã, , ®, äººã, , «, ç, ´, ¹ä, », , ã, , , ã, , , ã, , , ï¼, , ï¼, , ã, , , ã, , ¢, ã, , , ã, , ¬, ã, ...]                                                                                                                                                                                                                                                                                                                                                                                             \n",
              "4949   Wir haben im Mai die \"Historic Boulder City\"-Tour gemacht.\\r\\nGebucht haben wir von Deutschland aus per Mail und mit Gutscheinen von MyVegas. Unsere Tour war somit komplett kostenlos. (Inzwischen gibt es Ã¼ber MyVegas nur noch 2-fÃ¼r-1 oder 50$-Rabatt-Gutscheine.) Der Normalpreis fÃ¼r diese Tour liegt bei 189$ pro Person und wir haben das angemessen empfunden.\\r\\nWir wurden morgens am Hotel mit einem Mini-Van abgeholt und fuhren dann zu einem weiteren Hotel um die restlichen Teilnehmer einzuladen.\\r\\nWÃ¤hrend der Fahrt hat Chuck (unser Tourguide) uns gut unterhalten. \\r\\nVor Ort angekommen wartete schon Chris (vom Support) mit den Segways auf uns. FÃ¼r alle standen Helme, KopfhÃ¶rer und viel kaltes Wasser bereit. Nachdem jeder auf dem groÃem Parkplatz in die Bedienung des Segways eingewiesen wurde und sich sicher fÃ¼hlte, ging die Tour los.\\r\\nZuerst fuhren wir durch die Stadt zum Museum. Dort hatten wir ca. eine 1/2 Stunde Aufenthalt. Der Eintrittspreis ist bereits inklusive. Hier hat man auch die MÃ¶glichkeit zur Toilette zu gehen.\\r\\nDas Museum beschÃ¤ftigt sich mit dem Bau des Hoover Dams (fÃ¼r die Arbeiter wurde Boulder City damals gebaut) und ist recht interessant.\\r\\nDanach ging die Tour weiter und es gab richtig lange Strecken zu fahren. Die Strecken sind sehr gut gewÃ¤hlt, man gerÃ¤t nirgendwo in brenzlige Situationen und fÃ¼r \"Neugierige\" gibt es viele MÃ¶glichkeiten zu testen, was ein Segway so alles kann.\\r\\nAn einer Stelle hat uns Chuck \"Big Horn Sheeps\" versprochen, aber die hatten an dem Tag wohl schon etwas besseres vor. ;-)\\r\\nAuf einem Berg - im Hintergrund sehr malerisch der Lake Mead - wurde ein Erinnerungsfoto gemacht, dass uns hinterher per Mail zugesendet wurde (kostenlos).\\r\\nZum AbschluÃ fuhren wir dann noch zum Lunch (im Preis inklusive). Man wird bereits bei der Buchung gefragt, was man gerne essen mÃ¶chte. Bei uns standen 5 oder 6 Gerichte zur Auswahl. Die QualitÃ¤t war ... naja ... Wir wÃ¼rden dort jedenfalls keinesfalls nochmal hingehen. Insgesamt hat das Essen aber wohl doch bei einigen den Geschmack getroffen. Es sind jedenfalls sehr groÃe und fettige Portionen. Eiskalte Softdrinks waren dort ebenfalls inklusive.\\r\\nAnschlieÃend ging zurÃ¼ck zum Van.\\r\\nChuck ist auf dem RÃ¼ckweg noch mit uns zum Hoover Dam gefahren, dort gab es allerdings nur einen kurzen Stop. AnschlieÃend wurden alle wieder zu Ihren Hotel (oder zum Wunschziel) gefahren.\\r\\n\\r\\nWir werden auf jeden Fall wieder eine Tour buchen, denn uns hat es supergut gefallen. Die Segways waren top in Schuss, Chuck und Chris hatten allzeit ein Auge darauf, dass alle gut klar kommen und sind geduldig und freundlich mit jedem, der etwas zÃ¶gerlich ist. Chuck wusste viel Ã¼ber Boulder City zu erzÃ¤hlen.\\r\\nJedes Segway hat vorne einen Rucksack, in dem man seine persÃ¶nlichen Sachen und GetrÃ¤nke verstauen kann.\\r\\nUnser Tipp: Bei Sonne auf jeden Fall Sonnenschutz verwenden - und dabei die HÃ¤nde nicht vergessen!  ...  [wir, haben, im, mai, die, histor, boulder, citi, tour, gemacht, gebucht, haben, wir, von, deutschland, au, per, mail, und, mit, gutscheinen, von, myvega, unser, tour, war, somit, komplett, kostenlo, inzwischen, gibt, es, ã¼ber, myvega, nur, noch, fã¼r, oder, rabatt-gutschein, der, normalprei, fã¼r, dies, tour, liegt, bei, pro, person, und, wir, haben, da, angemessen, empfunden, wir, wurden, morgen, am, hotel, mit, einem, mini-van, abgeholt, und, fuhren, dann, zu, einem, weiteren, hotel, um, die, restlichen, teilnehm, einzuladen, WÃ, ¤, hrend, der, fahrt, hat, chuck, unser, tourguid, un, gut, unterhalten, vor, ort, angekommen, wartet, schon, chri, vom, support, mit, den, segway, auf, un, ...]\n",
              "10588  Ganz normale TiefkÃ¼hlpommes mit gewÃ¶hnungsbedÃ¼rftiger Limonade (no refill) fÃ¼r Ã¼ber 10 USD fÃ¼r das MenÃ¼ sollte man nochmal in sich gehen bevor man sich hierfÃ¼r entscheidet. Das Wichtigste - und namensgebende - war dagegen sehr lecker. Ich wÃ¼rde deshalb nur empfehlen spaÃeshalber mal einen Hot Dog am Stil zu essen - den Rest kann man lassen.                                                                                                                                                                                                                                                                                                                                                                                                                                                                                                                                                                                                                                                                                                                                                                                                                                                                                                                                                                                                                                                                                                                                                                                                                                                                                                                                                                                                                                                                                                                                                                                                                                                                                                                                                                                                                                                                                                                                                                                                                                                                                                                                                                                                                                                                                                                                                                                                                                                                                                                                                                                                                                                                                                          ...  [ganz, normal, tiefkã¼hlpomm, mit, gewã, ¶, hnungsbedã¼rftig, limonad, no, refil, fã¼r, ã¼ber, usd, fã¼r, da, menã¼, sollt, man, nochmal, in, sich, gehen, bevor, man, sich, hierfã¼r, entscheidet, da, wichtigst, und, namensgebend, war, dagegen, sehr, lecker, ich, wã¼rde, deshalb, nur, empfehlen, spaã, , eshalb, mal, einen, hot, dog, am, stil, zu, essen, den, rest, kann, man, lassen]                                                                                                                                                                                                                                                                                                                            \n",
              "12644  éè »å¥½åçï¼åªæ¯é\n",
              "¸è¾£æ¹¯åºæå¯ä»¥å¤ä¸é»ãå°é¾æ¹¯å\n",
              "å¾åçªé¦éï¼å¾æåµæãå°é¾æ¹¯å\n",
              "çªé¦éçåºç¤éæï¼1çååå°å°çè¿èçè¶ï¼é\n",
              "¸è¾£æ¹¯é\n",
              "¸é\n",
              "¸è¾£è¾£çä¹æä¸é»é»çå¾å¥½åãåçå\n",
              "ä¹å¾å¥½åï¼å¤ªæ£äºï¼                                                                                                                                                                                                                                                                                                                                                                                                                                                                                                                                                                                                                                                                                                                                                                                                                                                                                                                                                                                                                                                                                                                                                                                                                                                                                                                                                                                                                                                                                                                                                                                                                                                                                                                                                                                                                                                                                                                                                                                                                                                                                                                                                                                                                                                                                                                                                                                                                                                                                                                                                                                                                                                                                                                                                                                                 ...  [é, , , è, », å, ¥, ½å, , , ç, , , ï¼, , å, , ªæ, , ¯, é, ¸, è¾, £, æ¹, ¯, åº, , æ, , , å, , ¯, ä, », ¥, å, ¤, , ä, ¸, , é, », , ã, , , å, °, , é¾, , æ¹, ¯, å, , å¾, , å, , , ç, , ªé, , ¦, é, , , ï¼, , å¾, , æ, , , å, , µæ, , , ã, , , å, °, , é¾, , æ¹, ¯, å, , ç, , ªé, , ¦, ...]                                                                                                                                                                                                                                                                                                                                                                                            \n",
              "13859  ä¸é¯çè¶åç²ãéç¶æ°´åä¸ ä¸ä½å°æ¹å¤ æ¸\n",
              "æ½ã æ¹¯åºéå¯ä»¥ã æåæ¥, å¸ææ°´æºæä¿æå°ãNot bad noodle soup. But quality not consistent. Hope the restaurant can maintain its quality because it is within the neighborhood and very convenient for my family.                                                                                                                                                                                                                                                                                                                                                                                                                                                                                                                                                                                                                                                                                                                                                                                                                                                                                                                                                                                                                                                                                                                                                                                                                                                                                                                                                                                                                                                                                                                                                                                                                                                                                                                                                                                                                                                                                                                                                                                                                                                                                                                                                                                                                                                                                                                                                                                                                                                                                                                                                                                                                                                                                                                                                                             ...  [ä, ¸, , é, , ¯, ç, , , è, ¶, , å, , , ç², , ã, , , é, , , ç, , ¶, æ, °, ´, å, , , ä, ¸, , ä, ¸, , ä½, , å, , °, æ, , ¹å, ¤, æ, ¸, æ½, , ã, , , æ¹, ¯, åº, , é, , , å, , ¯, ä, », ¥, ã, , , æ, , , å, , , æ, , ¥, å, ¸, , æ, , , æ, °, ´, æº, , æ, , , ä, ¿, , æ, , , å, ...]                                                                                                                                                                                                                                                                                                                                                                                                     \n",
              "13942  Das Tom's Urban wurde bei unserem Aufenthalt in Vegas schon zu unserem \"Stammlokal\", da es sich genau am New York New York Hotel befand, wo wir wohnten nur einen Katzensprung entfernt.\\r\\n\\r\\nBei Tom's kann man sowohl drinnen und klimatisiert sitzen, als auch sehr nett draussen.\\r\\nGerade Abends, wenn die Sonne untergegangen ist, ist das ein super Ort, um den Abend ausklingen zulassen, die vorbeilaufenden Menschen zu beobachten und die Happy Hour mitzunehmen.\\r\\n\\r\\nDiese gibt es zwei mal am Tag. Von 16-19 und und von 23-02 Uhr. In der ersten Phase, steigt der Preis bis 19 Uhr jeweils um einen Dollar und in der nÃ¤chtlichen Phase, fÃ¤llt der Preis, umso spÃ¤ter es wird. Witzige Idee.\\r\\n\\r\\nDie Preise sind ingesamt fÃ¼r Vegas aber sehr moderat und angenehmen. Die Speisenauswahl ist groÃ und bietet amerikanische KÃ¼che, aber auch internationale Gerichte.\\r\\nDas Bier-MenÃ¼ ist auch hier riesig und bietet eine groÃe Auswahl an Bieren vom Fass.\\r\\n\\r\\nDie erste Empfehlung beim Essen sind definitiv die Lobster & Shrimp Mac'n'Cheese. Diese war der Hammer und mit dem Lobster-Fleisch und Shrimps toll. Die Portion war wirklich groÃ und fÃ¼r 19 Dollar vollkommen angemessen.\\r\\nAuch der Hangover Slopper war klasse. Ein Angus Beef Burger mit allem was so auf einen Burger gehÃ¶rt, dazu noch eine Cheese-Sauce und zwei Eiern. Auch eine Bombe, aber super lecker und mal etwas ganz Anderes, als andere Burger. Hatte ich in der Form noch nicht. Siehe meine Fotos. Ansonsten sind die Mini-Slider auch gut, drei kleine Burger fÃ¼r den Hunger zwischendurch.\\r\\n\\r\\nBesonders zu empfehlen ist im Tom's auch noch der Baby Kale (GrÃ¼nkohl) Salat, als Caesar Variante mit Chicken. GrÃ¼nkohl als Salat ist wunderbar und hoffe, das es sich auch mehr in Deutschland durchsetzt. Super lecker, sehr gesund und geschmacklich auch mal ganz anders, als unsere Salatvarianten.\\r\\n\\r\\nDas Tom's Urban ist also immer ein guter Anlaufpunkt fÃ¼r einen Drink oder ein Essen. \\r\\nDer Service war Ã¼brigens durchweg sehr freundlich und super aufmerksam. Freies Wlan gibt es vom New York Hotel noch obendrauf. Was will man mehr?! :-)                                                                                                                                                                                                                                                                                                                                                                                                                                                                                                                                                                                                                                                                                                                                                                                                                                                                      ...  [da, tom', urban, wurd, bei, unserem, aufenthalt, in, vega, schon, zu, unserem, stammlok, da, es, sich, genau, am, new, york, new, york, hotel, befand, wo, wir, wohnten, nur, einen, katzensprung, entfernt, bei, tom', kann, man, sowohl, drinnen, und, klimatisiert, sitzen, al, auch, sehr, nett, draussen, gerad, abend, wenn, die, sonn, untergegangen, ist, ist, da, ein, super, ort, um, den, abend, ausklingen, zulassen, die, vorbeilaufenden, menschen, zu, beobachten, und, die, happi, hour, mitzunehmen, dies, gibt, es, zwei, mal, am, tag, von, und, und, von, uhr, In, der, ersten, phase, steigt, der, prei, bi, uhr, jeweil, um, einen, dollar, und, in, der, ...]                                        \n",
              "16577  Essen ist eher schlechte deutsche kost. Mitten im dinner wurde die rechnung gebracht. Musik ist alles andere als typisch. Meine meinung ist das es mehr ein mÃ¶chtegern restaurant ist. Das einzig gute ist das bier das ist fast orginal                                                                                                                                                                                                                                                                                                                                                                                                                                                                                                                                                                                                                                                                                                                                                                                                                                                                                                                                                                                                                                                                                                                                                                                                                                                                                                                                                                                                                                                                                                                                                                                                                                                                                                                                                                                                                                                                                                                                                                                                                                                                                                                                                                                                                                                                                                                                                                                                                                                                                                                                                                                                                                                                                                                                                                                                                                 ...  [essen, ist, eher, schlecht, deutsch, kost, mitten, im, dinner, wurd, die, rechnung, gebracht, musik, ist, all, ander, al, typisch, mein, meinung, ist, da, es, mehr, ein, mÃ, ¶, chtegern, restaur, ist, da, einzig, gute, ist, da, bier, da, ist, fast, orgin]                                                                                                                                                                                                                                                                                                                                                                                                                                                             \n",
              "17879  dazu gibt's wohl nicht viel zu sagen: ob mittags, abends oder tief in der Nacht: mein preferred Burger Laden wenn ich im Linq nÃ¤chtige. Am liebsten so Voodoo BÃ¼rger = in Salat anstelle eines PappbrÃ¶tchens eingeschlagen. FÃ¼r die, die es nicht wissen: Hackfleisch wird vor Ort frisch durch den Fleischwolf gejagt und die Kartoffeln fÃ¼r die Fritten werden auch frisch zubereitet.                                                                                                                                                                                                                                                                                                                                                                                                                                                                                                                                                                                                                                                                                                                                                                                                                                                                                                                                                                                                                                                                                                                                                                                                                                                                                                                                                                                                                                                                                                                                                                                                                                                                                                                                                                                                                                                                                                                                                                                                                                                                                                                                                                                                                                                                                                                                                                                                                                                                                                                                                                                                                                                                             ...  [dazu, gibt', wohl, nicht, viel, zu, sagen, ob, mittag, abend, oder, tief, in, der, nacht, mein, prefer, burger, laden, wenn, ich, im, linq, nÃ, ¤, chtige, Am, liebsten, so, voodoo, bã¼rger, in, salat, anstel, ein, pappbrã, ¶, tchen, eingeschlagen, fã¼r, die, die, es, nicht, wissen, hackfleisch, wird, vor, ort, frisch, durch, den, fleischwolf, gejagt, und, die, kartoffeln, fã¼r, die, fritten, werden, auch, frisch, zubereitet]                                                                                                                                                                                                                                                                                \n",
              "22022  The service is really bad. å¼ºå¶30%å°è´¹ å¥½å§ åä¸ç¼ºé£ä¸¤åé± ä½ è¯´ä½ æ¶å°±æ¶äºå§ å¥½é®è¯´ä¸å£°å§ ä¸è¯´ ææå°±æ¶äº  ãæå¡åæåº¦å·® æªæä»¬æktvç»å¼ä¹±äº æææä»¬å±å®æ­äºè¿å¾ç»å®æ¶æ¾å¥½äºæè½èµ°ï¼ ç¶åé£é³ç®±é£ç®ç´äº å¥å¥ç ´é³ å°¼çè¿æ²¡æå®¶é³ç®±ææå¥½å¢ ãå¯ä¸çä¼ç¹å§ è£\n",
              "ä¿®ç¨å¾®æ°ä¸ç¹ ä½æè§è·å½å\n",
              "ä¹¡ä¸çktvæ¯ä¼°è®¡è¿å¾å·®ä¸ä¸ªæ°´å                                                                                                                                                                                                                                                                                                                                                                                                                                                                                                                                                                                                                                                                                                                                                                                                                                                                                                                                                                                                                                                                                                                                                                                                                                                                                                                                                                                                                                                                                                                                                                                                                                                                                                                                                                                                                                                                                                                                                                                                                                                                                                                                                                                                                                                                                                                                                                                                                                                                                                                                                                                                                         ...  [the, servic, is, realli, bad, å¼ºå, , ¶, å, °, , è, ´, ¹, å, ¥, ½å, , §, å, , , ä, ¸, , ç¼ºé, , £, ä, ¸, ¤, å, , , é, , ±, ä½, è, ¯, ´, ä½, æ, , ¶, å, °, ±, æ, , ¶, äº, , å, , §, å, ¥, ½é, , ®, è, ¯, ´, ä, ¸, , å, £, °, å, , §, ä, ¸, , è, ¯, ´, æ, , , æ, , , å, °, ±, æ, , ¶, äº, , ã, , , æ, , , å, ...]                                                                                                                                                                                                                                                                                                                                                                                 \n",
              "23903  Hatten dieses Hotel gebucht, da es direkt bei der Musichall war, wo am Abend das Konzert war. Parkplatz & Internet Gratis. am Abend einbisschen aufpassen auf Obdachlose, tauchen ab und zu vom hinterhalt auf und mÃ¶chten Spenden.                                                                                                                                                                                                                                                                                                                                                                                                                                                                                                                                                                                                                                                                                                                                                                                                                                                                                                                                                                                                                                                                                                                                                                                                                                                                                                                                                                                                                                                                                                                                                                                                                                                                                                                                                                                                                                                                                                                                                                                                                                                                                                                                                                                                                                                                                                                                                                                                                                                                                                                                                                                                                                                                                                                                                                                                                                      ...  [hatten, dies, hotel, gebucht, da, es, direkt, bei, der, musichal, war, wo, am, abend, da, konzert, war, parkplatz, internet, grati, am, abend, einbisschen, aufpassen, auf, obdachlos, tauchen, ab, und, zu, vom, hinterhalt, auf, und, mÃ, ¶, chten, spenden]                                                                                                                                                                                                                                                                                                                                                                                                                                                              \n",
              "25276  I thought I have written this restaurant but somehow couldn't find it in my review\\r\\n\\r\\nRecommended by friend that it is good.  Browsing through its menu really found that there are a lot of varieties not found in traditional vegetarian Chinese restaurant.  \\r\\n\\r\\nThe most memorable dish is the A vegetable palm.  It is something different, soft but you can bite it.  Usually you can order fried A vegetable but never did I find the palm to be used.\\r\\n\\r\\nThe presentation of all dishes are nice and clean.\\r\\n\\r\\nAt the end, the waitress introduced us äºå°å±±éè²è±è¶ Wu Tai flower tea that is good for your stomach.  We bought some to try.  This is a good place to have vegetarian dishes.  Whatever you pay minus expenses is used to fund the building of the Wu Tai temple in Pickering that is now under construction.  You can have a meal and at the same time do some fund raising.                                                                                                                                                                                                                                                                                                                                                                                                                                                                                                                                                                                                                                                                                                                                                                                                                                                                                                                                                                                                                                                                                                                                                                                                                                                                                                                                                                                                                                                                                                                                                                                                                                                                                                                                                                                                                                                                                                                                                                                                                                                                                                                                             ...  [I, thought, I, have, written, thi, restaur, but, somehow, could not, find, it, in, my, review, recommend, by, friend, that, it, is, good, brows, through, it, menu, realli, found, that, there, are, a, lot, of, varieti, not, found, in, tradit, vegetarian, chines, restaur, the, most, memor, dish, is, the, A, veget, palm, It, is, someth, differ, soft, but, you, can, bite, it, usual, you, can, order, fri, A, veget, but, never, did, I, find, the, palm, to, be, use, the, present, of, all, dish, are, nice, and, clean, At, the, end, the, waitress, introduc, us, äº, , å, , °, å, ...]                                                                                                                      \n",
              "26397  ä¹\n",
              "ãã¶ãã«å£ã«åããªãï¼\\r\\nã¹ã¢ã¼ã«ãã¼ã·ã§ã³ã®ã³ã¼ã¹ããªã¼ãã¼ãã¾ããã\\r\\nåãï¼\\r\\nã¡ãã¥ã¼ã®ã»ã¨ãã©ã®ç¨®é¡ã®æçãåºã¦ãã¾ãã\\r\\nããã¯ãå¾ã§ãï¼\\r\\nå\n",
              "¨é¨ã§20ç¨®é¡ãè¶\n",
              "ãããï¼\\r\\nãã®å\n",
              "¨ã¦ãå£ã«åããªãã¨è¨ãå¿«æï¼\\r\\nç´ æ´ãããï¼\\r\\né¢ç½ãï¼\\r\\nè©±é¡ã¨ãã¦ã¯æé«ã«ãªãã¨æãï¼                                                                                                                                                                                                                                                                                                                                                                                                                                                                                                                                                                                                                                                                                                                                                                                                                                                                                                                                                                                                                                                                                                                                                                                                                                                                                                                                                                                                                                                                                                                                                                                                                                                                                                                                                                                                                                                                                                                                                                                                                                                                                                                                                                                                                                                                                                                                                                                                                                                                                                                                                                                                                                                         ...  [ä¹, ã, , , ã, , ¶, ã, , , ã, , «, å, , £, ã, , «, å, , , ã, , , ã, , ªã, , , ï¼, , ã, , ¹ã, , ¢, ã, , ¼ã, , «, ã, , , ã, , ¼ã, , ·, ã, , §, ã, , ³ã, , ®, ã, , ³ã, , ¼ã, , ¹ã, , , ã, , ªã, , ¼ã, , , ã, , ¼ã, , , ã, , ¾ã, , , ã, , , ã, , , å, , , ã, , , ï¼, , ã, , ...]                                                                                                                                                                                                                                                                                                                                                                                             \n",
              "28964  åå\n",
              "§ååççè¶é£²åºéå°ç¦»å£«åå ¡ãä½äºmidland and finchçééåå\n",
              "ãç¯å¢èµ°çç¾å°èµé£ï¼è±å¢ãLINE FRIENDSçBROWNå°çå¤§å\n",
              "¬ä»ï¼ç»å¯¹æ¯æç\n",
              "§ç­ç¹ãåºåæ¹é¢ï¼æ°´æè¶çè¶ä½æ·¡äºå°å°ï¼æ°´æåç§æè¥¿çãæ©ãç¾é¦æãå£«å¤å¤æ¢¨ãä»·é±ä¸­ä¸ï¼æ¬§å\n",
              "è¿æ²¡è¯ï¼å ä¸ºå\n",
              "ç±»åºçæ¶é´æ¯å¤©é½ä¸åï¼æä»¥éæ©æç¹åä¸                                                                                                                                                                                                                                                                                                                                                                                                                                                                                                                                                                                                                                                                                                                                                                                                                                                                                                                                                                                                                                                                                                                                                                                                                                                                                                                                                                                                                                                                                                                                                                                                                                                                                                                                                                                                                                                                                                                                                                                                                                                                                                                                                                                                                                                                                                                                                                                                                                                                                                                                                                                                                                                                   ...  [å, , , å, §, å, , , å, , , ç, , , ç, , , è, , ¶, é, £, ²åº, , é, , , å, , °, ç, ¦, », å, £, «, å, , , å, ¡, ã, , , ä½, , äº, , midland, and, finchç, , , é, , , é, , , å, , , å, , ã, , , ç, , ¯, å, ¢, , èµ, °, ç, , , ç¾, , å, °, , èµ, , é, £, , ï¼, , è, , ±, å, ¢, , ã, , , line, ...]                                                                                                                                                                                                                                                                                                                                                                                    \n",
              "34566  Sehr schÃ¶nes Steakhaus mitten auf dem Strip. \\r\\n\\r\\nHier gabs das beste Steak das ich jemals gegessen habe. :-)                                                                                                                                                                                                                                                                                                                                                                                                                                                                                                                                                                                                                                                                                                                                                                                                                                                                                                                                                                                                                                                                                                                                                                                                                                                                                                                                                                                                                                                                                                                                                                                                                                                                                                                                                                                                                                                                                                                                                                                                                                                                                                                                                                                                                                                                                                                                                                                                                                                                                                                                                                                                                                                                                                                                                                                                                                                                                                                                                         ...  [sehr, schã, ¶, ne, steakhau, mitten, auf, dem, strip, hier, gab, da, best, steak, da, ich, jemal, gegessen, habe, :-)]                                                                                                                                                                                                                                                                                                                                                                                                                                                                                                                                                                                                      \n",
              "34862  We came here for dim sum #é»å¿ on a Sat morning after being on vacation in Europe, so we we're definitely craving some good Chinese food. We had a reservation for 12pm but we still waited 45min to get seated because there was already a crowd of people still waiting for a table. I think it just has to be managed better, like have an app that customers can bid for tables or have organized seating times. I saw some people leave in frustration (i.e. banging the sh*t out of the handicap button to open the door); and while it's understandable to react like that when you're hungry, it's certainly not very mature and respectful behavior. Nevertheless, I guess you just have be patient if you want to eat their food..\\r\\n\\r\\nI think what business owners should realize is that if you have a less hectic environment in the front of the house, your customers will probably be more polite to the servers.\\r\\n\\r\\nThe food, I thought was really good, and again if you're patient enough to wait for your table, you get to order their BBQ pork. Tea wasn't that great, I mean it's called #é£²è¶ for a reason, so it gets -1 star, but the food is consistent. We just ordered alot of random things (that guy sold us on so many extra dishes), that by the end, everything gets cold and gummy, and lunch turns into the \"who ordered this on the sheet?!\" game. Nevertheless, it was fun to drink tea and catch up with your friends.\\r\\n\\r\\nAnyways, the moral of this story is: be patient at the door, try and book your lunches during off peak hours (either 30min after opening or 3pm), be kind to your servers/compliment them once in a while, and  you'll have a better experience.. not like all the 1star reviews that you read on this.\\r\\n\\r\\nP.S. try not to drool on your cellphone screen.                                                                                                                                                                                                                                                                                                                                                                                                                                                                                                                                                                                                                                                                                                                                                                                                                                                                                                                                                                                                                                                                                                                                                                                                                            ...  [We, came, here, for, dim, sum, é, », , å, ¿, , on, a, sat, morn, after, be, on, vacat, in, europ, so, we, we ar, definit, crave, some, good, chines, food, We, had, a, reserv, for, pm, but, we, still, wait, min, to, get, seat, becaus, there, wa, alreadi, a, crowd, of, peopl, still, wait, for, a, tabl, I, think, it, just, ha, to, be, manag, better, like, have, an, app, that, custom, can, bid, for, tabl, or, have, organ, seat, time, I, saw, some, peopl, leav, in, frustrat, i, e, bang, the, sh, t, out, of, the, handicap, button, ...]                                                                                                                                                                   \n",
              "35682  FÃ¶rutsatt att du inte har allt fÃ¶r svÃ¥rt fÃ¶r unga kvinnor med vÃ¤ldigt stor byst som serverar dig sÃ¥ kan detta stÃ¤lle absolut rekommenderas. Ok, det Ã¤r inte sÃ¥ illa som pÃ¥ the Hooters i USA men dock. HÃ¤r Ã¶ppnar du med en gin(hendricks)&tonic i baren och bestÃ¤ller sedan in en steak till maten och den Ã¤r helt enkelt jÃ¤vligt bra. StÃ¤llet andas trendigt, hippt och affÃ¤rsfolk mÃ¶ter trendiga designer kids. Till fÃ¶rrÃ¤tt vÃ¤ljer du fÃ¶rslagsvis salladen med jordgubbar, nÃ¶tter och annat.                                                                                                                                                                                                                                                                                                                                                                                                                                                                                                                                                                                                                                                                                                                                                                                                                                                                                                                                                                                                                                                                                                                                                                                                                                                                                                                                                                                                                                                                                                                                                                                                                                                                                                                                                                                                                                                                                                                                                                                                                                                                                                                                                                                                                                                                                                                                                                                                                                                                                                                                                   ...  [FÃ, ¶, rutsatt, att, du, int, har, allt, fÃ, ¶, r, svã, ¥, rt, fÃ, ¶, r, unga, kvinnor, med, vÃ, ¤, ldigt, stor, byst, som, serverar, dig, sÃ, ¥, kan, detta, stã, ¤, lle, absolut, rekommendera, Ok, det, Ã, ¤, r, int, sÃ, ¥, illa, som, pÃ, ¥, the, hooter, i, usa, men, dock, HÃ, ¤, r, Ã, ¶, ppnar, du, med, en, gin, hendrick, tonic, i, baren, och, bestã, ¤, ller, sedan, in, en, steak, till, maten, och, den, Ã, ¤, r, helt, enkelt, jÃ, ¤, vligt, bra, stã, ¤, llet, anda, trendigt, hippt, och, affã, ¤, rsfolk, ...]                                                                                                                                                                                           \n",
              "35716  Valu-Martç³»PCéå¢æä¸çè¶\n",
              "å¸ä¹ä¸ï¼ä¸ªäººè§å¾å¥½ä¼¼ä»ä¹äºloblawsåno frillsä¹é´çï¼ååºç¸å¯¹ç¦»è®²åç®å¤ãå¢é´ä½äºbayviewå¤¹cummerçä¸åè§ãç¯å¢æ´æ´ï¼äººä¹åå¤ï¼åç§oké½å\n",
              "¨ï¼ä½åäººé£åç±»å°±åå¤ªå¤ãå¦ææ¯PC Clubä¼åçè¯ç¦»ä¹°èè´­ç©å°±å¯ä»¥åºç¤ºä¼åå¡å¨ç§¯å                                                                                                                                                                                                                                                                                                                                                                                                                                                                                                                                                                                                                                                                                                                                                                                                                                                                                                                                                                                                                                                                                                                                                                                                                                                                                                                                                                                                                                                                                                                                                                                                                                                                                                                                                                                                                                                                                                                                                                                                                                                                                                                                                                                                                                                                                                                                                                                                                                                                                                                                                                                                                                                                                                                               ...  [valu-martç³, », pcé, , , å, , ¢, æ, , , ä, ¸, , ç, , , è, ¶, å, ¸, , ä¹, , ä, ¸, , ï¼, , ä, ¸, ªäººè, §, , å¾, , å, ¥, ½ä¼¼ä, », , ä¹, , äº, , loblawså, , , no, frillsä¹, , é, , ´, ç, , , ï¼, , å, , , åº, , ç, , ¸, å, ¯, ¹ç, ¦, », è, ®, ²å, , , ç, ®, , å, ¤, , ã, , , å, , ¢, é, , ´, ä½, , äº, , bayviewå, ¤, ¹cummerç, , ...]                                                                                                                                                                                                                                                                                                                                                \n",
              "35906  å¨ææ6çdinnerï¼ä¸è¥¿å¾å¤ï¼éå¸¸çå¤éæ©ï¼è¿æç¾èï¼å¤ªå«äººæå¤äºï¼èä¸è·¨äºå¾å¤çèç³»ï¼\\r\\n\\r\\nè¿éçè¹è\n",
              "¿æ¯æå¨lvåè¿ä¸­æå¥½çï¼è¥èçèï¼è¶\n",
              "çº§æ æå¥½åï¼No.1ï¼å¤æ±ï¼å¾Qãpai thaiï¼ä¹å¾æå³éï¼\\r\\n\\r\\nsushi é£tnndå®å\n",
              "¨æ¯ä¸ä¸ªæ¸£ï¼ççé£çå­ï¼ä¸ä¸ä¸¤ç§é¢è²ï¼å¾ä¸å¹²åï¼èèµ·é£æ ·çæçéå¸¸å¼ºçä¸ä¸ä¸ï¼å¸å\n",
              "ä»¬å\n",
              "sushiçææ¯ä¹æ¯éå¸¸çä¸çæ³ï¼é£é±¼åä»ä¹çï¼ç²ç²çï¼å£æä¸Qåï¼æ3ç§é±¼å­é\n",
              "±ï¼å¯æ¯é£ä¸ªå¥³çæåº¦æç¹é®é¢ï¼å¥½åéå¸¸çä¸æ\n",
              "æ¿ï¼æ¿äºä¸æ¬¡å°±æ²¡æå»äºã\\r\\n\\r\\næ°´ææ¯å«æéå¸¸çæ°çï¼æä»¥æç»äº2æãå¸å\n",
              "å¨è¡¥è´§çæ¶åæ²¡æå»æ¢çï¼é£çå­ççå°±æ¶å¿ï¼\\r\\n\\r\\næ¾å¤¹å­çé£ä¸ªçå­ççéå¸¸ç ä¸èæ                                                                                                                                                                                                                                                                                                                                                                                                                                                                                                                                                                                                                                                                                                                                                                                                                                                                                                                                                                                                                                                                                                                                                                                                                                                                                                                                                                                                                                                                                                                                                                                                                                                                                                                                                                                                                                                                                                                                                                                                                                                                                                                                                                                                                            ...  [å, , ¨, æ, , , æ, , , ç, , , dinnerï¼, , ä, ¸, , è, ¥, ¿, å¾, , å, ¤, , ï¼, , é, , , å, ¸, ¸, ç, , , å, ¤, , é, , , æ, , ©, ï¼, , è, ¿, , æ, , , ç¾, , è, , , ï¼, , å, ¤, ªå, , «, äººæ, , , å, ¤, , äº, , ï¼, , è, , , ä, ¸, , è, ·, ¨, äº, , å¾, , å, ¤, , ç, , , è, , , ç³, », ï¼, ...]                                                                                                                                                                                                                                                                                                                                                                                      \n",
              "39799  MÃ¤dels das ist eine geile Show, sexy MÃ¤nner mit einem unwiderstehlich gut gebautem KÃ¶rper, die sich saugeil bewegen kÃ¶nnen und sich im String auf Tischen, StÃ¼hlen und Frauen rÃ¤ckeln. \\r\\n\\r\\n\\r\\n Die Stimmung ist super, die MÃ¤nner lÃ¤cheln zum dahinschmelzen und man kann und will sich gar nicht fÃ¼r einen entscheiden .... Milchmann, Bauarbeiter, Banker??? Egal!\\r\\n\\r\\n\\r\\n Preis - Leistung sind absolut ok. Die AtmosphÃ¤re stimmt, kleiner dunkler Raum mit bequemen Tischen und Nischen. Die Tische direkt vor der BÃ¼hne werden von den MÃ¤nnern auch als BÃ¼hne benutzt, wo auch mal anfassen statt nur gucken erwÃ¼nscht ist. Ein Mordsgaudi!!!!\\r\\n\\r\\n\\r\\n Ein super geiler MÃ¤delsabend mit nettem Erinnerungsfoto (20 USD)                                                                                                                                                                                                                                                                                                                                                                                                                                                                                                                                                                                                                                                                                                                                                                                                                                                                                                                                                                                                                                                                                                                                                                                                                                                                                                                                                                                                                                                                                                                                                                                                                                                                                                                                                                                                                                                                                                                                                                                                                                                                                                                                                                                                                                                                                                                  ...  [MÃ, ¤, del, da, ist, ein, geil, show, sexi, MÃ, ¤, nner, mit, einem, unwiderstehlich, gut, gebautem, KÃ, ¶, rper, die, sich, saugeil, bewegen, kÃ, ¶, nnen, und, sich, im, string, auf, tischen, stã¼hlen, und, frauen, rÃ, ¤, ckeln, die, stimmung, ist, super, die, MÃ, ¤, nner, lÃ, ¤, cheln, zum, dahinschmelzen, und, man, kann, und, will, sich, gar, nicht, fã¼r, einen, entscheiden, ..., milchmann, bauarbeit, banker, egal, prei, leistung, sind, absolut, ok, die, atmosphã, ¤, re, stimmt, kleiner, dunkler, raum, mit, bequemen, tischen, und, nischen, die, tisch, direkt, vor, der, bã¼hne, werden, von, den, MÃ, ¤, nnern, auch, al, ...]                                                                   \n",
              "46210  Netter Sportartikelladen mit einer recht groÃen Auswahl an Kleidung und AusrÃ¼stung. Leider ist alles etwas teurer als in vergleichbaren anderen GeachÃ¤ften. Zum Schauen ganz schÃ¶n, zum Kaufen nicht die erste Wahl.                                                                                                                                                                                                                                                                                                                                                                                                                                                                                                                                                                                                                                                                                                                                                                                                                                                                                                                                                                                                                                                                                                                                                                                                                                                                                                                                                                                                                                                                                                                                                                                                                                                                                                                                                                                                                                                                                                                                                                                                                                                                                                                                                                                                                                                                                                                                                                                                                                                                                                                                                                                                                                                                                                                                                                                                                                                  ...  [netter, sportartikelladen, mit, einer, recht, groã, , en, auswahl, an, kleidung, und, ausrã¼stung, leider, ist, all, etwa, teurer, al, in, vergleichbaren, anderen, geachã, ¤, ften, zum, schauen, ganz, schã, ¶, n, zum, kaufen, nicht, die, erst, wahl]                                                                                                                                                                                                                                                                                                                                                                                                                                                                  \n",
              "46639  I had the Tiroler GrÃ¶stl, a sampler of diced meats with German style potatoes. It was a tad salty for my usual taste, but overall very well prepared and seasoned. Service was very slow, and I had to wait much longer than usual for drink refills and general table service.  \\r\\n\\r\\nOverall assessment: Good food, dated decor, and waitresses leave much to be desired when it comes to attentiveness.  I would go back and back and try something new, in hopes that the lacking service was due to an off night and not normal operations.                                                                                                                                                                                                                                                                                                                                                                                                                                                                                                                                                                                                                                                                                                                                                                                                                                                                                                                                                                                                                                                                                                                                                                                                                                                                                                                                                                                                                                                                                                                                                                                                                                                                                                                                                                                                                                                                                                                                                                                                                                                                                                                                                                                                                                                                                                                                                                                                                                                                                                                       ...  [I, had, the, tirol, grã, ¶, stl, a, sampler, of, dice, meat, with, german, style, potato, It, wa, a, tad, salti, for, my, usual, tast, but, overal, veri, well, prepar, and, season, servic, wa, veri, slow, and, I, had, to, wait, much, longer, than, usual, for, drink, refil, and, gener, tabl, servic, overal, assess, good, food, date, decor, and, waitress, leav, much, to, be, desir, when, it, come, to, attent, I, would, go, back, and, back, and, tri, someth, new, in, hope, that, the, lack, servic, wa, due, to, an, off, night, and, not, normal, oper]                                                                                                                                                    \n",
              "\n",
              "[21 rows x 3 columns]"
            ]
          },
          "metadata": {
            "tags": []
          },
          "execution_count": 28
        }
      ]
    },
    {
      "cell_type": "markdown",
      "metadata": {
        "id": "Pl8JSOiY3hnr",
        "colab_type": "text"
      },
      "source": [
        "It appears that some examples have special characters, which may be due to character encoding issues for languages other than English. Speaking of which, we have found examples where the language is not English (for example, the text beginning with \"Wir haben im Mai\" is written in German). Using an English lemmatizer is not worth the effort, since it would not correctly identify the part-of-speech of each non-English word, and it would be more computationally expensive than using an English stemmer.\n",
        "\n",
        "We will leave these examples intact, since the unlabeled dataset and test set may also contain special characters."
      ]
    },
    {
      "cell_type": "code",
      "metadata": {
        "id": "DFOwx3go8Pgy",
        "colab_type": "code",
        "outputId": "dec29126-6567-40e7-afdb-68eae06bb1d8",
        "colab": {
          "base_uri": "https://localhost:8080/",
          "height": 54
        }
      },
      "source": [
        "print(unlabeled_data[unlabeled_data[\"text\"].str.contains('¶')].shape)\n",
        "print(test_data[unlabeled_data[\"text\"].str.contains('¶')].shape)"
      ],
      "execution_count": 0,
      "outputs": [
        {
          "output_type": "stream",
          "text": [
            "(243, 1)\n",
            "(22, 2)\n"
          ],
          "name": "stdout"
        }
      ]
    },
    {
      "cell_type": "markdown",
      "metadata": {
        "id": "vbwm3Vgw_A3I",
        "colab_type": "text"
      },
      "source": [
        "### Most frequent words for all the articles\n",
        "We examine top 50 words in the labeled corpus."
      ]
    },
    {
      "cell_type": "code",
      "metadata": {
        "id": "tEQDZ3FfN8H6",
        "colab_type": "code",
        "colab": {}
      },
      "source": [
        "def most_frequent_words(clean_text_list, top_n):\n",
        "    \"\"\"Determines the most top_n words, and produces the\n",
        "    results as a dataframe.\n",
        "    \"\"\"\n",
        "    flat = [item for sublist in clean_text_list for item in sublist]\n",
        "    with_counts = Counter(flat)\n",
        "    top = with_counts.most_common(top_n)\n",
        "    word = [each[0] for each in top]\n",
        "    num = [each[1] for each in top]\n",
        "    df = pd.DataFrame([word, num]).T\n",
        "    df.columns = [\"word\", \"frequency\"]\n",
        "    return df"
      ],
      "execution_count": 0,
      "outputs": []
    },
    {
      "cell_type": "code",
      "metadata": {
        "id": "TDzd5nJg4s2f",
        "colab_type": "code",
        "outputId": "ae9eab95-8db7-4d3a-c56d-c56b91957e13",
        "colab": {
          "base_uri": "https://localhost:8080/",
          "height": 1000
        }
      },
      "source": [
        "cl_text_list = labeled_data['clean_text'].tolist()\n",
        "most_frequent_words(cl_text_list, 50)"
      ],
      "execution_count": 0,
      "outputs": [
        {
          "output_type": "execute_result",
          "data": {
            "text/html": [
              "<div>\n",
              "<style scoped>\n",
              "    .dataframe tbody tr th:only-of-type {\n",
              "        vertical-align: middle;\n",
              "    }\n",
              "\n",
              "    .dataframe tbody tr th {\n",
              "        vertical-align: top;\n",
              "    }\n",
              "\n",
              "    .dataframe thead th {\n",
              "        text-align: right;\n",
              "    }\n",
              "</style>\n",
              "<table border=\"1\" class=\"dataframe\">\n",
              "  <thead>\n",
              "    <tr style=\"text-align: right;\">\n",
              "      <th></th>\n",
              "      <th>word</th>\n",
              "      <th>frequency</th>\n",
              "    </tr>\n",
              "  </thead>\n",
              "  <tbody>\n",
              "    <tr>\n",
              "      <th>0</th>\n",
              "      <td>the</td>\n",
              "      <td>306739</td>\n",
              "    </tr>\n",
              "    <tr>\n",
              "      <th>1</th>\n",
              "      <td>and</td>\n",
              "      <td>199805</td>\n",
              "    </tr>\n",
              "    <tr>\n",
              "      <th>2</th>\n",
              "      <td>I</td>\n",
              "      <td>163973</td>\n",
              "    </tr>\n",
              "    <tr>\n",
              "      <th>3</th>\n",
              "      <td>to</td>\n",
              "      <td>153650</td>\n",
              "    </tr>\n",
              "    <tr>\n",
              "      <th>4</th>\n",
              "      <td>a</td>\n",
              "      <td>149140</td>\n",
              "    </tr>\n",
              "    <tr>\n",
              "      <th>5</th>\n",
              "      <td>wa</td>\n",
              "      <td>114770</td>\n",
              "    </tr>\n",
              "    <tr>\n",
              "      <th>6</th>\n",
              "      <td>of</td>\n",
              "      <td>86354</td>\n",
              "    </tr>\n",
              "    <tr>\n",
              "      <th>7</th>\n",
              "      <td>for</td>\n",
              "      <td>73933</td>\n",
              "    </tr>\n",
              "    <tr>\n",
              "      <th>8</th>\n",
              "      <td>it</td>\n",
              "      <td>70868</td>\n",
              "    </tr>\n",
              "    <tr>\n",
              "      <th>9</th>\n",
              "      <td>is</td>\n",
              "      <td>66918</td>\n",
              "    </tr>\n",
              "    <tr>\n",
              "      <th>10</th>\n",
              "      <td>in</td>\n",
              "      <td>64701</td>\n",
              "    </tr>\n",
              "    <tr>\n",
              "      <th>11</th>\n",
              "      <td>that</td>\n",
              "      <td>55280</td>\n",
              "    </tr>\n",
              "    <tr>\n",
              "      <th>12</th>\n",
              "      <td>they</td>\n",
              "      <td>51060</td>\n",
              "    </tr>\n",
              "    <tr>\n",
              "      <th>13</th>\n",
              "      <td>but</td>\n",
              "      <td>49928</td>\n",
              "    </tr>\n",
              "    <tr>\n",
              "      <th>14</th>\n",
              "      <td>thi</td>\n",
              "      <td>49152</td>\n",
              "    </tr>\n",
              "    <tr>\n",
              "      <th>15</th>\n",
              "      <td>with</td>\n",
              "      <td>48113</td>\n",
              "    </tr>\n",
              "    <tr>\n",
              "      <th>16</th>\n",
              "      <td>my</td>\n",
              "      <td>48058</td>\n",
              "    </tr>\n",
              "    <tr>\n",
              "      <th>17</th>\n",
              "      <td>not</td>\n",
              "      <td>43682</td>\n",
              "    </tr>\n",
              "    <tr>\n",
              "      <th>18</th>\n",
              "      <td>on</td>\n",
              "      <td>41484</td>\n",
              "    </tr>\n",
              "    <tr>\n",
              "      <th>19</th>\n",
              "      <td>you</td>\n",
              "      <td>41161</td>\n",
              "    </tr>\n",
              "    <tr>\n",
              "      <th>20</th>\n",
              "      <td>have</td>\n",
              "      <td>40449</td>\n",
              "    </tr>\n",
              "    <tr>\n",
              "      <th>21</th>\n",
              "      <td>had</td>\n",
              "      <td>36070</td>\n",
              "    </tr>\n",
              "    <tr>\n",
              "      <th>22</th>\n",
              "      <td>were</td>\n",
              "      <td>33786</td>\n",
              "    </tr>\n",
              "    <tr>\n",
              "      <th>23</th>\n",
              "      <td>we</td>\n",
              "      <td>32164</td>\n",
              "    </tr>\n",
              "    <tr>\n",
              "      <th>24</th>\n",
              "      <td>be</td>\n",
              "      <td>32134</td>\n",
              "    </tr>\n",
              "    <tr>\n",
              "      <th>25</th>\n",
              "      <td>at</td>\n",
              "      <td>30840</td>\n",
              "    </tr>\n",
              "    <tr>\n",
              "      <th>26</th>\n",
              "      <td>food</td>\n",
              "      <td>29465</td>\n",
              "    </tr>\n",
              "    <tr>\n",
              "      <th>27</th>\n",
              "      <td>place</td>\n",
              "      <td>28176</td>\n",
              "    </tr>\n",
              "    <tr>\n",
              "      <th>28</th>\n",
              "      <td>are</td>\n",
              "      <td>27628</td>\n",
              "    </tr>\n",
              "    <tr>\n",
              "      <th>29</th>\n",
              "      <td>good</td>\n",
              "      <td>27238</td>\n",
              "    </tr>\n",
              "    <tr>\n",
              "      <th>30</th>\n",
              "      <td>so</td>\n",
              "      <td>26286</td>\n",
              "    </tr>\n",
              "    <tr>\n",
              "      <th>31</th>\n",
              "      <td>me</td>\n",
              "      <td>25913</td>\n",
              "    </tr>\n",
              "    <tr>\n",
              "      <th>32</th>\n",
              "      <td>there</td>\n",
              "      <td>24308</td>\n",
              "    </tr>\n",
              "    <tr>\n",
              "      <th>33</th>\n",
              "      <td>time</td>\n",
              "      <td>24112</td>\n",
              "    </tr>\n",
              "    <tr>\n",
              "      <th>34</th>\n",
              "      <td>like</td>\n",
              "      <td>23140</td>\n",
              "    </tr>\n",
              "    <tr>\n",
              "      <th>35</th>\n",
              "      <td>get</td>\n",
              "      <td>23009</td>\n",
              "    </tr>\n",
              "    <tr>\n",
              "      <th>36</th>\n",
              "      <td>as</td>\n",
              "      <td>22532</td>\n",
              "    </tr>\n",
              "    <tr>\n",
              "      <th>37</th>\n",
              "      <td>order</td>\n",
              "      <td>21958</td>\n",
              "    </tr>\n",
              "    <tr>\n",
              "      <th>38</th>\n",
              "      <td>veri</td>\n",
              "      <td>21732</td>\n",
              "    </tr>\n",
              "    <tr>\n",
              "      <th>39</th>\n",
              "      <td>out</td>\n",
              "      <td>21646</td>\n",
              "    </tr>\n",
              "    <tr>\n",
              "      <th>40</th>\n",
              "      <td>just</td>\n",
              "      <td>20987</td>\n",
              "    </tr>\n",
              "    <tr>\n",
              "      <th>41</th>\n",
              "      <td>all</td>\n",
              "      <td>20872</td>\n",
              "    </tr>\n",
              "    <tr>\n",
              "      <th>42</th>\n",
              "      <td>go</td>\n",
              "      <td>20849</td>\n",
              "    </tr>\n",
              "    <tr>\n",
              "      <th>43</th>\n",
              "      <td>servic</td>\n",
              "      <td>20428</td>\n",
              "    </tr>\n",
              "    <tr>\n",
              "      <th>44</th>\n",
              "      <td>our</td>\n",
              "      <td>20016</td>\n",
              "    </tr>\n",
              "    <tr>\n",
              "      <th>45</th>\n",
              "      <td>here</td>\n",
              "      <td>19515</td>\n",
              "    </tr>\n",
              "    <tr>\n",
              "      <th>46</th>\n",
              "      <td>one</td>\n",
              "      <td>19367</td>\n",
              "    </tr>\n",
              "    <tr>\n",
              "      <th>47</th>\n",
              "      <td>would</td>\n",
              "      <td>18573</td>\n",
              "    </tr>\n",
              "    <tr>\n",
              "      <th>48</th>\n",
              "      <td>...</td>\n",
              "      <td>18567</td>\n",
              "    </tr>\n",
              "    <tr>\n",
              "      <th>49</th>\n",
              "      <td>when</td>\n",
              "      <td>18518</td>\n",
              "    </tr>\n",
              "  </tbody>\n",
              "</table>\n",
              "</div>"
            ],
            "text/plain": [
              "      word frequency\n",
              "0   the     306739  \n",
              "1   and     199805  \n",
              "2   I       163973  \n",
              "3   to      153650  \n",
              "4   a       149140  \n",
              "5   wa      114770  \n",
              "6   of      86354   \n",
              "7   for     73933   \n",
              "8   it      70868   \n",
              "9   is      66918   \n",
              "10  in      64701   \n",
              "11  that    55280   \n",
              "12  they    51060   \n",
              "13  but     49928   \n",
              "14  thi     49152   \n",
              "15  with    48113   \n",
              "16  my      48058   \n",
              "17  not     43682   \n",
              "18  on      41484   \n",
              "19  you     41161   \n",
              "20  have    40449   \n",
              "21  had     36070   \n",
              "22  were    33786   \n",
              "23  we      32164   \n",
              "24  be      32134   \n",
              "25  at      30840   \n",
              "26  food    29465   \n",
              "27  place   28176   \n",
              "28  are     27628   \n",
              "29  good    27238   \n",
              "30  so      26286   \n",
              "31  me      25913   \n",
              "32  there   24308   \n",
              "33  time    24112   \n",
              "34  like    23140   \n",
              "35  get     23009   \n",
              "36  as      22532   \n",
              "37  order   21958   \n",
              "38  veri    21732   \n",
              "39  out     21646   \n",
              "40  just    20987   \n",
              "41  all     20872   \n",
              "42  go      20849   \n",
              "43  servic  20428   \n",
              "44  our     20016   \n",
              "45  here    19515   \n",
              "46  one     19367   \n",
              "47  would   18573   \n",
              "48  ...     18567   \n",
              "49  when    18518   "
            ]
          },
          "metadata": {
            "tags": []
          },
          "execution_count": 31
        }
      ]
    },
    {
      "cell_type": "markdown",
      "metadata": {
        "id": "j6RfELgp_KKj",
        "colab_type": "text"
      },
      "source": [
        "Since we have not removed most frequent words from the corpus, we can see function words appearing at the top of the list (with \"the\" being the most common word).\n",
        "\n",
        "We also see sentiment words \"good\" and \"like\", which are highly frequent words that **should not** be removed from the corpus."
      ]
    },
    {
      "cell_type": "markdown",
      "metadata": {
        "id": "Xb5adjuF-mLX",
        "colab_type": "text"
      },
      "source": [
        "### Average word count by category\n",
        "We look at the average word count for the labeled dataset, grouped by label assigned to each text example.\n"
      ]
    },
    {
      "cell_type": "code",
      "metadata": {
        "id": "WqgrlZ3GOgPA",
        "colab_type": "code",
        "colab": {}
      },
      "source": [
        "def word_count(text):\n",
        "    return len(str(text).split(' '))"
      ],
      "execution_count": 0,
      "outputs": []
    },
    {
      "cell_type": "code",
      "metadata": {
        "id": "T72txeoS4tM_",
        "colab_type": "code",
        "outputId": "02b4e68d-f346-4389-d1c6-380022ae3b28",
        "colab": {
          "base_uri": "https://localhost:8080/",
          "height": 206
        }
      },
      "source": [
        "labeled_data['word_count'] = labeled_data['text'].apply(word_count)\n",
        "avg_wc = labeled_data.groupby('label').mean().reset_index()\n",
        "avg_wc[['label','word_count']]"
      ],
      "execution_count": 0,
      "outputs": [
        {
          "output_type": "execute_result",
          "data": {
            "text/html": [
              "<div>\n",
              "<style scoped>\n",
              "    .dataframe tbody tr th:only-of-type {\n",
              "        vertical-align: middle;\n",
              "    }\n",
              "\n",
              "    .dataframe tbody tr th {\n",
              "        vertical-align: top;\n",
              "    }\n",
              "\n",
              "    .dataframe thead th {\n",
              "        text-align: right;\n",
              "    }\n",
              "</style>\n",
              "<table border=\"1\" class=\"dataframe\">\n",
              "  <thead>\n",
              "    <tr style=\"text-align: right;\">\n",
              "      <th></th>\n",
              "      <th>label</th>\n",
              "      <th>word_count</th>\n",
              "    </tr>\n",
              "  </thead>\n",
              "  <tbody>\n",
              "    <tr>\n",
              "      <th>0</th>\n",
              "      <td>1</td>\n",
              "      <td>143.1546</td>\n",
              "    </tr>\n",
              "    <tr>\n",
              "      <th>1</th>\n",
              "      <td>2</td>\n",
              "      <td>142.3546</td>\n",
              "    </tr>\n",
              "    <tr>\n",
              "      <th>2</th>\n",
              "      <td>3</td>\n",
              "      <td>130.6147</td>\n",
              "    </tr>\n",
              "    <tr>\n",
              "      <th>3</th>\n",
              "      <td>4</td>\n",
              "      <td>114.4627</td>\n",
              "    </tr>\n",
              "    <tr>\n",
              "      <th>4</th>\n",
              "      <td>5</td>\n",
              "      <td>87.5482</td>\n",
              "    </tr>\n",
              "  </tbody>\n",
              "</table>\n",
              "</div>"
            ],
            "text/plain": [
              "   label  word_count\n",
              "0  1     143.1546   \n",
              "1  2     142.3546   \n",
              "2  3     130.6147   \n",
              "3  4     114.4627   \n",
              "4  5     87.5482    "
            ]
          },
          "metadata": {
            "tags": []
          },
          "execution_count": 33
        }
      ]
    },
    {
      "cell_type": "markdown",
      "metadata": {
        "id": "OR0QPjvF-sAo",
        "colab_type": "text"
      },
      "source": [
        "From above we can see that negative reviews have longer word count than positive reviews as people tend to write more about their negative experience compared to positive experience."
      ]
    },
    {
      "cell_type": "markdown",
      "metadata": {
        "id": "v34iE8I_971Z",
        "colab_type": "text"
      },
      "source": [
        "### Distribution of word count by class\n"
      ]
    },
    {
      "cell_type": "code",
      "metadata": {
        "id": "cFFMTj02PljY",
        "colab_type": "code",
        "colab": {}
      },
      "source": [
        "# splitting dataframe as per category\n",
        "label_1 = labeled_data[labeled_data['label'] == 1]\n",
        "label_2 = labeled_data[labeled_data['label'] == 2]\n",
        "label_3 = labeled_data[labeled_data['label'] == 3]\n",
        "label_4 = labeled_data[labeled_data['label'] == 4]\n",
        "label_5 = labeled_data[labeled_data['label'] == 5]"
      ],
      "execution_count": 0,
      "outputs": []
    },
    {
      "cell_type": "code",
      "metadata": {
        "colab_type": "code",
        "outputId": "71e85f64-403c-4d0e-fc79-2ddc5cfa1078",
        "id": "rkAWxNN995l9",
        "colab": {
          "base_uri": "https://localhost:8080/",
          "height": 536
        }
      },
      "source": [
        "label_1.head()"
      ],
      "execution_count": 0,
      "outputs": [
        {
          "output_type": "execute_result",
          "data": {
            "text/html": [
              "<div>\n",
              "<style scoped>\n",
              "    .dataframe tbody tr th:only-of-type {\n",
              "        vertical-align: middle;\n",
              "    }\n",
              "\n",
              "    .dataframe tbody tr th {\n",
              "        vertical-align: top;\n",
              "    }\n",
              "\n",
              "    .dataframe thead th {\n",
              "        text-align: right;\n",
              "    }\n",
              "</style>\n",
              "<table border=\"1\" class=\"dataframe\">\n",
              "  <thead>\n",
              "    <tr style=\"text-align: right;\">\n",
              "      <th></th>\n",
              "      <th>text</th>\n",
              "      <th>label</th>\n",
              "      <th>clean_text</th>\n",
              "      <th>word_count</th>\n",
              "    </tr>\n",
              "  </thead>\n",
              "  <tbody>\n",
              "    <tr>\n",
              "      <th>4</th>\n",
              "      <td>Worse company to deal with they do horrible work had to bring my truck back on a door replacement the door paint didn't match and trim molding wasn't straight the bolt to keep the door on wasn't even tight. My speaker in the door wasn't hooked back up. I don't recommend anyone to bring the vehicle here. A gentleman by the name of Jesus that works there every time you call for an update because they say they will call you and never do he makes you feel like your bothering him and then he says he will call you back with an update and never do. If you need work on your vehicle I would double think it before you bring it here.</td>\n",
              "      <td>1</td>\n",
              "      <td>[wors, compani, to, deal, with, they, do, horribl, work, had, to, bring, my, truck, back, on, a, door, replac, the, door, paint, did not, match, and, trim, mold, was not, straight, the, bolt, to, keep, the, door, on, was not, even, tight, My, speaker, in, the, door, was not, hook, back, up, I, do not, recommend, anyon, to, bring, the, vehicl, here, A, gentleman, by, the, name, of, jesu, that, work, there, everi, time, you, call, for, an, updat, becaus, they, say, they, will, call, you, and, never, do, he, make, you, feel, like, your, bother, him, and, then, he, say, he, will, call, you, ...]</td>\n",
              "      <td>124</td>\n",
              "    </tr>\n",
              "    <tr>\n",
              "      <th>7</th>\n",
              "      <td>Due to misunderstanding between my insurance company and CRS Temporary Housing, they send me a collection letter with falsified attachments. It was a contract not even related to my claim. Very unprofessional. Very sneaky. Very illegal.</td>\n",
              "      <td>1</td>\n",
              "      <td>[due, to, misunderstand, between, my, insur, compani, and, cr, temporari, hous, they, send, me, a, collect, letter, with, falsifi, attach, It, wa, a, contract, not, even, relat, to, my, claim, veri, unprofession, veri, sneaki, veri, illeg]</td>\n",
              "      <td>36</td>\n",
              "    </tr>\n",
              "    <tr>\n",
              "      <th>13</th>\n",
              "      <td>I was so hoping things would improve for me with this overpriced foodstore. Unfortunately, certain staff members apparantly thinks their poop don't stink. Like the hippie idiotic woman who served me pizza tonite. I had asked her for some cheese pizza from the opposite end facing her. Sighing, she turned it around and cut a slice and then cut it in two. She then asked if I wanted the \"whole strip\". Well, there were now two pieces, weren't there?  So it confused me. So I bend down to see what she was doing, and just said \"um,\" and that was all it took for her to stay loudy and rudely \"I CAN'T HEAR YOU!\".  Really sweetheart? I think I meant to say F O.  Hear that? Before boxing up my slices, she made sure to hastily scoop then up and bang them into the sides of the display, touching everything.  Classy, Miss Hippie. Did they teach you how to serve food at the dirt farm that was obviously your last place of employment?\\r\\n\\r\\nResidents of Las Vegas: if you too would like to experience overpriced food in a terribly designed strip mall with a dangerous and near impossible exit onto Rampart, coupled with service you expect to find in a junk store....all wrapped up in one...make sure you visit this location of Crap Foods.  Maybe next time I shouldn't wear my \"culture warrior\" shirt, lol. Hippies.</td>\n",
              "      <td>1</td>\n",
              "      <td>[I, wa, so, hope, thing, would, improv, for, me, with, thi, overpr, foodstor, unfortun, certain, staff, member, apparantli, think, their, poop, do not, stink, like, the, hippi, idiot, woman, who, serv, me, pizza, tonit, I, had, ask, her, for, some, chees, pizza, from, the, opposit, end, face, her, sigh, she, turn, it, around, and, cut, a, slice, and, then, cut, it, in, two, she, then, ask, if, I, want, the, whole, strip, well, there, were, now, two, piec, were not, there, So, it, confus, me, So, I, bend, down, to, see, what, she, wa, do, and, just, said, um, and, that, wa, ...]</td>\n",
              "      <td>240</td>\n",
              "    </tr>\n",
              "    <tr>\n",
              "      <th>16</th>\n",
              "      <td>That moment when you're 38 days behind and they repo your SUV after 10 pm Sunday and before 5 am Monday no warning. You've just gotta laugh at a company. I'm good I'll take the bus before I have to deal with this company again!</td>\n",
              "      <td>1</td>\n",
              "      <td>[that, moment, when, you ar, day, behind, and, they, repo, your, suv, after, pm, sunday, and, befor, am, monday, no, warn, you'v, just, gotta, laugh, at, a, compani, i'm, good, i'll, take, the, bu, befor, I, have, to, deal, with, thi, compani, again]</td>\n",
              "      <td>45</td>\n",
              "    </tr>\n",
              "    <tr>\n",
              "      <th>24</th>\n",
              "      <td>Portions are small, sides are flavorless, and the BBQ itself is very average.</td>\n",
              "      <td>1</td>\n",
              "      <td>[portion, are, small, side, are, flavorless, and, the, bbq, itself, is, veri, averag]</td>\n",
              "      <td>13</td>\n",
              "    </tr>\n",
              "  </tbody>\n",
              "</table>\n",
              "</div>"
            ],
            "text/plain": [
              "                                                                                                                                                                                                                                                                                                                                                                                                                                                                                                                                                                                                                                                                                                                                                                                                                                                                                                                                                                                                                                                                                                                                                                                                                                                                                                                                                             text  ...  word_count\n",
              "4   Worse company to deal with they do horrible work had to bring my truck back on a door replacement the door paint didn't match and trim molding wasn't straight the bolt to keep the door on wasn't even tight. My speaker in the door wasn't hooked back up. I don't recommend anyone to bring the vehicle here. A gentleman by the name of Jesus that works there every time you call for an update because they say they will call you and never do he makes you feel like your bothering him and then he says he will call you back with an update and never do. If you need work on your vehicle I would double think it before you bring it here.                                                                                                                                                                                                                                                                                                                                                                                                                                                                                                                                                                                                                                                                                                         ...  124       \n",
              "7   Due to misunderstanding between my insurance company and CRS Temporary Housing, they send me a collection letter with falsified attachments. It was a contract not even related to my claim. Very unprofessional. Very sneaky. Very illegal.                                                                                                                                                                                                                                                                                                                                                                                                                                                                                                                                                                                                                                                                                                                                                                                                                                                                                                                                                                                                                                                                                                                   ...  36        \n",
              "13  I was so hoping things would improve for me with this overpriced foodstore. Unfortunately, certain staff members apparantly thinks their poop don't stink. Like the hippie idiotic woman who served me pizza tonite. I had asked her for some cheese pizza from the opposite end facing her. Sighing, she turned it around and cut a slice and then cut it in two. She then asked if I wanted the \"whole strip\". Well, there were now two pieces, weren't there?  So it confused me. So I bend down to see what she was doing, and just said \"um,\" and that was all it took for her to stay loudy and rudely \"I CAN'T HEAR YOU!\".  Really sweetheart? I think I meant to say F O.  Hear that? Before boxing up my slices, she made sure to hastily scoop then up and bang them into the sides of the display, touching everything.  Classy, Miss Hippie. Did they teach you how to serve food at the dirt farm that was obviously your last place of employment?\\r\\n\\r\\nResidents of Las Vegas: if you too would like to experience overpriced food in a terribly designed strip mall with a dangerous and near impossible exit onto Rampart, coupled with service you expect to find in a junk store....all wrapped up in one...make sure you visit this location of Crap Foods.  Maybe next time I shouldn't wear my \"culture warrior\" shirt, lol. Hippies.  ...  240       \n",
              "16  That moment when you're 38 days behind and they repo your SUV after 10 pm Sunday and before 5 am Monday no warning. You've just gotta laugh at a company. I'm good I'll take the bus before I have to deal with this company again!                                                                                                                                                                                                                                                                                                                                                                                                                                                                                                                                                                                                                                                                                                                                                                                                                                                                                                                                                                                                                                                                                                                            ...  45        \n",
              "24  Portions are small, sides are flavorless, and the BBQ itself is very average.                                                                                                                                                                                                                                                                                                                                                                                                                                                                                                                                                                                                                                                                                                                                                                                                                                                                                                                                                                                                                                                                                                                                                                                                                                                                                  ...  13        \n",
              "\n",
              "[5 rows x 4 columns]"
            ]
          },
          "metadata": {
            "tags": []
          },
          "execution_count": 35
        }
      ]
    },
    {
      "cell_type": "code",
      "metadata": {
        "id": "HViZ3z6ksGLw",
        "colab_type": "code",
        "outputId": "be141c0c-4a49-453c-eed8-0ad67f73cc46",
        "colab": {
          "base_uri": "https://localhost:8080/",
          "height": 787
        }
      },
      "source": [
        "# Plots the distribution of word count by class\n",
        "fig, ax = plt.subplots(3, 2, figsize = (15,12))\n",
        "fig.suptitle('Distribution of word count by class', fontsize=15)\n",
        "\n",
        "bins = 50\n",
        "\n",
        "ax[0, 0].hist(label_1['word_count'], bins = bins, color = 'red')\n",
        "ax[0, 0].set_title('Strong Negative', fontsize = 13)\n",
        "ax[0, 0].set_xlim(0, 700)\n",
        "\n",
        "ax[0, 1].hist(label_3['word_count'], bins = bins, color = '#FFC300')\n",
        "ax[0, 1].set_title('Neutral', fontsize = 13)\n",
        "ax[0, 1].set_xlim(0, 700)\n",
        "\n",
        "ax[1, 0].hist(label_2['word_count'], bins = bins, color = 'pink')\n",
        "ax[1, 0].set_title('Negative', fontsize = 13)\n",
        "ax[1, 0].set_xlim(0, 700)\n",
        "\n",
        "ax[1, 1].hist(label_4['word_count'], bins = bins, color = 'teal')\n",
        "ax[1, 1].set_title('Positive', fontsize = 13)\n",
        "ax[1, 1].set_xlim(0, 700)\n",
        "\n",
        "ax[2, 0].hist(label_5['word_count'], bins = bins, color = 'green')\n",
        "ax[2, 0].set_title('Strong Positive', fontsize = 13)\n",
        "ax[2, 0].set_xlim(0, 700)\n",
        "\n",
        "plt.show()"
      ],
      "execution_count": 0,
      "outputs": [
        {
          "output_type": "display_data",
          "data": {
            "image/png": "[encoded data removed]",
            "text/plain": [
              "<Figure size 1080x864 with 6 Axes>"
            ]
          },
          "metadata": {
            "tags": []
          }
        }
      ]
    },
    {
      "cell_type": "markdown",
      "metadata": {
        "id": "rY7HTGJK-AKp",
        "colab_type": "text"
      },
      "source": [
        "Like what we saw in average word count, we can see bars with word counts beyond 500 words in the \"Strongly Negative\" category, but there are no bars beyond 400 words in the \"Strongly Positive\" category. The higher the rating, the distribution becomes more narrow, with more text examples having a low word count."
      ]
    },
    {
      "cell_type": "markdown",
      "metadata": {
        "id": "Cc-OJJ6P9snh",
        "colab_type": "text"
      },
      "source": [
        "### Top 50 unigrams/bigrams per class\n",
        "We find the top 50 unigrams/bigrams for each category in the labeled dataset."
      ]
    },
    {
      "cell_type": "code",
      "metadata": {
        "id": "e0UI0YWekHos",
        "colab_type": "code",
        "colab": {}
      },
      "source": [
        "def word_freq_bigrams(clean_text_list, top_n):\n",
        "    \"\"\"\n",
        "    Word frequency with bigrams\n",
        "    \"\"\"\n",
        "    bigram_model = Phrases(clean_text_list, min_count=2, threshold=1)\n",
        "    w_bigrams = list(bigram_model[clean_text_list])\n",
        "    flat_w_bigrams = [item for sublist in w_bigrams for item in sublist]\n",
        "    with_counts = Counter(flat_w_bigrams)\n",
        "    top = with_counts.most_common(top_n)\n",
        "    \n",
        "    word = [each[0] for each in top]\n",
        "    num = [each[1] for each in top]\n",
        "    \n",
        "    return pd.DataFrame([word, num]).T\n",
        "\n",
        "\n",
        "def bigram_freq(clean_text_list, top_n):\n",
        "    bigram_model = Phrases(clean_text_list, min_count=2, threshold=1)\n",
        "    w_bigrams = list(bigram_model[clean_text_list])\n",
        "    flat_w_bigrams = [item for sublist in w_bigrams for item in sublist]\n",
        "    bigrams = []\n",
        "    \n",
        "    for each in flat_w_bigrams:\n",
        "        if '_' in each:\n",
        "            bigrams.append(each)\n",
        "    \n",
        "    counts = Counter(bigrams)\n",
        "    top = counts.most_common(top_n)\n",
        "    word = [each[0] for each in top]\n",
        "    num = [each[1] for each in top]\n",
        "    return pd.DataFrame([word, num]).T"
      ],
      "execution_count": 0,
      "outputs": []
    },
    {
      "cell_type": "code",
      "metadata": {
        "id": "C-qTUx9JXcvx",
        "colab_type": "code",
        "outputId": "deaeb2cc-7e9e-42ac-e243-6dc689a36624",
        "colab": {
          "base_uri": "https://localhost:8080/",
          "height": 54
        }
      },
      "source": [
        "%%time\n",
        "top_n = 50\n",
        "\n",
        "text_label_1 = label_1['clean_text'].tolist()\n",
        "text_label_2 = label_2['clean_text'].tolist()\n",
        "text_label_3 = label_3['clean_text'].tolist()\n",
        "text_label_4 = label_4['clean_text'].tolist()\n",
        "text_label_5 = label_5['clean_text'].tolist()\n",
        "\n",
        "wf_label_1 = word_freq_bigrams(text_label_1, top_n=top_n)\n",
        "wf_label_2 = word_freq_bigrams(text_label_2, top_n=top_n)\n",
        "wf_label_3 = word_freq_bigrams(text_label_3, top_n=top_n)\n",
        "wf_label_4 = word_freq_bigrams(text_label_4, top_n=top_n)\n",
        "wf_label_5 = word_freq_bigrams(text_label_5, top_n=top_n)"
      ],
      "execution_count": 0,
      "outputs": [
        {
          "output_type": "stream",
          "text": [
            "CPU times: user 34.7 s, sys: 274 ms, total: 34.9 s\n",
            "Wall time: 35 s\n"
          ],
          "name": "stdout"
        }
      ]
    },
    {
      "cell_type": "code",
      "metadata": {
        "id": "hkxCpvtukctj",
        "colab_type": "code",
        "outputId": "fc3c361c-7bd4-4132-c04b-12c34c2ab545",
        "colab": {
          "base_uri": "https://localhost:8080/",
          "height": 1000
        }
      },
      "source": [
        "wf_data = pd.concat([wf_label_1, wf_label_2, wf_label_3, wf_label_4, wf_label_5], axis=1)\n",
        "cols = ['label_1_strngneg', 'count', 'label_2_neg', 'count', 'lebel_3_neut', 'count', \n",
        "        'label_4_pos', 'count', 'label_5_strngpos', 'count']\n",
        "wf_data.columns = cols\n",
        "wf_data"
      ],
      "execution_count": 0,
      "outputs": [
        {
          "output_type": "execute_result",
          "data": {
            "text/html": [
              "<div>\n",
              "<style scoped>\n",
              "    .dataframe tbody tr th:only-of-type {\n",
              "        vertical-align: middle;\n",
              "    }\n",
              "\n",
              "    .dataframe tbody tr th {\n",
              "        vertical-align: top;\n",
              "    }\n",
              "\n",
              "    .dataframe thead th {\n",
              "        text-align: right;\n",
              "    }\n",
              "</style>\n",
              "<table border=\"1\" class=\"dataframe\">\n",
              "  <thead>\n",
              "    <tr style=\"text-align: right;\">\n",
              "      <th></th>\n",
              "      <th>label_1_strngneg</th>\n",
              "      <th>count</th>\n",
              "      <th>label_2_neg</th>\n",
              "      <th>count</th>\n",
              "      <th>lebel_3_neut</th>\n",
              "      <th>count</th>\n",
              "      <th>label_4_pos</th>\n",
              "      <th>count</th>\n",
              "      <th>label_5_strngpos</th>\n",
              "      <th>count</th>\n",
              "    </tr>\n",
              "  </thead>\n",
              "  <tbody>\n",
              "    <tr>\n",
              "      <th>0</th>\n",
              "      <td>and</td>\n",
              "      <td>37078</td>\n",
              "      <td>and</td>\n",
              "      <td>34070</td>\n",
              "      <td>and</td>\n",
              "      <td>30474</td>\n",
              "      <td>and</td>\n",
              "      <td>30205</td>\n",
              "      <td>and</td>\n",
              "      <td>24915</td>\n",
              "    </tr>\n",
              "    <tr>\n",
              "      <th>1</th>\n",
              "      <td>the</td>\n",
              "      <td>23296</td>\n",
              "      <td>the</td>\n",
              "      <td>26679</td>\n",
              "      <td>the</td>\n",
              "      <td>25113</td>\n",
              "      <td>the</td>\n",
              "      <td>21903</td>\n",
              "      <td>the</td>\n",
              "      <td>13482</td>\n",
              "    </tr>\n",
              "    <tr>\n",
              "      <th>2</th>\n",
              "      <td>to</td>\n",
              "      <td>15296</td>\n",
              "      <td>to</td>\n",
              "      <td>10959</td>\n",
              "      <td>a</td>\n",
              "      <td>10430</td>\n",
              "      <td>a</td>\n",
              "      <td>8900</td>\n",
              "      <td>a</td>\n",
              "      <td>5986</td>\n",
              "    </tr>\n",
              "    <tr>\n",
              "      <th>3</th>\n",
              "      <td>that</td>\n",
              "      <td>10340</td>\n",
              "      <td>a</td>\n",
              "      <td>10572</td>\n",
              "      <td>to</td>\n",
              "      <td>8024</td>\n",
              "      <td>to</td>\n",
              "      <td>6711</td>\n",
              "      <td>to</td>\n",
              "      <td>5748</td>\n",
              "    </tr>\n",
              "    <tr>\n",
              "      <th>4</th>\n",
              "      <td>a</td>\n",
              "      <td>9710</td>\n",
              "      <td>that</td>\n",
              "      <td>9615</td>\n",
              "      <td>wa</td>\n",
              "      <td>7961</td>\n",
              "      <td>wa</td>\n",
              "      <td>5966</td>\n",
              "      <td>wa</td>\n",
              "      <td>4353</td>\n",
              "    </tr>\n",
              "    <tr>\n",
              "      <th>5</th>\n",
              "      <td>wa</td>\n",
              "      <td>8588</td>\n",
              "      <td>wa</td>\n",
              "      <td>8830</td>\n",
              "      <td>that</td>\n",
              "      <td>7832</td>\n",
              "      <td>for</td>\n",
              "      <td>5359</td>\n",
              "      <td>for</td>\n",
              "      <td>3725</td>\n",
              "    </tr>\n",
              "    <tr>\n",
              "      <th>6</th>\n",
              "      <td>for</td>\n",
              "      <td>7536</td>\n",
              "      <td>it</td>\n",
              "      <td>7401</td>\n",
              "      <td>it</td>\n",
              "      <td>6381</td>\n",
              "      <td>of</td>\n",
              "      <td>5113</td>\n",
              "      <td>in</td>\n",
              "      <td>3635</td>\n",
              "    </tr>\n",
              "    <tr>\n",
              "      <th>7</th>\n",
              "      <td>I</td>\n",
              "      <td>7316</td>\n",
              "      <td>for</td>\n",
              "      <td>7291</td>\n",
              "      <td>for</td>\n",
              "      <td>6316</td>\n",
              "      <td>it</td>\n",
              "      <td>4914</td>\n",
              "      <td>is</td>\n",
              "      <td>3316</td>\n",
              "    </tr>\n",
              "    <tr>\n",
              "      <th>8</th>\n",
              "      <td>it</td>\n",
              "      <td>6692</td>\n",
              "      <td>of</td>\n",
              "      <td>6138</td>\n",
              "      <td>but</td>\n",
              "      <td>6113</td>\n",
              "      <td>that</td>\n",
              "      <td>4837</td>\n",
              "      <td>with</td>\n",
              "      <td>3187</td>\n",
              "    </tr>\n",
              "    <tr>\n",
              "      <th>9</th>\n",
              "      <td>in</td>\n",
              "      <td>6360</td>\n",
              "      <td>but</td>\n",
              "      <td>6132</td>\n",
              "      <td>of</td>\n",
              "      <td>5925</td>\n",
              "      <td>is</td>\n",
              "      <td>4621</td>\n",
              "      <td>that</td>\n",
              "      <td>3183</td>\n",
              "    </tr>\n",
              "    <tr>\n",
              "      <th>10</th>\n",
              "      <td>of</td>\n",
              "      <td>5587</td>\n",
              "      <td>in</td>\n",
              "      <td>5829</td>\n",
              "      <td>in</td>\n",
              "      <td>4871</td>\n",
              "      <td>but</td>\n",
              "      <td>4397</td>\n",
              "      <td>it</td>\n",
              "      <td>3177</td>\n",
              "    </tr>\n",
              "    <tr>\n",
              "      <th>11</th>\n",
              "      <td>is</td>\n",
              "      <td>5068</td>\n",
              "      <td>I</td>\n",
              "      <td>5658</td>\n",
              "      <td>is</td>\n",
              "      <td>4744</td>\n",
              "      <td>in</td>\n",
              "      <td>4355</td>\n",
              "      <td>of</td>\n",
              "      <td>3176</td>\n",
              "    </tr>\n",
              "    <tr>\n",
              "      <th>12</th>\n",
              "      <td>but</td>\n",
              "      <td>4914</td>\n",
              "      <td>is</td>\n",
              "      <td>5117</td>\n",
              "      <td>with</td>\n",
              "      <td>4513</td>\n",
              "      <td>with</td>\n",
              "      <td>4199</td>\n",
              "      <td>I</td>\n",
              "      <td>2705</td>\n",
              "    </tr>\n",
              "    <tr>\n",
              "      <th>13</th>\n",
              "      <td>not</td>\n",
              "      <td>4680</td>\n",
              "      <td>with</td>\n",
              "      <td>4770</td>\n",
              "      <td>I</td>\n",
              "      <td>3931</td>\n",
              "      <td>I</td>\n",
              "      <td>3058</td>\n",
              "      <td>thi</td>\n",
              "      <td>1932</td>\n",
              "    </tr>\n",
              "    <tr>\n",
              "      <th>14</th>\n",
              "      <td>thi</td>\n",
              "      <td>4604</td>\n",
              "      <td>not</td>\n",
              "      <td>4515</td>\n",
              "      <td>not</td>\n",
              "      <td>3602</td>\n",
              "      <td>good</td>\n",
              "      <td>2652</td>\n",
              "      <td>but</td>\n",
              "      <td>1922</td>\n",
              "    </tr>\n",
              "    <tr>\n",
              "      <th>15</th>\n",
              "      <td>me</td>\n",
              "      <td>4602</td>\n",
              "      <td>...</td>\n",
              "      <td>3629</td>\n",
              "      <td>...</td>\n",
              "      <td>3068</td>\n",
              "      <td>in_the</td>\n",
              "      <td>2429</td>\n",
              "      <td>place</td>\n",
              "      <td>1809</td>\n",
              "    </tr>\n",
              "    <tr>\n",
              "      <th>16</th>\n",
              "      <td>with</td>\n",
              "      <td>4138</td>\n",
              "      <td>thi</td>\n",
              "      <td>3420</td>\n",
              "      <td>good</td>\n",
              "      <td>3067</td>\n",
              "      <td>thi</td>\n",
              "      <td>2397</td>\n",
              "      <td>...</td>\n",
              "      <td>1733</td>\n",
              "    </tr>\n",
              "    <tr>\n",
              "      <th>17</th>\n",
              "      <td>...</td>\n",
              "      <td>3609</td>\n",
              "      <td>order</td>\n",
              "      <td>3172</td>\n",
              "      <td>in_the</td>\n",
              "      <td>2893</td>\n",
              "      <td>not</td>\n",
              "      <td>2384</td>\n",
              "      <td>in_the</td>\n",
              "      <td>1728</td>\n",
              "    </tr>\n",
              "    <tr>\n",
              "      <th>18</th>\n",
              "      <td>on</td>\n",
              "      <td>3409</td>\n",
              "      <td>in_the</td>\n",
              "      <td>3152</td>\n",
              "      <td>like</td>\n",
              "      <td>2855</td>\n",
              "      <td>place</td>\n",
              "      <td>2306</td>\n",
              "      <td>thi_place</td>\n",
              "      <td>1712</td>\n",
              "    </tr>\n",
              "    <tr>\n",
              "      <th>19</th>\n",
              "      <td>they</td>\n",
              "      <td>3391</td>\n",
              "      <td>place</td>\n",
              "      <td>3121</td>\n",
              "      <td>place</td>\n",
              "      <td>2704</td>\n",
              "      <td>...</td>\n",
              "      <td>2261</td>\n",
              "      <td>my</td>\n",
              "      <td>1677</td>\n",
              "    </tr>\n",
              "    <tr>\n",
              "      <th>20</th>\n",
              "      <td>I_wa</td>\n",
              "      <td>3381</td>\n",
              "      <td>just</td>\n",
              "      <td>3121</td>\n",
              "      <td>or</td>\n",
              "      <td>2672</td>\n",
              "      <td>like</td>\n",
              "      <td>2225</td>\n",
              "      <td>the_best</td>\n",
              "      <td>1674</td>\n",
              "    </tr>\n",
              "    <tr>\n",
              "      <th>21</th>\n",
              "      <td>time</td>\n",
              "      <td>3350</td>\n",
              "      <td>like</td>\n",
              "      <td>3030</td>\n",
              "      <td>thi</td>\n",
              "      <td>2637</td>\n",
              "      <td>are</td>\n",
              "      <td>2177</td>\n",
              "      <td>you</td>\n",
              "      <td>1611</td>\n",
              "    </tr>\n",
              "    <tr>\n",
              "      <th>22</th>\n",
              "      <td>my</td>\n",
              "      <td>3089</td>\n",
              "      <td>all</td>\n",
              "      <td>2897</td>\n",
              "      <td>just</td>\n",
              "      <td>2601</td>\n",
              "      <td>it_wa</td>\n",
              "      <td>2079</td>\n",
              "      <td>great</td>\n",
              "      <td>1599</td>\n",
              "    </tr>\n",
              "    <tr>\n",
              "      <th>23</th>\n",
              "      <td>you</td>\n",
              "      <td>3047</td>\n",
              "      <td>or</td>\n",
              "      <td>2865</td>\n",
              "      <td>as</td>\n",
              "      <td>2598</td>\n",
              "      <td>as</td>\n",
              "      <td>2079</td>\n",
              "      <td>are</td>\n",
              "      <td>1554</td>\n",
              "    </tr>\n",
              "    <tr>\n",
              "      <th>24</th>\n",
              "      <td>in_the</td>\n",
              "      <td>2954</td>\n",
              "      <td>it_wa</td>\n",
              "      <td>2800</td>\n",
              "      <td>it_wa</td>\n",
              "      <td>2589</td>\n",
              "      <td>or</td>\n",
              "      <td>2070</td>\n",
              "      <td>as</td>\n",
              "      <td>1538</td>\n",
              "    </tr>\n",
              "    <tr>\n",
              "      <th>25</th>\n",
              "      <td>order</td>\n",
              "      <td>2930</td>\n",
              "      <td>I_wa</td>\n",
              "      <td>2793</td>\n",
              "      <td>the_food</td>\n",
              "      <td>2578</td>\n",
              "      <td>on_the</td>\n",
              "      <td>2048</td>\n",
              "      <td>time</td>\n",
              "      <td>1504</td>\n",
              "    </tr>\n",
              "    <tr>\n",
              "      <th>26</th>\n",
              "      <td>all</td>\n",
              "      <td>2892</td>\n",
              "      <td>the_food</td>\n",
              "      <td>2768</td>\n",
              "      <td>all</td>\n",
              "      <td>2409</td>\n",
              "      <td>time</td>\n",
              "      <td>1994</td>\n",
              "      <td>I_wa</td>\n",
              "      <td>1406</td>\n",
              "    </tr>\n",
              "    <tr>\n",
              "      <th>27</th>\n",
              "      <td>or</td>\n",
              "      <td>2872</td>\n",
              "      <td>as</td>\n",
              "      <td>2737</td>\n",
              "      <td>order</td>\n",
              "      <td>2370</td>\n",
              "      <td>so</td>\n",
              "      <td>1946</td>\n",
              "      <td>here</td>\n",
              "      <td>1369</td>\n",
              "    </tr>\n",
              "    <tr>\n",
              "      <th>28</th>\n",
              "      <td>have</td>\n",
              "      <td>2724</td>\n",
              "      <td>be</td>\n",
              "      <td>2672</td>\n",
              "      <td>so</td>\n",
              "      <td>2368</td>\n",
              "      <td>food</td>\n",
              "      <td>1906</td>\n",
              "      <td>I_have</td>\n",
              "      <td>1366</td>\n",
              "    </tr>\n",
              "    <tr>\n",
              "      <th>29</th>\n",
              "      <td>just</td>\n",
              "      <td>2722</td>\n",
              "      <td>so</td>\n",
              "      <td>2661</td>\n",
              "      <td>on_the</td>\n",
              "      <td>2297</td>\n",
              "      <td>just</td>\n",
              "      <td>1849</td>\n",
              "      <td>good</td>\n",
              "      <td>1351</td>\n",
              "    </tr>\n",
              "    <tr>\n",
              "      <th>30</th>\n",
              "      <td>be</td>\n",
              "      <td>2592</td>\n",
              "      <td>time</td>\n",
              "      <td>2642</td>\n",
              "      <td>time</td>\n",
              "      <td>2291</td>\n",
              "      <td>great</td>\n",
              "      <td>1847</td>\n",
              "      <td>had</td>\n",
              "      <td>1344</td>\n",
              "    </tr>\n",
              "    <tr>\n",
              "      <th>31</th>\n",
              "      <td>there</td>\n",
              "      <td>2499</td>\n",
              "      <td>me</td>\n",
              "      <td>2560</td>\n",
              "      <td>food</td>\n",
              "      <td>2238</td>\n",
              "      <td>of_the</td>\n",
              "      <td>1837</td>\n",
              "      <td>me</td>\n",
              "      <td>1307</td>\n",
              "    </tr>\n",
              "    <tr>\n",
              "      <th>32</th>\n",
              "      <td>as</td>\n",
              "      <td>2437</td>\n",
              "      <td>were</td>\n",
              "      <td>2554</td>\n",
              "      <td>were</td>\n",
              "      <td>2144</td>\n",
              "      <td>the_food</td>\n",
              "      <td>1833</td>\n",
              "      <td>have</td>\n",
              "      <td>1305</td>\n",
              "    </tr>\n",
              "    <tr>\n",
              "      <th>33</th>\n",
              "      <td>place</td>\n",
              "      <td>2387</td>\n",
              "      <td>my</td>\n",
              "      <td>2534</td>\n",
              "      <td>are</td>\n",
              "      <td>2137</td>\n",
              "      <td>here</td>\n",
              "      <td>1825</td>\n",
              "      <td>so</td>\n",
              "      <td>1276</td>\n",
              "    </tr>\n",
              "    <tr>\n",
              "      <th>34</th>\n",
              "      <td>call</td>\n",
              "      <td>2379</td>\n",
              "      <td>have</td>\n",
              "      <td>2506</td>\n",
              "      <td>I_wa</td>\n",
              "      <td>2088</td>\n",
              "      <td>have</td>\n",
              "      <td>1802</td>\n",
              "      <td>all</td>\n",
              "      <td>1253</td>\n",
              "    </tr>\n",
              "    <tr>\n",
              "      <th>35</th>\n",
              "      <td>it_wa</td>\n",
              "      <td>2339</td>\n",
              "      <td>food</td>\n",
              "      <td>2408</td>\n",
              "      <td>of_the</td>\n",
              "      <td>2047</td>\n",
              "      <td>were</td>\n",
              "      <td>1759</td>\n",
              "      <td>not</td>\n",
              "      <td>1252</td>\n",
              "    </tr>\n",
              "    <tr>\n",
              "      <th>36</th>\n",
              "      <td>at</td>\n",
              "      <td>2328</td>\n",
              "      <td>on_the</td>\n",
              "      <td>2328</td>\n",
              "      <td>my</td>\n",
              "      <td>2005</td>\n",
              "      <td>had</td>\n",
              "      <td>1742</td>\n",
              "      <td>it_wa</td>\n",
              "      <td>1240</td>\n",
              "    </tr>\n",
              "    <tr>\n",
              "      <th>37</th>\n",
              "      <td>were</td>\n",
              "      <td>2240</td>\n",
              "      <td>of_the</td>\n",
              "      <td>2239</td>\n",
              "      <td>have</td>\n",
              "      <td>2000</td>\n",
              "      <td>all</td>\n",
              "      <td>1713</td>\n",
              "      <td>at</td>\n",
              "      <td>1227</td>\n",
              "    </tr>\n",
              "    <tr>\n",
              "      <th>38</th>\n",
              "      <td>out</td>\n",
              "      <td>2236</td>\n",
              "      <td>had</td>\n",
              "      <td>2202</td>\n",
              "      <td>you</td>\n",
              "      <td>1990</td>\n",
              "      <td>one</td>\n",
              "      <td>1705</td>\n",
              "      <td>on</td>\n",
              "      <td>1226</td>\n",
              "    </tr>\n",
              "    <tr>\n",
              "      <th>39</th>\n",
              "      <td>them</td>\n",
              "      <td>2225</td>\n",
              "      <td>at</td>\n",
              "      <td>2201</td>\n",
              "      <td>be</td>\n",
              "      <td>1966</td>\n",
              "      <td>thi_place</td>\n",
              "      <td>1685</td>\n",
              "      <td>or</td>\n",
              "      <td>1213</td>\n",
              "    </tr>\n",
              "    <tr>\n",
              "      <th>40</th>\n",
              "      <td>servic</td>\n",
              "      <td>2205</td>\n",
              "      <td>there</td>\n",
              "      <td>2199</td>\n",
              "      <td>here</td>\n",
              "      <td>1957</td>\n",
              "      <td>my</td>\n",
              "      <td>1670</td>\n",
              "      <td>the_food</td>\n",
              "      <td>1212</td>\n",
              "    </tr>\n",
              "    <tr>\n",
              "      <th>41</th>\n",
              "      <td>one</td>\n",
              "      <td>2188</td>\n",
              "      <td>you</td>\n",
              "      <td>2184</td>\n",
              "      <td>one</td>\n",
              "      <td>1949</td>\n",
              "      <td>on</td>\n",
              "      <td>1656</td>\n",
              "      <td>be</td>\n",
              "      <td>1197</td>\n",
              "    </tr>\n",
              "    <tr>\n",
              "      <th>42</th>\n",
              "      <td>get</td>\n",
              "      <td>2165</td>\n",
              "      <td>on</td>\n",
              "      <td>2156</td>\n",
              "      <td>on</td>\n",
              "      <td>1893</td>\n",
              "      <td>order</td>\n",
              "      <td>1593</td>\n",
              "      <td>food</td>\n",
              "      <td>1164</td>\n",
              "    </tr>\n",
              "    <tr>\n",
              "      <th>43</th>\n",
              "      <td>so</td>\n",
              "      <td>2149</td>\n",
              "      <td>good</td>\n",
              "      <td>2146</td>\n",
              "      <td>at</td>\n",
              "      <td>1882</td>\n",
              "      <td>at</td>\n",
              "      <td>1589</td>\n",
              "      <td>just</td>\n",
              "      <td>1142</td>\n",
              "    </tr>\n",
              "    <tr>\n",
              "      <th>44</th>\n",
              "      <td>had</td>\n",
              "      <td>2141</td>\n",
              "      <td>one</td>\n",
              "      <td>2146</td>\n",
              "      <td>had</td>\n",
              "      <td>1857</td>\n",
              "      <td>you</td>\n",
              "      <td>1576</td>\n",
              "      <td>one</td>\n",
              "      <td>1107</td>\n",
              "    </tr>\n",
              "    <tr>\n",
              "      <th>45</th>\n",
              "      <td>back</td>\n",
              "      <td>2122</td>\n",
              "      <td>they</td>\n",
              "      <td>2089</td>\n",
              "      <td>out</td>\n",
              "      <td>1836</td>\n",
              "      <td>their</td>\n",
              "      <td>1560</td>\n",
              "      <td>thi_is</td>\n",
              "      <td>1089</td>\n",
              "    </tr>\n",
              "    <tr>\n",
              "      <th>46</th>\n",
              "      <td>on_the</td>\n",
              "      <td>2092</td>\n",
              "      <td>out</td>\n",
              "      <td>2084</td>\n",
              "      <td>get</td>\n",
              "      <td>1804</td>\n",
              "      <td>I_wa</td>\n",
              "      <td>1554</td>\n",
              "      <td>like</td>\n",
              "      <td>1084</td>\n",
              "    </tr>\n",
              "    <tr>\n",
              "      <th>47</th>\n",
              "      <td>after</td>\n",
              "      <td>2049</td>\n",
              "      <td>are</td>\n",
              "      <td>1976</td>\n",
              "      <td>thi_place</td>\n",
              "      <td>1780</td>\n",
              "      <td>for_a</td>\n",
              "      <td>1460</td>\n",
              "      <td>on_the</td>\n",
              "      <td>1072</td>\n",
              "    </tr>\n",
              "    <tr>\n",
              "      <th>48</th>\n",
              "      <td>I_have</td>\n",
              "      <td>2030</td>\n",
              "      <td>thi_place</td>\n",
              "      <td>1974</td>\n",
              "      <td>for_a</td>\n",
              "      <td>1734</td>\n",
              "      <td>get</td>\n",
              "      <td>1438</td>\n",
              "      <td>of_the</td>\n",
              "      <td>1070</td>\n",
              "    </tr>\n",
              "    <tr>\n",
              "      <th>49</th>\n",
              "      <td>like</td>\n",
              "      <td>1948</td>\n",
              "      <td>here</td>\n",
              "      <td>1953</td>\n",
              "      <td>there</td>\n",
              "      <td>1699</td>\n",
              "      <td>there</td>\n",
              "      <td>1428</td>\n",
              "      <td>I_had</td>\n",
              "      <td>1067</td>\n",
              "    </tr>\n",
              "  </tbody>\n",
              "</table>\n",
              "</div>"
            ],
            "text/plain": [
              "   label_1_strngneg  count label_2_neg  ...  count label_5_strngpos  count\n",
              "0   and              37078  and         ...  30205  and              24915\n",
              "1   the              23296  the         ...  21903  the              13482\n",
              "2   to               15296  to          ...  8900   a                5986 \n",
              "3   that             10340  a           ...  6711   to               5748 \n",
              "4   a                9710   that        ...  5966   wa               4353 \n",
              "5   wa               8588   wa          ...  5359   for              3725 \n",
              "6   for              7536   it          ...  5113   in               3635 \n",
              "7   I                7316   for         ...  4914   is               3316 \n",
              "8   it               6692   of          ...  4837   with             3187 \n",
              "9   in               6360   but         ...  4621   that             3183 \n",
              "10  of               5587   in          ...  4397   it               3177 \n",
              "11  is               5068   I           ...  4355   of               3176 \n",
              "12  but              4914   is          ...  4199   I                2705 \n",
              "13  not              4680   with        ...  3058   thi              1932 \n",
              "14  thi              4604   not         ...  2652   but              1922 \n",
              "15  me               4602   ...         ...  2429   place            1809 \n",
              "16  with             4138   thi         ...  2397   ...              1733 \n",
              "17  ...              3609   order       ...  2384   in_the           1728 \n",
              "18  on               3409   in_the      ...  2306   thi_place        1712 \n",
              "19  they             3391   place       ...  2261   my               1677 \n",
              "20  I_wa             3381   just        ...  2225   the_best         1674 \n",
              "21  time             3350   like        ...  2177   you              1611 \n",
              "22  my               3089   all         ...  2079   great            1599 \n",
              "23  you              3047   or          ...  2079   are              1554 \n",
              "24  in_the           2954   it_wa       ...  2070   as               1538 \n",
              "25  order            2930   I_wa        ...  2048   time             1504 \n",
              "26  all              2892   the_food    ...  1994   I_wa             1406 \n",
              "27  or               2872   as          ...  1946   here             1369 \n",
              "28  have             2724   be          ...  1906   I_have           1366 \n",
              "29  just             2722   so          ...  1849   good             1351 \n",
              "30  be               2592   time        ...  1847   had              1344 \n",
              "31  there            2499   me          ...  1837   me               1307 \n",
              "32  as               2437   were        ...  1833   have             1305 \n",
              "33  place            2387   my          ...  1825   so               1276 \n",
              "34  call             2379   have        ...  1802   all              1253 \n",
              "35  it_wa            2339   food        ...  1759   not              1252 \n",
              "36  at               2328   on_the      ...  1742   it_wa            1240 \n",
              "37  were             2240   of_the      ...  1713   at               1227 \n",
              "38  out              2236   had         ...  1705   on               1226 \n",
              "39  them             2225   at          ...  1685   or               1213 \n",
              "40  servic           2205   there       ...  1670   the_food         1212 \n",
              "41  one              2188   you         ...  1656   be               1197 \n",
              "42  get              2165   on          ...  1593   food             1164 \n",
              "43  so               2149   good        ...  1589   just             1142 \n",
              "44  had              2141   one         ...  1576   one              1107 \n",
              "45  back             2122   they        ...  1560   thi_is           1089 \n",
              "46  on_the           2092   out         ...  1554   like             1084 \n",
              "47  after            2049   are         ...  1460   on_the           1072 \n",
              "48  I_have           2030   thi_place   ...  1438   of_the           1070 \n",
              "49  like             1948   here        ...  1428   I_had            1067 \n",
              "\n",
              "[50 rows x 10 columns]"
            ]
          },
          "metadata": {
            "tags": []
          },
          "execution_count": 39
        }
      ]
    },
    {
      "cell_type": "markdown",
      "metadata": {
        "id": "Wa0lafSI_pHe",
        "colab_type": "text"
      },
      "source": [
        "We see the words \"great\", \"the best\", \"like\" and \"not\" in the \"Strongly Positive\" category. The rank for the word \"not\" is 35 for \"Strongly Positive\" category, and rank 13 for \"Strongly Negative\" category. The words \"great\" and \"the best\" are not present in the \"Strongly Negative\" category.\n",
        "\n",
        "The frequency of the word \"but\" across the categories forms a negative quadratic. It is used the most in the \"Neutral\" category (at rank 8), and is used the least in \"Strongly Negative\" and \"Strongly Positive\" categories (at ranks 12 and 14, respectively)."
      ]
    },
    {
      "cell_type": "markdown",
      "metadata": {
        "id": "W36fGxJkHeOi",
        "colab_type": "text"
      },
      "source": [
        "## Model development\n",
        "We develop the following models:\n",
        "\n",
        "- [Stochastic gradient descent](https://scikit-learn.org/stable/modules/sgd.html)\n",
        "- [Multinomial naive Bayes](https://scikit-learn.org/stable/modules/naive_bayes.html#multinomial-naive-bayes)\n",
        "- Deep learning"
      ]
    },
    {
      "cell_type": "markdown",
      "metadata": {
        "id": "q5BmVYJggKD-",
        "colab_type": "text"
      },
      "source": [
        "### Training-validation approach \n",
        "We split the data into train and test proportions on the labeled dataset."
      ]
    },
    {
      "cell_type": "code",
      "metadata": {
        "id": "omjtBYNI2wpQ",
        "colab_type": "code",
        "colab": {}
      },
      "source": [
        "# Train test split with stratified sampling for evaluation\n",
        "X_train, X_validation, y_train, y_validation = train_test_split(X, \n",
        "                                                    y, \n",
        "                                                    test_size = .3, \n",
        "                                                    shuffle = True, \n",
        "                                                    stratify = y, \n",
        "                                                    random_state = 3)"
      ],
      "execution_count": 0,
      "outputs": []
    },
    {
      "cell_type": "markdown",
      "metadata": {
        "id": "JzBj_6PDLo4x",
        "colab_type": "text"
      },
      "source": [
        "### Stochastic gradient descent"
      ]
    },
    {
      "cell_type": "code",
      "metadata": {
        "id": "lS2nIeARKg3S",
        "colab_type": "code",
        "outputId": "934a902f-f3ae-45a3-98bd-5e51b892fa4a",
        "colab": {
          "base_uri": "https://localhost:8080/",
          "height": 127
        }
      },
      "source": [
        "sgd_model = SGDClassifier(random_state=3, loss='log')\n",
        "sgd_model.fit(X_train, y_train)"
      ],
      "execution_count": 0,
      "outputs": [
        {
          "output_type": "execute_result",
          "data": {
            "text/plain": [
              "SGDClassifier(alpha=0.0001, average=False, class_weight=None,\n",
              "              early_stopping=False, epsilon=0.1, eta0=0.0, fit_intercept=True,\n",
              "              l1_ratio=0.15, learning_rate='optimal', loss='log', max_iter=1000,\n",
              "              n_iter_no_change=5, n_jobs=None, penalty='l2', power_t=0.5,\n",
              "              random_state=3, shuffle=True, tol=0.001, validation_fraction=0.1,\n",
              "              verbose=0, warm_start=False)"
            ]
          },
          "metadata": {
            "tags": []
          },
          "execution_count": 41
        }
      ]
    },
    {
      "cell_type": "markdown",
      "metadata": {
        "id": "Cr4piDDIUpCQ",
        "colab_type": "text"
      },
      "source": [
        "We can see the parameter we have set for the model, in addition to default parameters."
      ]
    },
    {
      "cell_type": "markdown",
      "metadata": {
        "id": "vPqeMP_iLtLM",
        "colab_type": "text"
      },
      "source": [
        "### Multinomial naive Bayes"
      ]
    },
    {
      "cell_type": "code",
      "metadata": {
        "id": "5N5oZFS2L3aF",
        "colab_type": "code",
        "outputId": "81f014d4-7b61-49d6-9f7f-8afc63a4a9f9",
        "colab": {
          "base_uri": "https://localhost:8080/",
          "height": 35
        }
      },
      "source": [
        "mnb_model = MultinomialNB()\n",
        "mnb_model.fit(X_train, y_train)"
      ],
      "execution_count": 0,
      "outputs": [
        {
          "output_type": "execute_result",
          "data": {
            "text/plain": [
              "MultinomialNB(alpha=1.0, class_prior=None, fit_prior=True)"
            ]
          },
          "metadata": {
            "tags": []
          },
          "execution_count": 42
        }
      ]
    },
    {
      "cell_type": "markdown",
      "metadata": {
        "id": "UoLfMgrqUwfE",
        "colab_type": "text"
      },
      "source": [
        "Like with the stochastic gradient descent model, we see default parameters for the multinomial naive Bayes model."
      ]
    },
    {
      "cell_type": "markdown",
      "metadata": {
        "id": "SNasZXH6Enyi",
        "colab_type": "text"
      },
      "source": [
        "### Deep learning"
      ]
    },
    {
      "cell_type": "code",
      "metadata": {
        "id": "7sfPse6lEmlV",
        "colab_type": "code",
        "outputId": "1165e971-56fa-448b-b55d-d94b2abb9cb1",
        "colab": {
          "base_uri": "https://localhost:8080/",
          "height": 546
        }
      },
      "source": [
        "## Initialising h20 cluster\n",
        "h2o.init()"
      ],
      "execution_count": 0,
      "outputs": [
        {
          "output_type": "stream",
          "text": [
            "Checking whether there is an H2O instance running at http://localhost:54321 ..... not found.\n",
            "Attempting to start a local H2O server...\n",
            "  Java Version: openjdk version \"11.0.4\" 2019-07-16; OpenJDK Runtime Environment (build 11.0.4+11-post-Ubuntu-1ubuntu218.04.3); OpenJDK 64-Bit Server VM (build 11.0.4+11-post-Ubuntu-1ubuntu218.04.3, mixed mode, sharing)\n",
            "  Starting server from /usr/local/lib/python3.6/dist-packages/h2o/backend/bin/h2o.jar\n",
            "  Ice root: /tmp/tmpa7rpt8qe\n",
            "  JVM stdout: /tmp/tmpa7rpt8qe/h2o_unknownUser_started_from_python.out\n",
            "  JVM stderr: /tmp/tmpa7rpt8qe/h2o_unknownUser_started_from_python.err\n",
            "  Server is running at http://127.0.0.1:54321\n",
            "Connecting to H2O server at http://127.0.0.1:54321 ... successful.\n"
          ],
          "name": "stdout"
        },
        {
          "output_type": "display_data",
          "data": {
            "text/html": [
              "<div style=\"overflow:auto\"><table style=\"width:50%\"><tr><td>H2O cluster uptime:</td>\n",
              "<td>03 secs</td></tr>\n",
              "<tr><td>H2O cluster timezone:</td>\n",
              "<td>Etc/UTC</td></tr>\n",
              "<tr><td>H2O data parsing timezone:</td>\n",
              "<td>UTC</td></tr>\n",
              "<tr><td>H2O cluster version:</td>\n",
              "<td>3.26.0.9</td></tr>\n",
              "<tr><td>H2O cluster version age:</td>\n",
              "<td>4 days </td></tr>\n",
              "<tr><td>H2O cluster name:</td>\n",
              "<td>H2O_from_python_unknownUser_taslmj</td></tr>\n",
              "<tr><td>H2O cluster total nodes:</td>\n",
              "<td>1</td></tr>\n",
              "<tr><td>H2O cluster free memory:</td>\n",
              "<td>3 Gb</td></tr>\n",
              "<tr><td>H2O cluster total cores:</td>\n",
              "<td>2</td></tr>\n",
              "<tr><td>H2O cluster allowed cores:</td>\n",
              "<td>2</td></tr>\n",
              "<tr><td>H2O cluster status:</td>\n",
              "<td>accepting new members, healthy</td></tr>\n",
              "<tr><td>H2O connection url:</td>\n",
              "<td>http://127.0.0.1:54321</td></tr>\n",
              "<tr><td>H2O connection proxy:</td>\n",
              "<td>{'http': None, 'https': None}</td></tr>\n",
              "<tr><td>H2O internal security:</td>\n",
              "<td>False</td></tr>\n",
              "<tr><td>H2O API Extensions:</td>\n",
              "<td>Amazon S3, XGBoost, Algos, AutoML, Core V3, TargetEncoder, Core V4</td></tr>\n",
              "<tr><td>Python version:</td>\n",
              "<td>3.6.8 final</td></tr></table></div>"
            ],
            "text/plain": [
              "--------------------------  ------------------------------------------------------------------\n",
              "H2O cluster uptime:         03 secs\n",
              "H2O cluster timezone:       Etc/UTC\n",
              "H2O data parsing timezone:  UTC\n",
              "H2O cluster version:        3.26.0.9\n",
              "H2O cluster version age:    4 days\n",
              "H2O cluster name:           H2O_from_python_unknownUser_taslmj\n",
              "H2O cluster total nodes:    1\n",
              "H2O cluster free memory:    3 Gb\n",
              "H2O cluster total cores:    2\n",
              "H2O cluster allowed cores:  2\n",
              "H2O cluster status:         accepting new members, healthy\n",
              "H2O connection url:         http://127.0.0.1:54321\n",
              "H2O connection proxy:       {'http': None, 'https': None}\n",
              "H2O internal security:      False\n",
              "H2O API Extensions:         Amazon S3, XGBoost, Algos, AutoML, Core V3, TargetEncoder, Core V4\n",
              "Python version:             3.6.8 final\n",
              "--------------------------  ------------------------------------------------------------------"
            ]
          },
          "metadata": {
            "tags": []
          }
        }
      ]
    },
    {
      "cell_type": "markdown",
      "metadata": {
        "id": "TiGbbT8Xa45k",
        "colab_type": "text"
      },
      "source": [
        "Combining labeled, unlabeled and test data to make sure tokens and dimension are consistent. "
      ]
    },
    {
      "cell_type": "code",
      "metadata": {
        "id": "z2RQQ3RsZD7o",
        "colab_type": "code",
        "colab": {}
      },
      "source": [
        "## Merging three datasets into one \n",
        "merged_data = labeled_data\n",
        "merged_data = merged_data.append(unlabeled_data[0:1500])\n",
        "merged_data = merged_data.append(test_data)"
      ],
      "execution_count": 0,
      "outputs": []
    },
    {
      "cell_type": "code",
      "metadata": {
        "id": "m1eBOKEKZChv",
        "colab_type": "code",
        "outputId": "438a7b44-43c9-4832-bba8-671c06e467cf",
        "colab": {
          "base_uri": "https://localhost:8080/",
          "height": 54
        }
      },
      "source": [
        "%%time\n",
        "## Performing the text preprocessing \n",
        "with mp.Pool(mp.cpu_count()) as pool:\n",
        "    merged_data['clean_text'] = pool.map(preprocess_text, merged_data['text'])"
      ],
      "execution_count": 0,
      "outputs": [
        {
          "output_type": "stream",
          "text": [
            "CPU times: user 4.05 s, sys: 1.08 s, total: 5.14 s\n",
            "Wall time: 4min 31s\n"
          ],
          "name": "stdout"
        }
      ]
    },
    {
      "cell_type": "code",
      "metadata": {
        "id": "QpiB_T-hb97b",
        "colab_type": "code",
        "colab": {}
      },
      "source": [
        "## Tokenising the data and extracting the features \n",
        "text = merged_data['clean_text'].astype('str')\n",
        "X, tfidf_vectorizer_deeplearning = extract_features(text)\n",
        "y = labeled_data['label'].values # target"
      ],
      "execution_count": 0,
      "outputs": []
    },
    {
      "cell_type": "code",
      "metadata": {
        "id": "JlcTloych8y3",
        "colab_type": "code",
        "outputId": "8fe07bb7-2c01-4921-aaff-c4f6c7b41b2a",
        "colab": {
          "base_uri": "https://localhost:8080/",
          "height": 54
        }
      },
      "source": [
        "%%time\n",
        "## Reducing the dimension of the data \n",
        "X_new = reduce_dimensions(X)"
      ],
      "execution_count": 0,
      "outputs": [
        {
          "output_type": "stream",
          "text": [
            "CPU times: user 16min 19s, sys: 53.9 s, total: 17min 13s\n",
            "Wall time: 14min 41s\n"
          ],
          "name": "stdout"
        }
      ]
    },
    {
      "cell_type": "code",
      "metadata": {
        "id": "HvCxHHPRiMWH",
        "colab_type": "code",
        "colab": {}
      },
      "source": [
        "## Transforming the data to dataframe which is needed in h2o packages \n",
        "X_dataframe = pd.DataFrame.from_records(X_new)"
      ],
      "execution_count": 0,
      "outputs": []
    },
    {
      "cell_type": "code",
      "metadata": {
        "id": "Msc7Lf8inYSw",
        "colab_type": "code",
        "colab": {}
      },
      "source": [
        "## The first 50000 rows of data are labeled data and it is extracted for model training \n",
        "X_dataframe = X_dataframe.iloc[0:50000,]"
      ],
      "execution_count": 0,
      "outputs": []
    },
    {
      "cell_type": "code",
      "metadata": {
        "id": "brm4XtlUoC21",
        "colab_type": "code",
        "colab": {}
      },
      "source": [
        "## y dataframe has all the labels and it is converted to dataframe for h2o to process \n",
        "y_dataframe = pd.DataFrame(y)"
      ],
      "execution_count": 0,
      "outputs": []
    },
    {
      "cell_type": "code",
      "metadata": {
        "id": "BGFgpKnYbNRq",
        "colab_type": "code",
        "colab": {}
      },
      "source": [
        "## Spliting the data into training and testing set\n",
        "X_train_deeplearning, X_validation_deeplearning, y_train_deeplearning, y_validation_deeplearning = train_test_split(X_dataframe, \n",
        "                                                    y_dataframe, \n",
        "                                                    test_size = .3, \n",
        "                                                    shuffle = True, \n",
        "                                                    stratify = y, \n",
        "                                                    random_state = 3)"
      ],
      "execution_count": 0,
      "outputs": []
    },
    {
      "cell_type": "code",
      "metadata": {
        "id": "HzZVmPbUZ_LL",
        "colab_type": "code",
        "colab": {}
      },
      "source": [
        "## Converting the training and testing data to dataframe which will be converted to h20 dataframe \n",
        "X_train_deeplearning = pd.DataFrame(X_train_deeplearning)\n",
        "y_train_deeplearning = pd.DataFrame(y_train_deeplearning)\n",
        "X_validation_deeplearning = pd.DataFrame(X_validation_deeplearning)\n",
        "y_validation_deeplearning = pd.DataFrame(y_validation_deeplearning)"
      ],
      "execution_count": 0,
      "outputs": []
    },
    {
      "cell_type": "code",
      "metadata": {
        "id": "eluTKMOpSs62",
        "colab_type": "code",
        "colab": {}
      },
      "source": [
        "## Adding label data to the training dataset \n",
        "X_train_deeplearning[\"Class\"] = y_train_deeplearning"
      ],
      "execution_count": 0,
      "outputs": []
    },
    {
      "cell_type": "code",
      "metadata": {
        "id": "59OVXaOlTE24",
        "colab_type": "code",
        "colab": {}
      },
      "source": [
        "## Converting the column to string which is required for the h2o dataframe conversion \n",
        "X_train_deeplearning.columns = X_train_deeplearning.columns.astype('str')\n",
        "X_validation_deeplearning.columns = X_validation_deeplearning.columns.astype('str')\n",
        "y_validation_deeplearning.columns = y_validation_deeplearning.columns.astype('str')"
      ],
      "execution_count": 0,
      "outputs": []
    },
    {
      "cell_type": "code",
      "metadata": {
        "id": "pVm8Yy0GSzp1",
        "colab_type": "code",
        "outputId": "75b2b1af-9e79-49f3-d098-aa8725fe4edc",
        "colab": {
          "base_uri": "https://localhost:8080/",
          "height": 72
        }
      },
      "source": [
        "## Converting the dataframe to h2o dataframe \n",
        "X_train_deeplearning = h2o.H2OFrame(X_train_deeplearning)\n",
        "X_validation_deeplearning = h2o.H2OFrame(X_validation_deeplearning)\n",
        "y_validation_deeplearning = h2o.H2OFrame(y_validation_deeplearning)"
      ],
      "execution_count": 0,
      "outputs": [
        {
          "output_type": "stream",
          "text": [
            "Parse progress: |█████████████████████████████████████████████████████████| 100%\n",
            "Parse progress: |█████████████████████████████████████████████████████████| 100%\n",
            "Parse progress: |█████████████████████████████████████████████████████████| 100%\n"
          ],
          "name": "stdout"
        }
      ]
    },
    {
      "cell_type": "code",
      "metadata": {
        "id": "1TW9eaIn-Rh9",
        "colab_type": "code",
        "colab": {}
      },
      "source": [
        "## Changing the datatype in Class column \n",
        "X_train_deeplearning[\"Class\"] = X_train_deeplearning[\"Class\"].asfactor()"
      ],
      "execution_count": 0,
      "outputs": []
    },
    {
      "cell_type": "code",
      "metadata": {
        "id": "XZ1pNVGzNbA6",
        "colab_type": "code",
        "colab": {}
      },
      "source": [
        "## The column names of the training data is required for deep learning model \n",
        "predictors = X_train_deeplearning.names[0:500]\n",
        "response = \"Class\""
      ],
      "execution_count": 0,
      "outputs": []
    },
    {
      "cell_type": "code",
      "metadata": {
        "id": "zBFzTgarUvyU",
        "colab_type": "code",
        "outputId": "eacf9dd9-62a8-4a44-9789-d9f80ed2288a",
        "colab": {
          "base_uri": "https://localhost:8080/",
          "height": 35
        }
      },
      "source": [
        "## Training the deeping learning model\n",
        "deep_learning = H2ODeepLearningEstimator(\n",
        "    distribution = 'multinomial',\n",
        "    activation = 'maxoutwithdropout',\n",
        "    hidden = [70, 70, 70],\n",
        "    input_dropout_ratio = 0.2,\n",
        "    sparse = True,\n",
        "    l1 = 1e-5,\n",
        "    epochs = 100\n",
        ")\n",
        "deep_learning.train(x = predictors, y = response, training_frame = X_train_deeplearning)"
      ],
      "execution_count": 0,
      "outputs": [
        {
          "output_type": "stream",
          "text": [
            "deeplearning Model Build progress: |██████████████████████████████████████| 100%\n"
          ],
          "name": "stdout"
        }
      ]
    },
    {
      "cell_type": "code",
      "metadata": {
        "id": "pj-mESbvzURE",
        "colab_type": "code",
        "outputId": "dd7d6ccc-48a0-4d5b-929e-dea1ae35396b",
        "colab": {
          "base_uri": "https://localhost:8080/",
          "height": 35
        }
      },
      "source": [
        "## Performing the predictions using deep learning model \n",
        "X_validation_deeplearning[\"Class\"] = None\n",
        "pred = deep_learning.predict(X_validation_deeplearning)"
      ],
      "execution_count": 0,
      "outputs": [
        {
          "output_type": "stream",
          "text": [
            "deeplearning prediction progress: |███████████████████████████████████████| 100%\n"
          ],
          "name": "stdout"
        }
      ]
    },
    {
      "cell_type": "markdown",
      "metadata": {
        "colab_type": "text",
        "id": "C_CBPUjKJR1l"
      },
      "source": [
        "## Model evaluation on labeled dataset\n",
        "We use the classification report functionality in sklearn to obtain accuracy results. We evaluate the models, and produce a classification report and a confusion matrix for each one of them."
      ]
    },
    {
      "cell_type": "code",
      "metadata": {
        "id": "2lo-YpWM_ycl",
        "colab_type": "code",
        "colab": {}
      },
      "source": [
        "def evaluate_labels(y_true, y_pred):\n",
        "    \"\"\"Provides detailed metrics between true labels and\n",
        "    predicted labels outputted by a classifier\n",
        "    \"\"\"\n",
        "    print(\"Classification report:\")\n",
        "    print(classification_report(y_true, y_pred, digits=4))\n",
        "    print(\"Confusion matrix:\")\n",
        "    print(confusion_matrix(y_true, y_pred))"
      ],
      "execution_count": 0,
      "outputs": []
    },
    {
      "cell_type": "markdown",
      "metadata": {
        "id": "JgHVPsEZJrSK",
        "colab_type": "text"
      },
      "source": [
        "### Stochastic gradient descent"
      ]
    },
    {
      "cell_type": "code",
      "metadata": {
        "id": "9_XLQGgaJaRS",
        "colab_type": "code",
        "outputId": "ef2ccf6a-7a9d-4deb-9149-6e9fc16e595a",
        "colab": {
          "base_uri": "https://localhost:8080/",
          "height": 366
        }
      },
      "source": [
        "y_sgd_pred = sgd_model.predict(X_validation)\n",
        "evaluate_labels(y_validation, y_sgd_pred)"
      ],
      "execution_count": 0,
      "outputs": [
        {
          "output_type": "stream",
          "text": [
            "Classification report:\n",
            "              precision    recall  f1-score   support\n",
            "\n",
            "           1     0.6495    0.7705    0.7048      3037\n",
            "           2     0.5246    0.4647    0.4928      2987\n",
            "           3     0.5258    0.4581    0.4896      2984\n",
            "           4     0.5267    0.4687    0.4960      2987\n",
            "           5     0.6436    0.7481    0.6919      3005\n",
            "\n",
            "    accuracy                         0.5829     15000\n",
            "   macro avg     0.5740    0.5820    0.5750     15000\n",
            "weighted avg     0.5744    0.5829    0.5756     15000\n",
            "\n",
            "Confusion matrix:\n",
            "[[2340  522   88   21   66]\n",
            " [ 802 1388  583  117   97]\n",
            " [ 251  587 1367  576  203]\n",
            " [ 101  116  491 1400  879]\n",
            " [ 109   33   71  544 2248]]\n"
          ],
          "name": "stdout"
        }
      ]
    },
    {
      "cell_type": "markdown",
      "metadata": {
        "id": "b6u994IAJt5J",
        "colab_type": "text"
      },
      "source": [
        "### Multinomial naive Bayes"
      ]
    },
    {
      "cell_type": "code",
      "metadata": {
        "id": "Qqduxak-JiiJ",
        "colab_type": "code",
        "outputId": "c72c5202-e662-4353-88a4-e8455ef393ae",
        "colab": {
          "base_uri": "https://localhost:8080/",
          "height": 366
        }
      },
      "source": [
        "y_mnb_pred = mnb_model.predict(X_validation)\n",
        "evaluate_labels(y_validation, y_mnb_pred)"
      ],
      "execution_count": 0,
      "outputs": [
        {
          "output_type": "stream",
          "text": [
            "Classification report:\n",
            "              precision    recall  f1-score   support\n",
            "\n",
            "           1     0.5871    0.7000    0.6386      3037\n",
            "           2     0.4546    0.5370    0.4924      2987\n",
            "           3     0.4807    0.5245    0.5016      2984\n",
            "           4     0.5082    0.5102    0.5092      2987\n",
            "           5     0.8289    0.4403    0.5751      3005\n",
            "\n",
            "    accuracy                         0.5428     15000\n",
            "   macro avg     0.5719    0.5424    0.5434     15000\n",
            "weighted avg     0.5723    0.5428    0.5437     15000\n",
            "\n",
            "Confusion matrix:\n",
            "[[2126  822   76    8    5]\n",
            " [ 713 1604  625   41    4]\n",
            " [ 303  745 1565  349   22]\n",
            " [ 169  259  793 1524  242]\n",
            " [ 310   98  197 1077 1323]]\n"
          ],
          "name": "stdout"
        }
      ]
    },
    {
      "cell_type": "markdown",
      "metadata": {
        "id": "ZslL-BEEh2_F",
        "colab_type": "text"
      },
      "source": [
        "### Deep learning"
      ]
    },
    {
      "cell_type": "code",
      "metadata": {
        "id": "LJh_ABcxh8Be",
        "colab_type": "code",
        "outputId": "8724bc24-a094-4216-a515-e7a34f1d7b18",
        "colab": {
          "base_uri": "https://localhost:8080/",
          "height": 366
        }
      },
      "source": [
        "y_validation_array = y_validation_deeplearning.as_data_frame().as_matrix()\n",
        "y_dl_pred = pred['predict'].as_data_frame().as_matrix()\n",
        "evaluate_labels(y_validation_array, y_dl_pred)"
      ],
      "execution_count": 0,
      "outputs": [
        {
          "output_type": "stream",
          "text": [
            "Classification report:\n",
            "              precision    recall  f1-score   support\n",
            "\n",
            "           1     0.6923    0.7402    0.7155      3037\n",
            "           2     0.5192    0.4255    0.4677      2987\n",
            "           3     0.4862    0.5670    0.5235      2984\n",
            "           4     0.5075    0.5454    0.5257      2987\n",
            "           5     0.7327    0.6376    0.6819      3005\n",
            "\n",
            "    accuracy                         0.5837     15000\n",
            "   macro avg     0.5876    0.5831    0.5829     15000\n",
            "weighted avg     0.5881    0.5837    0.5834     15000\n",
            "\n",
            "Confusion matrix:\n",
            "[[2248  584  130   32   43]\n",
            " [ 684 1271  848  129   55]\n",
            " [ 166  469 1692  565   92]\n",
            " [  75   85  689 1629  509]\n",
            " [  74   39  121  855 1916]]\n"
          ],
          "name": "stdout"
        }
      ]
    },
    {
      "cell_type": "markdown",
      "metadata": {
        "id": "hmshIL3gIDxT",
        "colab_type": "text"
      },
      "source": [
        "### Model comparison\n",
        "We compare the accuracy of the three different models."
      ]
    },
    {
      "cell_type": "code",
      "metadata": {
        "id": "N_YW6jxeILvi",
        "colab_type": "code",
        "outputId": "c2f2e4c3-2063-4566-c888-76a61fa11fed",
        "colab": {
          "base_uri": "https://localhost:8080/",
          "height": 143
        }
      },
      "source": [
        "## Summarise label predictions in a dictionary\n",
        "labeled_predictions = {\n",
        "    \"Stochastic gradient descent\": [y_sgd_pred],\n",
        "    \"Multinomial naive Bayes\": [y_mnb_pred],\n",
        "    \"Deep learning\": [y_dl_pred]\n",
        "}\n",
        "\n",
        "## Arrange it into a dataframe, and compute the accuracy scores\n",
        "accuracy_comparison_df = pd.DataFrame(labeled_predictions).T\n",
        "accuracy_comparison_df.columns = ['Accuracy (labeled)']\n",
        "compute_accuracy = lambda y_pred: accuracy_score(y_validation, y_pred)\n",
        "accuracy_comparison_df['Accuracy (labeled)'] = \\\n",
        "    accuracy_comparison_df['Accuracy (labeled)'].apply(compute_accuracy)\n",
        "accuracy_comparison_df.columns.name = 'Classifier'\n",
        "\n",
        "## Display it\n",
        "accuracy_comparison_df"
      ],
      "execution_count": 0,
      "outputs": [
        {
          "output_type": "execute_result",
          "data": {
            "text/html": [
              "<div>\n",
              "<style scoped>\n",
              "    .dataframe tbody tr th:only-of-type {\n",
              "        vertical-align: middle;\n",
              "    }\n",
              "\n",
              "    .dataframe tbody tr th {\n",
              "        vertical-align: top;\n",
              "    }\n",
              "\n",
              "    .dataframe thead th {\n",
              "        text-align: right;\n",
              "    }\n",
              "</style>\n",
              "<table border=\"1\" class=\"dataframe\">\n",
              "  <thead>\n",
              "    <tr style=\"text-align: right;\">\n",
              "      <th>Classifier</th>\n",
              "      <th>Accuracy (labeled)</th>\n",
              "    </tr>\n",
              "  </thead>\n",
              "  <tbody>\n",
              "    <tr>\n",
              "      <th>Stochastic gradient descent</th>\n",
              "      <td>0.5829</td>\n",
              "    </tr>\n",
              "    <tr>\n",
              "      <th>Multinomial naive Bayes</th>\n",
              "      <td>0.5428</td>\n",
              "    </tr>\n",
              "    <tr>\n",
              "      <th>Deep learning</th>\n",
              "      <td>0.5837</td>\n",
              "    </tr>\n",
              "  </tbody>\n",
              "</table>\n",
              "</div>"
            ],
            "text/plain": [
              "Classifier                   Accuracy (labeled)\n",
              "Stochastic gradient descent 0.5829             \n",
              "Multinomial naive Bayes     0.5428             \n",
              "Deep learning               0.5837             "
            ]
          },
          "metadata": {
            "tags": []
          },
          "execution_count": 94
        }
      ]
    },
    {
      "cell_type": "markdown",
      "metadata": {
        "id": "1GCZPGupAvjE",
        "colab_type": "text"
      },
      "source": [
        "## Semi-supervised learning: Learning from unlabelled data\n",
        "We use a self-learning approach in an attempt to improve the classification accuracy of each model."
      ]
    },
    {
      "cell_type": "markdown",
      "metadata": {
        "id": "IeW1xV8FNHFC",
        "colab_type": "text"
      },
      "source": [
        "### Preprocessing and feature set generation on unlabelled set\n",
        "We first preprocess the text in unlabelled dataset, and generate the features using the same `tfidf_vectorizer` as we have used for the labelled set."
      ]
    },
    {
      "cell_type": "code",
      "metadata": {
        "id": "FHOkttHmJ405",
        "colab_type": "code",
        "outputId": "16ff3881-8a45-445b-98dc-74c180f41a1f",
        "colab": {
          "base_uri": "https://localhost:8080/",
          "height": 54
        }
      },
      "source": [
        "%%time\n",
        "with mp.Pool(mp.cpu_count()) as pool:\n",
        "    # unlabeled_data['clean_text'] = pool.map(preprocess_text, unlabeled_data['text'])\n",
        "    clean_text = pool.map(preprocess_text, unlabeled_data['text'][0:50000])"
      ],
      "execution_count": 0,
      "outputs": [
        {
          "output_type": "stream",
          "text": [
            "CPU times: user 1.48 s, sys: 1.13 s, total: 2.61 s\n",
            "Wall time: 2min 13s\n"
          ],
          "name": "stdout"
        }
      ]
    },
    {
      "cell_type": "code",
      "metadata": {
        "id": "PnJwY6G-cijQ",
        "colab_type": "code",
        "outputId": "6f4fe675-fb3b-4680-e4b6-defff1691cbb",
        "colab": {
          "base_uri": "https://localhost:8080/",
          "height": 54
        }
      },
      "source": [
        "%%time\n",
        "X_unlabeled = tfidf_vectorizer.transform(pd.Series(clean_text).astype('str'))"
      ],
      "execution_count": 0,
      "outputs": [
        {
          "output_type": "stream",
          "text": [
            "CPU times: user 15.7 s, sys: 250 ms, total: 15.9 s\n",
            "Wall time: 16 s\n"
          ],
          "name": "stdout"
        }
      ]
    },
    {
      "cell_type": "markdown",
      "metadata": {
        "id": "Prlqjbg8NUXg",
        "colab_type": "text"
      },
      "source": [
        "### Algorithm\n",
        "Repeating until the unlabeled dataset becomes empty, we make some probability predictions for the unlabeled set, obtain the k most confident examples, then move these examples from the unlabeled to the labeled datasets."
      ]
    },
    {
      "cell_type": "code",
      "metadata": {
        "id": "mMxYuaIG5bU3",
        "colab_type": "code",
        "colab": {}
      },
      "source": [
        "def self_learning(model, X_train, y_train, X_unlabeled, k = 1000):\n",
        "    X_ssl = np.copy(X_train)\n",
        "    X_ssl = X_ssl[()]\n",
        "    y_ssl = np.copy(y_train)\n",
        "\n",
        "    left_over_indices = np.arange(X_unlabeled.shape[0])\n",
        "    while len(left_over_indices) > 0:\n",
        "        ## Print how many unlabelled examples are left\n",
        "        print(len(left_over_indices), \"unlabelled examples left\")\n",
        "\n",
        "        ## Train model on new dataset\n",
        "        model.fit(X_ssl, y_ssl)\n",
        "\n",
        "        ## obtain prediction probabilities for all unlabeled examples\n",
        "        prediction_proba = model.predict_proba(X_unlabeled[left_over_indices])\n",
        "\n",
        "        ## obtain k most confident predictions\n",
        "        maximum_proba = prediction_proba.max(axis=1)\n",
        "        k_most_confident_predictions = np.argsort(maximum_proba)[::-1][:k]\n",
        "        y_predictions = np.argmax(prediction_proba[k_most_confident_predictions,], axis=1)\n",
        "\n",
        "        ## add k most confident predictions to labeled set\n",
        "        X_ssl = vstack((X_ssl, X_unlabeled[left_over_indices][k_most_confident_predictions]))\n",
        "        y_ssl = np.concatenate([y_ssl, y_predictions])\n",
        "\n",
        "        ## Remove k most confident predictions from unlabeled set\n",
        "        left_over_indices = np.setdiff1d(left_over_indices, left_over_indices[k_most_confident_predictions])\n",
        "\n",
        "    ## Finalise training model on completely labeled dataset\n",
        "    print(\"Finalising training...\")\n",
        "    model.fit(X_ssl, y_ssl)\n",
        "\n",
        "    return model"
      ],
      "execution_count": 0,
      "outputs": []
    },
    {
      "cell_type": "markdown",
      "metadata": {
        "id": "qjie3dMGYRVu",
        "colab_type": "text"
      },
      "source": [
        "### Stochastic gradient descent\n",
        "We train the stochastic gradient descent model using the self-learning procedure."
      ]
    },
    {
      "cell_type": "code",
      "metadata": {
        "id": "qcL_Z5cLN1ST",
        "colab_type": "code",
        "outputId": "4cd92694-9692-4d50-d920-c14a896227f1",
        "colab": {
          "base_uri": "https://localhost:8080/",
          "height": 164
        }
      },
      "source": [
        "%%time\n",
        "sgd_model_ssl = self_learning(\n",
        "    SGDClassifier(random_state=3, loss='log'),\n",
        "    X_train, y_train,\n",
        "    X_unlabeled,\n",
        "    k = 10000\n",
        ")"
      ],
      "execution_count": 0,
      "outputs": [
        {
          "output_type": "stream",
          "text": [
            "50000 unlabelled examples left\n",
            "40000 unlabelled examples left\n",
            "30000 unlabelled examples left\n",
            "20000 unlabelled examples left\n",
            "10000 unlabelled examples left\n",
            "Finalising training...\n",
            "CPU times: user 43.2 s, sys: 4.09 s, total: 47.3 s\n",
            "Wall time: 42.9 s\n"
          ],
          "name": "stdout"
        }
      ]
    },
    {
      "cell_type": "markdown",
      "metadata": {
        "id": "aJFNi8YYYV3W",
        "colab_type": "text"
      },
      "source": [
        "### Multinomial naive Bayes\n",
        "We train the multinomial naive Bayes model using the self-learning procedure."
      ]
    },
    {
      "cell_type": "code",
      "metadata": {
        "id": "RJW4BIr0YZc4",
        "colab_type": "code",
        "outputId": "23cd5c06-5f98-485b-f70c-6e32bf811461",
        "colab": {
          "base_uri": "https://localhost:8080/",
          "height": 164
        }
      },
      "source": [
        "%%time\n",
        "mnb_model_ssl = self_learning(\n",
        "    MultinomialNB(),\n",
        "    X_train, y_train,\n",
        "    X_unlabeled,\n",
        "    k = 10000\n",
        ")"
      ],
      "execution_count": 0,
      "outputs": [
        {
          "output_type": "stream",
          "text": [
            "50000 unlabelled examples left\n",
            "40000 unlabelled examples left\n",
            "30000 unlabelled examples left\n",
            "20000 unlabelled examples left\n",
            "10000 unlabelled examples left\n",
            "Finalising training...\n",
            "CPU times: user 4.38 s, sys: 134 ms, total: 4.52 s\n",
            "Wall time: 4.54 s\n"
          ],
          "name": "stdout"
        }
      ]
    },
    {
      "cell_type": "markdown",
      "metadata": {
        "id": "1deeIuCfiyIk",
        "colab_type": "text"
      },
      "source": [
        "### Deep learning\n",
        "Unlike the other two procedures, we use a different procedure to train the deep learning model on the unlabelled set."
      ]
    },
    {
      "cell_type": "code",
      "metadata": {
        "id": "ziXfy_6Wc1wU",
        "colab_type": "code",
        "colab": {}
      },
      "source": [
        "# Reducing the dimension for unlabeled data\n",
        "X_unlabeled_new = reduce_dimensions(X_unlabeled)"
      ],
      "execution_count": 0,
      "outputs": []
    },
    {
      "cell_type": "code",
      "metadata": {
        "id": "AcQSKc4rMYb9",
        "colab_type": "code",
        "outputId": "36885e7f-bfe6-4cdd-ea27-56df34afee80",
        "colab": {
          "base_uri": "https://localhost:8080/",
          "height": 35
        }
      },
      "source": [
        "# Cleaning and transforming the data frame to h2o dataframe  \n",
        "X_dataframe_unlabeled = pd.DataFrame.from_records(X_unlabeled_new)\n",
        "X_dataframe_unlabeled.columns = X_dataframe_unlabeled.columns.astype('str')\n",
        "X_train_unlabeled = h2o.H2OFrame(X_dataframe_unlabeled)"
      ],
      "execution_count": 0,
      "outputs": [
        {
          "output_type": "stream",
          "text": [
            "Parse progress: |█████████████████████████████████████████████████████████| 100%\n"
          ],
          "name": "stdout"
        }
      ]
    },
    {
      "cell_type": "code",
      "metadata": {
        "id": "a4yaAG_Pi2ol",
        "colab_type": "code",
        "colab": {}
      },
      "source": [
        "X_train_unlabeled[\"Class\"] = None "
      ],
      "execution_count": 0,
      "outputs": []
    },
    {
      "cell_type": "code",
      "metadata": {
        "id": "XrpMzfoai6tR",
        "colab_type": "code",
        "outputId": "1b5df917-120a-4db2-8f88-b68f1f3c6724",
        "colab": {
          "base_uri": "https://localhost:8080/",
          "height": 35
        }
      },
      "source": [
        "# Performing prediction on unlabeled data \n",
        "predict = deep_learning.predict(X_train_unlabeled)"
      ],
      "execution_count": 0,
      "outputs": [
        {
          "output_type": "stream",
          "text": [
            "deeplearning prediction progress: |███████████████████████████████████████| 100%\n"
          ],
          "name": "stdout"
        }
      ]
    },
    {
      "cell_type": "code",
      "metadata": {
        "id": "UylZQOmevb38",
        "colab_type": "code",
        "outputId": "f9e81e51-7d51-4d3c-c1ed-b570c695f1d2",
        "colab": {
          "base_uri": "https://localhost:8080/",
          "height": 54
        }
      },
      "source": [
        "X_train"
      ],
      "execution_count": 0,
      "outputs": [
        {
          "output_type": "execute_result",
          "data": {
            "text/plain": [
              "<35000x341801 sparse matrix of type '<class 'numpy.float64'>'\n",
              "\twith 5987328 stored elements in Compressed Sparse Row format>"
            ]
          },
          "metadata": {
            "tags": []
          },
          "execution_count": 102
        }
      ]
    },
    {
      "cell_type": "code",
      "metadata": {
        "id": "K_HllFTPjAPG",
        "colab_type": "code",
        "outputId": "cf181b0a-4c39-4766-a2d5-9f178fde5e5f",
        "colab": {
          "base_uri": "https://localhost:8080/",
          "height": 340
        }
      },
      "source": [
        "# Transferring to dataframe for easier data manipulation \n",
        "pd_frame = predict.as_data_frame(use_pandas=True)\n",
        "unlabeled_frame = X_train_unlabeled.as_data_frame(use_pandas=True)\n",
        "labeled_frame = X_train.as_data_frame(use_pandas=True)"
      ],
      "execution_count": 0,
      "outputs": [
        {
          "output_type": "error",
          "ename": "AttributeError",
          "evalue": "ignored",
          "traceback": [
            "\u001b[0;31m---------------------------------------------------------------------------\u001b[0m",
            "\u001b[0;31mAttributeError\u001b[0m                            Traceback (most recent call last)",
            "\u001b[0;32m<ipython-input-74-1fc57ea61713>\u001b[0m in \u001b[0;36m<module>\u001b[0;34m()\u001b[0m\n\u001b[1;32m      1\u001b[0m \u001b[0mpd_frame\u001b[0m \u001b[0;34m=\u001b[0m \u001b[0mpredict\u001b[0m\u001b[0;34m.\u001b[0m\u001b[0mas_data_frame\u001b[0m\u001b[0;34m(\u001b[0m\u001b[0muse_pandas\u001b[0m\u001b[0;34m=\u001b[0m\u001b[0;32mTrue\u001b[0m\u001b[0;34m)\u001b[0m\u001b[0;34m\u001b[0m\u001b[0;34m\u001b[0m\u001b[0m\n\u001b[1;32m      2\u001b[0m \u001b[0munlabeled_frame\u001b[0m \u001b[0;34m=\u001b[0m \u001b[0mX_train_unlabeled\u001b[0m\u001b[0;34m.\u001b[0m\u001b[0mas_data_frame\u001b[0m\u001b[0;34m(\u001b[0m\u001b[0muse_pandas\u001b[0m\u001b[0;34m=\u001b[0m\u001b[0;32mTrue\u001b[0m\u001b[0;34m)\u001b[0m\u001b[0;34m\u001b[0m\u001b[0;34m\u001b[0m\u001b[0m\n\u001b[0;32m----> 3\u001b[0;31m \u001b[0mlabeled_frame\u001b[0m \u001b[0;34m=\u001b[0m \u001b[0mX_train\u001b[0m\u001b[0;34m.\u001b[0m\u001b[0mas_data_frame\u001b[0m\u001b[0;34m(\u001b[0m\u001b[0muse_pandas\u001b[0m\u001b[0;34m=\u001b[0m\u001b[0;32mTrue\u001b[0m\u001b[0;34m)\u001b[0m\u001b[0;34m\u001b[0m\u001b[0;34m\u001b[0m\u001b[0m\n\u001b[0m",
            "\u001b[0;32m/usr/local/lib/python3.6/dist-packages/scipy/sparse/base.py\u001b[0m in \u001b[0;36m__getattr__\u001b[0;34m(self, attr)\u001b[0m\n\u001b[1;32m    686\u001b[0m             \u001b[0;32mreturn\u001b[0m \u001b[0mself\u001b[0m\u001b[0;34m.\u001b[0m\u001b[0mgetnnz\u001b[0m\u001b[0;34m(\u001b[0m\u001b[0;34m)\u001b[0m\u001b[0;34m\u001b[0m\u001b[0;34m\u001b[0m\u001b[0m\n\u001b[1;32m    687\u001b[0m         \u001b[0;32melse\u001b[0m\u001b[0;34m:\u001b[0m\u001b[0;34m\u001b[0m\u001b[0;34m\u001b[0m\u001b[0m\n\u001b[0;32m--> 688\u001b[0;31m             \u001b[0;32mraise\u001b[0m \u001b[0mAttributeError\u001b[0m\u001b[0;34m(\u001b[0m\u001b[0mattr\u001b[0m \u001b[0;34m+\u001b[0m \u001b[0;34m\" not found\"\u001b[0m\u001b[0;34m)\u001b[0m\u001b[0;34m\u001b[0m\u001b[0;34m\u001b[0m\u001b[0m\n\u001b[0m\u001b[1;32m    689\u001b[0m \u001b[0;34m\u001b[0m\u001b[0m\n\u001b[1;32m    690\u001b[0m     \u001b[0;32mdef\u001b[0m \u001b[0mtranspose\u001b[0m\u001b[0;34m(\u001b[0m\u001b[0mself\u001b[0m\u001b[0;34m,\u001b[0m \u001b[0maxes\u001b[0m\u001b[0;34m=\u001b[0m\u001b[0;32mNone\u001b[0m\u001b[0;34m,\u001b[0m \u001b[0mcopy\u001b[0m\u001b[0;34m=\u001b[0m\u001b[0;32mFalse\u001b[0m\u001b[0;34m)\u001b[0m\u001b[0;34m:\u001b[0m\u001b[0;34m\u001b[0m\u001b[0;34m\u001b[0m\u001b[0m\n",
            "\u001b[0;31mAttributeError\u001b[0m: as_data_frame not found"
          ]
        }
      ]
    },
    {
      "cell_type": "code",
      "metadata": {
        "id": "UusBYq_6jDa5",
        "colab_type": "code",
        "colab": {}
      },
      "source": [
        "# The predictions with probability more than 80% is added to the labeled dataset  \n",
        "for i in range(len(pd_frame['p1'])):\n",
        "    if pd_frame['p1'].iloc[i] > 0.8:\n",
        "        unlabeled_frame.iloc[i,500] ='1'\n",
        "        labeled_frame = labeled_frame.append(unlabeled_frame.iloc[i])\n",
        "    if pd_frame['p2'].iloc[i] > 0.8:\n",
        "        unlabeled_frame.iloc[i,500] ='2'\n",
        "        labeled_frame = labeled_frame.append(unlabeled_frame.iloc[i])\n",
        "    if pd_frame['p3'].iloc[i] > 0.8:\n",
        "        unlabeled_frame.iloc[i,500] ='3'\n",
        "        labeled_frame = labeled_frame.append(unlabeled_frame.iloc[i])\n",
        "    if pd_frame['p4'].iloc[i] > 0.8:\n",
        "        unlabeled_frame.iloc[i,500] ='4'\n",
        "        labeled_frame = labeled_frame.append(unlabeled_frame.iloc[i])\n",
        "    if pd_frame['p5'].iloc[i] > 0.8:\n",
        "        unlabeled_frame.iloc[i,500] ='5'\n",
        "        labeled_frame = labeled_frame.append(unlabeled_frame.iloc[i])"
      ],
      "execution_count": 0,
      "outputs": []
    },
    {
      "cell_type": "code",
      "metadata": {
        "id": "B_BB4-E-jHNO",
        "colab_type": "code",
        "colab": {}
      },
      "source": [
        "labeled_frame.columns = labeled_frame.columns.astype('str')\n",
        "labeled_frame['Class'] = labeled_frame['Class'].astype('category')\n",
        "X_train = h2o.H2OFrame(labeled_frame)\n",
        "X_train[\"Class\"] = X_train[\"Class\"].asfactor()"
      ],
      "execution_count": 0,
      "outputs": []
    },
    {
      "cell_type": "code",
      "metadata": {
        "id": "hMGodzuAjQZY",
        "colab_type": "code",
        "colab": {}
      },
      "source": [
        "# redo the model training and prediction \n",
        "deep_learning = H2ODeepLearningEstimator(\n",
        "    distribution = 'multinomial',\n",
        "    activation = 'maxoutwithdropout',\n",
        "    hidden = [60,60,60],\n",
        "    input_dropout_ratio = 0.2,\n",
        "    sparse = True,\n",
        "    l1 = 1e-5,\n",
        "    epochs = 80\n",
        ")\n",
        "deep_learning.train(x = predictors, y = response, training_frame = X_train)"
      ],
      "execution_count": 0,
      "outputs": []
    },
    {
      "cell_type": "markdown",
      "metadata": {
        "id": "sM1cB3iQhyy5",
        "colab_type": "text"
      },
      "source": [
        "## Evaluating semi-supervised models\n",
        "We evaluate our semi-supervised models, to see if the classification accuracy has been improved."
      ]
    },
    {
      "cell_type": "markdown",
      "metadata": {
        "id": "x5e3t8HhZYP1",
        "colab_type": "text"
      },
      "source": [
        "### Stochastic gradient descent"
      ]
    },
    {
      "cell_type": "code",
      "metadata": {
        "id": "AnoXD4-zMyiH",
        "colab_type": "code",
        "outputId": "9cd38586-037c-4f84-b2e9-95e0556e48f1",
        "colab": {
          "base_uri": "https://localhost:8080/",
          "height": 403
        }
      },
      "source": [
        "y_sgd_ssl_pred = sgd_model_ssl.predict(X_validation)\n",
        "evaluate_labels(y_validation, y_sgd_ssl_pred)"
      ],
      "execution_count": 0,
      "outputs": [
        {
          "output_type": "stream",
          "text": [
            "Classification report:\n",
            "              precision    recall  f1-score   support\n",
            "\n",
            "           0     0.0000    0.0000    0.0000         0\n",
            "           1     0.9237    0.0359    0.0691      3037\n",
            "           2     0.4401    0.3679    0.4008      2987\n",
            "           3     0.6071    0.0513    0.0946      2984\n",
            "           4     0.2469    0.9588    0.3927      2987\n",
            "           5     0.0000    0.0000    0.0000      3005\n",
            "\n",
            "    accuracy                         0.2817     15000\n",
            "   macro avg     0.3696    0.2357    0.1595     15000\n",
            "weighted avg     0.4446    0.2817    0.1908     15000\n",
            "\n",
            "Confusion matrix:\n",
            "[[   0    0    0    0    0    0]\n",
            " [ 430  109  803    4 1691    0]\n",
            " [  68    8 1099   48 1764    0]\n",
            " [  21    1  508  153 2301    0]\n",
            " [   5    0   75   43 2864    0]\n",
            " [   9    0   12    4 2980    0]]\n"
          ],
          "name": "stdout"
        }
      ]
    },
    {
      "cell_type": "markdown",
      "metadata": {
        "id": "ZxCO1lk6ZUP0",
        "colab_type": "text"
      },
      "source": [
        "### Multinomial naive Bayes"
      ]
    },
    {
      "cell_type": "code",
      "metadata": {
        "id": "XABSqZdJY7Xi",
        "colab_type": "code",
        "outputId": "392577e0-8a32-4df4-b860-a1603e22c066",
        "colab": {
          "base_uri": "https://localhost:8080/",
          "height": 403
        }
      },
      "source": [
        "y_mnb_ssl_pred = mnb_model_ssl.predict(X_validation)\n",
        "evaluate_labels(y_validation, y_mnb_ssl_pred)"
      ],
      "execution_count": 0,
      "outputs": [
        {
          "output_type": "stream",
          "text": [
            "Classification report:\n",
            "              precision    recall  f1-score   support\n",
            "\n",
            "           0     0.0000    0.0000    0.0000         0\n",
            "           1     0.9583    0.0076    0.0150      3037\n",
            "           2     0.0000    0.0000    0.0000      2987\n",
            "           3     0.3750    0.0080    0.0157      2984\n",
            "           4     0.2042    0.9926    0.3387      2987\n",
            "           5     0.4000    0.0007    0.0013      3005\n",
            "\n",
            "    accuracy                         0.2009     15000\n",
            "   macro avg     0.3229    0.1682    0.0618     15000\n",
            "weighted avg     0.3894    0.2009    0.0739     15000\n",
            "\n",
            "Confusion matrix:\n",
            "[[   0    0    0    0    0    0]\n",
            " [ 331   23    0    3 2678    2]\n",
            " [  38    1    0    9 2939    0]\n",
            " [  10    0    0   24 2949    1]\n",
            " [   3    0    0   19 2965    0]\n",
            " [   5    0    0    9 2989    2]]\n"
          ],
          "name": "stdout"
        }
      ]
    },
    {
      "cell_type": "markdown",
      "metadata": {
        "id": "dLnD7EISZO2f",
        "colab_type": "text"
      },
      "source": [
        "### Deep learning"
      ]
    },
    {
      "cell_type": "code",
      "metadata": {
        "id": "-KInKasrkUi7",
        "colab_type": "code",
        "outputId": "ac76533b-dc79-4427-d442-00abf58f78a2",
        "colab": {
          "base_uri": "https://localhost:8080/",
          "height": 358
        }
      },
      "source": [
        "deep_learning_pred = deep_learning.predict(X_validation)\n",
        "y_validation_array = y_validation_deeplearning.as_matrix().flatten()\n",
        "y_dl_ssl_pred = deep_learning_pred[\"predict\"].as_data_frame().as_matrix()\n",
        "evaluate_labels(y_validation_array, y_dl_ssl_pred)"
      ],
      "execution_count": 0,
      "outputs": [
        {
          "output_type": "error",
          "ename": "ValueError",
          "evalue": "ignored",
          "traceback": [
            "\u001b[0;31m---------------------------------------------------------------------------\u001b[0m",
            "\u001b[0;31mValueError\u001b[0m                                Traceback (most recent call last)",
            "\u001b[0;32m<ipython-input-83-f9231f70c3f9>\u001b[0m in \u001b[0;36m<module>\u001b[0;34m()\u001b[0m\n\u001b[0;32m----> 1\u001b[0;31m \u001b[0mdeep_learning_pred\u001b[0m \u001b[0;34m=\u001b[0m \u001b[0mdeep_learning\u001b[0m\u001b[0;34m.\u001b[0m\u001b[0mpredict\u001b[0m\u001b[0;34m(\u001b[0m\u001b[0mX_validation\u001b[0m\u001b[0;34m)\u001b[0m\u001b[0;34m\u001b[0m\u001b[0;34m\u001b[0m\u001b[0m\n\u001b[0m\u001b[1;32m      2\u001b[0m \u001b[0my_validation_array\u001b[0m \u001b[0;34m=\u001b[0m \u001b[0my_validation_deeplearning\u001b[0m\u001b[0;34m.\u001b[0m\u001b[0mas_matrix\u001b[0m\u001b[0;34m(\u001b[0m\u001b[0;34m)\u001b[0m\u001b[0;34m.\u001b[0m\u001b[0mflatten\u001b[0m\u001b[0;34m(\u001b[0m\u001b[0;34m)\u001b[0m\u001b[0;34m\u001b[0m\u001b[0;34m\u001b[0m\u001b[0m\n\u001b[1;32m      3\u001b[0m \u001b[0my_dl_ssl_pred\u001b[0m \u001b[0;34m=\u001b[0m \u001b[0mdeep_learning_pred\u001b[0m\u001b[0;34m[\u001b[0m\u001b[0;34m\"predict\"\u001b[0m\u001b[0;34m]\u001b[0m\u001b[0;34m.\u001b[0m\u001b[0mas_data_frame\u001b[0m\u001b[0;34m(\u001b[0m\u001b[0;34m)\u001b[0m\u001b[0;34m.\u001b[0m\u001b[0mas_matrix\u001b[0m\u001b[0;34m(\u001b[0m\u001b[0;34m)\u001b[0m\u001b[0;34m\u001b[0m\u001b[0;34m\u001b[0m\u001b[0m\n\u001b[1;32m      4\u001b[0m \u001b[0mevaluate_labels\u001b[0m\u001b[0;34m(\u001b[0m\u001b[0my_validation_array\u001b[0m\u001b[0;34m,\u001b[0m \u001b[0my_dl_ssl_pred\u001b[0m\u001b[0;34m)\u001b[0m\u001b[0;34m\u001b[0m\u001b[0;34m\u001b[0m\u001b[0m\n",
            "\u001b[0;32m/usr/local/lib/python3.6/dist-packages/h2o/model/model_base.py\u001b[0m in \u001b[0;36mpredict\u001b[0;34m(self, test_data, custom_metric, custom_metric_func)\u001b[0m\n\u001b[1;32m    226\u001b[0m                              \"The argument 'eval_func_ref' cannot be specified when eval_func is specified, \")\n\u001b[1;32m    227\u001b[0m             \u001b[0meval_func_ref\u001b[0m \u001b[0;34m=\u001b[0m \u001b[0mh2o\u001b[0m\u001b[0;34m.\u001b[0m\u001b[0mupload_custom_metric\u001b[0m\u001b[0;34m(\u001b[0m\u001b[0mcustom_metric\u001b[0m\u001b[0;34m)\u001b[0m\u001b[0;34m\u001b[0m\u001b[0;34m\u001b[0m\u001b[0m\n\u001b[0;32m--> 228\u001b[0;31m         \u001b[0;32mif\u001b[0m \u001b[0;32mnot\u001b[0m \u001b[0misinstance\u001b[0m\u001b[0;34m(\u001b[0m\u001b[0mtest_data\u001b[0m\u001b[0;34m,\u001b[0m \u001b[0mh2o\u001b[0m\u001b[0;34m.\u001b[0m\u001b[0mH2OFrame\u001b[0m\u001b[0;34m)\u001b[0m\u001b[0;34m:\u001b[0m \u001b[0;32mraise\u001b[0m \u001b[0mValueError\u001b[0m\u001b[0;34m(\u001b[0m\u001b[0;34m\"test_data must be an instance of H2OFrame\"\u001b[0m\u001b[0;34m)\u001b[0m\u001b[0;34m\u001b[0m\u001b[0;34m\u001b[0m\u001b[0m\n\u001b[0m\u001b[1;32m    229\u001b[0m         j = H2OJob(h2o.api(\"POST /4/Predictions/models/%s/frames/%s\" % (self.model_id, test_data.frame_id), data = {'custom_metric_func': custom_metric_func}),\n\u001b[1;32m    230\u001b[0m                    self._model_json[\"algo\"] + \" prediction\")\n",
            "\u001b[0;31mValueError\u001b[0m: test_data must be an instance of H2OFrame"
          ]
        }
      ]
    },
    {
      "cell_type": "markdown",
      "metadata": {
        "id": "FvTnI96yLww1",
        "colab_type": "text"
      },
      "source": [
        "### Model comparison\n",
        "We see how well each model performs with regards to accuracy scores, and compare it with the accuracy scores on only the labelled dataset."
      ]
    },
    {
      "cell_type": "code",
      "metadata": {
        "id": "lJLq3MCrLymL",
        "colab_type": "code",
        "outputId": "64cdaaaf-5809-43ff-a4a0-c452719f117d",
        "colab": {
          "base_uri": "https://localhost:8080/",
          "height": 112
        }
      },
      "source": [
        "## Summarise label predictions in a dictionary\n",
        "ssl_predictions = {\n",
        "    \"Stochastic gradient descent\": [y_sgd_ssl_pred],\n",
        "    \"Multinomial naive Bayes\": [y_mnb_ssl_pred]#,\n",
        "    #\"Deep learning\": [y_dl_ssl_pred]\n",
        "}\n",
        "\n",
        "## Arrange it into a dataframe, and compute the accuracy scores\n",
        "accuracy_comparison_ssl_df = pd.DataFrame(ssl_predictions).T\n",
        "accuracy_comparison_ssl_df.columns = ['Accuracy (SSL)']\n",
        "accuracy_comparison_ssl_df['Accuracy (SSL)'] = \\\n",
        "    accuracy_comparison_ssl_df['Accuracy (SSL)'].apply(compute_accuracy)\n",
        "accuracy_comparison_ssl_df.columns.name = 'Classifier'\n",
        "accuracy_comparison_ssl_df\n",
        "\n",
        "## Merge the two dataframes together\n",
        "accuracy_comparison_df = \\\n",
        "    pd.merge(accuracy_comparison_df,\n",
        "             accuracy_comparison_ssl_df,\n",
        "             left_index=True,\n",
        "             right_index=True\n",
        "    )\n",
        "\n",
        "## Display it\n",
        "accuracy_comparison_df"
      ],
      "execution_count": 0,
      "outputs": [
        {
          "output_type": "execute_result",
          "data": {
            "text/html": [
              "<div>\n",
              "<style scoped>\n",
              "    .dataframe tbody tr th:only-of-type {\n",
              "        vertical-align: middle;\n",
              "    }\n",
              "\n",
              "    .dataframe tbody tr th {\n",
              "        vertical-align: top;\n",
              "    }\n",
              "\n",
              "    .dataframe thead th {\n",
              "        text-align: right;\n",
              "    }\n",
              "</style>\n",
              "<table border=\"1\" class=\"dataframe\">\n",
              "  <thead>\n",
              "    <tr style=\"text-align: right;\">\n",
              "      <th>Classifier</th>\n",
              "      <th>Accuracy (labeled)</th>\n",
              "      <th>Accuracy (SSL)</th>\n",
              "    </tr>\n",
              "  </thead>\n",
              "  <tbody>\n",
              "    <tr>\n",
              "      <th>Stochastic gradient descent</th>\n",
              "      <td>0.5829</td>\n",
              "      <td>0.2817</td>\n",
              "    </tr>\n",
              "    <tr>\n",
              "      <th>Multinomial naive Bayes</th>\n",
              "      <td>0.5428</td>\n",
              "      <td>0.2009</td>\n",
              "    </tr>\n",
              "  </tbody>\n",
              "</table>\n",
              "</div>"
            ],
            "text/plain": [
              "Classifier                   Accuracy (labeled)  Accuracy (SSL)\n",
              "Stochastic gradient descent 0.5829              0.2817         \n",
              "Multinomial naive Bayes     0.5428              0.2009         "
            ]
          },
          "metadata": {
            "tags": []
          },
          "execution_count": 95
        }
      ]
    },
    {
      "cell_type": "markdown",
      "metadata": {
        "id": "jA1O7Ta8SHxk",
        "colab_type": "text"
      },
      "source": [
        "## Predicting test labels\n",
        "We first decide which final model to use."
      ]
    },
    {
      "cell_type": "code",
      "metadata": {
        "id": "-rl4Ru4hX_t6",
        "colab_type": "code",
        "colab": {}
      },
      "source": [
        "## TO BE COMPLETED - Choosing SGD for now\n",
        "final_model = sgd_model"
      ],
      "execution_count": 0,
      "outputs": []
    },
    {
      "cell_type": "code",
      "metadata": {
        "id": "HhazDW6BQGkk",
        "colab_type": "code",
        "outputId": "65e0b9d7-7df2-4fc2-b3d5-e7447bb7eafd",
        "colab": {
          "base_uri": "https://localhost:8080/",
          "height": 54
        }
      },
      "source": [
        "%%time\n",
        "with mp.Pool(mp.cpu_count()) as pool:\n",
        "    test_data['clean_text'] = pool.map(preprocess_text, test_data['text'])"
      ],
      "execution_count": 0,
      "outputs": [
        {
          "output_type": "stream",
          "text": [
            "CPU times: user 3.07 s, sys: 1.26 s, total: 4.33 s\n",
            "Wall time: 2min 16s\n"
          ],
          "name": "stdout"
        }
      ]
    },
    {
      "cell_type": "code",
      "metadata": {
        "id": "yQ9-9Rl3SKHa",
        "colab_type": "code",
        "colab": {}
      },
      "source": [
        "test_text = test_data['clean_text'].astype('str')\n",
        "\n",
        "X_test = tfidf_vectorizer.transform(test_text)\n",
        "y_test_pred = final_model.predict(X_test)"
      ],
      "execution_count": 0,
      "outputs": []
    },
    {
      "cell_type": "code",
      "metadata": {
        "id": "ImEYR9rsY8ox",
        "colab_type": "code",
        "colab": {}
      },
      "source": [
        "predict_label = pd.DataFrame([y_test_pred]).T\n",
        "predict_label.columns = [\"label\"]\n",
        "predict_label.index.name = \"test_id\"\n",
        "predict_label.index = test_data[\"test_id\"]\n",
        "predict_label.to_csv(\"predict_label.csv\")"
      ],
      "execution_count": 0,
      "outputs": []
    },
    {
      "cell_type": "markdown",
      "metadata": {
        "id": "0692OH9bflT4",
        "colab_type": "text"
      },
      "source": [
        "Finally, since we are on colab environment, we download the predict file to our local computer."
      ]
    },
    {
      "cell_type": "code",
      "metadata": {
        "id": "doDUS-lIfeFk",
        "colab_type": "code",
        "outputId": "873479b6-7b6d-4870-e824-8eece19b73db",
        "colab": {
          "base_uri": "https://localhost:8080/",
          "height": 327
        }
      },
      "source": [
        "files.download(\"predict_label.csv\")"
      ],
      "execution_count": 0,
      "outputs": [
        {
          "output_type": "error",
          "ename": "MessageError",
          "evalue": "ignored",
          "traceback": [
            "\u001b[0;31m---------------------------------------------------------------------------\u001b[0m",
            "\u001b[0;31mMessageError\u001b[0m                              Traceback (most recent call last)",
            "\u001b[0;32m<ipython-input-101-89d5ee8b2452>\u001b[0m in \u001b[0;36m<module>\u001b[0;34m()\u001b[0m\n\u001b[0;32m----> 1\u001b[0;31m \u001b[0mfiles\u001b[0m\u001b[0;34m.\u001b[0m\u001b[0mdownload\u001b[0m\u001b[0;34m(\u001b[0m\u001b[0;34m\"predict_label.csv\"\u001b[0m\u001b[0;34m)\u001b[0m\u001b[0;34m\u001b[0m\u001b[0;34m\u001b[0m\u001b[0m\n\u001b[0m",
            "\u001b[0;32m/usr/local/lib/python3.6/dist-packages/google/colab/files.py\u001b[0m in \u001b[0;36mdownload\u001b[0;34m(filename)\u001b[0m\n\u001b[1;32m    176\u001b[0m       \u001b[0;34m'port'\u001b[0m\u001b[0;34m:\u001b[0m \u001b[0mport\u001b[0m\u001b[0;34m,\u001b[0m\u001b[0;34m\u001b[0m\u001b[0;34m\u001b[0m\u001b[0m\n\u001b[1;32m    177\u001b[0m       \u001b[0;34m'path'\u001b[0m\u001b[0;34m:\u001b[0m \u001b[0m_os\u001b[0m\u001b[0;34m.\u001b[0m\u001b[0mpath\u001b[0m\u001b[0;34m.\u001b[0m\u001b[0mabspath\u001b[0m\u001b[0;34m(\u001b[0m\u001b[0mfilename\u001b[0m\u001b[0;34m)\u001b[0m\u001b[0;34m,\u001b[0m\u001b[0;34m\u001b[0m\u001b[0;34m\u001b[0m\u001b[0m\n\u001b[0;32m--> 178\u001b[0;31m       \u001b[0;34m'name'\u001b[0m\u001b[0;34m:\u001b[0m \u001b[0m_os\u001b[0m\u001b[0;34m.\u001b[0m\u001b[0mpath\u001b[0m\u001b[0;34m.\u001b[0m\u001b[0mbasename\u001b[0m\u001b[0;34m(\u001b[0m\u001b[0mfilename\u001b[0m\u001b[0;34m)\u001b[0m\u001b[0;34m,\u001b[0m\u001b[0;34m\u001b[0m\u001b[0;34m\u001b[0m\u001b[0m\n\u001b[0m\u001b[1;32m    179\u001b[0m   })\n",
            "\u001b[0;32m/usr/local/lib/python3.6/dist-packages/google/colab/output/_js.py\u001b[0m in \u001b[0;36meval_js\u001b[0;34m(script, ignore_result)\u001b[0m\n\u001b[1;32m     37\u001b[0m   \u001b[0;32mif\u001b[0m \u001b[0mignore_result\u001b[0m\u001b[0;34m:\u001b[0m\u001b[0;34m\u001b[0m\u001b[0;34m\u001b[0m\u001b[0m\n\u001b[1;32m     38\u001b[0m     \u001b[0;32mreturn\u001b[0m\u001b[0;34m\u001b[0m\u001b[0;34m\u001b[0m\u001b[0m\n\u001b[0;32m---> 39\u001b[0;31m   \u001b[0;32mreturn\u001b[0m \u001b[0m_message\u001b[0m\u001b[0;34m.\u001b[0m\u001b[0mread_reply_from_input\u001b[0m\u001b[0;34m(\u001b[0m\u001b[0mrequest_id\u001b[0m\u001b[0;34m)\u001b[0m\u001b[0;34m\u001b[0m\u001b[0;34m\u001b[0m\u001b[0m\n\u001b[0m\u001b[1;32m     40\u001b[0m \u001b[0;34m\u001b[0m\u001b[0m\n\u001b[1;32m     41\u001b[0m \u001b[0;34m\u001b[0m\u001b[0m\n",
            "\u001b[0;32m/usr/local/lib/python3.6/dist-packages/google/colab/_message.py\u001b[0m in \u001b[0;36mread_reply_from_input\u001b[0;34m(message_id, timeout_sec)\u001b[0m\n\u001b[1;32m    104\u001b[0m         reply.get('colab_msg_id') == message_id):\n\u001b[1;32m    105\u001b[0m       \u001b[0;32mif\u001b[0m \u001b[0;34m'error'\u001b[0m \u001b[0;32min\u001b[0m \u001b[0mreply\u001b[0m\u001b[0;34m:\u001b[0m\u001b[0;34m\u001b[0m\u001b[0;34m\u001b[0m\u001b[0m\n\u001b[0;32m--> 106\u001b[0;31m         \u001b[0;32mraise\u001b[0m \u001b[0mMessageError\u001b[0m\u001b[0;34m(\u001b[0m\u001b[0mreply\u001b[0m\u001b[0;34m[\u001b[0m\u001b[0;34m'error'\u001b[0m\u001b[0;34m]\u001b[0m\u001b[0;34m)\u001b[0m\u001b[0;34m\u001b[0m\u001b[0;34m\u001b[0m\u001b[0m\n\u001b[0m\u001b[1;32m    107\u001b[0m       \u001b[0;32mreturn\u001b[0m \u001b[0mreply\u001b[0m\u001b[0;34m.\u001b[0m\u001b[0mget\u001b[0m\u001b[0;34m(\u001b[0m\u001b[0;34m'data'\u001b[0m\u001b[0;34m,\u001b[0m \u001b[0;32mNone\u001b[0m\u001b[0;34m)\u001b[0m\u001b[0;34m\u001b[0m\u001b[0;34m\u001b[0m\u001b[0m\n\u001b[1;32m    108\u001b[0m \u001b[0;34m\u001b[0m\u001b[0m\n",
            "\u001b[0;31mMessageError\u001b[0m: TypeError: NetworkError when attempting to fetch resource."
          ]
        }
      ]
    }
  ]
}