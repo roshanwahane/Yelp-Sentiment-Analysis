{
 "cells": [
  {
   "cell_type": "markdown",
   "metadata": {
    "colab_type": "text",
    "id": "LtxGB-JykMRN"
   },
   "source": [
    "# FIT5149 - Assignment 2\n",
    "**Group 21 - Roshan Wahane, Zhanghong Zhang and Saurabh Joshi**\n",
    "\n",
    "Note: When you see a ``%%time`` statement in the cell, it means that executing that cell will take a long time for it to finish."
   ]
  },
  {
   "cell_type": "markdown",
   "metadata": {
    "colab_type": "text",
    "id": "NTiPdp0rkdao"
   },
   "source": [
    "## Import libraries\n",
    "We use the following libraries:\n",
    "\n",
    "- **(internal):** We use various internal Python libraries for utility purposes\n",
    "- **pandas:** For dataframe data structure\n",
    "- **np:** For fast numerical computation and its methods\n",
    "- **nltk:** For preprocessing the text\n",
    "- **sklearn:** For fitting and predicting machine learning models on datasets\n",
    "- **h2o:** For training and predicting deep learning models on datasets\n",
    "- **matplotlib.pyplot:** For EDA visualisations"
   ]
  },
  {
   "cell_type": "code",
   "execution_count": 1,
   "metadata": {
    "colab": {
     "base_uri": "https://localhost:8080/",
     "height": 366
    },
    "colab_type": "code",
    "id": "6lAFJgVqn1mV",
    "outputId": "bdc13510-b17a-4440-b27e-91ff24d66076"
   },
   "outputs": [
    {
     "name": "stdout",
     "output_type": "stream",
     "text": [
      "Collecting h2o\n",
      "Collecting tabulate (from h2o)\n",
      "Collecting requests (from h2o)\n",
      "  Using cached https://files.pythonhosted.org/packages/51/bd/23c926cd341ea6b7dd0b2a00aba99ae0f828be89d72b2190f27c11d4b7fb/requests-2.22.0-py2.py3-none-any.whl\n",
      "Collecting colorama>=0.3.8 (from h2o)\n",
      "  Using cached https://files.pythonhosted.org/packages/4f/a6/728666f39bfff1719fc94c481890b2106837da9318031f71a8424b662e12/colorama-0.4.1-py2.py3-none-any.whl\n",
      "Collecting future (from h2o)\n",
      "Collecting urllib3!=1.25.0,!=1.25.1,<1.26,>=1.21.1 (from requests->h2o)\n",
      "  Using cached https://files.pythonhosted.org/packages/e0/da/55f51ea951e1b7c63a579c09dd7db825bb730ec1fe9c0180fc77bfb31448/urllib3-1.25.6-py2.py3-none-any.whl\n",
      "Collecting chardet<3.1.0,>=3.0.2 (from requests->h2o)\n",
      "  Using cached https://files.pythonhosted.org/packages/bc/a9/01ffebfb562e4274b6487b4bb1ddec7ca55ec7510b22e4c51f14098443b8/chardet-3.0.4-py2.py3-none-any.whl\n",
      "Collecting certifi>=2017.4.17 (from requests->h2o)\n",
      "  Using cached https://files.pythonhosted.org/packages/18/b0/8146a4f8dd402f60744fa380bc73ca47303cccf8b9190fd16a827281eac2/certifi-2019.9.11-py2.py3-none-any.whl\n",
      "Collecting idna<2.9,>=2.5 (from requests->h2o)\n",
      "  Using cached https://files.pythonhosted.org/packages/14/2c/cd551d81dbe15200be1cf41cd03869a46fe7226e7450af7a6545bfc474c9/idna-2.8-py2.py3-none-any.whl\n",
      "Installing collected packages: tabulate, urllib3, chardet, certifi, idna, requests, colorama, future, h2o\n",
      "Successfully installed certifi-2019.9.11 chardet-3.0.4 colorama-0.4.1 future-0.18.2 h2o-3.26.0.9 idna-2.8 requests-2.22.0 tabulate-0.8.5 urllib3-1.25.6\n"
     ]
    }
   ],
   "source": [
    "!pip install h2o"
   ]
  },
  {
   "cell_type": "code",
   "execution_count": 2,
   "metadata": {
    "colab": {
     "base_uri": "https://localhost:8080/",
     "height": 17
    },
    "colab_type": "code",
    "id": "XMPTkU5O0oc8",
    "outputId": "6bcd9f9c-bf57-40c3-c703-e4bf6246829c"
   },
   "outputs": [
    {
     "data": {
      "text/html": [
       "<style>.container { width:95% !important; }</style>"
      ],
      "text/plain": [
       "<IPython.core.display.HTML object>"
      ]
     },
     "metadata": {},
     "output_type": "display_data"
    }
   ],
   "source": [
    "import os, itertools, string, operator, re, unicodedata, nltk, textwrap\n",
    "import multiprocessing as mp\n",
    "import pandas as pd\n",
    "import numpy as np\n",
    "from operator import itemgetter\n",
    "from collections import Counter\n",
    "\n",
    "'''Text preprocessing'''\n",
    "from nltk.tokenize import TweetTokenizer\n",
    "from nltk.corpus import wordnet\n",
    "from nltk.stem import WordNetLemmatizer\n",
    "\n",
    "'''Feature extraction'''\n",
    "from sklearn.feature_extraction.stop_words import ENGLISH_STOP_WORDS\n",
    "from sklearn.decomposition import TruncatedSVD\n",
    "from sklearn.feature_extraction.text import TfidfVectorizer\n",
    "from gensim.models import Phrases\n",
    "from scipy.sparse import vstack\n",
    "\n",
    "'''Classifiers'''\n",
    "from sklearn.dummy import DummyClassifier\n",
    "from sklearn.linear_model import SGDClassifier, LogisticRegression\n",
    "from sklearn.naive_bayes import GaussianNB\n",
    "from sklearn.tree import DecisionTreeClassifier\n",
    "from sklearn.ensemble import RandomForestClassifier, AdaBoostClassifier\n",
    "from sklearn.neighbors import KNeighborsClassifier\n",
    "from sklearn.multiclass import OneVsRestClassifier\n",
    "from sklearn.naive_bayes import MultinomialNB\n",
    "import h2o\n",
    "from h2o.estimators.deeplearning import H2ODeepLearningEstimator\n",
    "from h2o.estimators.glm import H2OGeneralizedLinearEstimator\n",
    "from h2o.estimators.gbm import H2OGradientBoostingEstimator\n",
    "from h2o.estimators.random_forest import H2ORandomForestEstimator\n",
    "from h2o.estimators.deeplearning import H2OAutoEncoderEstimator\n",
    "\n",
    "'''Metrics/Evaluation'''\n",
    "from sklearn.model_selection import train_test_split, GridSearchCV\n",
    "from sklearn.metrics import (\n",
    "    accuracy_score,\n",
    "    confusion_matrix,\n",
    "    classification_report\n",
    ")\n",
    "from scipy import interp\n",
    "from itertools import cycle\n",
    "\n",
    "'''Plotting'''\n",
    "import matplotlib.pyplot as plt\n",
    "import seaborn as sns\n",
    "sns.set_style('darkgrid')\n",
    "\n",
    "'''Display'''\n",
    "from IPython.core.display import display, HTML\n",
    "display(HTML(\"<style>.container { width:95% !important; }</style>\"))\n",
    "import warnings\n",
    "warnings.filterwarnings('ignore')\n",
    "pd.options.display.float_format = '{:,.4f}'.format\n",
    "pd.set_option('display.max_colwidth', 0)"
   ]
  },
  {
   "cell_type": "code",
   "execution_count": 3,
   "metadata": {
    "colab": {
     "base_uri": "https://localhost:8080/",
     "height": 146
    },
    "colab_type": "code",
    "id": "DjT4lhnM4zjh",
    "outputId": "3088a5d7-01e4-4104-e265-a67f4c45f9ff"
   },
   "outputs": [
    {
     "name": "stderr",
     "output_type": "stream",
     "text": [
      "[nltk_data] Downloading package punkt to /home/sj/nltk_data...\n",
      "[nltk_data]   Package punkt is already up-to-date!\n",
      "[nltk_data] Downloading package reuters to /home/sj/nltk_data...\n",
      "[nltk_data]   Package reuters is already up-to-date!\n",
      "[nltk_data] Downloading package averaged_perceptron_tagger to\n",
      "[nltk_data]     /home/sj/nltk_data...\n",
      "[nltk_data]   Package averaged_perceptron_tagger is already up-to-\n",
      "[nltk_data]       date!\n"
     ]
    },
    {
     "data": {
      "text/plain": [
       "True"
      ]
     },
     "execution_count": 3,
     "metadata": {},
     "output_type": "execute_result"
    }
   ],
   "source": [
    "## Download required nltk packages\n",
    "nltk.download('punkt')\n",
    "nltk.download('reuters')\n",
    "nltk.download('averaged_perceptron_tagger')"
   ]
  },
  {
   "cell_type": "markdown",
   "metadata": {
    "colab_type": "text",
    "id": "vFUX-Lp87nKZ"
   },
   "source": [
    "## Load datasets\n",
    "We load all three datasets: labeled, unlabeled, and test."
   ]
  },
  {
   "cell_type": "code",
   "execution_count": 5,
   "metadata": {
    "colab": {},
    "colab_type": "code",
    "id": "-Ayz3vNl4pYa"
   },
   "outputs": [],
   "source": [
    "root_path = \"\"\n",
    "\n",
    "labeled_data = pd.read_csv(os.path.join(root_path, \"labeled_data.csv\"))\n",
    "unlabeled_data = pd.read_csv(os.path.join(root_path, \"unlabeled_data.csv\"))\n",
    "test_data = pd.read_csv(os.path.join(root_path, \"test_data.csv\"))"
   ]
  },
  {
   "cell_type": "markdown",
   "metadata": {
    "colab_type": "text",
    "id": "Z2pDa7HMQ3O5"
   },
   "source": [
    "We examine the first few rows of each dataset."
   ]
  },
  {
   "cell_type": "code",
   "execution_count": 6,
   "metadata": {
    "colab": {
     "base_uri": "https://localhost:8080/",
     "height": 415
    },
    "colab_type": "code",
    "id": "yutY8GvG25N_",
    "outputId": "84daf41d-0d08-44b7-f442-cafe275884d0"
   },
   "outputs": [
    {
     "data": {
      "text/html": [
       "<div>\n",
       "<style scoped>\n",
       "    .dataframe tbody tr th:only-of-type {\n",
       "        vertical-align: middle;\n",
       "    }\n",
       "\n",
       "    .dataframe tbody tr th {\n",
       "        vertical-align: top;\n",
       "    }\n",
       "\n",
       "    .dataframe thead th {\n",
       "        text-align: right;\n",
       "    }\n",
       "</style>\n",
       "<table border=\"1\" class=\"dataframe\">\n",
       "  <thead>\n",
       "    <tr style=\"text-align: right;\">\n",
       "      <th></th>\n",
       "      <th>text</th>\n",
       "      <th>label</th>\n",
       "    </tr>\n",
       "  </thead>\n",
       "  <tbody>\n",
       "    <tr>\n",
       "      <th>0</th>\n",
       "      <td>The new rule is - \\r\\nif you are waiting for a table (which you almost always are) , you cant wait inside. \\r\\nThey just posted a sign upfront that it causes some concerns for the seated patrons. \\r\\nHow awful is that? \\r\\n\\r\\nI like that they included the apology along with \"especially now in the cold\". \\r\\n\\r\\np.s you can try calling in ahead to reserve a table but thats ONLY if the waiting list is short. Otherwise, you have to show up to reserve. Boourns. \\r\\n\\r\\n\\r\\nThis place could do no wrong in my eyes. Rattle away you equally-clever/witty-name-for a hot beverage.\\r\\n\\r\\nMust mention - I am obsessed with Mad Gab. \\r\\n\\r\\nxoxo\\r\\nM.</td>\n",
       "      <td>4</td>\n",
       "    </tr>\n",
       "    <tr>\n",
       "      <th>1</th>\n",
       "      <td>Flirted with giving this two stars, but that's a pretty damning rating for what might have just been an off night...\\r\\n\\r\\nNew to the East side, and so we don't know many of these hidden gems, but me and the fiance met her friend for drinks here and ended up getting some things to nibble. \\r\\n\\r\\nFirst off, service was pretty slow, which was unusual because the restaurant is pretty small and galley style. You would think it would be easy for servers to routinely hit up tables as you pass by. \\r\\n\\r\\nThe fiance ordered the Quinoa Salad, and said it was pretty good, but dry. I wasn't too hungry and so I simply ordered the Bruchetta 3-way which came with burnt crostinis. And I ordered a side of fries, which were either hard or chewy.\\r\\n\\r\\nThe friend ordered the macaroni &amp; cheese, and added chicken and bacon (her usual order) and liked it.  \\r\\n\\r\\nCan't remember the last time I thought to myself- \"Huh... they failed at fries...\" So, like I said- two stars. But, the decor was good, it was a good place to have a conversation, and I might be back to try more expensive fare, but-... ah... the fry thing... yeeesh... I dunno, man...</td>\n",
       "      <td>3</td>\n",
       "    </tr>\n",
       "    <tr>\n",
       "      <th>2</th>\n",
       "      <td>I was staying at planet Hollywood across the street and saw good reviews on this place so my husband and I decided to give it a try. We love a good breakfast sandwich. We both ordered the bacon egg and cheese, cold brew, a biscuit and a salted caramel cookie. Everything tasted amazing! The egg is medium so it pops when you take a bite so be prepared for that. The cookie was absolutely delicious and the biscuit was soft and fluffy. We got there are around 10:30am and there was a line already. Luckily the line moves very quick and we were able to find seating. Highly recommend this place.</td>\n",
       "      <td>5</td>\n",
       "    </tr>\n",
       "    <tr>\n",
       "      <th>3</th>\n",
       "      <td>Food is good but prices are super expensive.  8 bucks for the \"Extra Large\" Carne Asada burrito and it's a little bigger then a Taco Bell bean burrito.  Don't get me wrong, it's good carne asada but you can get one at Filibertos and it's literally three times the size for 3 bucks.\\r\\n\\r\\nLower your prices or make the portions bigger - don't forget that you're using the cheapest cut of beef you can buy, marinating it with some orange juice, garlic and onions and then grilling it.  We're not talking Foie gras and heirloom tomatoes. \\r\\n\\r\\nAnd seriously, one piece of cucumber and a quarter of a radish?\\r\\n\\r\\nI've gone there 4 or five times and each time do I'm left with the same opinion so here it is publicly.</td>\n",
       "      <td>2</td>\n",
       "    </tr>\n",
       "    <tr>\n",
       "      <th>4</th>\n",
       "      <td>Worse company to deal with they do horrible work had to bring my truck back on a door replacement the door paint didn't match and trim molding wasn't straight the bolt to keep the door on wasn't even tight. My speaker in the door wasn't hooked back up. I don't recommend anyone to bring the vehicle here. A gentleman by the name of Jesus that works there every time you call for an update because they say they will call you and never do he makes you feel like your bothering him and then he says he will call you back with an update and never do. If you need work on your vehicle I would double think it before you bring it here.</td>\n",
       "      <td>1</td>\n",
       "    </tr>\n",
       "  </tbody>\n",
       "</table>\n",
       "</div>"
      ],
      "text/plain": [
       "                                                                                                                                                                                                                                                                                                                                                                                                                                                                                                                                                                                                                                                                                                                                                                                                                                                                                                                                                                                                                                                                                                                                                                                       text  \\\n",
       "0  The new rule is - \\r\\nif you are waiting for a table (which you almost always are) , you cant wait inside. \\r\\nThey just posted a sign upfront that it causes some concerns for the seated patrons. \\r\\nHow awful is that? \\r\\n\\r\\nI like that they included the apology along with \"especially now in the cold\". \\r\\n\\r\\np.s you can try calling in ahead to reserve a table but thats ONLY if the waiting list is short. Otherwise, you have to show up to reserve. Boourns. \\r\\n\\r\\n\\r\\nThis place could do no wrong in my eyes. Rattle away you equally-clever/witty-name-for a hot beverage.\\r\\n\\r\\nMust mention - I am obsessed with Mad Gab. \\r\\n\\r\\nxoxo\\r\\nM.                                                                                                                                                                                                                                                                                                                                                                                                                                                                                                                     \n",
       "1  Flirted with giving this two stars, but that's a pretty damning rating for what might have just been an off night...\\r\\n\\r\\nNew to the East side, and so we don't know many of these hidden gems, but me and the fiance met her friend for drinks here and ended up getting some things to nibble. \\r\\n\\r\\nFirst off, service was pretty slow, which was unusual because the restaurant is pretty small and galley style. You would think it would be easy for servers to routinely hit up tables as you pass by. \\r\\n\\r\\nThe fiance ordered the Quinoa Salad, and said it was pretty good, but dry. I wasn't too hungry and so I simply ordered the Bruchetta 3-way which came with burnt crostinis. And I ordered a side of fries, which were either hard or chewy.\\r\\n\\r\\nThe friend ordered the macaroni & cheese, and added chicken and bacon (her usual order) and liked it.  \\r\\n\\r\\nCan't remember the last time I thought to myself- \"Huh... they failed at fries...\" So, like I said- two stars. But, the decor was good, it was a good place to have a conversation, and I might be back to try more expensive fare, but-... ah... the fry thing... yeeesh... I dunno, man...   \n",
       "2  I was staying at planet Hollywood across the street and saw good reviews on this place so my husband and I decided to give it a try. We love a good breakfast sandwich. We both ordered the bacon egg and cheese, cold brew, a biscuit and a salted caramel cookie. Everything tasted amazing! The egg is medium so it pops when you take a bite so be prepared for that. The cookie was absolutely delicious and the biscuit was soft and fluffy. We got there are around 10:30am and there was a line already. Luckily the line moves very quick and we were able to find seating. Highly recommend this place.                                                                                                                                                                                                                                                                                                                                                                                                                                                                                                                                                                          \n",
       "3  Food is good but prices are super expensive.  8 bucks for the \"Extra Large\" Carne Asada burrito and it's a little bigger then a Taco Bell bean burrito.  Don't get me wrong, it's good carne asada but you can get one at Filibertos and it's literally three times the size for 3 bucks.\\r\\n\\r\\nLower your prices or make the portions bigger - don't forget that you're using the cheapest cut of beef you can buy, marinating it with some orange juice, garlic and onions and then grilling it.  We're not talking Foie gras and heirloom tomatoes. \\r\\n\\r\\nAnd seriously, one piece of cucumber and a quarter of a radish?\\r\\n\\r\\nI've gone there 4 or five times and each time do I'm left with the same opinion so here it is publicly.                                                                                                                                                                                                                                                                                                                                                                                                                                             \n",
       "4  Worse company to deal with they do horrible work had to bring my truck back on a door replacement the door paint didn't match and trim molding wasn't straight the bolt to keep the door on wasn't even tight. My speaker in the door wasn't hooked back up. I don't recommend anyone to bring the vehicle here. A gentleman by the name of Jesus that works there every time you call for an update because they say they will call you and never do he makes you feel like your bothering him and then he says he will call you back with an update and never do. If you need work on your vehicle I would double think it before you bring it here.                                                                                                                                                                                                                                                                                                                                                                                                                                                                                                                                     \n",
       "\n",
       "   label  \n",
       "0  4      \n",
       "1  3      \n",
       "2  5      \n",
       "3  2      \n",
       "4  1      "
      ]
     },
     "execution_count": 6,
     "metadata": {},
     "output_type": "execute_result"
    }
   ],
   "source": [
    "labeled_data.head()"
   ]
  },
  {
   "cell_type": "markdown",
   "metadata": {
    "colab_type": "text",
    "id": "-kLLH2i88l_p"
   },
   "source": [
    "There are two columns in the labeled set: \"text\" (which contains the document), as well as \"label\" (the corresponding sentiment value for that document)."
   ]
  },
  {
   "cell_type": "code",
   "execution_count": 7,
   "metadata": {
    "colab": {
     "base_uri": "https://localhost:8080/",
     "height": 415
    },
    "colab_type": "code",
    "id": "azu_hFaf3a7T",
    "outputId": "472eed4e-38c6-4dac-ad84-a848a1912c4c"
   },
   "outputs": [
    {
     "data": {
      "text/html": [
       "<div>\n",
       "<style scoped>\n",
       "    .dataframe tbody tr th:only-of-type {\n",
       "        vertical-align: middle;\n",
       "    }\n",
       "\n",
       "    .dataframe tbody tr th {\n",
       "        vertical-align: top;\n",
       "    }\n",
       "\n",
       "    .dataframe thead th {\n",
       "        text-align: right;\n",
       "    }\n",
       "</style>\n",
       "<table border=\"1\" class=\"dataframe\">\n",
       "  <thead>\n",
       "    <tr style=\"text-align: right;\">\n",
       "      <th></th>\n",
       "      <th>text</th>\n",
       "    </tr>\n",
       "  </thead>\n",
       "  <tbody>\n",
       "    <tr>\n",
       "      <th>0</th>\n",
       "      <td>Had a good experience when my wife and I sat at the bar. Great pizza and wings. \\r\\n\\r\\nHowever, we tried to go recently with a larger group (8 people) and it was 1.25 hr wait. At 5pm on a Wednesday... Riiiiight.  \\r\\n\\r\\nI tried to call ahead and they don't accept call aheads. They apparently only have 1 table capable of seating larger parties. Kinda missed the mark on that one Oreganos. Brand spankin new building and all. \\r\\n\\r\\nSo we went across the street to Native NewYorker and got seated immediately.</td>\n",
       "    </tr>\n",
       "    <tr>\n",
       "      <th>1</th>\n",
       "      <td>On my first to Montreal with my gf we came here to eat a nice mid day lunch before walking around more and departing from Montreal. Now obviously i am one that has a love/hate relationship with spots that are touristy and well known but in this case it was worth it. I liked the fact that we walked down a nice cobblestone corridor then was greeted by the hostess who promptly showed us to our table. Our seating was right in front where they had two jazz players performing throughout the lunch playing soft melodies for all of the diners entertainment and i always believe with soothing music a meal is always made more enjoyable. \\r\\n\\r\\nLooking around this was definite a place i could fall in love with, beautiful flower bed arrangements with different colors that made the restaurant really pop, the large umbrella's which provided a nice cool atmosphere and most importantly shade, plus birds flying around during the meal and  nicely arranged plants i loved the ambiance. The food on the other hand could be improved, with such a nicely designed restaurant i would expect a vast selection, also my gf suggested that when your in a new place you should try new food and i 100% agree with that, but in this case i should have just gotten the salmon, because everything else i looked at on the menu, i just was not feeling. Had the veal meatballs style dish and it wasn't that great i'd say it was at best a 6 out of 10 if i had to grade it. But overall the decor/ambiance made up for that. Plus our waitress was extremely helpful/friendly. I also agree with some of the reviews a bit overpriced for what they were serving.</td>\n",
       "    </tr>\n",
       "    <tr>\n",
       "      <th>2</th>\n",
       "      <td>One of our favorite places to go when it's cold and rainy out.  Re-defines comfort food. And you have to try the Rice Crispy Squares. The best!</td>\n",
       "    </tr>\n",
       "    <tr>\n",
       "      <th>3</th>\n",
       "      <td>The doctor was very nice, got in in a good amount of time and feel like the visit was acceptable. After seeing the doctor I selected my glasses, I was told about this great way they are ordered right from Oakley and how everything was done right at Oakley. I asked them if they could do a rush even said I would pay more. See explained it usually takes 5-7 business days. I was in on July 3 2014 and today July 23 2014 just got them. The lenses ARE NOT Oakley quality the tint is not even to the edge of the lens. I contacted Oakley to find out the aren't even Oakley lenses. Why did I order these and not even get what I ordered. Not happy at all would not recommended buying for brand from this company!!!</td>\n",
       "    </tr>\n",
       "    <tr>\n",
       "      <th>4</th>\n",
       "      <td>The Nook is an immediate phoenix staple!  I came here and met up with the fam, I didn't really have any expectations whatsoever.  I feel like that is the best type of experience to have, it really gives any establishment the opportunity to wow their customers.  That's exactly what The Nook did for me.  I love how it is connected to a hotel with easy access from inside, also the decor was very modern and hipster-ish.  This \"new age\" restaurant atmosphere that numbers of restaurant owners have adopted is so amazing.  The Nook sets the ambiance to a very relaxed, comfortable feeling which makes it great to come in groups. \\r\\n\\r\\nThe mixologist Dustin is very skillful, and constructed the drink menu himself from my understanding.  He definitely sets the bar for any other bartender out there.  By experimenting with different aromas all the way to different types of seasonings.  He truly makes it a day to remember.  Check out my pics of the drinks he made, I attached the recipes.\\r\\n\\r\\nI love how the city is coming to fruition, with so many new and upcoming restaurants like The Nook, it makes me proud to be a Phoenician.</td>\n",
       "    </tr>\n",
       "  </tbody>\n",
       "</table>\n",
       "</div>"
      ],
      "text/plain": [
       "                                                                                                                                                                                                                                                                                                                                                                                                                                                                                                                                                                                                                                                                                                                                                                                                                                                                                                                                                                                                                                                                                                                                                                                                                                                                                                                                                                                                                                                                                                                                                                                                                                                                                           text\n",
       "0  Had a good experience when my wife and I sat at the bar. Great pizza and wings. \\r\\n\\r\\nHowever, we tried to go recently with a larger group (8 people) and it was 1.25 hr wait. At 5pm on a Wednesday... Riiiiight.  \\r\\n\\r\\nI tried to call ahead and they don't accept call aheads. They apparently only have 1 table capable of seating larger parties. Kinda missed the mark on that one Oreganos. Brand spankin new building and all. \\r\\n\\r\\nSo we went across the street to Native NewYorker and got seated immediately.                                                                                                                                                                                                                                                                                                                                                                                                                                                                                                                                                                                                                                                                                                                                                                                                                                                                                                                                                                                                                                                                                                                                                            \n",
       "1  On my first to Montreal with my gf we came here to eat a nice mid day lunch before walking around more and departing from Montreal. Now obviously i am one that has a love/hate relationship with spots that are touristy and well known but in this case it was worth it. I liked the fact that we walked down a nice cobblestone corridor then was greeted by the hostess who promptly showed us to our table. Our seating was right in front where they had two jazz players performing throughout the lunch playing soft melodies for all of the diners entertainment and i always believe with soothing music a meal is always made more enjoyable. \\r\\n\\r\\nLooking around this was definite a place i could fall in love with, beautiful flower bed arrangements with different colors that made the restaurant really pop, the large umbrella's which provided a nice cool atmosphere and most importantly shade, plus birds flying around during the meal and  nicely arranged plants i loved the ambiance. The food on the other hand could be improved, with such a nicely designed restaurant i would expect a vast selection, also my gf suggested that when your in a new place you should try new food and i 100% agree with that, but in this case i should have just gotten the salmon, because everything else i looked at on the menu, i just was not feeling. Had the veal meatballs style dish and it wasn't that great i'd say it was at best a 6 out of 10 if i had to grade it. But overall the decor/ambiance made up for that. Plus our waitress was extremely helpful/friendly. I also agree with some of the reviews a bit overpriced for what they were serving.\n",
       "2  One of our favorite places to go when it's cold and rainy out.  Re-defines comfort food. And you have to try the Rice Crispy Squares. The best!                                                                                                                                                                                                                                                                                                                                                                                                                                                                                                                                                                                                                                                                                                                                                                                                                                                                                                                                                                                                                                                                                                                                                                                                                                                                                                                                                                                                                                                                                                                                             \n",
       "3  The doctor was very nice, got in in a good amount of time and feel like the visit was acceptable. After seeing the doctor I selected my glasses, I was told about this great way they are ordered right from Oakley and how everything was done right at Oakley. I asked them if they could do a rush even said I would pay more. See explained it usually takes 5-7 business days. I was in on July 3 2014 and today July 23 2014 just got them. The lenses ARE NOT Oakley quality the tint is not even to the edge of the lens. I contacted Oakley to find out the aren't even Oakley lenses. Why did I order these and not even get what I ordered. Not happy at all would not recommended buying for brand from this company!!!                                                                                                                                                                                                                                                                                                                                                                                                                                                                                                                                                                                                                                                                                                                                                                                                                                                                                                                                                         \n",
       "4  The Nook is an immediate phoenix staple!  I came here and met up with the fam, I didn't really have any expectations whatsoever.  I feel like that is the best type of experience to have, it really gives any establishment the opportunity to wow their customers.  That's exactly what The Nook did for me.  I love how it is connected to a hotel with easy access from inside, also the decor was very modern and hipster-ish.  This \"new age\" restaurant atmosphere that numbers of restaurant owners have adopted is so amazing.  The Nook sets the ambiance to a very relaxed, comfortable feeling which makes it great to come in groups. \\r\\n\\r\\nThe mixologist Dustin is very skillful, and constructed the drink menu himself from my understanding.  He definitely sets the bar for any other bartender out there.  By experimenting with different aromas all the way to different types of seasonings.  He truly makes it a day to remember.  Check out my pics of the drinks he made, I attached the recipes.\\r\\n\\r\\nI love how the city is coming to fruition, with so many new and upcoming restaurants like The Nook, it makes me proud to be a Phoenician.                                                                                                                                                                                                                                                                                                                                                                                                                                                                                                              "
      ]
     },
     "execution_count": 7,
     "metadata": {},
     "output_type": "execute_result"
    }
   ],
   "source": [
    "unlabeled_data.head()"
   ]
  },
  {
   "cell_type": "markdown",
   "metadata": {
    "colab_type": "text",
    "id": "qu6p10Jq8vw8"
   },
   "source": [
    "The unlabeled set only contains documents in a single column called \"text\"."
   ]
  },
  {
   "cell_type": "code",
   "execution_count": 8,
   "metadata": {
    "colab": {
     "base_uri": "https://localhost:8080/",
     "height": 363
    },
    "colab_type": "code",
    "id": "lXhWL_-M8jAk",
    "outputId": "51109bbf-5f27-42f8-bedc-9f71b258bcdb"
   },
   "outputs": [
    {
     "data": {
      "text/html": [
       "<div>\n",
       "<style scoped>\n",
       "    .dataframe tbody tr th:only-of-type {\n",
       "        vertical-align: middle;\n",
       "    }\n",
       "\n",
       "    .dataframe tbody tr th {\n",
       "        vertical-align: top;\n",
       "    }\n",
       "\n",
       "    .dataframe thead th {\n",
       "        text-align: right;\n",
       "    }\n",
       "</style>\n",
       "<table border=\"1\" class=\"dataframe\">\n",
       "  <thead>\n",
       "    <tr style=\"text-align: right;\">\n",
       "      <th></th>\n",
       "      <th>test_id</th>\n",
       "      <th>text</th>\n",
       "    </tr>\n",
       "  </thead>\n",
       "  <tbody>\n",
       "    <tr>\n",
       "      <th>0</th>\n",
       "      <td>test_1</td>\n",
       "      <td>trying to have a nice quiet dinner.  the announcer for the awards giveaways is way too loud in the restaurant</td>\n",
       "    </tr>\n",
       "    <tr>\n",
       "      <th>1</th>\n",
       "      <td>test_2</td>\n",
       "      <td>Been getting food to go from here for over 3yrs. My wife usually tend to get the same items. Why fix something when it works.\\r\\n\\r\\nShe always gets the Mongolian Beef lunch special, or dinner. Every once in a while we indulge in the Crab Rangoon. I tend to alternate between the Singapore Noodle, Chicken Fried Rice and the Chow Mai Fun.\\r\\n\\r\\nIt's not the best Chinese food I've had, but I never had a complaint regarding the quality and quantity of my food. I've never had to wait longer then 10 mins to pick up my food as well.\\r\\n\\r\\nThey recently raised the price on their lunch specials by $0.50, but it is still a killer deal at $5.49.\\r\\n\\r\\nGood food, good prices.</td>\n",
       "    </tr>\n",
       "    <tr>\n",
       "      <th>2</th>\n",
       "      <td>test_3</td>\n",
       "      <td>Ugh. I've had to eat here a couple of times because of work events. This of course makes the scantily clad girls super awkward...\\r\\nIf you're vegan there is not much you can eat. You're looking at an overpriced salad that you've negotiated with the server to make sure you're getting food at all. I called ahead and planned something out with the manager, who was pretty helpful. But it did still mean I was paying a ridiculous amount of $$ for lettuce and a couple of strawberries. And for the most part they are terrible when dealing with people with dietary considerations:\\r\\n1. I ordered a salad and asked for no meat or cheese. You'd think they would put more of the other ingredients in it to compensate, but no - so I was essentially eating just lettuce with a very very sparse sprinkling of nuts. ALSO they served it WITH THE MEAT! and then clearly just took off the meat and gave it back to me instead of making a new one. EW. The manager apologized and said it wouldn't be charged - very nice. However, this didn't get communicated to the server who DID charge me for it!\\r\\n2. Their \"vegetarian green beans\" are made with beef broth! When I told the person that that wasn't \"vegetarian\" she argued it was \"just the broth\". I totally don't trust them at ALL to know what's in their food or to care if someone can't eat something.</td>\n",
       "    </tr>\n",
       "    <tr>\n",
       "      <th>3</th>\n",
       "      <td>test_4</td>\n",
       "      <td>The people here are so nice! I ordered on eat 24 and they promptly called me to double check that everything was correct it was really sweet! Will definitely be returning! :)</td>\n",
       "    </tr>\n",
       "    <tr>\n",
       "      <th>4</th>\n",
       "      <td>test_5</td>\n",
       "      <td>Heard alot of good things about this place and decided to grab some breakfast burritos today. Have to say we enjoyed our burritos! We had the potato egg and cheese burrito and the chorizo potato and egg burrito.\\r\\n\\r\\nFirstly the burritos were rather large, you could easily share if not extremely hungry. But since we both ate our own, we probably won't need lunch! \\r\\n\\r\\nThe hot sauce is excellent - spicy . They also have a green sauce and that one is milder but def flavorful.\\r\\n\\r\\nDefinitely will be back to try their other dishes.</td>\n",
       "    </tr>\n",
       "  </tbody>\n",
       "</table>\n",
       "</div>"
      ],
      "text/plain": [
       "  test_id  \\\n",
       "0  test_1   \n",
       "1  test_2   \n",
       "2  test_3   \n",
       "3  test_4   \n",
       "4  test_5   \n",
       "\n",
       "                                                                                                                                                                                                                                                                                                                                                                                                                                                                                                                                                                                                                                                                                                                                                                                                                                                                                                                                                                                                                                                                                                                                                                                                                                                                                                                                                                                            text  \n",
       "0  trying to have a nice quiet dinner.  the announcer for the awards giveaways is way too loud in the restaurant                                                                                                                                                                                                                                                                                                                                                                                                                                                                                                                                                                                                                                                                                                                                                                                                                                                                                                                                                                                                                                                                                                                                                                                                                                                                                  \n",
       "1  Been getting food to go from here for over 3yrs. My wife usually tend to get the same items. Why fix something when it works.\\r\\n\\r\\nShe always gets the Mongolian Beef lunch special, or dinner. Every once in a while we indulge in the Crab Rangoon. I tend to alternate between the Singapore Noodle, Chicken Fried Rice and the Chow Mai Fun.\\r\\n\\r\\nIt's not the best Chinese food I've had, but I never had a complaint regarding the quality and quantity of my food. I've never had to wait longer then 10 mins to pick up my food as well.\\r\\n\\r\\nThey recently raised the price on their lunch specials by $0.50, but it is still a killer deal at $5.49.\\r\\n\\r\\nGood food, good prices.                                                                                                                                                                                                                                                                                                                                                                                                                                                                                                                                                                                                                                                                                            \n",
       "2  Ugh. I've had to eat here a couple of times because of work events. This of course makes the scantily clad girls super awkward...\\r\\nIf you're vegan there is not much you can eat. You're looking at an overpriced salad that you've negotiated with the server to make sure you're getting food at all. I called ahead and planned something out with the manager, who was pretty helpful. But it did still mean I was paying a ridiculous amount of $$ for lettuce and a couple of strawberries. And for the most part they are terrible when dealing with people with dietary considerations:\\r\\n1. I ordered a salad and asked for no meat or cheese. You'd think they would put more of the other ingredients in it to compensate, but no - so I was essentially eating just lettuce with a very very sparse sprinkling of nuts. ALSO they served it WITH THE MEAT! and then clearly just took off the meat and gave it back to me instead of making a new one. EW. The manager apologized and said it wouldn't be charged - very nice. However, this didn't get communicated to the server who DID charge me for it!\\r\\n2. Their \"vegetarian green beans\" are made with beef broth! When I told the person that that wasn't \"vegetarian\" she argued it was \"just the broth\". I totally don't trust them at ALL to know what's in their food or to care if someone can't eat something.  \n",
       "3  The people here are so nice! I ordered on eat 24 and they promptly called me to double check that everything was correct it was really sweet! Will definitely be returning! :)                                                                                                                                                                                                                                                                                                                                                                                                                                                                                                                                                                                                                                                                                                                                                                                                                                                                                                                                                                                                                                                                                                                                                                                                                 \n",
       "4  Heard alot of good things about this place and decided to grab some breakfast burritos today. Have to say we enjoyed our burritos! We had the potato egg and cheese burrito and the chorizo potato and egg burrito.\\r\\n\\r\\nFirstly the burritos were rather large, you could easily share if not extremely hungry. But since we both ate our own, we probably won't need lunch! \\r\\n\\r\\nThe hot sauce is excellent - spicy . They also have a green sauce and that one is milder but def flavorful.\\r\\n\\r\\nDefinitely will be back to try their other dishes.                                                                                                                                                                                                                                                                                                                                                                                                                                                                                                                                                                                                                                                                                                                                                                                                                                  "
      ]
     },
     "execution_count": 8,
     "metadata": {},
     "output_type": "execute_result"
    }
   ],
   "source": [
    "test_data.head()"
   ]
  },
  {
   "cell_type": "markdown",
   "metadata": {
    "colab_type": "text",
    "id": "mNY36SO-85ze"
   },
   "source": [
    "The test set contains two columns: \"test_id\" (to identify the document), and \"text\" (which contains the document itself)."
   ]
  },
  {
   "cell_type": "markdown",
   "metadata": {
    "colab_type": "text",
    "id": "mvNeWCkZj_Am"
   },
   "source": [
    "## Text preprocessing\n",
    "The data preparation stage consists of the following steps:\n",
    "\n",
    "1. **Tokenization:** We tokenize the text using TwitterTokenizer\n",
    "2. **Expand contractions:** We expand contractions (such as \"don't\" -> \"do not\") for each token\n",
    "3. **Stemming:**  We reduce the vocabulary by removing inflections in words and putting them in stemmed format.\n",
    "4. **Remove misleading characters**: These include removing stopwords.\n",
    "\n",
    "Below is the implementation for the data preparation stage:"
   ]
  },
  {
   "cell_type": "code",
   "execution_count": 9,
   "metadata": {
    "colab": {},
    "colab_type": "code",
    "id": "7WEfHkSV_7ez"
   },
   "outputs": [],
   "source": [
    "def preprocess_text(text):\n",
    "    ## Tokenise text\n",
    "    tokenized = casual_tokenizer(text)\n",
    "\n",
    "    ## Expand contractions for each token\n",
    "    decontract = (expandContractions(item, c_re=c_re) for item in tokenized)\n",
    "\n",
    "    ## Stem tokens\n",
    "    stemmer = nltk.stem.porter.PorterStemmer()\n",
    "    stemmed = (stemmer.stem(token) for token in decontract)\n",
    "\n",
    "    ## Remove misleading characters\n",
    "    tidied_text = remove_misleading_characters(stemmed)\n",
    "\n",
    "    ## Return result\n",
    "    preprocessed_text = list(tidied_text)\n",
    "    return preprocessed_text"
   ]
  },
  {
   "cell_type": "markdown",
   "metadata": {
    "colab_type": "text",
    "id": "QbjE7l1d_Io6"
   },
   "source": [
    "We now go each step of the data preparation stage, to see how they are implemented."
   ]
  },
  {
   "cell_type": "markdown",
   "metadata": {
    "colab_type": "text",
    "id": "fLT1CDWN5nHA"
   },
   "source": [
    "### Decontracting words\n",
    "We map each contraction to its expansion."
   ]
  },
  {
   "cell_type": "code",
   "execution_count": 10,
   "metadata": {
    "colab": {},
    "colab_type": "code",
    "id": "sv_B_Th_4rui"
   },
   "outputs": [],
   "source": [
    "## Define contraction map\n",
    "c_dict = {\n",
    "    \"ain't\": \"am not\",\n",
    "    \"aren't\": \"are not\",\n",
    "    \"can't\": \"cannot\",\n",
    "    \"can't've\": \"cannot have\",\n",
    "    \"'cause\": \"because\",\n",
    "    \"could've\": \"could have\",\n",
    "    \"couldn't\": \"could not\",\n",
    "    \"couldn't've\": \"could not have\",\n",
    "    \"didn't\": \"did not\",\n",
    "    \"doesn't\": \"does not\",\n",
    "    \"don't\": \"do not\",\n",
    "    \"hadn't\": \"had not\",\n",
    "    \"hadn't've\": \"had not have\",\n",
    "    \"hasn't\": \"has not\",\n",
    "    \"haven't\": \"have not\",\n",
    "    \"he'd\": \"he would\",\n",
    "    \"he'd've\": \"he would have\",\n",
    "    \"he'll\": \"he will\",\n",
    "    \"he'll've\": \"he will have\",\n",
    "    \"he's\": \"he is\",\n",
    "    \"how'd\": \"how did\",\n",
    "    \"how'd'y\": \"how do you\",\n",
    "    \"how'll\": \"how will\",\n",
    "    \"how's\": \"how is\",\n",
    "    \"i'd\": \"I would\",\n",
    "    \"i'd've\": \"I would have\",\n",
    "    \"i'll\": \"I will\",\n",
    "    \"i'll've\": \"I will have\",\n",
    "    \"i'm\": \"I am\",\n",
    "    \"i've\": \"I have\",\n",
    "    \"isn't\": \"is not\",\n",
    "    \"it'd\": \"it had\",\n",
    "    \"it'd've\": \"it would have\",\n",
    "    \"it'll\": \"it will\",\n",
    "    \"it'll've\": \"it will have\",\n",
    "    \"it's\": \"it is\",\n",
    "    \"let's\": \"let us\",\n",
    "    \"ma'am\": \"madam\",\n",
    "    \"mayn't\": \"may not\",\n",
    "    \"might've\": \"might have\",\n",
    "    \"mightn't\": \"might not\",\n",
    "    \"mightn't've\": \"might not have\",\n",
    "    \"must've\": \"must have\",\n",
    "    \"mustn't\": \"must not\",\n",
    "    \"mustn't've\": \"must not have\",\n",
    "    \"needn't\": \"need not\",\n",
    "    \"needn't've\": \"need not have\",\n",
    "    \"o'clock\": \"of the clock\",\n",
    "    \"oughtn't\": \"ought not\",\n",
    "    \"oughtn't've\": \"ought not have\",\n",
    "    \"shan't\": \"shall not\",\n",
    "    \"sha'n't\": \"shall not\",\n",
    "    \"shan't've\": \"shall not have\",\n",
    "    \"she'd\": \"she would\",\n",
    "    \"she'd've\": \"she would have\",\n",
    "    \"she'll\": \"she will\",\n",
    "    \"she'll've\": \"she will have\",\n",
    "    \"she's\": \"she is\",\n",
    "    \"should've\": \"should have\",\n",
    "    \"shouldn't\": \"should not\",\n",
    "    \"shouldn't've\": \"should not have\",\n",
    "    \"so've\": \"so have\",\n",
    "    \"so's\": \"so is\",\n",
    "    \"that'd\": \"that would\",\n",
    "    \"that'd've\": \"that would have\",\n",
    "    \"that's\": \"that is\",\n",
    "    \"there'd\": \"there had\",\n",
    "    \"there'd've\": \"there would have\",\n",
    "    \"there's\": \"there is\",\n",
    "    \"they'd\": \"they would\",\n",
    "    \"they'd've\": \"they would have\",\n",
    "    \"they'll\": \"they will\",\n",
    "    \"they'll've\": \"they will have\",\n",
    "    \"they're\": \"they are\",\n",
    "    \"they've\": \"they have\",\n",
    "    \"to've\": \"to have\",\n",
    "    \"wasn't\": \"was not\",\n",
    "    \"we'd\": \"we had\",\n",
    "    \"we'd've\": \"we would have\",\n",
    "    \"we'll\": \"we will\",\n",
    "    \"we'll've\": \"we will have\",\n",
    "    \"we're\": \"we are\",\n",
    "    \"we've\": \"we have\",\n",
    "    \"weren't\": \"were not\",\n",
    "    \"what'll\": \"what will\",\n",
    "    \"what'll've\": \"what will have\",\n",
    "    \"what're\": \"what are\",\n",
    "    \"what's\": \"what is\",\n",
    "    \"what've\": \"what have\",\n",
    "    \"when's\": \"when is\",\n",
    "    \"when've\": \"when have\",\n",
    "    \"where'd\": \"where did\",\n",
    "    \"where's\": \"where is\",\n",
    "    \"where've\": \"where have\",\n",
    "    \"who'll\": \"who will\",\n",
    "    \"who'll've\": \"who will have\",\n",
    "    \"who's\": \"who is\",\n",
    "    \"who've\": \"who have\",\n",
    "    \"why's\": \"why is\",\n",
    "    \"why've\": \"why have\",\n",
    "    \"will've\": \"will have\",\n",
    "    \"won't\": \"will not\",\n",
    "    \"won't've\": \"will not have\",\n",
    "    \"would've\": \"would have\",\n",
    "    \"wouldn't\": \"would not\",\n",
    "    \"wouldn't've\": \"would not have\",\n",
    "    \"y'all\": \"you all\",\n",
    "    \"y'alls\": \"you alls\",\n",
    "    \"y'all'd\": \"you all would\",\n",
    "    \"y'all'd've\": \"you all would have\",\n",
    "    \"y'all're\": \"you all are\",\n",
    "    \"y'all've\": \"you all have\",\n",
    "    \"you'd\": \"you had\",\n",
    "    \"you'd've\": \"you would have\",\n",
    "    \"you'll\": \"you will\",\n",
    "    \"you'll've\": \"you will have\",\n",
    "    \"you're\": \"you are\",\n",
    "    \"you've\": \"you have\"\n",
    "}\n",
    "\n",
    "## Combine all keys into a list of ors\n",
    "c_re = re.compile('(%s)' % '|'.join(c_dict.keys()))"
   ]
  },
  {
   "cell_type": "code",
   "execution_count": 11,
   "metadata": {
    "colab": {},
    "colab_type": "code",
    "id": "ndNBGa6H5-S2"
   },
   "outputs": [],
   "source": [
    "def expandContractions(text, c_re=c_re):\n",
    "    def replace(match):\n",
    "        return c_dict[match.group(0)]\n",
    "    return c_re.sub(replace, text)"
   ]
  },
  {
   "cell_type": "markdown",
   "metadata": {
    "colab_type": "text",
    "id": "gCcUpnyN5udq"
   },
   "source": [
    "### Tokenizer\n",
    "We use the Twitter tokenizer to tokenize the text, in case we have emojis in our dataset."
   ]
  },
  {
   "cell_type": "code",
   "execution_count": 12,
   "metadata": {
    "colab": {},
    "colab_type": "code",
    "id": "I73HX6XrAYFB"
   },
   "outputs": [],
   "source": [
    "def casual_tokenizer(text):\n",
    "    \"\"\"Splits words on white spaces (leaves contractions intact) and splits out\n",
    "    trailing punctuation\"\"\"\n",
    "    tokenizer = TweetTokenizer() # TreebankWordTokenizer() is worse\n",
    "    tokens = tokenizer.tokenize(text)\n",
    "    return tokens"
   ]
  },
  {
   "cell_type": "markdown",
   "metadata": {
    "colab_type": "text",
    "id": "6xjQEvjZ8xlO"
   },
   "source": [
    "### Remove misleading characters\n",
    "This final preprocessing step aims to remove the noise from the signal."
   ]
  },
  {
   "cell_type": "code",
   "execution_count": 13,
   "metadata": {
    "colab": {},
    "colab_type": "code",
    "id": "VL2RB6qs8QUm"
   },
   "outputs": [],
   "source": [
    "def remove_misleading_characters(text):\n",
    "    ## Remove numbers\n",
    "    no_num = (re.sub('[0-9]+', '', each) for each in text)\n",
    "    \n",
    "    ## Remove punctuation\n",
    "    no_punc = (w for w in no_num if w not in string.punctuation)\n",
    "\n",
    "    ## Return result\n",
    "    tidied_text = list(no_punc)\n",
    "    return tidied_text"
   ]
  },
  {
   "cell_type": "markdown",
   "metadata": {
    "colab_type": "text",
    "id": "YScpzMSs6pz4"
   },
   "source": [
    "### Preprocessing the text\n",
    "Putting all of this together, we preprocess the text, and save the results in a new column."
   ]
  },
  {
   "cell_type": "code",
   "execution_count": 14,
   "metadata": {
    "colab": {
     "base_uri": "https://localhost:8080/",
     "height": 54
    },
    "colab_type": "code",
    "id": "tAgAGV915Bhj",
    "outputId": "46f8c458-ae7a-4479-a304-bd3af5418d8c"
   },
   "outputs": [
    {
     "name": "stdout",
     "output_type": "stream",
     "text": [
      "CPU times: user 733 ms, sys: 176 ms, total: 909 ms\n",
      "Wall time: 26.8 s\n"
     ]
    }
   ],
   "source": [
    "%%time\n",
    "with mp.Pool(mp.cpu_count()) as pool:\n",
    "    labeled_data['clean_text'] = pool.map(preprocess_text, labeled_data['text'])"
   ]
  },
  {
   "cell_type": "code",
   "execution_count": 15,
   "metadata": {
    "colab": {
     "base_uri": "https://localhost:8080/",
     "height": 692
    },
    "colab_type": "code",
    "id": "dPutoqrb4sW9",
    "outputId": "b8c35202-42a0-4f99-8528-5f872fd2f09e"
   },
   "outputs": [
    {
     "data": {
      "text/html": [
       "<div>\n",
       "<style scoped>\n",
       "    .dataframe tbody tr th:only-of-type {\n",
       "        vertical-align: middle;\n",
       "    }\n",
       "\n",
       "    .dataframe tbody tr th {\n",
       "        vertical-align: top;\n",
       "    }\n",
       "\n",
       "    .dataframe thead th {\n",
       "        text-align: right;\n",
       "    }\n",
       "</style>\n",
       "<table border=\"1\" class=\"dataframe\">\n",
       "  <thead>\n",
       "    <tr style=\"text-align: right;\">\n",
       "      <th></th>\n",
       "      <th>text</th>\n",
       "      <th>label</th>\n",
       "      <th>clean_text</th>\n",
       "    </tr>\n",
       "  </thead>\n",
       "  <tbody>\n",
       "    <tr>\n",
       "      <th>0</th>\n",
       "      <td>The new rule is - \\r\\nif you are waiting for a table (which you almost always are) , you cant wait inside. \\r\\nThey just posted a sign upfront that it causes some concerns for the seated patrons. \\r\\nHow awful is that? \\r\\n\\r\\nI like that they included the apology along with \"especially now in the cold\". \\r\\n\\r\\np.s you can try calling in ahead to reserve a table but thats ONLY if the waiting list is short. Otherwise, you have to show up to reserve. Boourns. \\r\\n\\r\\n\\r\\nThis place could do no wrong in my eyes. Rattle away you equally-clever/witty-name-for a hot beverage.\\r\\n\\r\\nMust mention - I am obsessed with Mad Gab. \\r\\n\\r\\nxoxo\\r\\nM.</td>\n",
       "      <td>4</td>\n",
       "      <td>[the, new, rule, is, if, you, are, wait, for, a, tabl, which, you, almost, alway, are, you, cant, wait, insid, they, just, post, a, sign, upfront, that, it, caus, some, concern, for, the, seat, patron, how, aw, is, that, I, like, that, they, includ, the, apolog, along, with, especi, now, in, the, cold, p, s, you, can, tri, call, in, ahead, to, reserv, a, tabl, but, that, onli, if, the, wait, list, is, short, otherwis, you, have, to, show, up, to, reserv, boourn, thi, place, could, do, no, wrong, in, my, eye, rattl, away, you, equally-clev, witty-name-for, a, hot, beverag, ...]</td>\n",
       "    </tr>\n",
       "    <tr>\n",
       "      <th>1</th>\n",
       "      <td>Flirted with giving this two stars, but that's a pretty damning rating for what might have just been an off night...\\r\\n\\r\\nNew to the East side, and so we don't know many of these hidden gems, but me and the fiance met her friend for drinks here and ended up getting some things to nibble. \\r\\n\\r\\nFirst off, service was pretty slow, which was unusual because the restaurant is pretty small and galley style. You would think it would be easy for servers to routinely hit up tables as you pass by. \\r\\n\\r\\nThe fiance ordered the Quinoa Salad, and said it was pretty good, but dry. I wasn't too hungry and so I simply ordered the Bruchetta 3-way which came with burnt crostinis. And I ordered a side of fries, which were either hard or chewy.\\r\\n\\r\\nThe friend ordered the macaroni &amp; cheese, and added chicken and bacon (her usual order) and liked it.  \\r\\n\\r\\nCan't remember the last time I thought to myself- \"Huh... they failed at fries...\" So, like I said- two stars. But, the decor was good, it was a good place to have a conversation, and I might be back to try more expensive fare, but-... ah... the fry thing... yeeesh... I dunno, man...</td>\n",
       "      <td>3</td>\n",
       "      <td>[flirt, with, give, thi, two, star, but, that i, a, pretti, damn, rate, for, what, might, have, just, been, an, off, night, ..., new, to, the, east, side, and, so, we, do not, know, mani, of, these, hidden, gem, but, me, and, the, fianc, met, her, friend, for, drink, here, and, end, up, get, some, thing, to, nibbl, first, off, servic, wa, pretti, slow, which, wa, unusu, becaus, the, restaur, is, pretti, small, and, galley, style, you, would, think, it, would, be, easi, for, server, to, routin, hit, up, tabl, as, you, pass, by, the, fianc, order, the, quinoa, salad, and, said, ...]</td>\n",
       "    </tr>\n",
       "    <tr>\n",
       "      <th>2</th>\n",
       "      <td>I was staying at planet Hollywood across the street and saw good reviews on this place so my husband and I decided to give it a try. We love a good breakfast sandwich. We both ordered the bacon egg and cheese, cold brew, a biscuit and a salted caramel cookie. Everything tasted amazing! The egg is medium so it pops when you take a bite so be prepared for that. The cookie was absolutely delicious and the biscuit was soft and fluffy. We got there are around 10:30am and there was a line already. Luckily the line moves very quick and we were able to find seating. Highly recommend this place.</td>\n",
       "      <td>5</td>\n",
       "      <td>[I, wa, stay, at, planet, hollywood, across, the, street, and, saw, good, review, on, thi, place, so, my, husband, and, I, decid, to, give, it, a, tri, We, love, a, good, breakfast, sandwich, We, both, order, the, bacon, egg, and, chees, cold, brew, a, biscuit, and, a, salt, caramel, cooki, everyth, tast, amaz, the, egg, is, medium, so, it, pop, when, you, take, a, bite, so, be, prepar, for, that, the, cooki, wa, absolut, delici, and, the, biscuit, wa, soft, and, fluffi, We, got, there, are, around, am, and, there, wa, a, line, alreadi, luckili, the, line, move, veri, quick, ...]</td>\n",
       "    </tr>\n",
       "    <tr>\n",
       "      <th>3</th>\n",
       "      <td>Food is good but prices are super expensive.  8 bucks for the \"Extra Large\" Carne Asada burrito and it's a little bigger then a Taco Bell bean burrito.  Don't get me wrong, it's good carne asada but you can get one at Filibertos and it's literally three times the size for 3 bucks.\\r\\n\\r\\nLower your prices or make the portions bigger - don't forget that you're using the cheapest cut of beef you can buy, marinating it with some orange juice, garlic and onions and then grilling it.  We're not talking Foie gras and heirloom tomatoes. \\r\\n\\r\\nAnd seriously, one piece of cucumber and a quarter of a radish?\\r\\n\\r\\nI've gone there 4 or five times and each time do I'm left with the same opinion so here it is publicly.</td>\n",
       "      <td>2</td>\n",
       "      <td>[food, is, good, but, price, are, super, expens, buck, for, the, extra, larg, carn, asada, burrito, and, it i, a, littl, bigger, then, a, taco, bell, bean, burrito, don't, get, me, wrong, it i, good, carn, asada, but, you, can, get, one, at, filiberto, and, it i, liter, three, time, the, size, for, buck, lower, your, price, or, make, the, portion, bigger, do not, forget, that, you ar, use, the, cheapest, cut, of, beef, you, can, buy, marin, it, with, some, orang, juic, garlic, and, onion, and, then, grill, it, we'r, not, talk, foie, gra, and, heirloom, tomato, and, serious, one, piec, of, cucumb, and, ...]</td>\n",
       "    </tr>\n",
       "    <tr>\n",
       "      <th>4</th>\n",
       "      <td>Worse company to deal with they do horrible work had to bring my truck back on a door replacement the door paint didn't match and trim molding wasn't straight the bolt to keep the door on wasn't even tight. My speaker in the door wasn't hooked back up. I don't recommend anyone to bring the vehicle here. A gentleman by the name of Jesus that works there every time you call for an update because they say they will call you and never do he makes you feel like your bothering him and then he says he will call you back with an update and never do. If you need work on your vehicle I would double think it before you bring it here.</td>\n",
       "      <td>1</td>\n",
       "      <td>[wors, compani, to, deal, with, they, do, horribl, work, had, to, bring, my, truck, back, on, a, door, replac, the, door, paint, did not, match, and, trim, mold, was not, straight, the, bolt, to, keep, the, door, on, was not, even, tight, My, speaker, in, the, door, was not, hook, back, up, I, do not, recommend, anyon, to, bring, the, vehicl, here, A, gentleman, by, the, name, of, jesu, that, work, there, everi, time, you, call, for, an, updat, becaus, they, say, they, will, call, you, and, never, do, he, make, you, feel, like, your, bother, him, and, then, he, say, he, will, call, you, ...]</td>\n",
       "    </tr>\n",
       "  </tbody>\n",
       "</table>\n",
       "</div>"
      ],
      "text/plain": [
       "                                                                                                                                                                                                                                                                                                                                                                                                                                                                                                                                                                                                                                                                                                                                                                                                                                                                                                                                                                                                                                                                                                                                                                                       text  \\\n",
       "0  The new rule is - \\r\\nif you are waiting for a table (which you almost always are) , you cant wait inside. \\r\\nThey just posted a sign upfront that it causes some concerns for the seated patrons. \\r\\nHow awful is that? \\r\\n\\r\\nI like that they included the apology along with \"especially now in the cold\". \\r\\n\\r\\np.s you can try calling in ahead to reserve a table but thats ONLY if the waiting list is short. Otherwise, you have to show up to reserve. Boourns. \\r\\n\\r\\n\\r\\nThis place could do no wrong in my eyes. Rattle away you equally-clever/witty-name-for a hot beverage.\\r\\n\\r\\nMust mention - I am obsessed with Mad Gab. \\r\\n\\r\\nxoxo\\r\\nM.                                                                                                                                                                                                                                                                                                                                                                                                                                                                                                                     \n",
       "1  Flirted with giving this two stars, but that's a pretty damning rating for what might have just been an off night...\\r\\n\\r\\nNew to the East side, and so we don't know many of these hidden gems, but me and the fiance met her friend for drinks here and ended up getting some things to nibble. \\r\\n\\r\\nFirst off, service was pretty slow, which was unusual because the restaurant is pretty small and galley style. You would think it would be easy for servers to routinely hit up tables as you pass by. \\r\\n\\r\\nThe fiance ordered the Quinoa Salad, and said it was pretty good, but dry. I wasn't too hungry and so I simply ordered the Bruchetta 3-way which came with burnt crostinis. And I ordered a side of fries, which were either hard or chewy.\\r\\n\\r\\nThe friend ordered the macaroni & cheese, and added chicken and bacon (her usual order) and liked it.  \\r\\n\\r\\nCan't remember the last time I thought to myself- \"Huh... they failed at fries...\" So, like I said- two stars. But, the decor was good, it was a good place to have a conversation, and I might be back to try more expensive fare, but-... ah... the fry thing... yeeesh... I dunno, man...   \n",
       "2  I was staying at planet Hollywood across the street and saw good reviews on this place so my husband and I decided to give it a try. We love a good breakfast sandwich. We both ordered the bacon egg and cheese, cold brew, a biscuit and a salted caramel cookie. Everything tasted amazing! The egg is medium so it pops when you take a bite so be prepared for that. The cookie was absolutely delicious and the biscuit was soft and fluffy. We got there are around 10:30am and there was a line already. Luckily the line moves very quick and we were able to find seating. Highly recommend this place.                                                                                                                                                                                                                                                                                                                                                                                                                                                                                                                                                                          \n",
       "3  Food is good but prices are super expensive.  8 bucks for the \"Extra Large\" Carne Asada burrito and it's a little bigger then a Taco Bell bean burrito.  Don't get me wrong, it's good carne asada but you can get one at Filibertos and it's literally three times the size for 3 bucks.\\r\\n\\r\\nLower your prices or make the portions bigger - don't forget that you're using the cheapest cut of beef you can buy, marinating it with some orange juice, garlic and onions and then grilling it.  We're not talking Foie gras and heirloom tomatoes. \\r\\n\\r\\nAnd seriously, one piece of cucumber and a quarter of a radish?\\r\\n\\r\\nI've gone there 4 or five times and each time do I'm left with the same opinion so here it is publicly.                                                                                                                                                                                                                                                                                                                                                                                                                                             \n",
       "4  Worse company to deal with they do horrible work had to bring my truck back on a door replacement the door paint didn't match and trim molding wasn't straight the bolt to keep the door on wasn't even tight. My speaker in the door wasn't hooked back up. I don't recommend anyone to bring the vehicle here. A gentleman by the name of Jesus that works there every time you call for an update because they say they will call you and never do he makes you feel like your bothering him and then he says he will call you back with an update and never do. If you need work on your vehicle I would double think it before you bring it here.                                                                                                                                                                                                                                                                                                                                                                                                                                                                                                                                     \n",
       "\n",
       "   label  \\\n",
       "0  4       \n",
       "1  3       \n",
       "2  5       \n",
       "3  2       \n",
       "4  1       \n",
       "\n",
       "                                                                                                                                                                                                                                                                                                                                                                                                                                                                                                                                                                                                                              clean_text  \n",
       "0  [the, new, rule, is, if, you, are, wait, for, a, tabl, which, you, almost, alway, are, you, cant, wait, insid, they, just, post, a, sign, upfront, that, it, caus, some, concern, for, the, seat, patron, how, aw, is, that, I, like, that, they, includ, the, apolog, along, with, especi, now, in, the, cold, p, s, you, can, tri, call, in, ahead, to, reserv, a, tabl, but, that, onli, if, the, wait, list, is, short, otherwis, you, have, to, show, up, to, reserv, boourn, thi, place, could, do, no, wrong, in, my, eye, rattl, away, you, equally-clev, witty-name-for, a, hot, beverag, ...]                                \n",
       "1  [flirt, with, give, thi, two, star, but, that i, a, pretti, damn, rate, for, what, might, have, just, been, an, off, night, ..., new, to, the, east, side, and, so, we, do not, know, mani, of, these, hidden, gem, but, me, and, the, fianc, met, her, friend, for, drink, here, and, end, up, get, some, thing, to, nibbl, first, off, servic, wa, pretti, slow, which, wa, unusu, becaus, the, restaur, is, pretti, small, and, galley, style, you, would, think, it, would, be, easi, for, server, to, routin, hit, up, tabl, as, you, pass, by, the, fianc, order, the, quinoa, salad, and, said, ...]                            \n",
       "2  [I, wa, stay, at, planet, hollywood, across, the, street, and, saw, good, review, on, thi, place, so, my, husband, and, I, decid, to, give, it, a, tri, We, love, a, good, breakfast, sandwich, We, both, order, the, bacon, egg, and, chees, cold, brew, a, biscuit, and, a, salt, caramel, cooki, everyth, tast, amaz, the, egg, is, medium, so, it, pop, when, you, take, a, bite, so, be, prepar, for, that, the, cooki, wa, absolut, delici, and, the, biscuit, wa, soft, and, fluffi, We, got, there, are, around, am, and, there, wa, a, line, alreadi, luckili, the, line, move, veri, quick, ...]                             \n",
       "3  [food, is, good, but, price, are, super, expens, buck, for, the, extra, larg, carn, asada, burrito, and, it i, a, littl, bigger, then, a, taco, bell, bean, burrito, don't, get, me, wrong, it i, good, carn, asada, but, you, can, get, one, at, filiberto, and, it i, liter, three, time, the, size, for, buck, lower, your, price, or, make, the, portion, bigger, do not, forget, that, you ar, use, the, cheapest, cut, of, beef, you, can, buy, marin, it, with, some, orang, juic, garlic, and, onion, and, then, grill, it, we'r, not, talk, foie, gra, and, heirloom, tomato, and, serious, one, piec, of, cucumb, and, ...]  \n",
       "4  [wors, compani, to, deal, with, they, do, horribl, work, had, to, bring, my, truck, back, on, a, door, replac, the, door, paint, did not, match, and, trim, mold, was not, straight, the, bolt, to, keep, the, door, on, was not, even, tight, My, speaker, in, the, door, was not, hook, back, up, I, do not, recommend, anyon, to, bring, the, vehicl, here, A, gentleman, by, the, name, of, jesu, that, work, there, everi, time, you, call, for, an, updat, becaus, they, say, they, will, call, you, and, never, do, he, make, you, feel, like, your, bother, him, and, then, he, say, he, will, call, you, ...]                 "
      ]
     },
     "execution_count": 15,
     "metadata": {},
     "output_type": "execute_result"
    }
   ],
   "source": [
    "labeled_data.head()"
   ]
  },
  {
   "cell_type": "markdown",
   "metadata": {
    "colab_type": "text",
    "id": "Dq7p8MZ1jpNs"
   },
   "source": [
    "## Feature extraction\n",
    "We use tf-idf to vectorize the preprocessed text. We extract both unigrams and bigrams from each document. We also do more preprocessing, by removing words that only occur once, and words appearing in more than 95% of documents."
   ]
  },
  {
   "cell_type": "code",
   "execution_count": 16,
   "metadata": {
    "colab": {},
    "colab_type": "code",
    "id": "J4vL55mjrTCp"
   },
   "outputs": [],
   "source": [
    "def extract_features(texts):\n",
    "    # Only considering unigrams and bigrams\n",
    "    tfidf_vectorizer = TfidfVectorizer(ngram_range=(1, 2), \n",
    "                                    min_df = 2, \n",
    "                                    max_df = .95)\n",
    "\n",
    "    transformed_texts = tfidf_vectorizer.fit_transform(texts)\n",
    "    return transformed_texts, tfidf_vectorizer"
   ]
  },
  {
   "cell_type": "markdown",
   "metadata": {
    "colab_type": "text",
    "id": "YtCDoVoemwZg"
   },
   "source": [
    "We extract features from the labelled dataset, and we save the vectorizer, so that we can transform the unlabelled and test datasets using the same bag-of-words as the labelled datasets."
   ]
  },
  {
   "cell_type": "code",
   "execution_count": 79,
   "metadata": {
    "colab": {
     "base_uri": "https://localhost:8080/",
     "height": 54
    },
    "colab_type": "code",
    "id": "YnG2-RuO_uFb",
    "outputId": "66922939-aa0e-46bf-c6dd-66b3a6a3e26a"
   },
   "outputs": [
    {
     "name": "stdout",
     "output_type": "stream",
     "text": [
      "CPU times: user 12.9 s, sys: 89.8 ms, total: 13 s\n",
      "Wall time: 13 s\n"
     ]
    }
   ],
   "source": [
    "%%time\n",
    "''' -------- !!! EXPENSIVE !!! -------- '''\n",
    "# Creating the features (tf-idf weights) for the processed text\n",
    "text = labeled_data['clean_text'].astype('str')\n",
    "X, tfidf_vectorizer = extract_features(text)\n",
    "y = labeled_data['label'].values # target"
   ]
  },
  {
   "cell_type": "markdown",
   "metadata": {
    "colab_type": "text",
    "id": "UfLmpQ6v_7qd"
   },
   "source": [
    "### Dimensionality reduction\n",
    "We have more than 300k tokens. Since any document is unlikely to have too many unique tokens, and it would take too much computational resources to process all tokens, we have decided to reduce the number of dimensions to 500."
   ]
  },
  {
   "cell_type": "code",
   "execution_count": 18,
   "metadata": {
    "colab": {},
    "colab_type": "code",
    "id": "TNAAz6DqxL_M"
   },
   "outputs": [],
   "source": [
    "def reduce_dimensions(X):\n",
    "    lsa = TruncatedSVD(n_components=500, n_iter=10, random_state=3)\n",
    "    return lsa.fit_transform(X)"
   ]
  },
  {
   "cell_type": "code",
   "execution_count": 19,
   "metadata": {
    "colab": {
     "base_uri": "https://localhost:8080/",
     "height": 54
    },
    "colab_type": "code",
    "id": "YofQ-2_FjA96",
    "outputId": "6ca3a76e-a606-430a-a8f3-e3b2f3b1e64f"
   },
   "outputs": [
    {
     "name": "stdout",
     "output_type": "stream",
     "text": [
      "CPU times: user 4min 22s, sys: 34.3 s, total: 4min 56s\n",
      "Wall time: 2min 59s\n"
     ]
    }
   ],
   "source": [
    "%%time\n",
    "X_new = reduce_dimensions(X)"
   ]
  },
  {
   "cell_type": "code",
   "execution_count": 20,
   "metadata": {
    "colab": {
     "base_uri": "https://localhost:8080/",
     "height": 256
    },
    "colab_type": "code",
    "id": "rF7Q31JBGrsV",
    "outputId": "54c0d3c7-68ea-4001-bc04-4f6dcf789303"
   },
   "outputs": [
    {
     "data": {
      "text/plain": [
       "array([[ 0.1639799 ,  0.08059258, -0.06497316, ...,  0.0007979 ,\n",
       "        -0.01224931,  0.01333909],\n",
       "       [ 0.26331417, -0.06631381,  0.00257641, ..., -0.0162723 ,\n",
       "        -0.01417977,  0.00602489],\n",
       "       [ 0.20646348, -0.07610774,  0.02025546, ..., -0.02327162,\n",
       "        -0.0083097 ,  0.00220273],\n",
       "       ...,\n",
       "       [ 0.19029497,  0.08605543,  0.00871069, ..., -0.00497382,\n",
       "         0.00097687, -0.0191207 ],\n",
       "       [ 0.16773658,  0.10370696, -0.03958488, ...,  0.025419  ,\n",
       "        -0.01261465,  0.01136425],\n",
       "       [ 0.17534244,  0.02163348,  0.03427538, ...,  0.00475678,\n",
       "        -0.01782363,  0.02703127]])"
      ]
     },
     "execution_count": 20,
     "metadata": {},
     "output_type": "execute_result"
    }
   ],
   "source": [
    "X_new"
   ]
  },
  {
   "cell_type": "code",
   "execution_count": 21,
   "metadata": {
    "colab": {},
    "colab_type": "code",
    "id": "zNTQi_gXDw4j"
   },
   "outputs": [],
   "source": [
    "X_dataframe = pd.DataFrame.from_records(X_new)"
   ]
  },
  {
   "cell_type": "code",
   "execution_count": 22,
   "metadata": {
    "colab": {},
    "colab_type": "code",
    "id": "_fauENBuD5fB"
   },
   "outputs": [],
   "source": [
    "y_dataframe = pd.DataFrame(y)"
   ]
  },
  {
   "cell_type": "markdown",
   "metadata": {
    "colab_type": "text",
    "id": "ygH7I_Ah7D7m"
   },
   "source": [
    "## Exploratory data analysis\n",
    "We perform exploratory data analysis on our labelled dataset, so that we can gain more insights, and potentially form better decisions in model development stage."
   ]
  },
  {
   "cell_type": "markdown",
   "metadata": {
    "colab_type": "text",
    "id": "lHd1r7o1og-I"
   },
   "source": [
    "### Summary of token, document, and vocabulary statistics\n",
    "We first determine the minimum, maximum, and average number of tokens each document has. We can do this by counting how many elements are nonzero along each row in the document-term matrix.\n"
   ]
  },
  {
   "cell_type": "code",
   "execution_count": 23,
   "metadata": {
    "colab": {
     "base_uri": "https://localhost:8080/",
     "height": 182
    },
    "colab_type": "code",
    "id": "bCy2FOeSpWP-",
    "outputId": "e2831770-5c2c-49ef-9f2b-0cd13081339a"
   },
   "outputs": [
    {
     "data": {
      "text/plain": [
       "count   50,000.0000\n",
       "mean    121.9508   \n",
       "std     111.6846   \n",
       "min     1.0000     \n",
       "25%     48.0000    \n",
       "50%     88.0000    \n",
       "75%     157.0000   \n",
       "max     1,015.0000 \n",
       "Name: clean_text, dtype: float64"
      ]
     },
     "execution_count": 23,
     "metadata": {},
     "output_type": "execute_result"
    }
   ],
   "source": [
    "pd.Series(labeled_data[\"clean_text\"].apply(len)).describe()"
   ]
  },
  {
   "cell_type": "markdown",
   "metadata": {
    "colab_type": "text",
    "id": "NINRFDMqGOz1"
   },
   "source": [
    "As specified in the assignment document, there are 50,000 documents total in the labelled dataset. We have 121.9508 tokens on average. The document with the least number of tokens only has 1 token in it. The document with the most number of tokens has 1,015 tokens."
   ]
  },
  {
   "cell_type": "markdown",
   "metadata": {
    "colab_type": "text",
    "id": "aWzhc1t4ClSH"
   },
   "source": [
    "Now let us look at the shapes of the extracted features, as well as their corresponding labels."
   ]
  },
  {
   "cell_type": "code",
   "execution_count": 24,
   "metadata": {
    "colab": {
     "base_uri": "https://localhost:8080/",
     "height": 54
    },
    "colab_type": "code",
    "id": "s8IVM5n9B1sy",
    "outputId": "fc6aea60-e8a0-4cd6-a4c5-659671959027"
   },
   "outputs": [
    {
     "name": "stdout",
     "output_type": "stream",
     "text": [
      "(50000, 341801)\n",
      "(50000,)\n"
     ]
    }
   ],
   "source": [
    "print(X.shape)\n",
    "print(y.shape)"
   ]
  },
  {
   "cell_type": "markdown",
   "metadata": {
    "colab_type": "text",
    "id": "XguOYgMOHMdb"
   },
   "source": [
    "Like what we found earlier, there are 50,000 labelled documents. The number of columns in the extracted feature matrix tells us that there are 341,801 unigrams/bigrams in the vocabulary of the labelled dataset."
   ]
  },
  {
   "cell_type": "markdown",
   "metadata": {
    "colab_type": "text",
    "id": "3-vJaGbt2Z9f"
   },
   "source": [
    "### Unique character set\n",
    "We find out which characters are being used in the labeled set."
   ]
  },
  {
   "cell_type": "code",
   "execution_count": 25,
   "metadata": {
    "colab": {
     "base_uri": "https://localhost:8080/",
     "height": 54
    },
    "colab_type": "code",
    "id": "Uuwh8I8JKjr4",
    "outputId": "339cf049-55c8-47d8-d353-0865c7b389cb"
   },
   "outputs": [
    {
     "name": "stdout",
     "output_type": "stream",
     "text": [
      "\n",
      " !\"#$%&'()*+,-./0123456789:;=?@ABCDEFGHIJKLMNOPQRSTUVWXYZ[\\]^_`abcdefghijklmnopqrstuvwxyz{|}~",
      " ¡¢£¤¥¦§¨©ª«¬­®¯°±²³´µ¶·¸¹º»¼½¾¿ÂÃÄÅâãäåæçèéï\n"
     ]
    }
   ],
   "source": [
    "set_of_words = labeled_data.text.apply(lambda x: set(x)).values\n",
    "uniq_chars = \"\".join(set(itertools.chain.from_iterable(set_of_words)))\n",
    "uniq_chars = \"\".join(sorted(uniq_chars))\n",
    "print(uniq_chars)"
   ]
  },
  {
   "cell_type": "markdown",
   "metadata": {
    "colab_type": "text",
    "id": "46JJ35112jxC"
   },
   "source": [
    "We see that all alphabetical letters are being used (both uppercase and lowercase). We also see some special characters, such as ¶, which is quite peculiar."
   ]
  },
  {
   "cell_type": "code",
   "execution_count": 26,
   "metadata": {
    "colab": {
     "base_uri": "https://localhost:8080/",
     "height": 1000
    },
    "colab_type": "code",
    "id": "v2SeiXYr3Af9",
    "outputId": "9fb04faf-90c3-424e-928e-396000fdbb9b"
   },
   "outputs": [
    {
     "data": {
      "text/html": [
       "<div>\n",
       "<style scoped>\n",
       "    .dataframe tbody tr th:only-of-type {\n",
       "        vertical-align: middle;\n",
       "    }\n",
       "\n",
       "    .dataframe tbody tr th {\n",
       "        vertical-align: top;\n",
       "    }\n",
       "\n",
       "    .dataframe thead th {\n",
       "        text-align: right;\n",
       "    }\n",
       "</style>\n",
       "<table border=\"1\" class=\"dataframe\">\n",
       "  <thead>\n",
       "    <tr style=\"text-align: right;\">\n",
       "      <th></th>\n",
       "      <th>text</th>\n",
       "      <th>label</th>\n",
       "      <th>clean_text</th>\n",
       "    </tr>\n",
       "  </thead>\n",
       "  <tbody>\n",
       "    <tr>\n",
       "      <th>4323</th>\n",
       "      <td>ï¼ãæåãã¾ããï¼å¤§å¥½ãã§ãã\\r\\nï¼ãç¾å³ããï¼æ²¢å±±ã®äººã«ç´¹ä»ãããï¼\\r\\nï¼ãã¢ãã¬ã¼ã¸ï¼\\r\\nï¼ãç§ã®å¥½ã¿ã§ã¯ããã¾ããã§ãããã§ãã¾ããã¤ããã£ã¬ã³ã¸ãã¦ãããããªããã\\r\\nï¼ãããäºåº¦ã¨ä¼ºããã¨ã¯ããã¾ããã\\r\\n\\r\\nãã¼ã«ã®ç¨®é¡ãè±å¯ï¼\\r\\nä½ãããããªã®ãããã¼ã«ã°ã©ã¹ããã¤ãç¶ºéºã«æ´æµããã¦ãããã¨ï¼\\r\\n\\r\\nãã­ã³ãã§ã¯ãããã§ãã¼ã«ãé£²ãã®ã1çªå¥½ãããã</td>\n",
       "      <td>3</td>\n",
       "      <td>[ï¼, , ã, , , æ, , , å, , , ã, , , ã, , ¾ã, , , ã, , , ï¼, , å, ¤, §, å, ¥, ½ã, , , ã, , §, ã, , , ã, , , ï¼, , ã, , , ç¾, , å, , ³ã, , , ã, , , ï¼, , æ², ¢, å, ±, ±, ã, , ®, äººã, , «, ç, ´, ¹ä, », , ã, , , ã, , , ã, , , ï¼, , ï¼, , ã, , , ã, , ¢, ã, , , ã, , ¬, ã, ...]</td>\n",
       "    </tr>\n",
       "    <tr>\n",
       "      <th>4949</th>\n",
       "      <td>Wir haben im Mai die \"Historic Boulder City\"-Tour gemacht.\\r\\nGebucht haben wir von Deutschland aus per Mail und mit Gutscheinen von MyVegas. Unsere Tour war somit komplett kostenlos. (Inzwischen gibt es Ã¼ber MyVegas nur noch 2-fÃ¼r-1 oder 50$-Rabatt-Gutscheine.) Der Normalpreis fÃ¼r diese Tour liegt bei 189$ pro Person und wir haben das angemessen empfunden.\\r\\nWir wurden morgens am Hotel mit einem Mini-Van abgeholt und fuhren dann zu einem weiteren Hotel um die restlichen Teilnehmer einzuladen.\\r\\nWÃ¤hrend der Fahrt hat Chuck (unser Tourguide) uns gut unterhalten. \\r\\nVor Ort angekommen wartete schon Chris (vom Support) mit den Segways auf uns. FÃ¼r alle standen Helme, KopfhÃ¶rer und viel kaltes Wasser bereit. Nachdem jeder auf dem groÃem Parkplatz in die Bedienung des Segways eingewiesen wurde und sich sicher fÃ¼hlte, ging die Tour los.\\r\\nZuerst fuhren wir durch die Stadt zum Museum. Dort hatten wir ca. eine 1/2 Stunde Aufenthalt. Der Eintrittspreis ist bereits inklusive. Hier hat man auch die MÃ¶glichkeit zur Toilette zu gehen.\\r\\nDas Museum beschÃ¤ftigt sich mit dem Bau des Hoover Dams (fÃ¼r die Arbeiter wurde Boulder City damals gebaut) und ist recht interessant.\\r\\nDanach ging die Tour weiter und es gab richtig lange Strecken zu fahren. Die Strecken sind sehr gut gewÃ¤hlt, man gerÃ¤t nirgendwo in brenzlige Situationen und fÃ¼r \"Neugierige\" gibt es viele MÃ¶glichkeiten zu testen, was ein Segway so alles kann.\\r\\nAn einer Stelle hat uns Chuck \"Big Horn Sheeps\" versprochen, aber die hatten an dem Tag wohl schon etwas besseres vor. ;-)\\r\\nAuf einem Berg - im Hintergrund sehr malerisch der Lake Mead - wurde ein Erinnerungsfoto gemacht, dass uns hinterher per Mail zugesendet wurde (kostenlos).\\r\\nZum AbschluÃ fuhren wir dann noch zum Lunch (im Preis inklusive). Man wird bereits bei der Buchung gefragt, was man gerne essen mÃ¶chte. Bei uns standen 5 oder 6 Gerichte zur Auswahl. Die QualitÃ¤t war ... naja ... Wir wÃ¼rden dort jedenfalls keinesfalls nochmal hingehen. Insgesamt hat das Essen aber wohl doch bei einigen den Geschmack getroffen. Es sind jedenfalls sehr groÃe und fettige Portionen. Eiskalte Softdrinks waren dort ebenfalls inklusive.\\r\\nAnschlieÃend ging zurÃ¼ck zum Van.\\r\\nChuck ist auf dem RÃ¼ckweg noch mit uns zum Hoover Dam gefahren, dort gab es allerdings nur einen kurzen Stop. AnschlieÃend wurden alle wieder zu Ihren Hotel (oder zum Wunschziel) gefahren.\\r\\n\\r\\nWir werden auf jeden Fall wieder eine Tour buchen, denn uns hat es supergut gefallen. Die Segways waren top in Schuss, Chuck und Chris hatten allzeit ein Auge darauf, dass alle gut klar kommen und sind geduldig und freundlich mit jedem, der etwas zÃ¶gerlich ist. Chuck wusste viel Ã¼ber Boulder City zu erzÃ¤hlen.\\r\\nJedes Segway hat vorne einen Rucksack, in dem man seine persÃ¶nlichen Sachen und GetrÃ¤nke verstauen kann.\\r\\nUnser Tipp: Bei Sonne auf jeden Fall Sonnenschutz verwenden - und dabei die HÃ¤nde nicht vergessen!</td>\n",
       "      <td>5</td>\n",
       "      <td>[wir, haben, im, mai, die, histor, boulder, citi, tour, gemacht, gebucht, haben, wir, von, deutschland, au, per, mail, und, mit, gutscheinen, von, myvega, unser, tour, war, somit, komplett, kostenlo, inzwischen, gibt, es, ã¼ber, myvega, nur, noch, fã¼r, oder, rabatt-gutschein, der, normalprei, fã¼r, dies, tour, liegt, bei, pro, person, und, wir, haben, da, angemessen, empfunden, wir, wurden, morgen, am, hotel, mit, einem, mini-van, abgeholt, und, fuhren, dann, zu, einem, weiteren, hotel, um, die, restlichen, teilnehm, einzuladen, WÃ, ¤, hrend, der, fahrt, hat, chuck, unser, tourguid, un, gut, unterhalten, vor, ort, angekommen, wartet, schon, chri, vom, support, mit, den, segway, auf, un, ...]</td>\n",
       "    </tr>\n",
       "    <tr>\n",
       "      <th>10588</th>\n",
       "      <td>Ganz normale TiefkÃ¼hlpommes mit gewÃ¶hnungsbedÃ¼rftiger Limonade (no refill) fÃ¼r Ã¼ber 10 USD fÃ¼r das MenÃ¼ sollte man nochmal in sich gehen bevor man sich hierfÃ¼r entscheidet. Das Wichtigste - und namensgebende - war dagegen sehr lecker. Ich wÃ¼rde deshalb nur empfehlen spaÃeshalber mal einen Hot Dog am Stil zu essen - den Rest kann man lassen.</td>\n",
       "      <td>2</td>\n",
       "      <td>[ganz, normal, tiefkã¼hlpomm, mit, gewã, ¶, hnungsbedã¼rftig, limonad, no, refil, fã¼r, ã¼ber, usd, fã¼r, da, menã¼, sollt, man, nochmal, in, sich, gehen, bevor, man, sich, hierfã¼r, entscheidet, da, wichtigst, und, namensgebend, war, dagegen, sehr, lecker, ich, wã¼rde, deshalb, nur, empfehlen, spaã, , eshalb, mal, einen, hot, dog, am, stil, zu, essen, den, rest, kann, man, lassen]</td>\n",
       "    </tr>\n",
       "    <tr>\n",
       "      <th>12644</th>\n",
       "      <td>éè »å¥½åçï¼åªæ¯é",
       "¸è¾£æ¹¯åºæå¯ä»¥å¤ä¸é»ãå°é¾æ¹¯å",
       "å¾åçªé¦éï¼å¾æåµæãå°é¾æ¹¯å",
       "çªé¦éçåºç¤éæï¼1çååå°å°çè¿èçè¶ï¼é",
       "¸è¾£æ¹¯é",
       "¸é",
       "¸è¾£è¾£çä¹æä¸é»é»çå¾å¥½åãåçå",
       "ä¹å¾å¥½åï¼å¤ªæ£äºï¼</td>\n",
       "      <td>4</td>\n",
       "      <td>[é, , , è, », å, ¥, ½å, , , ç, , , ï¼, , å, , ªæ, , ¯, é, ¸, è¾, £, æ¹, ¯, åº, , æ, , , å, , ¯, ä, », ¥, å, ¤, , ä, ¸, , é, », , ã, , , å, °, , é¾, , æ¹, ¯, å, , å¾, , å, , , ç, , ªé, , ¦, é, , , ï¼, , å¾, , æ, , , å, , µæ, , , ã, , , å, °, , é¾, , æ¹, ¯, å, , ç, , ªé, , ¦, ...]</td>\n",
       "    </tr>\n",
       "    <tr>\n",
       "      <th>13859</th>\n",
       "      <td>ä¸é¯çè¶åç²ãéç¶æ°´åä¸ ä¸ä½å°æ¹å¤ æ¸",
       "æ½ã æ¹¯åºéå¯ä»¥ã æåæ¥, å¸ææ°´æºæä¿æå°ãNot bad noodle soup. But quality not consistent. Hope the restaurant can maintain its quality because it is within the neighborhood and very convenient for my family.</td>\n",
       "      <td>4</td>\n",
       "      <td>[ä, ¸, , é, , ¯, ç, , , è, ¶, , å, , , ç², , ã, , , é, , , ç, , ¶, æ, °, ´, å, , , ä, ¸, , ä, ¸, , ä½, , å, , °, æ, , ¹å, ¤, æ, ¸, æ½, , ã, , , æ¹, ¯, åº, , é, , , å, , ¯, ä, », ¥, ã, , , æ, , , å, , , æ, , ¥, å, ¸, , æ, , , æ, °, ´, æº, , æ, , , ä, ¿, , æ, , , å, ...]</td>\n",
       "    </tr>\n",
       "    <tr>\n",
       "      <th>13942</th>\n",
       "      <td>Das Tom's Urban wurde bei unserem Aufenthalt in Vegas schon zu unserem \"Stammlokal\", da es sich genau am New York New York Hotel befand, wo wir wohnten nur einen Katzensprung entfernt.\\r\\n\\r\\nBei Tom's kann man sowohl drinnen und klimatisiert sitzen, als auch sehr nett draussen.\\r\\nGerade Abends, wenn die Sonne untergegangen ist, ist das ein super Ort, um den Abend ausklingen zulassen, die vorbeilaufenden Menschen zu beobachten und die Happy Hour mitzunehmen.\\r\\n\\r\\nDiese gibt es zwei mal am Tag. Von 16-19 und und von 23-02 Uhr. In der ersten Phase, steigt der Preis bis 19 Uhr jeweils um einen Dollar und in der nÃ¤chtlichen Phase, fÃ¤llt der Preis, umso spÃ¤ter es wird. Witzige Idee.\\r\\n\\r\\nDie Preise sind ingesamt fÃ¼r Vegas aber sehr moderat und angenehmen. Die Speisenauswahl ist groÃ und bietet amerikanische KÃ¼che, aber auch internationale Gerichte.\\r\\nDas Bier-MenÃ¼ ist auch hier riesig und bietet eine groÃe Auswahl an Bieren vom Fass.\\r\\n\\r\\nDie erste Empfehlung beim Essen sind definitiv die Lobster &amp; Shrimp Mac'n'Cheese. Diese war der Hammer und mit dem Lobster-Fleisch und Shrimps toll. Die Portion war wirklich groÃ und fÃ¼r 19 Dollar vollkommen angemessen.\\r\\nAuch der Hangover Slopper war klasse. Ein Angus Beef Burger mit allem was so auf einen Burger gehÃ¶rt, dazu noch eine Cheese-Sauce und zwei Eiern. Auch eine Bombe, aber super lecker und mal etwas ganz Anderes, als andere Burger. Hatte ich in der Form noch nicht. Siehe meine Fotos. Ansonsten sind die Mini-Slider auch gut, drei kleine Burger fÃ¼r den Hunger zwischendurch.\\r\\n\\r\\nBesonders zu empfehlen ist im Tom's auch noch der Baby Kale (GrÃ¼nkohl) Salat, als Caesar Variante mit Chicken. GrÃ¼nkohl als Salat ist wunderbar und hoffe, das es sich auch mehr in Deutschland durchsetzt. Super lecker, sehr gesund und geschmacklich auch mal ganz anders, als unsere Salatvarianten.\\r\\n\\r\\nDas Tom's Urban ist also immer ein guter Anlaufpunkt fÃ¼r einen Drink oder ein Essen. \\r\\nDer Service war Ã¼brigens durchweg sehr freundlich und super aufmerksam. Freies Wlan gibt es vom New York Hotel noch obendrauf. Was will man mehr?! :-)</td>\n",
       "      <td>5</td>\n",
       "      <td>[da, tom', urban, wurd, bei, unserem, aufenthalt, in, vega, schon, zu, unserem, stammlok, da, es, sich, genau, am, new, york, new, york, hotel, befand, wo, wir, wohnten, nur, einen, katzensprung, entfernt, bei, tom', kann, man, sowohl, drinnen, und, klimatisiert, sitzen, al, auch, sehr, nett, draussen, gerad, abend, wenn, die, sonn, untergegangen, ist, ist, da, ein, super, ort, um, den, abend, ausklingen, zulassen, die, vorbeilaufenden, menschen, zu, beobachten, und, die, happi, hour, mitzunehmen, dies, gibt, es, zwei, mal, am, tag, von, und, und, von, uhr, In, der, ersten, phase, steigt, der, prei, bi, uhr, jeweil, um, einen, dollar, und, in, der, ...]</td>\n",
       "    </tr>\n",
       "    <tr>\n",
       "      <th>16577</th>\n",
       "      <td>Essen ist eher schlechte deutsche kost. Mitten im dinner wurde die rechnung gebracht. Musik ist alles andere als typisch. Meine meinung ist das es mehr ein mÃ¶chtegern restaurant ist. Das einzig gute ist das bier das ist fast orginal</td>\n",
       "      <td>2</td>\n",
       "      <td>[essen, ist, eher, schlecht, deutsch, kost, mitten, im, dinner, wurd, die, rechnung, gebracht, musik, ist, all, ander, al, typisch, mein, meinung, ist, da, es, mehr, ein, mÃ, ¶, chtegern, restaur, ist, da, einzig, gute, ist, da, bier, da, ist, fast, orgin]</td>\n",
       "    </tr>\n",
       "    <tr>\n",
       "      <th>17879</th>\n",
       "      <td>dazu gibt's wohl nicht viel zu sagen: ob mittags, abends oder tief in der Nacht: mein preferred Burger Laden wenn ich im Linq nÃ¤chtige. Am liebsten so Voodoo BÃ¼rger = in Salat anstelle eines PappbrÃ¶tchens eingeschlagen. FÃ¼r die, die es nicht wissen: Hackfleisch wird vor Ort frisch durch den Fleischwolf gejagt und die Kartoffeln fÃ¼r die Fritten werden auch frisch zubereitet.</td>\n",
       "      <td>5</td>\n",
       "      <td>[dazu, gibt', wohl, nicht, viel, zu, sagen, ob, mittag, abend, oder, tief, in, der, nacht, mein, prefer, burger, laden, wenn, ich, im, linq, nÃ, ¤, chtige, Am, liebsten, so, voodoo, bã¼rger, in, salat, anstel, ein, pappbrã, ¶, tchen, eingeschlagen, fã¼r, die, die, es, nicht, wissen, hackfleisch, wird, vor, ort, frisch, durch, den, fleischwolf, gejagt, und, die, kartoffeln, fã¼r, die, fritten, werden, auch, frisch, zubereitet]</td>\n",
       "    </tr>\n",
       "    <tr>\n",
       "      <th>22022</th>\n",
       "      <td>The service is really bad. å¼ºå¶30%å°è´¹ å¥½å§ åä¸ç¼ºé£ä¸¤åé± ä½ è¯´ä½ æ¶å°±æ¶äºå§ å¥½é®è¯´ä¸å£°å§ ä¸è¯´ ææå°±æ¶äº  ãæå¡åæåº¦å·® æªæä»¬æktvç»å¼ä¹±äº æææä»¬å±å®æ­äºè¿å¾ç»å®æ¶æ¾å¥½äºæè½èµ°ï¼ ç¶åé£é³ç®±é£ç®ç´äº å¥å¥ç ´é³ å°¼çè¿æ²¡æå®¶é³ç®±ææå¥½å¢ ãå¯ä¸çä¼ç¹å§ è£",
       "ä¿®ç¨å¾®æ°ä¸ç¹ ä½æè§è·å½å",
       "ä¹¡ä¸çktvæ¯ä¼°è®¡è¿å¾å·®ä¸ä¸ªæ°´å</td>\n",
       "      <td>1</td>\n",
       "      <td>[the, servic, is, realli, bad, å¼ºå, , ¶, å, °, , è, ´, ¹, å, ¥, ½å, , §, å, , , ä, ¸, , ç¼ºé, , £, ä, ¸, ¤, å, , , é, , ±, ä½, è, ¯, ´, ä½, æ, , ¶, å, °, ±, æ, , ¶, äº, , å, , §, å, ¥, ½é, , ®, è, ¯, ´, ä, ¸, , å, £, °, å, , §, ä, ¸, , è, ¯, ´, æ, , , æ, , , å, °, ±, æ, , ¶, äº, , ã, , , æ, , , å, ...]</td>\n",
       "    </tr>\n",
       "    <tr>\n",
       "      <th>23903</th>\n",
       "      <td>Hatten dieses Hotel gebucht, da es direkt bei der Musichall war, wo am Abend das Konzert war. Parkplatz &amp; Internet Gratis. am Abend einbisschen aufpassen auf Obdachlose, tauchen ab und zu vom hinterhalt auf und mÃ¶chten Spenden.</td>\n",
       "      <td>3</td>\n",
       "      <td>[hatten, dies, hotel, gebucht, da, es, direkt, bei, der, musichal, war, wo, am, abend, da, konzert, war, parkplatz, internet, grati, am, abend, einbisschen, aufpassen, auf, obdachlos, tauchen, ab, und, zu, vom, hinterhalt, auf, und, mÃ, ¶, chten, spenden]</td>\n",
       "    </tr>\n",
       "    <tr>\n",
       "      <th>25276</th>\n",
       "      <td>I thought I have written this restaurant but somehow couldn't find it in my review\\r\\n\\r\\nRecommended by friend that it is good.  Browsing through its menu really found that there are a lot of varieties not found in traditional vegetarian Chinese restaurant.  \\r\\n\\r\\nThe most memorable dish is the A vegetable palm.  It is something different, soft but you can bite it.  Usually you can order fried A vegetable but never did I find the palm to be used.\\r\\n\\r\\nThe presentation of all dishes are nice and clean.\\r\\n\\r\\nAt the end, the waitress introduced us äºå°å±±éè²è±è¶ Wu Tai flower tea that is good for your stomach.  We bought some to try.  This is a good place to have vegetarian dishes.  Whatever you pay minus expenses is used to fund the building of the Wu Tai temple in Pickering that is now under construction.  You can have a meal and at the same time do some fund raising.</td>\n",
       "      <td>3</td>\n",
       "      <td>[I, thought, I, have, written, thi, restaur, but, somehow, could not, find, it, in, my, review, recommend, by, friend, that, it, is, good, brows, through, it, menu, realli, found, that, there, are, a, lot, of, varieti, not, found, in, tradit, vegetarian, chines, restaur, the, most, memor, dish, is, the, A, veget, palm, It, is, someth, differ, soft, but, you, can, bite, it, usual, you, can, order, fri, A, veget, but, never, did, I, find, the, palm, to, be, use, the, present, of, all, dish, are, nice, and, clean, At, the, end, the, waitress, introduc, us, äº, , å, , °, å, ...]</td>\n",
       "    </tr>\n",
       "    <tr>\n",
       "      <th>26397</th>\n",
       "      <td>ä¹",
       "ãã¶ãã«å£ã«åããªãï¼\\r\\nã¹ã¢ã¼ã«ãã¼ã·ã§ã³ã®ã³ã¼ã¹ããªã¼ãã¼ãã¾ããã\\r\\nåãï¼\\r\\nã¡ãã¥ã¼ã®ã»ã¨ãã©ã®ç¨®é¡ã®æçãåºã¦ãã¾ãã\\r\\nããã¯ãå¾ã§ãï¼\\r\\nå",
       "¨é¨ã§20ç¨®é¡ãè¶",
       "ãããï¼\\r\\nãã®å",
       "¨ã¦ãå£ã«åããªãã¨è¨ãå¿«æï¼\\r\\nç´ æ´ãããï¼\\r\\né¢ç½ãï¼\\r\\nè©±é¡ã¨ãã¦ã¯æé«ã«ãªãã¨æãï¼</td>\n",
       "      <td>2</td>\n",
       "      <td>[ä¹, ã, , , ã, , ¶, ã, , , ã, , «, å, , £, ã, , «, å, , , ã, , , ã, , ªã, , , ï¼, , ã, , ¹ã, , ¢, ã, , ¼ã, , «, ã, , , ã, , ¼ã, , ·, ã, , §, ã, , ³ã, , ®, ã, , ³ã, , ¼ã, , ¹ã, , , ã, , ªã, , ¼ã, , , ã, , ¼ã, , , ã, , ¾ã, , , ã, , , ã, , , å, , , ã, , , ï¼, , ã, , ...]</td>\n",
       "    </tr>\n",
       "    <tr>\n",
       "      <th>28964</th>\n",
       "      <td>åå",
       "§ååççè¶é£²åºéå°ç¦»å£«åå ¡ãä½äºmidland and finchçééåå",
       "ãç¯å¢èµ°çç¾å°èµé£ï¼è±å¢ãLINE FRIENDSçBROWNå°çå¤§å",
       "¬ä»ï¼ç»å¯¹æ¯æç",
       "§ç­ç¹ãåºåæ¹é¢ï¼æ°´æè¶çè¶ä½æ·¡äºå°å°ï¼æ°´æåç§æè¥¿çãæ©ãç¾é¦æãå£«å¤å¤æ¢¨ãä»·é±ä¸­ä¸ï¼æ¬§å",
       "è¿æ²¡è¯ï¼å ä¸ºå",
       "ç±»åºçæ¶é´æ¯å¤©é½ä¸åï¼æä»¥éæ©æç¹åä¸</td>\n",
       "      <td>4</td>\n",
       "      <td>[å, , , å, §, å, , , å, , , ç, , , ç, , , è, , ¶, é, £, ²åº, , é, , , å, , °, ç, ¦, », å, £, «, å, , , å, ¡, ã, , , ä½, , äº, , midland, and, finchç, , , é, , , é, , , å, , , å, , ã, , , ç, , ¯, å, ¢, , èµ, °, ç, , , ç¾, , å, °, , èµ, , é, £, , ï¼, , è, , ±, å, ¢, , ã, , , line, ...]</td>\n",
       "    </tr>\n",
       "    <tr>\n",
       "      <th>34566</th>\n",
       "      <td>Sehr schÃ¶nes Steakhaus mitten auf dem Strip. \\r\\n\\r\\nHier gabs das beste Steak das ich jemals gegessen habe. :-)</td>\n",
       "      <td>5</td>\n",
       "      <td>[sehr, schã, ¶, ne, steakhau, mitten, auf, dem, strip, hier, gab, da, best, steak, da, ich, jemal, gegessen, habe, :-)]</td>\n",
       "    </tr>\n",
       "    <tr>\n",
       "      <th>34862</th>\n",
       "      <td>We came here for dim sum #é»å¿ on a Sat morning after being on vacation in Europe, so we we're definitely craving some good Chinese food. We had a reservation for 12pm but we still waited 45min to get seated because there was already a crowd of people still waiting for a table. I think it just has to be managed better, like have an app that customers can bid for tables or have organized seating times. I saw some people leave in frustration (i.e. banging the sh*t out of the handicap button to open the door); and while it's understandable to react like that when you're hungry, it's certainly not very mature and respectful behavior. Nevertheless, I guess you just have be patient if you want to eat their food..\\r\\n\\r\\nI think what business owners should realize is that if you have a less hectic environment in the front of the house, your customers will probably be more polite to the servers.\\r\\n\\r\\nThe food, I thought was really good, and again if you're patient enough to wait for your table, you get to order their BBQ pork. Tea wasn't that great, I mean it's called #é£²è¶ for a reason, so it gets -1 star, but the food is consistent. We just ordered alot of random things (that guy sold us on so many extra dishes), that by the end, everything gets cold and gummy, and lunch turns into the \"who ordered this on the sheet?!\" game. Nevertheless, it was fun to drink tea and catch up with your friends.\\r\\n\\r\\nAnyways, the moral of this story is: be patient at the door, try and book your lunches during off peak hours (either 30min after opening or 3pm), be kind to your servers/compliment them once in a while, and  you'll have a better experience.. not like all the 1star reviews that you read on this.\\r\\n\\r\\nP.S. try not to drool on your cellphone screen.</td>\n",
       "      <td>4</td>\n",
       "      <td>[We, came, here, for, dim, sum, é, », , å, ¿, , on, a, sat, morn, after, be, on, vacat, in, europ, so, we, we ar, definit, crave, some, good, chines, food, We, had, a, reserv, for, pm, but, we, still, wait, min, to, get, seat, becaus, there, wa, alreadi, a, crowd, of, peopl, still, wait, for, a, tabl, I, think, it, just, ha, to, be, manag, better, like, have, an, app, that, custom, can, bid, for, tabl, or, have, organ, seat, time, I, saw, some, peopl, leav, in, frustrat, i, e, bang, the, sh, t, out, of, the, handicap, button, ...]</td>\n",
       "    </tr>\n",
       "    <tr>\n",
       "      <th>35682</th>\n",
       "      <td>FÃ¶rutsatt att du inte har allt fÃ¶r svÃ¥rt fÃ¶r unga kvinnor med vÃ¤ldigt stor byst som serverar dig sÃ¥ kan detta stÃ¤lle absolut rekommenderas. Ok, det Ã¤r inte sÃ¥ illa som pÃ¥ the Hooters i USA men dock. HÃ¤r Ã¶ppnar du med en gin(hendricks)&amp;tonic i baren och bestÃ¤ller sedan in en steak till maten och den Ã¤r helt enkelt jÃ¤vligt bra. StÃ¤llet andas trendigt, hippt och affÃ¤rsfolk mÃ¶ter trendiga designer kids. Till fÃ¶rrÃ¤tt vÃ¤ljer du fÃ¶rslagsvis salladen med jordgubbar, nÃ¶tter och annat.</td>\n",
       "      <td>4</td>\n",
       "      <td>[FÃ, ¶, rutsatt, att, du, int, har, allt, fÃ, ¶, r, svã, ¥, rt, fÃ, ¶, r, unga, kvinnor, med, vÃ, ¤, ldigt, stor, byst, som, serverar, dig, sÃ, ¥, kan, detta, stã, ¤, lle, absolut, rekommendera, Ok, det, Ã, ¤, r, int, sÃ, ¥, illa, som, pÃ, ¥, the, hooter, i, usa, men, dock, HÃ, ¤, r, Ã, ¶, ppnar, du, med, en, gin, hendrick, tonic, i, baren, och, bestã, ¤, ller, sedan, in, en, steak, till, maten, och, den, Ã, ¤, r, helt, enkelt, jÃ, ¤, vligt, bra, stã, ¤, llet, anda, trendigt, hippt, och, affã, ¤, rsfolk, ...]</td>\n",
       "    </tr>\n",
       "    <tr>\n",
       "      <th>35716</th>\n",
       "      <td>Valu-Martç³»PCéå¢æä¸çè¶",
       "å¸ä¹ä¸ï¼ä¸ªäººè§å¾å¥½ä¼¼ä»ä¹äºloblawsåno frillsä¹é´çï¼ååºç¸å¯¹ç¦»è®²åç®å¤ãå¢é´ä½äºbayviewå¤¹cummerçä¸åè§ãç¯å¢æ´æ´ï¼äººä¹åå¤ï¼åç§oké½å",
       "¨ï¼ä½åäººé£åç±»å°±åå¤ªå¤ãå¦ææ¯PC Clubä¼åçè¯ç¦»ä¹°èè´­ç©å°±å¯ä»¥åºç¤ºä¼åå¡å¨ç§¯å</td>\n",
       "      <td>3</td>\n",
       "      <td>[valu-martç³, », pcé, , , å, , ¢, æ, , , ä, ¸, , ç, , , è, ¶, å, ¸, , ä¹, , ä, ¸, , ï¼, , ä, ¸, ªäººè, §, , å¾, , å, ¥, ½ä¼¼ä, », , ä¹, , äº, , loblawså, , , no, frillsä¹, , é, , ´, ç, , , ï¼, , å, , , åº, , ç, , ¸, å, ¯, ¹ç, ¦, », è, ®, ²å, , , ç, ®, , å, ¤, , ã, , , å, , ¢, é, , ´, ä½, , äº, , bayviewå, ¤, ¹cummerç, , ...]</td>\n",
       "    </tr>\n",
       "    <tr>\n",
       "      <th>35906</th>\n",
       "      <td>å¨ææ6çdinnerï¼ä¸è¥¿å¾å¤ï¼éå¸¸çå¤éæ©ï¼è¿æç¾èï¼å¤ªå«äººæå¤äºï¼èä¸è·¨äºå¾å¤çèç³»ï¼\\r\\n\\r\\nè¿éçè¹è",
       "¿æ¯æå¨lvåè¿ä¸­æå¥½çï¼è¥èçèï¼è¶",
       "çº§æ æå¥½åï¼No.1ï¼å¤æ±ï¼å¾Qãpai thaiï¼ä¹å¾æå³éï¼\\r\\n\\r\\nsushi é£tnndå®å",
       "¨æ¯ä¸ä¸ªæ¸£ï¼ççé£çå­ï¼ä¸ä¸ä¸¤ç§é¢è²ï¼å¾ä¸å¹²åï¼èèµ·é£æ ·çæçéå¸¸å¼ºçä¸ä¸ä¸ï¼å¸å",
       "ä»¬å",
       "sushiçææ¯ä¹æ¯éå¸¸çä¸çæ³ï¼é£é±¼åä»ä¹çï¼ç²ç²çï¼å£æä¸Qåï¼æ3ç§é±¼å­é",
       "±ï¼å¯æ¯é£ä¸ªå¥³çæåº¦æç¹é®é¢ï¼å¥½åéå¸¸çä¸æ",
       "æ¿ï¼æ¿äºä¸æ¬¡å°±æ²¡æå»äºã\\r\\n\\r\\næ°´ææ¯å«æéå¸¸çæ°çï¼æä»¥æç»äº2æãå¸å",
       "å¨è¡¥è´§çæ¶åæ²¡æå»æ¢çï¼é£çå­ççå°±æ¶å¿ï¼\\r\\n\\r\\næ¾å¤¹å­çé£ä¸ªçå­ççéå¸¸ç ä¸èæ</td>\n",
       "      <td>2</td>\n",
       "      <td>[å, , ¨, æ, , , æ, , , ç, , , dinnerï¼, , ä, ¸, , è, ¥, ¿, å¾, , å, ¤, , ï¼, , é, , , å, ¸, ¸, ç, , , å, ¤, , é, , , æ, , ©, ï¼, , è, ¿, , æ, , , ç¾, , è, , , ï¼, , å, ¤, ªå, , «, äººæ, , , å, ¤, , äº, , ï¼, , è, , , ä, ¸, , è, ·, ¨, äº, , å¾, , å, ¤, , ç, , , è, , , ç³, », ï¼, ...]</td>\n",
       "    </tr>\n",
       "    <tr>\n",
       "      <th>39799</th>\n",
       "      <td>MÃ¤dels das ist eine geile Show, sexy MÃ¤nner mit einem unwiderstehlich gut gebautem KÃ¶rper, die sich saugeil bewegen kÃ¶nnen und sich im String auf Tischen, StÃ¼hlen und Frauen rÃ¤ckeln. \\r\\n\\r\\n\\r\\n Die Stimmung ist super, die MÃ¤nner lÃ¤cheln zum dahinschmelzen und man kann und will sich gar nicht fÃ¼r einen entscheiden .... Milchmann, Bauarbeiter, Banker??? Egal!\\r\\n\\r\\n\\r\\n Preis - Leistung sind absolut ok. Die AtmosphÃ¤re stimmt, kleiner dunkler Raum mit bequemen Tischen und Nischen. Die Tische direkt vor der BÃ¼hne werden von den MÃ¤nnern auch als BÃ¼hne benutzt, wo auch mal anfassen statt nur gucken erwÃ¼nscht ist. Ein Mordsgaudi!!!!\\r\\n\\r\\n\\r\\n Ein super geiler MÃ¤delsabend mit nettem Erinnerungsfoto (20 USD)</td>\n",
       "      <td>5</td>\n",
       "      <td>[MÃ, ¤, del, da, ist, ein, geil, show, sexi, MÃ, ¤, nner, mit, einem, unwiderstehlich, gut, gebautem, KÃ, ¶, rper, die, sich, saugeil, bewegen, kÃ, ¶, nnen, und, sich, im, string, auf, tischen, stã¼hlen, und, frauen, rÃ, ¤, ckeln, die, stimmung, ist, super, die, MÃ, ¤, nner, lÃ, ¤, cheln, zum, dahinschmelzen, und, man, kann, und, will, sich, gar, nicht, fã¼r, einen, entscheiden, ..., milchmann, bauarbeit, banker, egal, prei, leistung, sind, absolut, ok, die, atmosphã, ¤, re, stimmt, kleiner, dunkler, raum, mit, bequemen, tischen, und, nischen, die, tisch, direkt, vor, der, bã¼hne, werden, von, den, MÃ, ¤, nnern, auch, al, ...]</td>\n",
       "    </tr>\n",
       "    <tr>\n",
       "      <th>46210</th>\n",
       "      <td>Netter Sportartikelladen mit einer recht groÃen Auswahl an Kleidung und AusrÃ¼stung. Leider ist alles etwas teurer als in vergleichbaren anderen GeachÃ¤ften. Zum Schauen ganz schÃ¶n, zum Kaufen nicht die erste Wahl.</td>\n",
       "      <td>3</td>\n",
       "      <td>[netter, sportartikelladen, mit, einer, recht, groã, , en, auswahl, an, kleidung, und, ausrã¼stung, leider, ist, all, etwa, teurer, al, in, vergleichbaren, anderen, geachã, ¤, ften, zum, schauen, ganz, schã, ¶, n, zum, kaufen, nicht, die, erst, wahl]</td>\n",
       "    </tr>\n",
       "    <tr>\n",
       "      <th>46639</th>\n",
       "      <td>I had the Tiroler GrÃ¶stl, a sampler of diced meats with German style potatoes. It was a tad salty for my usual taste, but overall very well prepared and seasoned. Service was very slow, and I had to wait much longer than usual for drink refills and general table service.  \\r\\n\\r\\nOverall assessment: Good food, dated decor, and waitresses leave much to be desired when it comes to attentiveness.  I would go back and back and try something new, in hopes that the lacking service was due to an off night and not normal operations.</td>\n",
       "      <td>3</td>\n",
       "      <td>[I, had, the, tirol, grã, ¶, stl, a, sampler, of, dice, meat, with, german, style, potato, It, wa, a, tad, salti, for, my, usual, tast, but, overal, veri, well, prepar, and, season, servic, wa, veri, slow, and, I, had, to, wait, much, longer, than, usual, for, drink, refil, and, gener, tabl, servic, overal, assess, good, food, date, decor, and, waitress, leav, much, to, be, desir, when, it, come, to, attent, I, would, go, back, and, back, and, tri, someth, new, in, hope, that, the, lack, servic, wa, due, to, an, off, night, and, not, normal, oper]</td>\n",
       "    </tr>\n",
       "  </tbody>\n",
       "</table>\n",
       "</div>"
      ],
      "text/plain": [
       "                                                                                                                                                                                                                                                                                                                                                                                                                                                                                                                                                                                                                                                                                                                                                                                                                                                                                                                                                                                                                                                                                                                                                                                                                                                                                                                                                                                                                                                                                                                                                                                                                                                                                                                                                                                                                                                                                                                                                                                                                                                                                                                                                                                                                                                                                                                                                                                                                                                                                                                                                                                                                                                                                                                                                                                                                                                                                                                                                                                                                                                                           text  \\\n",
       "4323   ï¼ãæåãã¾ããï¼å¤§å¥½ãã§ãã\\r\\nï¼ãç¾å³ããï¼æ²¢å±±ã®äººã«ç´¹ä»ãããï¼\\r\\nï¼ãã¢ãã¬ã¼ã¸ï¼\\r\\nï¼ãç§ã®å¥½ã¿ã§ã¯ããã¾ããã§ãããã§ãã¾ããã¤ããã£ã¬ã³ã¸ãã¦ãããããªããã\\r\\nï¼ãããäºåº¦ã¨ä¼ºããã¨ã¯ããã¾ããã\\r\\n\\r\\nãã¼ã«ã®ç¨®é¡ãè±å¯ï¼\\r\\nä½ãããããªã®ãããã¼ã«ã°ã©ã¹ããã¤ãç¶ºéºã«æ´æµããã¦ãããã¨ï¼\\r\\n\\r\\nãã­ã³ãã§ã¯ãããã§ãã¼ã«ãé£²ãã®ã1çªå¥½ãããã                                                                                                                                                                                                                                                                                                                                                                                                                                                                                                                                                                                                                                                                                                                                                                                                                                                                                                                                                                                                                                                                                                                                                                                                                                                                                                                                                                                                                                                                                                                                                                                                                                                                                                                                                                                                                                                                                                                                                                                                                                                                                                                                                                                                                                                                                                                                                                                                                                                                                                                          \n",
       "4949   Wir haben im Mai die \"Historic Boulder City\"-Tour gemacht.\\r\\nGebucht haben wir von Deutschland aus per Mail und mit Gutscheinen von MyVegas. Unsere Tour war somit komplett kostenlos. (Inzwischen gibt es Ã¼ber MyVegas nur noch 2-fÃ¼r-1 oder 50$-Rabatt-Gutscheine.) Der Normalpreis fÃ¼r diese Tour liegt bei 189$ pro Person und wir haben das angemessen empfunden.\\r\\nWir wurden morgens am Hotel mit einem Mini-Van abgeholt und fuhren dann zu einem weiteren Hotel um die restlichen Teilnehmer einzuladen.\\r\\nWÃ¤hrend der Fahrt hat Chuck (unser Tourguide) uns gut unterhalten. \\r\\nVor Ort angekommen wartete schon Chris (vom Support) mit den Segways auf uns. FÃ¼r alle standen Helme, KopfhÃ¶rer und viel kaltes Wasser bereit. Nachdem jeder auf dem groÃem Parkplatz in die Bedienung des Segways eingewiesen wurde und sich sicher fÃ¼hlte, ging die Tour los.\\r\\nZuerst fuhren wir durch die Stadt zum Museum. Dort hatten wir ca. eine 1/2 Stunde Aufenthalt. Der Eintrittspreis ist bereits inklusive. Hier hat man auch die MÃ¶glichkeit zur Toilette zu gehen.\\r\\nDas Museum beschÃ¤ftigt sich mit dem Bau des Hoover Dams (fÃ¼r die Arbeiter wurde Boulder City damals gebaut) und ist recht interessant.\\r\\nDanach ging die Tour weiter und es gab richtig lange Strecken zu fahren. Die Strecken sind sehr gut gewÃ¤hlt, man gerÃ¤t nirgendwo in brenzlige Situationen und fÃ¼r \"Neugierige\" gibt es viele MÃ¶glichkeiten zu testen, was ein Segway so alles kann.\\r\\nAn einer Stelle hat uns Chuck \"Big Horn Sheeps\" versprochen, aber die hatten an dem Tag wohl schon etwas besseres vor. ;-)\\r\\nAuf einem Berg - im Hintergrund sehr malerisch der Lake Mead - wurde ein Erinnerungsfoto gemacht, dass uns hinterher per Mail zugesendet wurde (kostenlos).\\r\\nZum AbschluÃ fuhren wir dann noch zum Lunch (im Preis inklusive). Man wird bereits bei der Buchung gefragt, was man gerne essen mÃ¶chte. Bei uns standen 5 oder 6 Gerichte zur Auswahl. Die QualitÃ¤t war ... naja ... Wir wÃ¼rden dort jedenfalls keinesfalls nochmal hingehen. Insgesamt hat das Essen aber wohl doch bei einigen den Geschmack getroffen. Es sind jedenfalls sehr groÃe und fettige Portionen. Eiskalte Softdrinks waren dort ebenfalls inklusive.\\r\\nAnschlieÃend ging zurÃ¼ck zum Van.\\r\\nChuck ist auf dem RÃ¼ckweg noch mit uns zum Hoover Dam gefahren, dort gab es allerdings nur einen kurzen Stop. AnschlieÃend wurden alle wieder zu Ihren Hotel (oder zum Wunschziel) gefahren.\\r\\n\\r\\nWir werden auf jeden Fall wieder eine Tour buchen, denn uns hat es supergut gefallen. Die Segways waren top in Schuss, Chuck und Chris hatten allzeit ein Auge darauf, dass alle gut klar kommen und sind geduldig und freundlich mit jedem, der etwas zÃ¶gerlich ist. Chuck wusste viel Ã¼ber Boulder City zu erzÃ¤hlen.\\r\\nJedes Segway hat vorne einen Rucksack, in dem man seine persÃ¶nlichen Sachen und GetrÃ¤nke verstauen kann.\\r\\nUnser Tipp: Bei Sonne auf jeden Fall Sonnenschutz verwenden - und dabei die HÃ¤nde nicht vergessen!   \n",
       "10588  Ganz normale TiefkÃ¼hlpommes mit gewÃ¶hnungsbedÃ¼rftiger Limonade (no refill) fÃ¼r Ã¼ber 10 USD fÃ¼r das MenÃ¼ sollte man nochmal in sich gehen bevor man sich hierfÃ¼r entscheidet. Das Wichtigste - und namensgebende - war dagegen sehr lecker. Ich wÃ¼rde deshalb nur empfehlen spaÃeshalber mal einen Hot Dog am Stil zu essen - den Rest kann man lassen.                                                                                                                                                                                                                                                                                                                                                                                                                                                                                                                                                                                                                                                                                                                                                                                                                                                                                                                                                                                                                                                                                                                                                                                                                                                                                                                                                                                                                                                                                                                                                                                                                                                                                                                                                                                                                                                                                                                                                                                                                                                                                                                                                                                                                                                                                                                                                                                                                                                                                                                                                                                                                                                                                                           \n",
       "12644  éè »å¥½åçï¼åªæ¯é\n",
       "¸è¾£æ¹¯åºæå¯ä»¥å¤ä¸é»ãå°é¾æ¹¯å\n",
       "å¾åçªé¦éï¼å¾æåµæãå°é¾æ¹¯å\n",
       "çªé¦éçåºç¤éæï¼1çååå°å°çè¿èçè¶ï¼é\n",
       "¸è¾£æ¹¯é\n",
       "¸é\n",
       "¸è¾£è¾£çä¹æä¸é»é»çå¾å¥½åãåçå\n",
       "ä¹å¾å¥½åï¼å¤ªæ£äºï¼                                                                                                                                                                                                                                                                                                                                                                                                                                                                                                                                                                                                                                                                                                                                                                                                                                                                                                                                                                                                                                                                                                                                                                                                                                                                                                                                                                                                                                                                                                                                                                                                                                                                                                                                                                                                                                                                                                                                                                                                                                                                                                                                                                                                                                                                                                                                                                                                                                                                                                                                                                                                                                                                                                                                                                                                  \n",
       "13859  ä¸é¯çè¶åç²ãéç¶æ°´åä¸ ä¸ä½å°æ¹å¤ æ¸\n",
       "æ½ã æ¹¯åºéå¯ä»¥ã æåæ¥, å¸ææ°´æºæä¿æå°ãNot bad noodle soup. But quality not consistent. Hope the restaurant can maintain its quality because it is within the neighborhood and very convenient for my family.                                                                                                                                                                                                                                                                                                                                                                                                                                                                                                                                                                                                                                                                                                                                                                                                                                                                                                                                                                                                                                                                                                                                                                                                                                                                                                                                                                                                                                                                                                                                                                                                                                                                                                                                                                                                                                                                                                                                                                                                                                                                                                                                                                                                                                                                                                                                                                                                                                                                                                                                                                                                                                                                                                                                                                              \n",
       "13942  Das Tom's Urban wurde bei unserem Aufenthalt in Vegas schon zu unserem \"Stammlokal\", da es sich genau am New York New York Hotel befand, wo wir wohnten nur einen Katzensprung entfernt.\\r\\n\\r\\nBei Tom's kann man sowohl drinnen und klimatisiert sitzen, als auch sehr nett draussen.\\r\\nGerade Abends, wenn die Sonne untergegangen ist, ist das ein super Ort, um den Abend ausklingen zulassen, die vorbeilaufenden Menschen zu beobachten und die Happy Hour mitzunehmen.\\r\\n\\r\\nDiese gibt es zwei mal am Tag. Von 16-19 und und von 23-02 Uhr. In der ersten Phase, steigt der Preis bis 19 Uhr jeweils um einen Dollar und in der nÃ¤chtlichen Phase, fÃ¤llt der Preis, umso spÃ¤ter es wird. Witzige Idee.\\r\\n\\r\\nDie Preise sind ingesamt fÃ¼r Vegas aber sehr moderat und angenehmen. Die Speisenauswahl ist groÃ und bietet amerikanische KÃ¼che, aber auch internationale Gerichte.\\r\\nDas Bier-MenÃ¼ ist auch hier riesig und bietet eine groÃe Auswahl an Bieren vom Fass.\\r\\n\\r\\nDie erste Empfehlung beim Essen sind definitiv die Lobster & Shrimp Mac'n'Cheese. Diese war der Hammer und mit dem Lobster-Fleisch und Shrimps toll. Die Portion war wirklich groÃ und fÃ¼r 19 Dollar vollkommen angemessen.\\r\\nAuch der Hangover Slopper war klasse. Ein Angus Beef Burger mit allem was so auf einen Burger gehÃ¶rt, dazu noch eine Cheese-Sauce und zwei Eiern. Auch eine Bombe, aber super lecker und mal etwas ganz Anderes, als andere Burger. Hatte ich in der Form noch nicht. Siehe meine Fotos. Ansonsten sind die Mini-Slider auch gut, drei kleine Burger fÃ¼r den Hunger zwischendurch.\\r\\n\\r\\nBesonders zu empfehlen ist im Tom's auch noch der Baby Kale (GrÃ¼nkohl) Salat, als Caesar Variante mit Chicken. GrÃ¼nkohl als Salat ist wunderbar und hoffe, das es sich auch mehr in Deutschland durchsetzt. Super lecker, sehr gesund und geschmacklich auch mal ganz anders, als unsere Salatvarianten.\\r\\n\\r\\nDas Tom's Urban ist also immer ein guter Anlaufpunkt fÃ¼r einen Drink oder ein Essen. \\r\\nDer Service war Ã¼brigens durchweg sehr freundlich und super aufmerksam. Freies Wlan gibt es vom New York Hotel noch obendrauf. Was will man mehr?! :-)                                                                                                                                                                                                                                                                                                                                                                                                                                                                                                                                                                                                                                                                                                                                                                                                                                                                       \n",
       "16577  Essen ist eher schlechte deutsche kost. Mitten im dinner wurde die rechnung gebracht. Musik ist alles andere als typisch. Meine meinung ist das es mehr ein mÃ¶chtegern restaurant ist. Das einzig gute ist das bier das ist fast orginal                                                                                                                                                                                                                                                                                                                                                                                                                                                                                                                                                                                                                                                                                                                                                                                                                                                                                                                                                                                                                                                                                                                                                                                                                                                                                                                                                                                                                                                                                                                                                                                                                                                                                                                                                                                                                                                                                                                                                                                                                                                                                                                                                                                                                                                                                                                                                                                                                                                                                                                                                                                                                                                                                                                                                                                                                                  \n",
       "17879  dazu gibt's wohl nicht viel zu sagen: ob mittags, abends oder tief in der Nacht: mein preferred Burger Laden wenn ich im Linq nÃ¤chtige. Am liebsten so Voodoo BÃ¼rger = in Salat anstelle eines PappbrÃ¶tchens eingeschlagen. FÃ¼r die, die es nicht wissen: Hackfleisch wird vor Ort frisch durch den Fleischwolf gejagt und die Kartoffeln fÃ¼r die Fritten werden auch frisch zubereitet.                                                                                                                                                                                                                                                                                                                                                                                                                                                                                                                                                                                                                                                                                                                                                                                                                                                                                                                                                                                                                                                                                                                                                                                                                                                                                                                                                                                                                                                                                                                                                                                                                                                                                                                                                                                                                                                                                                                                                                                                                                                                                                                                                                                                                                                                                                                                                                                                                                                                                                                                                                                                                                                                              \n",
       "22022  The service is really bad. å¼ºå¶30%å°è´¹ å¥½å§ åä¸ç¼ºé£ä¸¤åé± ä½ è¯´ä½ æ¶å°±æ¶äºå§ å¥½é®è¯´ä¸å£°å§ ä¸è¯´ ææå°±æ¶äº  ãæå¡åæåº¦å·® æªæä»¬æktvç»å¼ä¹±äº æææä»¬å±å®æ­äºè¿å¾ç»å®æ¶æ¾å¥½äºæè½èµ°ï¼ ç¶åé£é³ç®±é£ç®ç´äº å¥å¥ç ´é³ å°¼çè¿æ²¡æå®¶é³ç®±ææå¥½å¢ ãå¯ä¸çä¼ç¹å§ è£\n",
       "ä¿®ç¨å¾®æ°ä¸ç¹ ä½æè§è·å½å\n",
       "ä¹¡ä¸çktvæ¯ä¼°è®¡è¿å¾å·®ä¸ä¸ªæ°´å                                                                                                                                                                                                                                                                                                                                                                                                                                                                                                                                                                                                                                                                                                                                                                                                                                                                                                                                                                                                                                                                                                                                                                                                                                                                                                                                                                                                                                                                                                                                                                                                                                                                                                                                                                                                                                                                                                                                                                                                                                                                                                                                                                                                                                                                                                                                                                                                                                                                                                                                                                                                                          \n",
       "23903  Hatten dieses Hotel gebucht, da es direkt bei der Musichall war, wo am Abend das Konzert war. Parkplatz & Internet Gratis. am Abend einbisschen aufpassen auf Obdachlose, tauchen ab und zu vom hinterhalt auf und mÃ¶chten Spenden.                                                                                                                                                                                                                                                                                                                                                                                                                                                                                                                                                                                                                                                                                                                                                                                                                                                                                                                                                                                                                                                                                                                                                                                                                                                                                                                                                                                                                                                                                                                                                                                                                                                                                                                                                                                                                                                                                                                                                                                                                                                                                                                                                                                                                                                                                                                                                                                                                                                                                                                                                                                                                                                                                                                                                                                                                                       \n",
       "25276  I thought I have written this restaurant but somehow couldn't find it in my review\\r\\n\\r\\nRecommended by friend that it is good.  Browsing through its menu really found that there are a lot of varieties not found in traditional vegetarian Chinese restaurant.  \\r\\n\\r\\nThe most memorable dish is the A vegetable palm.  It is something different, soft but you can bite it.  Usually you can order fried A vegetable but never did I find the palm to be used.\\r\\n\\r\\nThe presentation of all dishes are nice and clean.\\r\\n\\r\\nAt the end, the waitress introduced us äºå°å±±éè²è±è¶ Wu Tai flower tea that is good for your stomach.  We bought some to try.  This is a good place to have vegetarian dishes.  Whatever you pay minus expenses is used to fund the building of the Wu Tai temple in Pickering that is now under construction.  You can have a meal and at the same time do some fund raising.                                                                                                                                                                                                                                                                                                                                                                                                                                                                                                                                                                                                                                                                                                                                                                                                                                                                                                                                                                                                                                                                                                                                                                                                                                                                                                                                                                                                                                                                                                                                                                                                                                                                                                                                                                                                                                                                                                                                                                                                                                                                                                                                              \n",
       "26397  ä¹\n",
       "ãã¶ãã«å£ã«åããªãï¼\\r\\nã¹ã¢ã¼ã«ãã¼ã·ã§ã³ã®ã³ã¼ã¹ããªã¼ãã¼ãã¾ããã\\r\\nåãï¼\\r\\nã¡ãã¥ã¼ã®ã»ã¨ãã©ã®ç¨®é¡ã®æçãåºã¦ãã¾ãã\\r\\nããã¯ãå¾ã§ãï¼\\r\\nå\n",
       "¨é¨ã§20ç¨®é¡ãè¶\n",
       "ãããï¼\\r\\nãã®å\n",
       "¨ã¦ãå£ã«åããªãã¨è¨ãå¿«æï¼\\r\\nç´ æ´ãããï¼\\r\\né¢ç½ãï¼\\r\\nè©±é¡ã¨ãã¦ã¯æé«ã«ãªãã¨æãï¼                                                                                                                                                                                                                                                                                                                                                                                                                                                                                                                                                                                                                                                                                                                                                                                                                                                                                                                                                                                                                                                                                                                                                                                                                                                                                                                                                                                                                                                                                                                                                                                                                                                                                                                                                                                                                                                                                                                                                                                                                                                                                                                                                                                                                                                                                                                                                                                                                                                                                                                                                                                                                                                          \n",
       "28964  åå\n",
       "§ååççè¶é£²åºéå°ç¦»å£«åå ¡ãä½äºmidland and finchçééåå\n",
       "ãç¯å¢èµ°çç¾å°èµé£ï¼è±å¢ãLINE FRIENDSçBROWNå°çå¤§å\n",
       "¬ä»ï¼ç»å¯¹æ¯æç\n",
       "§ç­ç¹ãåºåæ¹é¢ï¼æ°´æè¶çè¶ä½æ·¡äºå°å°ï¼æ°´æåç§æè¥¿çãæ©ãç¾é¦æãå£«å¤å¤æ¢¨ãä»·é±ä¸­ä¸ï¼æ¬§å\n",
       "è¿æ²¡è¯ï¼å ä¸ºå\n",
       "ç±»åºçæ¶é´æ¯å¤©é½ä¸åï¼æä»¥éæ©æç¹åä¸                                                                                                                                                                                                                                                                                                                                                                                                                                                                                                                                                                                                                                                                                                                                                                                                                                                                                                                                                                                                                                                                                                                                                                                                                                                                                                                                                                                                                                                                                                                                                                                                                                                                                                                                                                                                                                                                                                                                                                                                                                                                                                                                                                                                                                                                                                                                                                                                                                                                                                                                                                                                                                                                    \n",
       "34566  Sehr schÃ¶nes Steakhaus mitten auf dem Strip. \\r\\n\\r\\nHier gabs das beste Steak das ich jemals gegessen habe. :-)                                                                                                                                                                                                                                                                                                                                                                                                                                                                                                                                                                                                                                                                                                                                                                                                                                                                                                                                                                                                                                                                                                                                                                                                                                                                                                                                                                                                                                                                                                                                                                                                                                                                                                                                                                                                                                                                                                                                                                                                                                                                                                                                                                                                                                                                                                                                                                                                                                                                                                                                                                                                                                                                                                                                                                                                                                                                                                                                                          \n",
       "34862  We came here for dim sum #é»å¿ on a Sat morning after being on vacation in Europe, so we we're definitely craving some good Chinese food. We had a reservation for 12pm but we still waited 45min to get seated because there was already a crowd of people still waiting for a table. I think it just has to be managed better, like have an app that customers can bid for tables or have organized seating times. I saw some people leave in frustration (i.e. banging the sh*t out of the handicap button to open the door); and while it's understandable to react like that when you're hungry, it's certainly not very mature and respectful behavior. Nevertheless, I guess you just have be patient if you want to eat their food..\\r\\n\\r\\nI think what business owners should realize is that if you have a less hectic environment in the front of the house, your customers will probably be more polite to the servers.\\r\\n\\r\\nThe food, I thought was really good, and again if you're patient enough to wait for your table, you get to order their BBQ pork. Tea wasn't that great, I mean it's called #é£²è¶ for a reason, so it gets -1 star, but the food is consistent. We just ordered alot of random things (that guy sold us on so many extra dishes), that by the end, everything gets cold and gummy, and lunch turns into the \"who ordered this on the sheet?!\" game. Nevertheless, it was fun to drink tea and catch up with your friends.\\r\\n\\r\\nAnyways, the moral of this story is: be patient at the door, try and book your lunches during off peak hours (either 30min after opening or 3pm), be kind to your servers/compliment them once in a while, and  you'll have a better experience.. not like all the 1star reviews that you read on this.\\r\\n\\r\\nP.S. try not to drool on your cellphone screen.                                                                                                                                                                                                                                                                                                                                                                                                                                                                                                                                                                                                                                                                                                                                                                                                                                                                                                                                                                                                                                                                                                                                                                                                                             \n",
       "35682  FÃ¶rutsatt att du inte har allt fÃ¶r svÃ¥rt fÃ¶r unga kvinnor med vÃ¤ldigt stor byst som serverar dig sÃ¥ kan detta stÃ¤lle absolut rekommenderas. Ok, det Ã¤r inte sÃ¥ illa som pÃ¥ the Hooters i USA men dock. HÃ¤r Ã¶ppnar du med en gin(hendricks)&tonic i baren och bestÃ¤ller sedan in en steak till maten och den Ã¤r helt enkelt jÃ¤vligt bra. StÃ¤llet andas trendigt, hippt och affÃ¤rsfolk mÃ¶ter trendiga designer kids. Till fÃ¶rrÃ¤tt vÃ¤ljer du fÃ¶rslagsvis salladen med jordgubbar, nÃ¶tter och annat.                                                                                                                                                                                                                                                                                                                                                                                                                                                                                                                                                                                                                                                                                                                                                                                                                                                                                                                                                                                                                                                                                                                                                                                                                                                                                                                                                                                                                                                                                                                                                                                                                                                                                                                                                                                                                                                                                                                                                                                                                                                                                                                                                                                                                                                                                                                                                                                                                                                                                                                                                    \n",
       "35716  Valu-Martç³»PCéå¢æä¸çè¶\n",
       "å¸ä¹ä¸ï¼ä¸ªäººè§å¾å¥½ä¼¼ä»ä¹äºloblawsåno frillsä¹é´çï¼ååºç¸å¯¹ç¦»è®²åç®å¤ãå¢é´ä½äºbayviewå¤¹cummerçä¸åè§ãç¯å¢æ´æ´ï¼äººä¹åå¤ï¼åç§oké½å\n",
       "¨ï¼ä½åäººé£åç±»å°±åå¤ªå¤ãå¦ææ¯PC Clubä¼åçè¯ç¦»ä¹°èè´­ç©å°±å¯ä»¥åºç¤ºä¼åå¡å¨ç§¯å                                                                                                                                                                                                                                                                                                                                                                                                                                                                                                                                                                                                                                                                                                                                                                                                                                                                                                                                                                                                                                                                                                                                                                                                                                                                                                                                                                                                                                                                                                                                                                                                                                                                                                                                                                                                                                                                                                                                                                                                                                                                                                                                                                                                                                                                                                                                                                                                                                                                                                                                                                                                                                                                                                                                \n",
       "35906  å¨ææ6çdinnerï¼ä¸è¥¿å¾å¤ï¼éå¸¸çå¤éæ©ï¼è¿æç¾èï¼å¤ªå«äººæå¤äºï¼èä¸è·¨äºå¾å¤çèç³»ï¼\\r\\n\\r\\nè¿éçè¹è\n",
       "¿æ¯æå¨lvåè¿ä¸­æå¥½çï¼è¥èçèï¼è¶\n",
       "çº§æ æå¥½åï¼No.1ï¼å¤æ±ï¼å¾Qãpai thaiï¼ä¹å¾æå³éï¼\\r\\n\\r\\nsushi é£tnndå®å\n",
       "¨æ¯ä¸ä¸ªæ¸£ï¼ççé£çå­ï¼ä¸ä¸ä¸¤ç§é¢è²ï¼å¾ä¸å¹²åï¼èèµ·é£æ ·çæçéå¸¸å¼ºçä¸ä¸ä¸ï¼å¸å\n",
       "ä»¬å\n",
       "sushiçææ¯ä¹æ¯éå¸¸çä¸çæ³ï¼é£é±¼åä»ä¹çï¼ç²ç²çï¼å£æä¸Qåï¼æ3ç§é±¼å­é\n",
       "±ï¼å¯æ¯é£ä¸ªå¥³çæåº¦æç¹é®é¢ï¼å¥½åéå¸¸çä¸æ\n",
       "æ¿ï¼æ¿äºä¸æ¬¡å°±æ²¡æå»äºã\\r\\n\\r\\næ°´ææ¯å«æéå¸¸çæ°çï¼æä»¥æç»äº2æãå¸å\n",
       "å¨è¡¥è´§çæ¶åæ²¡æå»æ¢çï¼é£çå­ççå°±æ¶å¿ï¼\\r\\n\\r\\næ¾å¤¹å­çé£ä¸ªçå­ççéå¸¸ç ä¸èæ                                                                                                                                                                                                                                                                                                                                                                                                                                                                                                                                                                                                                                                                                                                                                                                                                                                                                                                                                                                                                                                                                                                                                                                                                                                                                                                                                                                                                                                                                                                                                                                                                                                                                                                                                                                                                                                                                                                                                                                                                                                                                                                                                                                                                             \n",
       "39799  MÃ¤dels das ist eine geile Show, sexy MÃ¤nner mit einem unwiderstehlich gut gebautem KÃ¶rper, die sich saugeil bewegen kÃ¶nnen und sich im String auf Tischen, StÃ¼hlen und Frauen rÃ¤ckeln. \\r\\n\\r\\n\\r\\n Die Stimmung ist super, die MÃ¤nner lÃ¤cheln zum dahinschmelzen und man kann und will sich gar nicht fÃ¼r einen entscheiden .... Milchmann, Bauarbeiter, Banker??? Egal!\\r\\n\\r\\n\\r\\n Preis - Leistung sind absolut ok. Die AtmosphÃ¤re stimmt, kleiner dunkler Raum mit bequemen Tischen und Nischen. Die Tische direkt vor der BÃ¼hne werden von den MÃ¤nnern auch als BÃ¼hne benutzt, wo auch mal anfassen statt nur gucken erwÃ¼nscht ist. Ein Mordsgaudi!!!!\\r\\n\\r\\n\\r\\n Ein super geiler MÃ¤delsabend mit nettem Erinnerungsfoto (20 USD)                                                                                                                                                                                                                                                                                                                                                                                                                                                                                                                                                                                                                                                                                                                                                                                                                                                                                                                                                                                                                                                                                                                                                                                                                                                                                                                                                                                                                                                                                                                                                                                                                                                                                                                                                                                                                                                                                                                                                                                                                                                                                                                                                                                                                                                                                                                   \n",
       "46210  Netter Sportartikelladen mit einer recht groÃen Auswahl an Kleidung und AusrÃ¼stung. Leider ist alles etwas teurer als in vergleichbaren anderen GeachÃ¤ften. Zum Schauen ganz schÃ¶n, zum Kaufen nicht die erste Wahl.                                                                                                                                                                                                                                                                                                                                                                                                                                                                                                                                                                                                                                                                                                                                                                                                                                                                                                                                                                                                                                                                                                                                                                                                                                                                                                                                                                                                                                                                                                                                                                                                                                                                                                                                                                                                                                                                                                                                                                                                                                                                                                                                                                                                                                                                                                                                                                                                                                                                                                                                                                                                                                                                                                                                                                                                                                                   \n",
       "46639  I had the Tiroler GrÃ¶stl, a sampler of diced meats with German style potatoes. It was a tad salty for my usual taste, but overall very well prepared and seasoned. Service was very slow, and I had to wait much longer than usual for drink refills and general table service.  \\r\\n\\r\\nOverall assessment: Good food, dated decor, and waitresses leave much to be desired when it comes to attentiveness.  I would go back and back and try something new, in hopes that the lacking service was due to an off night and not normal operations.                                                                                                                                                                                                                                                                                                                                                                                                                                                                                                                                                                                                                                                                                                                                                                                                                                                                                                                                                                                                                                                                                                                                                                                                                                                                                                                                                                                                                                                                                                                                                                                                                                                                                                                                                                                                                                                                                                                                                                                                                                                                                                                                                                                                                                                                                                                                                                                                                                                                                                                        \n",
       "\n",
       "       label  \\\n",
       "4323   3       \n",
       "4949   5       \n",
       "10588  2       \n",
       "12644  4       \n",
       "13859  4       \n",
       "13942  5       \n",
       "16577  2       \n",
       "17879  5       \n",
       "22022  1       \n",
       "23903  3       \n",
       "25276  3       \n",
       "26397  2       \n",
       "28964  4       \n",
       "34566  5       \n",
       "34862  4       \n",
       "35682  4       \n",
       "35716  3       \n",
       "35906  2       \n",
       "39799  5       \n",
       "46210  3       \n",
       "46639  3       \n",
       "\n",
       "                                                                                                                                                                                                                                                                                                                                                                                                                                                                                                                                                                                                                                                                                                                          clean_text  \n",
       "4323   [ï¼, , ã, , , æ, , , å, , , ã, , , ã, , ¾ã, , , ã, , , ï¼, , å, ¤, §, å, ¥, ½ã, , , ã, , §, ã, , , ã, , , ï¼, , ã, , , ç¾, , å, , ³ã, , , ã, , , ï¼, , æ², ¢, å, ±, ±, ã, , ®, äººã, , «, ç, ´, ¹ä, », , ã, , , ã, , , ã, , , ï¼, , ï¼, , ã, , , ã, , ¢, ã, , , ã, , ¬, ã, ...]                                                                                                                                                                                                                                                                                                                                                                                               \n",
       "4949   [wir, haben, im, mai, die, histor, boulder, citi, tour, gemacht, gebucht, haben, wir, von, deutschland, au, per, mail, und, mit, gutscheinen, von, myvega, unser, tour, war, somit, komplett, kostenlo, inzwischen, gibt, es, ã¼ber, myvega, nur, noch, fã¼r, oder, rabatt-gutschein, der, normalprei, fã¼r, dies, tour, liegt, bei, pro, person, und, wir, haben, da, angemessen, empfunden, wir, wurden, morgen, am, hotel, mit, einem, mini-van, abgeholt, und, fuhren, dann, zu, einem, weiteren, hotel, um, die, restlichen, teilnehm, einzuladen, WÃ, ¤, hrend, der, fahrt, hat, chuck, unser, tourguid, un, gut, unterhalten, vor, ort, angekommen, wartet, schon, chri, vom, support, mit, den, segway, auf, un, ...]  \n",
       "10588  [ganz, normal, tiefkã¼hlpomm, mit, gewã, ¶, hnungsbedã¼rftig, limonad, no, refil, fã¼r, ã¼ber, usd, fã¼r, da, menã¼, sollt, man, nochmal, in, sich, gehen, bevor, man, sich, hierfã¼r, entscheidet, da, wichtigst, und, namensgebend, war, dagegen, sehr, lecker, ich, wã¼rde, deshalb, nur, empfehlen, spaã, , eshalb, mal, einen, hot, dog, am, stil, zu, essen, den, rest, kann, man, lassen]                                                                                                                                                                                                                                                                                                                              \n",
       "12644  [é, , , è, », å, ¥, ½å, , , ç, , , ï¼, , å, , ªæ, , ¯, é, ¸, è¾, £, æ¹, ¯, åº, , æ, , , å, , ¯, ä, », ¥, å, ¤, , ä, ¸, , é, », , ã, , , å, °, , é¾, , æ¹, ¯, å, , å¾, , å, , , ç, , ªé, , ¦, é, , , ï¼, , å¾, , æ, , , å, , µæ, , , ã, , , å, °, , é¾, , æ¹, ¯, å, , ç, , ªé, , ¦, ...]                                                                                                                                                                                                                                                                                                                                                                                              \n",
       "13859  [ä, ¸, , é, , ¯, ç, , , è, ¶, , å, , , ç², , ã, , , é, , , ç, , ¶, æ, °, ´, å, , , ä, ¸, , ä, ¸, , ä½, , å, , °, æ, , ¹å, ¤, æ, ¸, æ½, , ã, , , æ¹, ¯, åº, , é, , , å, , ¯, ä, », ¥, ã, , , æ, , , å, , , æ, , ¥, å, ¸, , æ, , , æ, °, ´, æº, , æ, , , ä, ¿, , æ, , , å, ...]                                                                                                                                                                                                                                                                                                                                                                                                       \n",
       "13942  [da, tom', urban, wurd, bei, unserem, aufenthalt, in, vega, schon, zu, unserem, stammlok, da, es, sich, genau, am, new, york, new, york, hotel, befand, wo, wir, wohnten, nur, einen, katzensprung, entfernt, bei, tom', kann, man, sowohl, drinnen, und, klimatisiert, sitzen, al, auch, sehr, nett, draussen, gerad, abend, wenn, die, sonn, untergegangen, ist, ist, da, ein, super, ort, um, den, abend, ausklingen, zulassen, die, vorbeilaufenden, menschen, zu, beobachten, und, die, happi, hour, mitzunehmen, dies, gibt, es, zwei, mal, am, tag, von, und, und, von, uhr, In, der, ersten, phase, steigt, der, prei, bi, uhr, jeweil, um, einen, dollar, und, in, der, ...]                                          \n",
       "16577  [essen, ist, eher, schlecht, deutsch, kost, mitten, im, dinner, wurd, die, rechnung, gebracht, musik, ist, all, ander, al, typisch, mein, meinung, ist, da, es, mehr, ein, mÃ, ¶, chtegern, restaur, ist, da, einzig, gute, ist, da, bier, da, ist, fast, orgin]                                                                                                                                                                                                                                                                                                                                                                                                                                                               \n",
       "17879  [dazu, gibt', wohl, nicht, viel, zu, sagen, ob, mittag, abend, oder, tief, in, der, nacht, mein, prefer, burger, laden, wenn, ich, im, linq, nÃ, ¤, chtige, Am, liebsten, so, voodoo, bã¼rger, in, salat, anstel, ein, pappbrã, ¶, tchen, eingeschlagen, fã¼r, die, die, es, nicht, wissen, hackfleisch, wird, vor, ort, frisch, durch, den, fleischwolf, gejagt, und, die, kartoffeln, fã¼r, die, fritten, werden, auch, frisch, zubereitet]                                                                                                                                                                                                                                                                                  \n",
       "22022  [the, servic, is, realli, bad, å¼ºå, , ¶, å, °, , è, ´, ¹, å, ¥, ½å, , §, å, , , ä, ¸, , ç¼ºé, , £, ä, ¸, ¤, å, , , é, , ±, ä½, è, ¯, ´, ä½, æ, , ¶, å, °, ±, æ, , ¶, äº, , å, , §, å, ¥, ½é, , ®, è, ¯, ´, ä, ¸, , å, £, °, å, , §, ä, ¸, , è, ¯, ´, æ, , , æ, , , å, °, ±, æ, , ¶, äº, , ã, , , æ, , , å, ...]                                                                                                                                                                                                                                                                                                                                                                                   \n",
       "23903  [hatten, dies, hotel, gebucht, da, es, direkt, bei, der, musichal, war, wo, am, abend, da, konzert, war, parkplatz, internet, grati, am, abend, einbisschen, aufpassen, auf, obdachlos, tauchen, ab, und, zu, vom, hinterhalt, auf, und, mÃ, ¶, chten, spenden]                                                                                                                                                                                                                                                                                                                                                                                                                                                                \n",
       "25276  [I, thought, I, have, written, thi, restaur, but, somehow, could not, find, it, in, my, review, recommend, by, friend, that, it, is, good, brows, through, it, menu, realli, found, that, there, are, a, lot, of, varieti, not, found, in, tradit, vegetarian, chines, restaur, the, most, memor, dish, is, the, A, veget, palm, It, is, someth, differ, soft, but, you, can, bite, it, usual, you, can, order, fri, A, veget, but, never, did, I, find, the, palm, to, be, use, the, present, of, all, dish, are, nice, and, clean, At, the, end, the, waitress, introduc, us, äº, , å, , °, å, ...]                                                                                                                        \n",
       "26397  [ä¹, ã, , , ã, , ¶, ã, , , ã, , «, å, , £, ã, , «, å, , , ã, , , ã, , ªã, , , ï¼, , ã, , ¹ã, , ¢, ã, , ¼ã, , «, ã, , , ã, , ¼ã, , ·, ã, , §, ã, , ³ã, , ®, ã, , ³ã, , ¼ã, , ¹ã, , , ã, , ªã, , ¼ã, , , ã, , ¼ã, , , ã, , ¾ã, , , ã, , , ã, , , å, , , ã, , , ï¼, , ã, , ...]                                                                                                                                                                                                                                                                                                                                                                                               \n",
       "28964  [å, , , å, §, å, , , å, , , ç, , , ç, , , è, , ¶, é, £, ²åº, , é, , , å, , °, ç, ¦, », å, £, «, å, , , å, ¡, ã, , , ä½, , äº, , midland, and, finchç, , , é, , , é, , , å, , , å, , ã, , , ç, , ¯, å, ¢, , èµ, °, ç, , , ç¾, , å, °, , èµ, , é, £, , ï¼, , è, , ±, å, ¢, , ã, , , line, ...]                                                                                                                                                                                                                                                                                                                                                                                      \n",
       "34566  [sehr, schã, ¶, ne, steakhau, mitten, auf, dem, strip, hier, gab, da, best, steak, da, ich, jemal, gegessen, habe, :-)]                                                                                                                                                                                                                                                                                                                                                                                                                                                                                                                                                                                                        \n",
       "34862  [We, came, here, for, dim, sum, é, », , å, ¿, , on, a, sat, morn, after, be, on, vacat, in, europ, so, we, we ar, definit, crave, some, good, chines, food, We, had, a, reserv, for, pm, but, we, still, wait, min, to, get, seat, becaus, there, wa, alreadi, a, crowd, of, peopl, still, wait, for, a, tabl, I, think, it, just, ha, to, be, manag, better, like, have, an, app, that, custom, can, bid, for, tabl, or, have, organ, seat, time, I, saw, some, peopl, leav, in, frustrat, i, e, bang, the, sh, t, out, of, the, handicap, button, ...]                                                                                                                                                                     \n",
       "35682  [FÃ, ¶, rutsatt, att, du, int, har, allt, fÃ, ¶, r, svã, ¥, rt, fÃ, ¶, r, unga, kvinnor, med, vÃ, ¤, ldigt, stor, byst, som, serverar, dig, sÃ, ¥, kan, detta, stã, ¤, lle, absolut, rekommendera, Ok, det, Ã, ¤, r, int, sÃ, ¥, illa, som, pÃ, ¥, the, hooter, i, usa, men, dock, HÃ, ¤, r, Ã, ¶, ppnar, du, med, en, gin, hendrick, tonic, i, baren, och, bestã, ¤, ller, sedan, in, en, steak, till, maten, och, den, Ã, ¤, r, helt, enkelt, jÃ, ¤, vligt, bra, stã, ¤, llet, anda, trendigt, hippt, och, affã, ¤, rsfolk, ...]                                                                                                                                                                                             \n",
       "35716  [valu-martç³, », pcé, , , å, , ¢, æ, , , ä, ¸, , ç, , , è, ¶, å, ¸, , ä¹, , ä, ¸, , ï¼, , ä, ¸, ªäººè, §, , å¾, , å, ¥, ½ä¼¼ä, », , ä¹, , äº, , loblawså, , , no, frillsä¹, , é, , ´, ç, , , ï¼, , å, , , åº, , ç, , ¸, å, ¯, ¹ç, ¦, », è, ®, ²å, , , ç, ®, , å, ¤, , ã, , , å, , ¢, é, , ´, ä½, , äº, , bayviewå, ¤, ¹cummerç, , ...]                                                                                                                                                                                                                                                                                                                                                  \n",
       "35906  [å, , ¨, æ, , , æ, , , ç, , , dinnerï¼, , ä, ¸, , è, ¥, ¿, å¾, , å, ¤, , ï¼, , é, , , å, ¸, ¸, ç, , , å, ¤, , é, , , æ, , ©, ï¼, , è, ¿, , æ, , , ç¾, , è, , , ï¼, , å, ¤, ªå, , «, äººæ, , , å, ¤, , äº, , ï¼, , è, , , ä, ¸, , è, ·, ¨, äº, , å¾, , å, ¤, , ç, , , è, , , ç³, », ï¼, ...]                                                                                                                                                                                                                                                                                                                                                                                        \n",
       "39799  [MÃ, ¤, del, da, ist, ein, geil, show, sexi, MÃ, ¤, nner, mit, einem, unwiderstehlich, gut, gebautem, KÃ, ¶, rper, die, sich, saugeil, bewegen, kÃ, ¶, nnen, und, sich, im, string, auf, tischen, stã¼hlen, und, frauen, rÃ, ¤, ckeln, die, stimmung, ist, super, die, MÃ, ¤, nner, lÃ, ¤, cheln, zum, dahinschmelzen, und, man, kann, und, will, sich, gar, nicht, fã¼r, einen, entscheiden, ..., milchmann, bauarbeit, banker, egal, prei, leistung, sind, absolut, ok, die, atmosphã, ¤, re, stimmt, kleiner, dunkler, raum, mit, bequemen, tischen, und, nischen, die, tisch, direkt, vor, der, bã¼hne, werden, von, den, MÃ, ¤, nnern, auch, al, ...]                                                                     \n",
       "46210  [netter, sportartikelladen, mit, einer, recht, groã, , en, auswahl, an, kleidung, und, ausrã¼stung, leider, ist, all, etwa, teurer, al, in, vergleichbaren, anderen, geachã, ¤, ften, zum, schauen, ganz, schã, ¶, n, zum, kaufen, nicht, die, erst, wahl]                                                                                                                                                                                                                                                                                                                                                                                                                                                                    \n",
       "46639  [I, had, the, tirol, grã, ¶, stl, a, sampler, of, dice, meat, with, german, style, potato, It, wa, a, tad, salti, for, my, usual, tast, but, overal, veri, well, prepar, and, season, servic, wa, veri, slow, and, I, had, to, wait, much, longer, than, usual, for, drink, refil, and, gener, tabl, servic, overal, assess, good, food, date, decor, and, waitress, leav, much, to, be, desir, when, it, come, to, attent, I, would, go, back, and, back, and, tri, someth, new, in, hope, that, the, lack, servic, wa, due, to, an, off, night, and, not, normal, oper]                                                                                                                                                      "
      ]
     },
     "execution_count": 26,
     "metadata": {},
     "output_type": "execute_result"
    }
   ],
   "source": [
    "labeled_data[labeled_data[\"text\"].str.contains('¶')]"
   ]
  },
  {
   "cell_type": "markdown",
   "metadata": {
    "colab_type": "text",
    "id": "Pl8JSOiY3hnr"
   },
   "source": [
    "It appears that some examples have special characters, which may be due to character encoding issues for languages other than English. Speaking of which, we have found examples where the language is not English (for example, the text beginning with \"Wir haben im Mai\" is written in German). Using an English lemmatizer is not worth the effort, since it would not correctly identify the part-of-speech of each non-English word, and it would be more computationally expensive than using an English stemmer.\n",
    "\n",
    "We will leave these examples intact, since the unlabeled dataset and test set may also contain special characters."
   ]
  },
  {
   "cell_type": "code",
   "execution_count": 27,
   "metadata": {
    "colab": {
     "base_uri": "https://localhost:8080/",
     "height": 54
    },
    "colab_type": "code",
    "id": "DFOwx3go8Pgy",
    "outputId": "560a104e-a07f-415d-bd3d-083ddead98d9"
   },
   "outputs": [
    {
     "name": "stdout",
     "output_type": "stream",
     "text": [
      "(243, 1)\n",
      "(22, 2)\n"
     ]
    }
   ],
   "source": [
    "print(unlabeled_data[unlabeled_data[\"text\"].str.contains('¶')].shape)\n",
    "print(test_data[unlabeled_data[\"text\"].str.contains('¶')].shape)"
   ]
  },
  {
   "cell_type": "markdown",
   "metadata": {
    "colab_type": "text",
    "id": "vbwm3Vgw_A3I"
   },
   "source": [
    "### Most frequent words for all the articles\n",
    "We examine top 50 words in the labeled corpus."
   ]
  },
  {
   "cell_type": "code",
   "execution_count": 28,
   "metadata": {
    "colab": {},
    "colab_type": "code",
    "id": "tEQDZ3FfN8H6"
   },
   "outputs": [],
   "source": [
    "def most_frequent_words(clean_text_list, top_n):\n",
    "    \"\"\"Determines the most top_n words, and produces the\n",
    "    results as a dataframe.\n",
    "    \"\"\"\n",
    "    flat = [item for sublist in clean_text_list for item in sublist]\n",
    "    with_counts = Counter(flat)\n",
    "    top = with_counts.most_common(top_n)\n",
    "    word = [each[0] for each in top]\n",
    "    num = [each[1] for each in top]\n",
    "    df = pd.DataFrame([word, num]).T\n",
    "    df.columns = [\"word\", \"frequency\"]\n",
    "    return df"
   ]
  },
  {
   "cell_type": "code",
   "execution_count": 29,
   "metadata": {
    "colab": {
     "base_uri": "https://localhost:8080/",
     "height": 1000
    },
    "colab_type": "code",
    "id": "TDzd5nJg4s2f",
    "outputId": "ef876a0f-3f2a-4b35-f6fc-7b996f50ef87"
   },
   "outputs": [
    {
     "data": {
      "text/html": [
       "<div>\n",
       "<style scoped>\n",
       "    .dataframe tbody tr th:only-of-type {\n",
       "        vertical-align: middle;\n",
       "    }\n",
       "\n",
       "    .dataframe tbody tr th {\n",
       "        vertical-align: top;\n",
       "    }\n",
       "\n",
       "    .dataframe thead th {\n",
       "        text-align: right;\n",
       "    }\n",
       "</style>\n",
       "<table border=\"1\" class=\"dataframe\">\n",
       "  <thead>\n",
       "    <tr style=\"text-align: right;\">\n",
       "      <th></th>\n",
       "      <th>word</th>\n",
       "      <th>frequency</th>\n",
       "    </tr>\n",
       "  </thead>\n",
       "  <tbody>\n",
       "    <tr>\n",
       "      <th>0</th>\n",
       "      <td>the</td>\n",
       "      <td>306739</td>\n",
       "    </tr>\n",
       "    <tr>\n",
       "      <th>1</th>\n",
       "      <td>and</td>\n",
       "      <td>199805</td>\n",
       "    </tr>\n",
       "    <tr>\n",
       "      <th>2</th>\n",
       "      <td>I</td>\n",
       "      <td>163973</td>\n",
       "    </tr>\n",
       "    <tr>\n",
       "      <th>3</th>\n",
       "      <td>to</td>\n",
       "      <td>153650</td>\n",
       "    </tr>\n",
       "    <tr>\n",
       "      <th>4</th>\n",
       "      <td>a</td>\n",
       "      <td>149140</td>\n",
       "    </tr>\n",
       "    <tr>\n",
       "      <th>5</th>\n",
       "      <td>wa</td>\n",
       "      <td>114770</td>\n",
       "    </tr>\n",
       "    <tr>\n",
       "      <th>6</th>\n",
       "      <td>of</td>\n",
       "      <td>86354</td>\n",
       "    </tr>\n",
       "    <tr>\n",
       "      <th>7</th>\n",
       "      <td>for</td>\n",
       "      <td>73933</td>\n",
       "    </tr>\n",
       "    <tr>\n",
       "      <th>8</th>\n",
       "      <td>it</td>\n",
       "      <td>70868</td>\n",
       "    </tr>\n",
       "    <tr>\n",
       "      <th>9</th>\n",
       "      <td>is</td>\n",
       "      <td>66918</td>\n",
       "    </tr>\n",
       "    <tr>\n",
       "      <th>10</th>\n",
       "      <td>in</td>\n",
       "      <td>64701</td>\n",
       "    </tr>\n",
       "    <tr>\n",
       "      <th>11</th>\n",
       "      <td>that</td>\n",
       "      <td>55280</td>\n",
       "    </tr>\n",
       "    <tr>\n",
       "      <th>12</th>\n",
       "      <td>they</td>\n",
       "      <td>51060</td>\n",
       "    </tr>\n",
       "    <tr>\n",
       "      <th>13</th>\n",
       "      <td>but</td>\n",
       "      <td>49928</td>\n",
       "    </tr>\n",
       "    <tr>\n",
       "      <th>14</th>\n",
       "      <td>thi</td>\n",
       "      <td>49152</td>\n",
       "    </tr>\n",
       "    <tr>\n",
       "      <th>15</th>\n",
       "      <td>with</td>\n",
       "      <td>48113</td>\n",
       "    </tr>\n",
       "    <tr>\n",
       "      <th>16</th>\n",
       "      <td>my</td>\n",
       "      <td>48058</td>\n",
       "    </tr>\n",
       "    <tr>\n",
       "      <th>17</th>\n",
       "      <td>not</td>\n",
       "      <td>43682</td>\n",
       "    </tr>\n",
       "    <tr>\n",
       "      <th>18</th>\n",
       "      <td>on</td>\n",
       "      <td>41484</td>\n",
       "    </tr>\n",
       "    <tr>\n",
       "      <th>19</th>\n",
       "      <td>you</td>\n",
       "      <td>41161</td>\n",
       "    </tr>\n",
       "    <tr>\n",
       "      <th>20</th>\n",
       "      <td>have</td>\n",
       "      <td>40449</td>\n",
       "    </tr>\n",
       "    <tr>\n",
       "      <th>21</th>\n",
       "      <td>had</td>\n",
       "      <td>36070</td>\n",
       "    </tr>\n",
       "    <tr>\n",
       "      <th>22</th>\n",
       "      <td>were</td>\n",
       "      <td>33786</td>\n",
       "    </tr>\n",
       "    <tr>\n",
       "      <th>23</th>\n",
       "      <td>we</td>\n",
       "      <td>32164</td>\n",
       "    </tr>\n",
       "    <tr>\n",
       "      <th>24</th>\n",
       "      <td>be</td>\n",
       "      <td>32134</td>\n",
       "    </tr>\n",
       "    <tr>\n",
       "      <th>25</th>\n",
       "      <td>at</td>\n",
       "      <td>30840</td>\n",
       "    </tr>\n",
       "    <tr>\n",
       "      <th>26</th>\n",
       "      <td>food</td>\n",
       "      <td>29465</td>\n",
       "    </tr>\n",
       "    <tr>\n",
       "      <th>27</th>\n",
       "      <td>place</td>\n",
       "      <td>28176</td>\n",
       "    </tr>\n",
       "    <tr>\n",
       "      <th>28</th>\n",
       "      <td>are</td>\n",
       "      <td>27628</td>\n",
       "    </tr>\n",
       "    <tr>\n",
       "      <th>29</th>\n",
       "      <td>good</td>\n",
       "      <td>27238</td>\n",
       "    </tr>\n",
       "    <tr>\n",
       "      <th>30</th>\n",
       "      <td>so</td>\n",
       "      <td>26286</td>\n",
       "    </tr>\n",
       "    <tr>\n",
       "      <th>31</th>\n",
       "      <td>me</td>\n",
       "      <td>25913</td>\n",
       "    </tr>\n",
       "    <tr>\n",
       "      <th>32</th>\n",
       "      <td>there</td>\n",
       "      <td>24308</td>\n",
       "    </tr>\n",
       "    <tr>\n",
       "      <th>33</th>\n",
       "      <td>time</td>\n",
       "      <td>24112</td>\n",
       "    </tr>\n",
       "    <tr>\n",
       "      <th>34</th>\n",
       "      <td>like</td>\n",
       "      <td>23140</td>\n",
       "    </tr>\n",
       "    <tr>\n",
       "      <th>35</th>\n",
       "      <td>get</td>\n",
       "      <td>23009</td>\n",
       "    </tr>\n",
       "    <tr>\n",
       "      <th>36</th>\n",
       "      <td>as</td>\n",
       "      <td>22532</td>\n",
       "    </tr>\n",
       "    <tr>\n",
       "      <th>37</th>\n",
       "      <td>order</td>\n",
       "      <td>21958</td>\n",
       "    </tr>\n",
       "    <tr>\n",
       "      <th>38</th>\n",
       "      <td>veri</td>\n",
       "      <td>21732</td>\n",
       "    </tr>\n",
       "    <tr>\n",
       "      <th>39</th>\n",
       "      <td>out</td>\n",
       "      <td>21646</td>\n",
       "    </tr>\n",
       "    <tr>\n",
       "      <th>40</th>\n",
       "      <td>just</td>\n",
       "      <td>20987</td>\n",
       "    </tr>\n",
       "    <tr>\n",
       "      <th>41</th>\n",
       "      <td>all</td>\n",
       "      <td>20872</td>\n",
       "    </tr>\n",
       "    <tr>\n",
       "      <th>42</th>\n",
       "      <td>go</td>\n",
       "      <td>20849</td>\n",
       "    </tr>\n",
       "    <tr>\n",
       "      <th>43</th>\n",
       "      <td>servic</td>\n",
       "      <td>20428</td>\n",
       "    </tr>\n",
       "    <tr>\n",
       "      <th>44</th>\n",
       "      <td>our</td>\n",
       "      <td>20016</td>\n",
       "    </tr>\n",
       "    <tr>\n",
       "      <th>45</th>\n",
       "      <td>here</td>\n",
       "      <td>19515</td>\n",
       "    </tr>\n",
       "    <tr>\n",
       "      <th>46</th>\n",
       "      <td>one</td>\n",
       "      <td>19367</td>\n",
       "    </tr>\n",
       "    <tr>\n",
       "      <th>47</th>\n",
       "      <td>would</td>\n",
       "      <td>18573</td>\n",
       "    </tr>\n",
       "    <tr>\n",
       "      <th>48</th>\n",
       "      <td>...</td>\n",
       "      <td>18567</td>\n",
       "    </tr>\n",
       "    <tr>\n",
       "      <th>49</th>\n",
       "      <td>when</td>\n",
       "      <td>18518</td>\n",
       "    </tr>\n",
       "  </tbody>\n",
       "</table>\n",
       "</div>"
      ],
      "text/plain": [
       "      word frequency\n",
       "0   the     306739  \n",
       "1   and     199805  \n",
       "2   I       163973  \n",
       "3   to      153650  \n",
       "4   a       149140  \n",
       "5   wa      114770  \n",
       "6   of      86354   \n",
       "7   for     73933   \n",
       "8   it      70868   \n",
       "9   is      66918   \n",
       "10  in      64701   \n",
       "11  that    55280   \n",
       "12  they    51060   \n",
       "13  but     49928   \n",
       "14  thi     49152   \n",
       "15  with    48113   \n",
       "16  my      48058   \n",
       "17  not     43682   \n",
       "18  on      41484   \n",
       "19  you     41161   \n",
       "20  have    40449   \n",
       "21  had     36070   \n",
       "22  were    33786   \n",
       "23  we      32164   \n",
       "24  be      32134   \n",
       "25  at      30840   \n",
       "26  food    29465   \n",
       "27  place   28176   \n",
       "28  are     27628   \n",
       "29  good    27238   \n",
       "30  so      26286   \n",
       "31  me      25913   \n",
       "32  there   24308   \n",
       "33  time    24112   \n",
       "34  like    23140   \n",
       "35  get     23009   \n",
       "36  as      22532   \n",
       "37  order   21958   \n",
       "38  veri    21732   \n",
       "39  out     21646   \n",
       "40  just    20987   \n",
       "41  all     20872   \n",
       "42  go      20849   \n",
       "43  servic  20428   \n",
       "44  our     20016   \n",
       "45  here    19515   \n",
       "46  one     19367   \n",
       "47  would   18573   \n",
       "48  ...     18567   \n",
       "49  when    18518   "
      ]
     },
     "execution_count": 29,
     "metadata": {},
     "output_type": "execute_result"
    }
   ],
   "source": [
    "cl_text_list = labeled_data['clean_text'].tolist()\n",
    "most_frequent_words(cl_text_list, 50)"
   ]
  },
  {
   "cell_type": "markdown",
   "metadata": {
    "colab_type": "text",
    "id": "j6RfELgp_KKj"
   },
   "source": [
    "Since we have not removed most frequent words from the corpus, we can see function words appearing at the top of the list (with \"the\" being the most common word).\n",
    "\n",
    "We also see sentiment words \"good\" and \"like\", which are highly frequent words that **should not** be removed from the corpus."
   ]
  },
  {
   "cell_type": "markdown",
   "metadata": {
    "colab_type": "text",
    "id": "Xb5adjuF-mLX"
   },
   "source": [
    "### Average word count by category\n",
    "We look at the average word count for the labeled dataset, grouped by label assigned to each text example.\n"
   ]
  },
  {
   "cell_type": "code",
   "execution_count": 30,
   "metadata": {
    "colab": {},
    "colab_type": "code",
    "id": "WqgrlZ3GOgPA"
   },
   "outputs": [],
   "source": [
    "def word_count(text):\n",
    "    return len(str(text).split(' '))"
   ]
  },
  {
   "cell_type": "code",
   "execution_count": 31,
   "metadata": {
    "colab": {
     "base_uri": "https://localhost:8080/",
     "height": 206
    },
    "colab_type": "code",
    "id": "T72txeoS4tM_",
    "outputId": "a3cbf0e8-60cf-4edb-e8aa-187c6ffe7eb9"
   },
   "outputs": [
    {
     "data": {
      "text/html": [
       "<div>\n",
       "<style scoped>\n",
       "    .dataframe tbody tr th:only-of-type {\n",
       "        vertical-align: middle;\n",
       "    }\n",
       "\n",
       "    .dataframe tbody tr th {\n",
       "        vertical-align: top;\n",
       "    }\n",
       "\n",
       "    .dataframe thead th {\n",
       "        text-align: right;\n",
       "    }\n",
       "</style>\n",
       "<table border=\"1\" class=\"dataframe\">\n",
       "  <thead>\n",
       "    <tr style=\"text-align: right;\">\n",
       "      <th></th>\n",
       "      <th>label</th>\n",
       "      <th>word_count</th>\n",
       "    </tr>\n",
       "  </thead>\n",
       "  <tbody>\n",
       "    <tr>\n",
       "      <th>0</th>\n",
       "      <td>1</td>\n",
       "      <td>143.1546</td>\n",
       "    </tr>\n",
       "    <tr>\n",
       "      <th>1</th>\n",
       "      <td>2</td>\n",
       "      <td>142.3546</td>\n",
       "    </tr>\n",
       "    <tr>\n",
       "      <th>2</th>\n",
       "      <td>3</td>\n",
       "      <td>130.6147</td>\n",
       "    </tr>\n",
       "    <tr>\n",
       "      <th>3</th>\n",
       "      <td>4</td>\n",
       "      <td>114.4627</td>\n",
       "    </tr>\n",
       "    <tr>\n",
       "      <th>4</th>\n",
       "      <td>5</td>\n",
       "      <td>87.5482</td>\n",
       "    </tr>\n",
       "  </tbody>\n",
       "</table>\n",
       "</div>"
      ],
      "text/plain": [
       "   label  word_count\n",
       "0  1     143.1546   \n",
       "1  2     142.3546   \n",
       "2  3     130.6147   \n",
       "3  4     114.4627   \n",
       "4  5     87.5482    "
      ]
     },
     "execution_count": 31,
     "metadata": {},
     "output_type": "execute_result"
    }
   ],
   "source": [
    "labeled_data['word_count'] = labeled_data['text'].apply(word_count)\n",
    "avg_wc = labeled_data.groupby('label').mean().reset_index()\n",
    "avg_wc[['label','word_count']]"
   ]
  },
  {
   "cell_type": "markdown",
   "metadata": {
    "colab_type": "text",
    "id": "OR0QPjvF-sAo"
   },
   "source": [
    "From above we can see that negative reviews have longer word count than positive reviews as people tend to write more about their negative experience compared to positive experience."
   ]
  },
  {
   "cell_type": "markdown",
   "metadata": {
    "colab_type": "text",
    "id": "v34iE8I_971Z"
   },
   "source": [
    "### Distribution of word count by class\n"
   ]
  },
  {
   "cell_type": "code",
   "execution_count": 32,
   "metadata": {
    "colab": {},
    "colab_type": "code",
    "id": "cFFMTj02PljY"
   },
   "outputs": [],
   "source": [
    "# splitting dataframe as per category\n",
    "label_1 = labeled_data[labeled_data['label'] == 1]\n",
    "label_2 = labeled_data[labeled_data['label'] == 2]\n",
    "label_3 = labeled_data[labeled_data['label'] == 3]\n",
    "label_4 = labeled_data[labeled_data['label'] == 4]\n",
    "label_5 = labeled_data[labeled_data['label'] == 5]"
   ]
  },
  {
   "cell_type": "code",
   "execution_count": 33,
   "metadata": {
    "colab": {
     "base_uri": "https://localhost:8080/",
     "height": 536
    },
    "colab_type": "code",
    "id": "rkAWxNN995l9",
    "outputId": "835663d3-e698-49ec-80b6-22b04fa1efbe"
   },
   "outputs": [
    {
     "data": {
      "text/html": [
       "<div>\n",
       "<style scoped>\n",
       "    .dataframe tbody tr th:only-of-type {\n",
       "        vertical-align: middle;\n",
       "    }\n",
       "\n",
       "    .dataframe tbody tr th {\n",
       "        vertical-align: top;\n",
       "    }\n",
       "\n",
       "    .dataframe thead th {\n",
       "        text-align: right;\n",
       "    }\n",
       "</style>\n",
       "<table border=\"1\" class=\"dataframe\">\n",
       "  <thead>\n",
       "    <tr style=\"text-align: right;\">\n",
       "      <th></th>\n",
       "      <th>text</th>\n",
       "      <th>label</th>\n",
       "      <th>clean_text</th>\n",
       "      <th>word_count</th>\n",
       "    </tr>\n",
       "  </thead>\n",
       "  <tbody>\n",
       "    <tr>\n",
       "      <th>4</th>\n",
       "      <td>Worse company to deal with they do horrible work had to bring my truck back on a door replacement the door paint didn't match and trim molding wasn't straight the bolt to keep the door on wasn't even tight. My speaker in the door wasn't hooked back up. I don't recommend anyone to bring the vehicle here. A gentleman by the name of Jesus that works there every time you call for an update because they say they will call you and never do he makes you feel like your bothering him and then he says he will call you back with an update and never do. If you need work on your vehicle I would double think it before you bring it here.</td>\n",
       "      <td>1</td>\n",
       "      <td>[wors, compani, to, deal, with, they, do, horribl, work, had, to, bring, my, truck, back, on, a, door, replac, the, door, paint, did not, match, and, trim, mold, was not, straight, the, bolt, to, keep, the, door, on, was not, even, tight, My, speaker, in, the, door, was not, hook, back, up, I, do not, recommend, anyon, to, bring, the, vehicl, here, A, gentleman, by, the, name, of, jesu, that, work, there, everi, time, you, call, for, an, updat, becaus, they, say, they, will, call, you, and, never, do, he, make, you, feel, like, your, bother, him, and, then, he, say, he, will, call, you, ...]</td>\n",
       "      <td>124</td>\n",
       "    </tr>\n",
       "    <tr>\n",
       "      <th>7</th>\n",
       "      <td>Due to misunderstanding between my insurance company and CRS Temporary Housing, they send me a collection letter with falsified attachments. It was a contract not even related to my claim. Very unprofessional. Very sneaky. Very illegal.</td>\n",
       "      <td>1</td>\n",
       "      <td>[due, to, misunderstand, between, my, insur, compani, and, cr, temporari, hous, they, send, me, a, collect, letter, with, falsifi, attach, It, wa, a, contract, not, even, relat, to, my, claim, veri, unprofession, veri, sneaki, veri, illeg]</td>\n",
       "      <td>36</td>\n",
       "    </tr>\n",
       "    <tr>\n",
       "      <th>13</th>\n",
       "      <td>I was so hoping things would improve for me with this overpriced foodstore. Unfortunately, certain staff members apparantly thinks their poop don't stink. Like the hippie idiotic woman who served me pizza tonite. I had asked her for some cheese pizza from the opposite end facing her. Sighing, she turned it around and cut a slice and then cut it in two. She then asked if I wanted the \"whole strip\". Well, there were now two pieces, weren't there?  So it confused me. So I bend down to see what she was doing, and just said \"um,\" and that was all it took for her to stay loudy and rudely \"I CAN'T HEAR YOU!\".  Really sweetheart? I think I meant to say F O.  Hear that? Before boxing up my slices, she made sure to hastily scoop then up and bang them into the sides of the display, touching everything.  Classy, Miss Hippie. Did they teach you how to serve food at the dirt farm that was obviously your last place of employment?\\r\\n\\r\\nResidents of Las Vegas: if you too would like to experience overpriced food in a terribly designed strip mall with a dangerous and near impossible exit onto Rampart, coupled with service you expect to find in a junk store....all wrapped up in one...make sure you visit this location of Crap Foods.  Maybe next time I shouldn't wear my \"culture warrior\" shirt, lol. Hippies.</td>\n",
       "      <td>1</td>\n",
       "      <td>[I, wa, so, hope, thing, would, improv, for, me, with, thi, overpr, foodstor, unfortun, certain, staff, member, apparantli, think, their, poop, do not, stink, like, the, hippi, idiot, woman, who, serv, me, pizza, tonit, I, had, ask, her, for, some, chees, pizza, from, the, opposit, end, face, her, sigh, she, turn, it, around, and, cut, a, slice, and, then, cut, it, in, two, she, then, ask, if, I, want, the, whole, strip, well, there, were, now, two, piec, were not, there, So, it, confus, me, So, I, bend, down, to, see, what, she, wa, do, and, just, said, um, and, that, wa, ...]</td>\n",
       "      <td>240</td>\n",
       "    </tr>\n",
       "    <tr>\n",
       "      <th>16</th>\n",
       "      <td>That moment when you're 38 days behind and they repo your SUV after 10 pm Sunday and before 5 am Monday no warning. You've just gotta laugh at a company. I'm good I'll take the bus before I have to deal with this company again!</td>\n",
       "      <td>1</td>\n",
       "      <td>[that, moment, when, you ar, day, behind, and, they, repo, your, suv, after, pm, sunday, and, befor, am, monday, no, warn, you'v, just, gotta, laugh, at, a, compani, i'm, good, i'll, take, the, bu, befor, I, have, to, deal, with, thi, compani, again]</td>\n",
       "      <td>45</td>\n",
       "    </tr>\n",
       "    <tr>\n",
       "      <th>24</th>\n",
       "      <td>Portions are small, sides are flavorless, and the BBQ itself is very average.</td>\n",
       "      <td>1</td>\n",
       "      <td>[portion, are, small, side, are, flavorless, and, the, bbq, itself, is, veri, averag]</td>\n",
       "      <td>13</td>\n",
       "    </tr>\n",
       "  </tbody>\n",
       "</table>\n",
       "</div>"
      ],
      "text/plain": [
       "                                                                                                                                                                                                                                                                                                                                                                                                                                                                                                                                                                                                                                                                                                                                                                                                                                                                                                                                                                                                                                                                                                                                                                                                                                                                                                                                                             text  \\\n",
       "4   Worse company to deal with they do horrible work had to bring my truck back on a door replacement the door paint didn't match and trim molding wasn't straight the bolt to keep the door on wasn't even tight. My speaker in the door wasn't hooked back up. I don't recommend anyone to bring the vehicle here. A gentleman by the name of Jesus that works there every time you call for an update because they say they will call you and never do he makes you feel like your bothering him and then he says he will call you back with an update and never do. If you need work on your vehicle I would double think it before you bring it here.                                                                                                                                                                                                                                                                                                                                                                                                                                                                                                                                                                                                                                                                                                          \n",
       "7   Due to misunderstanding between my insurance company and CRS Temporary Housing, they send me a collection letter with falsified attachments. It was a contract not even related to my claim. Very unprofessional. Very sneaky. Very illegal.                                                                                                                                                                                                                                                                                                                                                                                                                                                                                                                                                                                                                                                                                                                                                                                                                                                                                                                                                                                                                                                                                                                    \n",
       "13  I was so hoping things would improve for me with this overpriced foodstore. Unfortunately, certain staff members apparantly thinks their poop don't stink. Like the hippie idiotic woman who served me pizza tonite. I had asked her for some cheese pizza from the opposite end facing her. Sighing, she turned it around and cut a slice and then cut it in two. She then asked if I wanted the \"whole strip\". Well, there were now two pieces, weren't there?  So it confused me. So I bend down to see what she was doing, and just said \"um,\" and that was all it took for her to stay loudy and rudely \"I CAN'T HEAR YOU!\".  Really sweetheart? I think I meant to say F O.  Hear that? Before boxing up my slices, she made sure to hastily scoop then up and bang them into the sides of the display, touching everything.  Classy, Miss Hippie. Did they teach you how to serve food at the dirt farm that was obviously your last place of employment?\\r\\n\\r\\nResidents of Las Vegas: if you too would like to experience overpriced food in a terribly designed strip mall with a dangerous and near impossible exit onto Rampart, coupled with service you expect to find in a junk store....all wrapped up in one...make sure you visit this location of Crap Foods.  Maybe next time I shouldn't wear my \"culture warrior\" shirt, lol. Hippies.   \n",
       "16  That moment when you're 38 days behind and they repo your SUV after 10 pm Sunday and before 5 am Monday no warning. You've just gotta laugh at a company. I'm good I'll take the bus before I have to deal with this company again!                                                                                                                                                                                                                                                                                                                                                                                                                                                                                                                                                                                                                                                                                                                                                                                                                                                                                                                                                                                                                                                                                                                             \n",
       "24  Portions are small, sides are flavorless, and the BBQ itself is very average.                                                                                                                                                                                                                                                                                                                                                                                                                                                                                                                                                                                                                                                                                                                                                                                                                                                                                                                                                                                                                                                                                                                                                                                                                                                                                   \n",
       "\n",
       "    label  \\\n",
       "4   1       \n",
       "7   1       \n",
       "13  1       \n",
       "16  1       \n",
       "24  1       \n",
       "\n",
       "                                                                                                                                                                                                                                                                                                                                                                                                                                                                                                                                                                                                                clean_text  \\\n",
       "4   [wors, compani, to, deal, with, they, do, horribl, work, had, to, bring, my, truck, back, on, a, door, replac, the, door, paint, did not, match, and, trim, mold, was not, straight, the, bolt, to, keep, the, door, on, was not, even, tight, My, speaker, in, the, door, was not, hook, back, up, I, do not, recommend, anyon, to, bring, the, vehicl, here, A, gentleman, by, the, name, of, jesu, that, work, there, everi, time, you, call, for, an, updat, becaus, they, say, they, will, call, you, and, never, do, he, make, you, feel, like, your, bother, him, and, then, he, say, he, will, call, you, ...]   \n",
       "7   [due, to, misunderstand, between, my, insur, compani, and, cr, temporari, hous, they, send, me, a, collect, letter, with, falsifi, attach, It, wa, a, contract, not, even, relat, to, my, claim, veri, unprofession, veri, sneaki, veri, illeg]                                                                                                                                                                                                                                                                                                                                                                          \n",
       "13  [I, wa, so, hope, thing, would, improv, for, me, with, thi, overpr, foodstor, unfortun, certain, staff, member, apparantli, think, their, poop, do not, stink, like, the, hippi, idiot, woman, who, serv, me, pizza, tonit, I, had, ask, her, for, some, chees, pizza, from, the, opposit, end, face, her, sigh, she, turn, it, around, and, cut, a, slice, and, then, cut, it, in, two, she, then, ask, if, I, want, the, whole, strip, well, there, were, now, two, piec, were not, there, So, it, confus, me, So, I, bend, down, to, see, what, she, wa, do, and, just, said, um, and, that, wa, ...]                 \n",
       "16  [that, moment, when, you ar, day, behind, and, they, repo, your, suv, after, pm, sunday, and, befor, am, monday, no, warn, you'v, just, gotta, laugh, at, a, compani, i'm, good, i'll, take, the, bu, befor, I, have, to, deal, with, thi, compani, again]                                                                                                                                                                                                                                                                                                                                                               \n",
       "24  [portion, are, small, side, are, flavorless, and, the, bbq, itself, is, veri, averag]                                                                                                                                                                                                                                                                                                                                                                                                                                                                                                                                    \n",
       "\n",
       "    word_count  \n",
       "4   124         \n",
       "7   36          \n",
       "13  240         \n",
       "16  45          \n",
       "24  13          "
      ]
     },
     "execution_count": 33,
     "metadata": {},
     "output_type": "execute_result"
    }
   ],
   "source": [
    "label_1.head()"
   ]
  },
  {
   "cell_type": "code",
   "execution_count": 34,
   "metadata": {
    "colab": {
     "base_uri": "https://localhost:8080/",
     "height": 787
    },
    "colab_type": "code",
    "id": "HViZ3z6ksGLw",
    "outputId": "2618ec66-3e1e-4b1c-cd0d-22ff37563220"
   },
   "outputs": [
    {
     "data": {
      "image/png": "[encoded data removed]",
      "text/plain": [
       "<Figure size 1080x864 with 6 Axes>"
      ]
     },
     "metadata": {
      "needs_background": "light"
     },
     "output_type": "display_data"
    }
   ],
   "source": [
    "# Plots the distribution of word count by class\n",
    "fig, ax = plt.subplots(3, 2, figsize = (15,12))\n",
    "fig.suptitle('Distribution of word count by class', fontsize=15)\n",
    "\n",
    "bins = 50\n",
    "\n",
    "ax[0, 0].hist(label_1['word_count'], bins = bins, color = 'red')\n",
    "ax[0, 0].set_title('Strong Negative', fontsize = 13)\n",
    "ax[0, 0].set_xlim(0, 700)\n",
    "\n",
    "ax[0, 1].hist(label_3['word_count'], bins = bins, color = '#FFC300')\n",
    "ax[0, 1].set_title('Neutral', fontsize = 13)\n",
    "ax[0, 1].set_xlim(0, 700)\n",
    "\n",
    "ax[1, 0].hist(label_2['word_count'], bins = bins, color = 'pink')\n",
    "ax[1, 0].set_title('Negative', fontsize = 13)\n",
    "ax[1, 0].set_xlim(0, 700)\n",
    "\n",
    "ax[1, 1].hist(label_4['word_count'], bins = bins, color = 'teal')\n",
    "ax[1, 1].set_title('Positive', fontsize = 13)\n",
    "ax[1, 1].set_xlim(0, 700)\n",
    "\n",
    "ax[2, 0].hist(label_5['word_count'], bins = bins, color = 'green')\n",
    "ax[2, 0].set_title('Strong Positive', fontsize = 13)\n",
    "ax[2, 0].set_xlim(0, 700)\n",
    "\n",
    "plt.show()"
   ]
  },
  {
   "cell_type": "markdown",
   "metadata": {
    "colab_type": "text",
    "id": "rY7HTGJK-AKp"
   },
   "source": [
    "Like what we saw in average word count, we can see bars with word counts beyond 500 words in the \"Strongly Negative\" category, but there are no bars beyond 400 words in the \"Strongly Positive\" category. The higher the rating, the distribution becomes more narrow, with more text examples having a low word count."
   ]
  },
  {
   "cell_type": "markdown",
   "metadata": {
    "colab_type": "text",
    "id": "Cc-OJJ6P9snh"
   },
   "source": [
    "### Top 50 unigrams/bigrams per class\n",
    "We find the top 50 unigrams/bigrams for each category in the labeled dataset."
   ]
  },
  {
   "cell_type": "code",
   "execution_count": 35,
   "metadata": {
    "colab": {},
    "colab_type": "code",
    "id": "e0UI0YWekHos"
   },
   "outputs": [],
   "source": [
    "def word_freq_bigrams(clean_text_list, top_n):\n",
    "    \"\"\"\n",
    "    Word frequency with bigrams\n",
    "    \"\"\"\n",
    "    bigram_model = Phrases(clean_text_list, min_count=2, threshold=1)\n",
    "    w_bigrams = list(bigram_model[clean_text_list])\n",
    "    flat_w_bigrams = [item for sublist in w_bigrams for item in sublist]\n",
    "    with_counts = Counter(flat_w_bigrams)\n",
    "    top = with_counts.most_common(top_n)\n",
    "    \n",
    "    word = [each[0] for each in top]\n",
    "    num = [each[1] for each in top]\n",
    "    \n",
    "    return pd.DataFrame([word, num]).T\n",
    "\n",
    "\n",
    "def bigram_freq(clean_text_list, top_n):\n",
    "    bigram_model = Phrases(clean_text_list, min_count=2, threshold=1)\n",
    "    w_bigrams = list(bigram_model[clean_text_list])\n",
    "    flat_w_bigrams = [item for sublist in w_bigrams for item in sublist]\n",
    "    bigrams = []\n",
    "    \n",
    "    for each in flat_w_bigrams:\n",
    "        if '_' in each:\n",
    "            bigrams.append(each)\n",
    "    \n",
    "    counts = Counter(bigrams)\n",
    "    top = counts.most_common(top_n)\n",
    "    word = [each[0] for each in top]\n",
    "    num = [each[1] for each in top]\n",
    "    return pd.DataFrame([word, num]).T"
   ]
  },
  {
   "cell_type": "code",
   "execution_count": 36,
   "metadata": {
    "colab": {
     "base_uri": "https://localhost:8080/",
     "height": 54
    },
    "colab_type": "code",
    "id": "C-qTUx9JXcvx",
    "outputId": "5f796404-e38c-48d4-89b4-9fdb197aa4dd"
   },
   "outputs": [
    {
     "name": "stdout",
     "output_type": "stream",
     "text": [
      "CPU times: user 20.4 s, sys: 114 ms, total: 20.5 s\n",
      "Wall time: 20.5 s\n"
     ]
    }
   ],
   "source": [
    "%%time\n",
    "top_n = 50\n",
    "\n",
    "text_label_1 = label_1['clean_text'].tolist()\n",
    "text_label_2 = label_2['clean_text'].tolist()\n",
    "text_label_3 = label_3['clean_text'].tolist()\n",
    "text_label_4 = label_4['clean_text'].tolist()\n",
    "text_label_5 = label_5['clean_text'].tolist()\n",
    "\n",
    "wf_label_1 = word_freq_bigrams(text_label_1, top_n=top_n)\n",
    "wf_label_2 = word_freq_bigrams(text_label_2, top_n=top_n)\n",
    "wf_label_3 = word_freq_bigrams(text_label_3, top_n=top_n)\n",
    "wf_label_4 = word_freq_bigrams(text_label_4, top_n=top_n)\n",
    "wf_label_5 = word_freq_bigrams(text_label_5, top_n=top_n)"
   ]
  },
  {
   "cell_type": "code",
   "execution_count": 37,
   "metadata": {
    "colab": {
     "base_uri": "https://localhost:8080/",
     "height": 1000
    },
    "colab_type": "code",
    "id": "hkxCpvtukctj",
    "outputId": "c874a993-4a0a-476a-a1ee-273960567ca4"
   },
   "outputs": [
    {
     "data": {
      "text/html": [
       "<div>\n",
       "<style scoped>\n",
       "    .dataframe tbody tr th:only-of-type {\n",
       "        vertical-align: middle;\n",
       "    }\n",
       "\n",
       "    .dataframe tbody tr th {\n",
       "        vertical-align: top;\n",
       "    }\n",
       "\n",
       "    .dataframe thead th {\n",
       "        text-align: right;\n",
       "    }\n",
       "</style>\n",
       "<table border=\"1\" class=\"dataframe\">\n",
       "  <thead>\n",
       "    <tr style=\"text-align: right;\">\n",
       "      <th></th>\n",
       "      <th>label_1_strngneg</th>\n",
       "      <th>count</th>\n",
       "      <th>label_2_neg</th>\n",
       "      <th>count</th>\n",
       "      <th>lebel_3_neut</th>\n",
       "      <th>count</th>\n",
       "      <th>label_4_pos</th>\n",
       "      <th>count</th>\n",
       "      <th>label_5_strngpos</th>\n",
       "      <th>count</th>\n",
       "    </tr>\n",
       "  </thead>\n",
       "  <tbody>\n",
       "    <tr>\n",
       "      <th>0</th>\n",
       "      <td>and</td>\n",
       "      <td>37078</td>\n",
       "      <td>and</td>\n",
       "      <td>34070</td>\n",
       "      <td>and</td>\n",
       "      <td>30474</td>\n",
       "      <td>and</td>\n",
       "      <td>30205</td>\n",
       "      <td>and</td>\n",
       "      <td>24915</td>\n",
       "    </tr>\n",
       "    <tr>\n",
       "      <th>1</th>\n",
       "      <td>the</td>\n",
       "      <td>23296</td>\n",
       "      <td>the</td>\n",
       "      <td>26679</td>\n",
       "      <td>the</td>\n",
       "      <td>25113</td>\n",
       "      <td>the</td>\n",
       "      <td>21903</td>\n",
       "      <td>the</td>\n",
       "      <td>13482</td>\n",
       "    </tr>\n",
       "    <tr>\n",
       "      <th>2</th>\n",
       "      <td>to</td>\n",
       "      <td>15296</td>\n",
       "      <td>to</td>\n",
       "      <td>10959</td>\n",
       "      <td>a</td>\n",
       "      <td>10430</td>\n",
       "      <td>a</td>\n",
       "      <td>8900</td>\n",
       "      <td>a</td>\n",
       "      <td>5986</td>\n",
       "    </tr>\n",
       "    <tr>\n",
       "      <th>3</th>\n",
       "      <td>that</td>\n",
       "      <td>10340</td>\n",
       "      <td>a</td>\n",
       "      <td>10572</td>\n",
       "      <td>to</td>\n",
       "      <td>8024</td>\n",
       "      <td>to</td>\n",
       "      <td>6711</td>\n",
       "      <td>to</td>\n",
       "      <td>5748</td>\n",
       "    </tr>\n",
       "    <tr>\n",
       "      <th>4</th>\n",
       "      <td>a</td>\n",
       "      <td>9710</td>\n",
       "      <td>that</td>\n",
       "      <td>9615</td>\n",
       "      <td>wa</td>\n",
       "      <td>7961</td>\n",
       "      <td>wa</td>\n",
       "      <td>5966</td>\n",
       "      <td>wa</td>\n",
       "      <td>4353</td>\n",
       "    </tr>\n",
       "    <tr>\n",
       "      <th>5</th>\n",
       "      <td>wa</td>\n",
       "      <td>8588</td>\n",
       "      <td>wa</td>\n",
       "      <td>8830</td>\n",
       "      <td>that</td>\n",
       "      <td>7832</td>\n",
       "      <td>for</td>\n",
       "      <td>5359</td>\n",
       "      <td>for</td>\n",
       "      <td>3725</td>\n",
       "    </tr>\n",
       "    <tr>\n",
       "      <th>6</th>\n",
       "      <td>for</td>\n",
       "      <td>7536</td>\n",
       "      <td>it</td>\n",
       "      <td>7401</td>\n",
       "      <td>it</td>\n",
       "      <td>6381</td>\n",
       "      <td>of</td>\n",
       "      <td>5113</td>\n",
       "      <td>in</td>\n",
       "      <td>3635</td>\n",
       "    </tr>\n",
       "    <tr>\n",
       "      <th>7</th>\n",
       "      <td>I</td>\n",
       "      <td>7316</td>\n",
       "      <td>for</td>\n",
       "      <td>7291</td>\n",
       "      <td>for</td>\n",
       "      <td>6316</td>\n",
       "      <td>it</td>\n",
       "      <td>4914</td>\n",
       "      <td>is</td>\n",
       "      <td>3316</td>\n",
       "    </tr>\n",
       "    <tr>\n",
       "      <th>8</th>\n",
       "      <td>it</td>\n",
       "      <td>6692</td>\n",
       "      <td>of</td>\n",
       "      <td>6138</td>\n",
       "      <td>but</td>\n",
       "      <td>6113</td>\n",
       "      <td>that</td>\n",
       "      <td>4837</td>\n",
       "      <td>with</td>\n",
       "      <td>3187</td>\n",
       "    </tr>\n",
       "    <tr>\n",
       "      <th>9</th>\n",
       "      <td>in</td>\n",
       "      <td>6360</td>\n",
       "      <td>but</td>\n",
       "      <td>6132</td>\n",
       "      <td>of</td>\n",
       "      <td>5925</td>\n",
       "      <td>is</td>\n",
       "      <td>4621</td>\n",
       "      <td>that</td>\n",
       "      <td>3183</td>\n",
       "    </tr>\n",
       "    <tr>\n",
       "      <th>10</th>\n",
       "      <td>of</td>\n",
       "      <td>5587</td>\n",
       "      <td>in</td>\n",
       "      <td>5829</td>\n",
       "      <td>in</td>\n",
       "      <td>4871</td>\n",
       "      <td>but</td>\n",
       "      <td>4397</td>\n",
       "      <td>it</td>\n",
       "      <td>3177</td>\n",
       "    </tr>\n",
       "    <tr>\n",
       "      <th>11</th>\n",
       "      <td>is</td>\n",
       "      <td>5068</td>\n",
       "      <td>I</td>\n",
       "      <td>5658</td>\n",
       "      <td>is</td>\n",
       "      <td>4744</td>\n",
       "      <td>in</td>\n",
       "      <td>4355</td>\n",
       "      <td>of</td>\n",
       "      <td>3176</td>\n",
       "    </tr>\n",
       "    <tr>\n",
       "      <th>12</th>\n",
       "      <td>but</td>\n",
       "      <td>4914</td>\n",
       "      <td>is</td>\n",
       "      <td>5117</td>\n",
       "      <td>with</td>\n",
       "      <td>4513</td>\n",
       "      <td>with</td>\n",
       "      <td>4199</td>\n",
       "      <td>I</td>\n",
       "      <td>2705</td>\n",
       "    </tr>\n",
       "    <tr>\n",
       "      <th>13</th>\n",
       "      <td>not</td>\n",
       "      <td>4680</td>\n",
       "      <td>with</td>\n",
       "      <td>4770</td>\n",
       "      <td>I</td>\n",
       "      <td>3931</td>\n",
       "      <td>I</td>\n",
       "      <td>3058</td>\n",
       "      <td>thi</td>\n",
       "      <td>1932</td>\n",
       "    </tr>\n",
       "    <tr>\n",
       "      <th>14</th>\n",
       "      <td>thi</td>\n",
       "      <td>4604</td>\n",
       "      <td>not</td>\n",
       "      <td>4515</td>\n",
       "      <td>not</td>\n",
       "      <td>3602</td>\n",
       "      <td>good</td>\n",
       "      <td>2652</td>\n",
       "      <td>but</td>\n",
       "      <td>1922</td>\n",
       "    </tr>\n",
       "    <tr>\n",
       "      <th>15</th>\n",
       "      <td>me</td>\n",
       "      <td>4602</td>\n",
       "      <td>...</td>\n",
       "      <td>3629</td>\n",
       "      <td>...</td>\n",
       "      <td>3068</td>\n",
       "      <td>in_the</td>\n",
       "      <td>2429</td>\n",
       "      <td>place</td>\n",
       "      <td>1809</td>\n",
       "    </tr>\n",
       "    <tr>\n",
       "      <th>16</th>\n",
       "      <td>with</td>\n",
       "      <td>4138</td>\n",
       "      <td>thi</td>\n",
       "      <td>3420</td>\n",
       "      <td>good</td>\n",
       "      <td>3067</td>\n",
       "      <td>thi</td>\n",
       "      <td>2397</td>\n",
       "      <td>...</td>\n",
       "      <td>1733</td>\n",
       "    </tr>\n",
       "    <tr>\n",
       "      <th>17</th>\n",
       "      <td>...</td>\n",
       "      <td>3609</td>\n",
       "      <td>order</td>\n",
       "      <td>3172</td>\n",
       "      <td>in_the</td>\n",
       "      <td>2893</td>\n",
       "      <td>not</td>\n",
       "      <td>2384</td>\n",
       "      <td>in_the</td>\n",
       "      <td>1728</td>\n",
       "    </tr>\n",
       "    <tr>\n",
       "      <th>18</th>\n",
       "      <td>on</td>\n",
       "      <td>3409</td>\n",
       "      <td>in_the</td>\n",
       "      <td>3152</td>\n",
       "      <td>like</td>\n",
       "      <td>2855</td>\n",
       "      <td>place</td>\n",
       "      <td>2306</td>\n",
       "      <td>thi_place</td>\n",
       "      <td>1712</td>\n",
       "    </tr>\n",
       "    <tr>\n",
       "      <th>19</th>\n",
       "      <td>they</td>\n",
       "      <td>3391</td>\n",
       "      <td>place</td>\n",
       "      <td>3121</td>\n",
       "      <td>place</td>\n",
       "      <td>2704</td>\n",
       "      <td>...</td>\n",
       "      <td>2261</td>\n",
       "      <td>my</td>\n",
       "      <td>1677</td>\n",
       "    </tr>\n",
       "    <tr>\n",
       "      <th>20</th>\n",
       "      <td>I_wa</td>\n",
       "      <td>3381</td>\n",
       "      <td>just</td>\n",
       "      <td>3121</td>\n",
       "      <td>or</td>\n",
       "      <td>2672</td>\n",
       "      <td>like</td>\n",
       "      <td>2225</td>\n",
       "      <td>the_best</td>\n",
       "      <td>1674</td>\n",
       "    </tr>\n",
       "    <tr>\n",
       "      <th>21</th>\n",
       "      <td>time</td>\n",
       "      <td>3350</td>\n",
       "      <td>like</td>\n",
       "      <td>3030</td>\n",
       "      <td>thi</td>\n",
       "      <td>2637</td>\n",
       "      <td>are</td>\n",
       "      <td>2177</td>\n",
       "      <td>you</td>\n",
       "      <td>1611</td>\n",
       "    </tr>\n",
       "    <tr>\n",
       "      <th>22</th>\n",
       "      <td>my</td>\n",
       "      <td>3089</td>\n",
       "      <td>all</td>\n",
       "      <td>2897</td>\n",
       "      <td>just</td>\n",
       "      <td>2601</td>\n",
       "      <td>it_wa</td>\n",
       "      <td>2079</td>\n",
       "      <td>great</td>\n",
       "      <td>1599</td>\n",
       "    </tr>\n",
       "    <tr>\n",
       "      <th>23</th>\n",
       "      <td>you</td>\n",
       "      <td>3047</td>\n",
       "      <td>or</td>\n",
       "      <td>2865</td>\n",
       "      <td>as</td>\n",
       "      <td>2598</td>\n",
       "      <td>as</td>\n",
       "      <td>2079</td>\n",
       "      <td>are</td>\n",
       "      <td>1554</td>\n",
       "    </tr>\n",
       "    <tr>\n",
       "      <th>24</th>\n",
       "      <td>in_the</td>\n",
       "      <td>2954</td>\n",
       "      <td>it_wa</td>\n",
       "      <td>2800</td>\n",
       "      <td>it_wa</td>\n",
       "      <td>2589</td>\n",
       "      <td>or</td>\n",
       "      <td>2070</td>\n",
       "      <td>as</td>\n",
       "      <td>1538</td>\n",
       "    </tr>\n",
       "    <tr>\n",
       "      <th>25</th>\n",
       "      <td>order</td>\n",
       "      <td>2930</td>\n",
       "      <td>I_wa</td>\n",
       "      <td>2793</td>\n",
       "      <td>the_food</td>\n",
       "      <td>2578</td>\n",
       "      <td>on_the</td>\n",
       "      <td>2048</td>\n",
       "      <td>time</td>\n",
       "      <td>1504</td>\n",
       "    </tr>\n",
       "    <tr>\n",
       "      <th>26</th>\n",
       "      <td>all</td>\n",
       "      <td>2892</td>\n",
       "      <td>the_food</td>\n",
       "      <td>2768</td>\n",
       "      <td>all</td>\n",
       "      <td>2409</td>\n",
       "      <td>time</td>\n",
       "      <td>1994</td>\n",
       "      <td>I_wa</td>\n",
       "      <td>1406</td>\n",
       "    </tr>\n",
       "    <tr>\n",
       "      <th>27</th>\n",
       "      <td>or</td>\n",
       "      <td>2872</td>\n",
       "      <td>as</td>\n",
       "      <td>2737</td>\n",
       "      <td>order</td>\n",
       "      <td>2370</td>\n",
       "      <td>so</td>\n",
       "      <td>1946</td>\n",
       "      <td>here</td>\n",
       "      <td>1369</td>\n",
       "    </tr>\n",
       "    <tr>\n",
       "      <th>28</th>\n",
       "      <td>have</td>\n",
       "      <td>2724</td>\n",
       "      <td>be</td>\n",
       "      <td>2672</td>\n",
       "      <td>so</td>\n",
       "      <td>2368</td>\n",
       "      <td>food</td>\n",
       "      <td>1906</td>\n",
       "      <td>I_have</td>\n",
       "      <td>1366</td>\n",
       "    </tr>\n",
       "    <tr>\n",
       "      <th>29</th>\n",
       "      <td>just</td>\n",
       "      <td>2722</td>\n",
       "      <td>so</td>\n",
       "      <td>2661</td>\n",
       "      <td>on_the</td>\n",
       "      <td>2297</td>\n",
       "      <td>just</td>\n",
       "      <td>1849</td>\n",
       "      <td>good</td>\n",
       "      <td>1351</td>\n",
       "    </tr>\n",
       "    <tr>\n",
       "      <th>30</th>\n",
       "      <td>be</td>\n",
       "      <td>2592</td>\n",
       "      <td>time</td>\n",
       "      <td>2642</td>\n",
       "      <td>time</td>\n",
       "      <td>2291</td>\n",
       "      <td>great</td>\n",
       "      <td>1847</td>\n",
       "      <td>had</td>\n",
       "      <td>1344</td>\n",
       "    </tr>\n",
       "    <tr>\n",
       "      <th>31</th>\n",
       "      <td>there</td>\n",
       "      <td>2499</td>\n",
       "      <td>me</td>\n",
       "      <td>2560</td>\n",
       "      <td>food</td>\n",
       "      <td>2238</td>\n",
       "      <td>of_the</td>\n",
       "      <td>1837</td>\n",
       "      <td>me</td>\n",
       "      <td>1307</td>\n",
       "    </tr>\n",
       "    <tr>\n",
       "      <th>32</th>\n",
       "      <td>as</td>\n",
       "      <td>2437</td>\n",
       "      <td>were</td>\n",
       "      <td>2554</td>\n",
       "      <td>were</td>\n",
       "      <td>2144</td>\n",
       "      <td>the_food</td>\n",
       "      <td>1833</td>\n",
       "      <td>have</td>\n",
       "      <td>1305</td>\n",
       "    </tr>\n",
       "    <tr>\n",
       "      <th>33</th>\n",
       "      <td>place</td>\n",
       "      <td>2387</td>\n",
       "      <td>my</td>\n",
       "      <td>2534</td>\n",
       "      <td>are</td>\n",
       "      <td>2137</td>\n",
       "      <td>here</td>\n",
       "      <td>1825</td>\n",
       "      <td>so</td>\n",
       "      <td>1276</td>\n",
       "    </tr>\n",
       "    <tr>\n",
       "      <th>34</th>\n",
       "      <td>call</td>\n",
       "      <td>2379</td>\n",
       "      <td>have</td>\n",
       "      <td>2506</td>\n",
       "      <td>I_wa</td>\n",
       "      <td>2088</td>\n",
       "      <td>have</td>\n",
       "      <td>1802</td>\n",
       "      <td>all</td>\n",
       "      <td>1253</td>\n",
       "    </tr>\n",
       "    <tr>\n",
       "      <th>35</th>\n",
       "      <td>it_wa</td>\n",
       "      <td>2339</td>\n",
       "      <td>food</td>\n",
       "      <td>2408</td>\n",
       "      <td>of_the</td>\n",
       "      <td>2047</td>\n",
       "      <td>were</td>\n",
       "      <td>1759</td>\n",
       "      <td>not</td>\n",
       "      <td>1252</td>\n",
       "    </tr>\n",
       "    <tr>\n",
       "      <th>36</th>\n",
       "      <td>at</td>\n",
       "      <td>2328</td>\n",
       "      <td>on_the</td>\n",
       "      <td>2328</td>\n",
       "      <td>my</td>\n",
       "      <td>2005</td>\n",
       "      <td>had</td>\n",
       "      <td>1742</td>\n",
       "      <td>it_wa</td>\n",
       "      <td>1240</td>\n",
       "    </tr>\n",
       "    <tr>\n",
       "      <th>37</th>\n",
       "      <td>were</td>\n",
       "      <td>2240</td>\n",
       "      <td>of_the</td>\n",
       "      <td>2239</td>\n",
       "      <td>have</td>\n",
       "      <td>2000</td>\n",
       "      <td>all</td>\n",
       "      <td>1713</td>\n",
       "      <td>at</td>\n",
       "      <td>1227</td>\n",
       "    </tr>\n",
       "    <tr>\n",
       "      <th>38</th>\n",
       "      <td>out</td>\n",
       "      <td>2236</td>\n",
       "      <td>had</td>\n",
       "      <td>2202</td>\n",
       "      <td>you</td>\n",
       "      <td>1990</td>\n",
       "      <td>one</td>\n",
       "      <td>1705</td>\n",
       "      <td>on</td>\n",
       "      <td>1226</td>\n",
       "    </tr>\n",
       "    <tr>\n",
       "      <th>39</th>\n",
       "      <td>them</td>\n",
       "      <td>2225</td>\n",
       "      <td>at</td>\n",
       "      <td>2201</td>\n",
       "      <td>be</td>\n",
       "      <td>1966</td>\n",
       "      <td>thi_place</td>\n",
       "      <td>1685</td>\n",
       "      <td>or</td>\n",
       "      <td>1213</td>\n",
       "    </tr>\n",
       "    <tr>\n",
       "      <th>40</th>\n",
       "      <td>servic</td>\n",
       "      <td>2205</td>\n",
       "      <td>there</td>\n",
       "      <td>2199</td>\n",
       "      <td>here</td>\n",
       "      <td>1957</td>\n",
       "      <td>my</td>\n",
       "      <td>1670</td>\n",
       "      <td>the_food</td>\n",
       "      <td>1212</td>\n",
       "    </tr>\n",
       "    <tr>\n",
       "      <th>41</th>\n",
       "      <td>one</td>\n",
       "      <td>2188</td>\n",
       "      <td>you</td>\n",
       "      <td>2184</td>\n",
       "      <td>one</td>\n",
       "      <td>1949</td>\n",
       "      <td>on</td>\n",
       "      <td>1656</td>\n",
       "      <td>be</td>\n",
       "      <td>1197</td>\n",
       "    </tr>\n",
       "    <tr>\n",
       "      <th>42</th>\n",
       "      <td>get</td>\n",
       "      <td>2165</td>\n",
       "      <td>on</td>\n",
       "      <td>2156</td>\n",
       "      <td>on</td>\n",
       "      <td>1893</td>\n",
       "      <td>order</td>\n",
       "      <td>1593</td>\n",
       "      <td>food</td>\n",
       "      <td>1164</td>\n",
       "    </tr>\n",
       "    <tr>\n",
       "      <th>43</th>\n",
       "      <td>so</td>\n",
       "      <td>2149</td>\n",
       "      <td>good</td>\n",
       "      <td>2146</td>\n",
       "      <td>at</td>\n",
       "      <td>1882</td>\n",
       "      <td>at</td>\n",
       "      <td>1589</td>\n",
       "      <td>just</td>\n",
       "      <td>1142</td>\n",
       "    </tr>\n",
       "    <tr>\n",
       "      <th>44</th>\n",
       "      <td>had</td>\n",
       "      <td>2141</td>\n",
       "      <td>one</td>\n",
       "      <td>2146</td>\n",
       "      <td>had</td>\n",
       "      <td>1857</td>\n",
       "      <td>you</td>\n",
       "      <td>1576</td>\n",
       "      <td>one</td>\n",
       "      <td>1107</td>\n",
       "    </tr>\n",
       "    <tr>\n",
       "      <th>45</th>\n",
       "      <td>back</td>\n",
       "      <td>2122</td>\n",
       "      <td>they</td>\n",
       "      <td>2089</td>\n",
       "      <td>out</td>\n",
       "      <td>1836</td>\n",
       "      <td>their</td>\n",
       "      <td>1560</td>\n",
       "      <td>thi_is</td>\n",
       "      <td>1089</td>\n",
       "    </tr>\n",
       "    <tr>\n",
       "      <th>46</th>\n",
       "      <td>on_the</td>\n",
       "      <td>2092</td>\n",
       "      <td>out</td>\n",
       "      <td>2084</td>\n",
       "      <td>get</td>\n",
       "      <td>1804</td>\n",
       "      <td>I_wa</td>\n",
       "      <td>1554</td>\n",
       "      <td>like</td>\n",
       "      <td>1084</td>\n",
       "    </tr>\n",
       "    <tr>\n",
       "      <th>47</th>\n",
       "      <td>after</td>\n",
       "      <td>2049</td>\n",
       "      <td>are</td>\n",
       "      <td>1976</td>\n",
       "      <td>thi_place</td>\n",
       "      <td>1780</td>\n",
       "      <td>for_a</td>\n",
       "      <td>1460</td>\n",
       "      <td>on_the</td>\n",
       "      <td>1072</td>\n",
       "    </tr>\n",
       "    <tr>\n",
       "      <th>48</th>\n",
       "      <td>I_have</td>\n",
       "      <td>2030</td>\n",
       "      <td>thi_place</td>\n",
       "      <td>1974</td>\n",
       "      <td>for_a</td>\n",
       "      <td>1734</td>\n",
       "      <td>get</td>\n",
       "      <td>1438</td>\n",
       "      <td>of_the</td>\n",
       "      <td>1070</td>\n",
       "    </tr>\n",
       "    <tr>\n",
       "      <th>49</th>\n",
       "      <td>like</td>\n",
       "      <td>1948</td>\n",
       "      <td>here</td>\n",
       "      <td>1953</td>\n",
       "      <td>there</td>\n",
       "      <td>1699</td>\n",
       "      <td>there</td>\n",
       "      <td>1428</td>\n",
       "      <td>I_had</td>\n",
       "      <td>1067</td>\n",
       "    </tr>\n",
       "  </tbody>\n",
       "</table>\n",
       "</div>"
      ],
      "text/plain": [
       "   label_1_strngneg  count label_2_neg  count lebel_3_neut  count label_4_pos  \\\n",
       "0   and              37078  and         34070  and          30474  and          \n",
       "1   the              23296  the         26679  the          25113  the          \n",
       "2   to               15296  to          10959  a            10430  a            \n",
       "3   that             10340  a           10572  to           8024   to           \n",
       "4   a                9710   that        9615   wa           7961   wa           \n",
       "5   wa               8588   wa          8830   that         7832   for          \n",
       "6   for              7536   it          7401   it           6381   of           \n",
       "7   I                7316   for         7291   for          6316   it           \n",
       "8   it               6692   of          6138   but          6113   that         \n",
       "9   in               6360   but         6132   of           5925   is           \n",
       "10  of               5587   in          5829   in           4871   but          \n",
       "11  is               5068   I           5658   is           4744   in           \n",
       "12  but              4914   is          5117   with         4513   with         \n",
       "13  not              4680   with        4770   I            3931   I            \n",
       "14  thi              4604   not         4515   not          3602   good         \n",
       "15  me               4602   ...         3629   ...          3068   in_the       \n",
       "16  with             4138   thi         3420   good         3067   thi          \n",
       "17  ...              3609   order       3172   in_the       2893   not          \n",
       "18  on               3409   in_the      3152   like         2855   place        \n",
       "19  they             3391   place       3121   place        2704   ...          \n",
       "20  I_wa             3381   just        3121   or           2672   like         \n",
       "21  time             3350   like        3030   thi          2637   are          \n",
       "22  my               3089   all         2897   just         2601   it_wa        \n",
       "23  you              3047   or          2865   as           2598   as           \n",
       "24  in_the           2954   it_wa       2800   it_wa        2589   or           \n",
       "25  order            2930   I_wa        2793   the_food     2578   on_the       \n",
       "26  all              2892   the_food    2768   all          2409   time         \n",
       "27  or               2872   as          2737   order        2370   so           \n",
       "28  have             2724   be          2672   so           2368   food         \n",
       "29  just             2722   so          2661   on_the       2297   just         \n",
       "30  be               2592   time        2642   time         2291   great        \n",
       "31  there            2499   me          2560   food         2238   of_the       \n",
       "32  as               2437   were        2554   were         2144   the_food     \n",
       "33  place            2387   my          2534   are          2137   here         \n",
       "34  call             2379   have        2506   I_wa         2088   have         \n",
       "35  it_wa            2339   food        2408   of_the       2047   were         \n",
       "36  at               2328   on_the      2328   my           2005   had          \n",
       "37  were             2240   of_the      2239   have         2000   all          \n",
       "38  out              2236   had         2202   you          1990   one          \n",
       "39  them             2225   at          2201   be           1966   thi_place    \n",
       "40  servic           2205   there       2199   here         1957   my           \n",
       "41  one              2188   you         2184   one          1949   on           \n",
       "42  get              2165   on          2156   on           1893   order        \n",
       "43  so               2149   good        2146   at           1882   at           \n",
       "44  had              2141   one         2146   had          1857   you          \n",
       "45  back             2122   they        2089   out          1836   their        \n",
       "46  on_the           2092   out         2084   get          1804   I_wa         \n",
       "47  after            2049   are         1976   thi_place    1780   for_a        \n",
       "48  I_have           2030   thi_place   1974   for_a        1734   get          \n",
       "49  like             1948   here        1953   there        1699   there        \n",
       "\n",
       "    count label_5_strngpos  count  \n",
       "0   30205  and              24915  \n",
       "1   21903  the              13482  \n",
       "2   8900   a                5986   \n",
       "3   6711   to               5748   \n",
       "4   5966   wa               4353   \n",
       "5   5359   for              3725   \n",
       "6   5113   in               3635   \n",
       "7   4914   is               3316   \n",
       "8   4837   with             3187   \n",
       "9   4621   that             3183   \n",
       "10  4397   it               3177   \n",
       "11  4355   of               3176   \n",
       "12  4199   I                2705   \n",
       "13  3058   thi              1932   \n",
       "14  2652   but              1922   \n",
       "15  2429   place            1809   \n",
       "16  2397   ...              1733   \n",
       "17  2384   in_the           1728   \n",
       "18  2306   thi_place        1712   \n",
       "19  2261   my               1677   \n",
       "20  2225   the_best         1674   \n",
       "21  2177   you              1611   \n",
       "22  2079   great            1599   \n",
       "23  2079   are              1554   \n",
       "24  2070   as               1538   \n",
       "25  2048   time             1504   \n",
       "26  1994   I_wa             1406   \n",
       "27  1946   here             1369   \n",
       "28  1906   I_have           1366   \n",
       "29  1849   good             1351   \n",
       "30  1847   had              1344   \n",
       "31  1837   me               1307   \n",
       "32  1833   have             1305   \n",
       "33  1825   so               1276   \n",
       "34  1802   all              1253   \n",
       "35  1759   not              1252   \n",
       "36  1742   it_wa            1240   \n",
       "37  1713   at               1227   \n",
       "38  1705   on               1226   \n",
       "39  1685   or               1213   \n",
       "40  1670   the_food         1212   \n",
       "41  1656   be               1197   \n",
       "42  1593   food             1164   \n",
       "43  1589   just             1142   \n",
       "44  1576   one              1107   \n",
       "45  1560   thi_is           1089   \n",
       "46  1554   like             1084   \n",
       "47  1460   on_the           1072   \n",
       "48  1438   of_the           1070   \n",
       "49  1428   I_had            1067   "
      ]
     },
     "execution_count": 37,
     "metadata": {},
     "output_type": "execute_result"
    }
   ],
   "source": [
    "wf_data = pd.concat([wf_label_1, wf_label_2, wf_label_3, wf_label_4, wf_label_5], axis=1)\n",
    "cols = ['label_1_strngneg', 'count', 'label_2_neg', 'count', 'lebel_3_neut', 'count', \n",
    "        'label_4_pos', 'count', 'label_5_strngpos', 'count']\n",
    "wf_data.columns = cols\n",
    "wf_data"
   ]
  },
  {
   "cell_type": "markdown",
   "metadata": {
    "colab_type": "text",
    "id": "Wa0lafSI_pHe"
   },
   "source": [
    "We see the words \"great\", \"the best\", \"like\" and \"not\" in the \"Strongly Positive\" category. The rank for the word \"not\" is 35 for \"Strongly Positive\" category, and rank 13 for \"Strongly Negative\" category. The words \"great\" and \"the best\" are not present in the \"Strongly Negative\" category.\n",
    "\n",
    "The frequency of the word \"but\" across the categories forms a negative quadratic. It is used the most in the \"Neutral\" category (at rank 8), and is used the least in \"Strongly Negative\" and \"Strongly Positive\" categories (at ranks 12 and 14, respectively)."
   ]
  },
  {
   "cell_type": "markdown",
   "metadata": {
    "colab_type": "text",
    "id": "W36fGxJkHeOi"
   },
   "source": [
    "## Model development\n",
    "We develop the following models:\n",
    "\n",
    "- [Stochastic gradient descent](https://scikit-learn.org/stable/modules/sgd.html)\n",
    "- [Multinomial naive Bayes](https://scikit-learn.org/stable/modules/naive_bayes.html#multinomial-naive-bayes)\n",
    "- Deep learning"
   ]
  },
  {
   "cell_type": "markdown",
   "metadata": {
    "colab_type": "text",
    "id": "q5BmVYJggKD-"
   },
   "source": [
    "### Training-validation approach \n",
    "We split the data into train and test proportions on the labeled dataset."
   ]
  },
  {
   "cell_type": "code",
   "execution_count": 38,
   "metadata": {
    "colab": {},
    "colab_type": "code",
    "id": "omjtBYNI2wpQ"
   },
   "outputs": [],
   "source": [
    "# Train test split with stratified sampling for evaluation\n",
    "X_train, X_validation, y_train, y_validation = train_test_split(X, \n",
    "                                                    y, \n",
    "                                                    test_size = .3, \n",
    "                                                    shuffle = True, \n",
    "                                                    stratify = y, \n",
    "                                                    random_state = 3)"
   ]
  },
  {
   "cell_type": "markdown",
   "metadata": {
    "colab_type": "text",
    "id": "JzBj_6PDLo4x"
   },
   "source": [
    "### Stochastic gradient descent"
   ]
  },
  {
   "cell_type": "code",
   "execution_count": 39,
   "metadata": {
    "colab": {
     "base_uri": "https://localhost:8080/",
     "height": 127
    },
    "colab_type": "code",
    "id": "lS2nIeARKg3S",
    "outputId": "d85e0ab0-3b22-456c-9385-724b4f010932"
   },
   "outputs": [
    {
     "data": {
      "text/plain": [
       "SGDClassifier(alpha=0.0001, average=False, class_weight=None,\n",
       "              early_stopping=False, epsilon=0.1, eta0=0.0, fit_intercept=True,\n",
       "              l1_ratio=0.15, learning_rate='optimal', loss='log', max_iter=1000,\n",
       "              n_iter_no_change=5, n_jobs=None, penalty='l2', power_t=0.5,\n",
       "              random_state=3, shuffle=True, tol=0.001, validation_fraction=0.1,\n",
       "              verbose=0, warm_start=False)"
      ]
     },
     "execution_count": 39,
     "metadata": {},
     "output_type": "execute_result"
    }
   ],
   "source": [
    "sgd_model = SGDClassifier(random_state=3, loss='log')\n",
    "sgd_model.fit(X_train, y_train)"
   ]
  },
  {
   "cell_type": "markdown",
   "metadata": {
    "colab_type": "text",
    "id": "Cr4piDDIUpCQ"
   },
   "source": [
    "We can see the parameter we have set for the model, in addition to default parameters."
   ]
  },
  {
   "cell_type": "markdown",
   "metadata": {
    "colab_type": "text",
    "id": "vPqeMP_iLtLM"
   },
   "source": [
    "### Multinomial naive Bayes"
   ]
  },
  {
   "cell_type": "code",
   "execution_count": 40,
   "metadata": {
    "colab": {
     "base_uri": "https://localhost:8080/",
     "height": 35
    },
    "colab_type": "code",
    "id": "5N5oZFS2L3aF",
    "outputId": "000f6324-5163-4909-a420-1c58f5feb0b0"
   },
   "outputs": [
    {
     "data": {
      "text/plain": [
       "MultinomialNB(alpha=1.0, class_prior=None, fit_prior=True)"
      ]
     },
     "execution_count": 40,
     "metadata": {},
     "output_type": "execute_result"
    }
   ],
   "source": [
    "mnb_model = MultinomialNB()\n",
    "mnb_model.fit(X_train, y_train)"
   ]
  },
  {
   "cell_type": "markdown",
   "metadata": {
    "colab_type": "text",
    "id": "UoLfMgrqUwfE"
   },
   "source": [
    "Like with the stochastic gradient descent model, we see default parameters for the multinomial naive Bayes model."
   ]
  },
  {
   "cell_type": "markdown",
   "metadata": {
    "colab_type": "text",
    "id": "SNasZXH6Enyi"
   },
   "source": [
    "### Deep learning"
   ]
  },
  {
   "cell_type": "code",
   "execution_count": 41,
   "metadata": {
    "colab": {
     "base_uri": "https://localhost:8080/",
     "height": 546
    },
    "colab_type": "code",
    "id": "7sfPse6lEmlV",
    "outputId": "305536c8-de13-419b-d278-04e9532df775"
   },
   "outputs": [
    {
     "name": "stdout",
     "output_type": "stream",
     "text": [
      "Checking whether there is an H2O instance running at http://localhost:54321 ..... not found.\n",
      "Attempting to start a local H2O server...\n",
      "  Java Version: openjdk version \"11.0.4\" 2019-07-16; OpenJDK Runtime Environment (build 11.0.4+11-post-Ubuntu-1ubuntu218.04.3); OpenJDK 64-Bit Server VM (build 11.0.4+11-post-Ubuntu-1ubuntu218.04.3, mixed mode, sharing)\n",
      "  Starting server from /home/sj/.local/lib/python3.6/site-packages/h2o/backend/bin/h2o.jar\n",
      "  Ice root: /tmp/tmpf5_8au_c\n",
      "  JVM stdout: /tmp/tmpf5_8au_c/h2o_sj_started_from_python.out\n",
      "  JVM stderr: /tmp/tmpf5_8au_c/h2o_sj_started_from_python.err\n",
      "  Server is running at http://127.0.0.1:54321\n",
      "Connecting to H2O server at http://127.0.0.1:54321 ... successful.\n"
     ]
    },
    {
     "data": {
      "text/html": [
       "<div style=\"overflow:auto\"><table style=\"width:50%\"><tr><td>H2O cluster uptime:</td>\n",
       "<td>01 secs</td></tr>\n",
       "<tr><td>H2O cluster timezone:</td>\n",
       "<td>Australia/Melbourne</td></tr>\n",
       "<tr><td>H2O data parsing timezone:</td>\n",
       "<td>UTC</td></tr>\n",
       "<tr><td>H2O cluster version:</td>\n",
       "<td>3.26.0.9</td></tr>\n",
       "<tr><td>H2O cluster version age:</td>\n",
       "<td>4 days </td></tr>\n",
       "<tr><td>H2O cluster name:</td>\n",
       "<td>H2O_from_python_sj_od9vyr</td></tr>\n",
       "<tr><td>H2O cluster total nodes:</td>\n",
       "<td>1</td></tr>\n",
       "<tr><td>H2O cluster free memory:</td>\n",
       "<td>3.908 Gb</td></tr>\n",
       "<tr><td>H2O cluster total cores:</td>\n",
       "<td>4</td></tr>\n",
       "<tr><td>H2O cluster allowed cores:</td>\n",
       "<td>4</td></tr>\n",
       "<tr><td>H2O cluster status:</td>\n",
       "<td>accepting new members, healthy</td></tr>\n",
       "<tr><td>H2O connection url:</td>\n",
       "<td>http://127.0.0.1:54321</td></tr>\n",
       "<tr><td>H2O connection proxy:</td>\n",
       "<td>{'http': None, 'https': None}</td></tr>\n",
       "<tr><td>H2O internal security:</td>\n",
       "<td>False</td></tr>\n",
       "<tr><td>H2O API Extensions:</td>\n",
       "<td>Amazon S3, XGBoost, Algos, AutoML, Core V3, TargetEncoder, Core V4</td></tr>\n",
       "<tr><td>Python version:</td>\n",
       "<td>3.6.8 final</td></tr></table></div>"
      ],
      "text/plain": [
       "--------------------------  ------------------------------------------------------------------\n",
       "H2O cluster uptime:         01 secs\n",
       "H2O cluster timezone:       Australia/Melbourne\n",
       "H2O data parsing timezone:  UTC\n",
       "H2O cluster version:        3.26.0.9\n",
       "H2O cluster version age:    4 days\n",
       "H2O cluster name:           H2O_from_python_sj_od9vyr\n",
       "H2O cluster total nodes:    1\n",
       "H2O cluster free memory:    3.908 Gb\n",
       "H2O cluster total cores:    4\n",
       "H2O cluster allowed cores:  4\n",
       "H2O cluster status:         accepting new members, healthy\n",
       "H2O connection url:         http://127.0.0.1:54321\n",
       "H2O connection proxy:       {'http': None, 'https': None}\n",
       "H2O internal security:      False\n",
       "H2O API Extensions:         Amazon S3, XGBoost, Algos, AutoML, Core V3, TargetEncoder, Core V4\n",
       "Python version:             3.6.8 final\n",
       "--------------------------  ------------------------------------------------------------------"
      ]
     },
     "metadata": {},
     "output_type": "display_data"
    }
   ],
   "source": [
    "## Initialising h20 cluster\n",
    "h2o.init()"
   ]
  },
  {
   "cell_type": "markdown",
   "metadata": {
    "colab_type": "text",
    "id": "TiGbbT8Xa45k"
   },
   "source": [
    "Combining labeled, unlabeled and test data to make sure tokens and dimension are consistent. "
   ]
  },
  {
   "cell_type": "code",
   "execution_count": 42,
   "metadata": {
    "colab": {},
    "colab_type": "code",
    "id": "z2RQQ3RsZD7o"
   },
   "outputs": [],
   "source": [
    "## Merging three datasets into one \n",
    "merged_data = labeled_data\n",
    "merged_data = merged_data.append(unlabeled_data[0:1500])\n",
    "merged_data = merged_data.append(test_data)"
   ]
  },
  {
   "cell_type": "code",
   "execution_count": 44,
   "metadata": {
    "colab": {
     "base_uri": "https://localhost:8080/",
     "height": 54
    },
    "colab_type": "code",
    "id": "m1eBOKEKZChv",
    "outputId": "2d7855d5-c53b-4c7a-cb55-944a8a8ca907"
   },
   "outputs": [
    {
     "name": "stdout",
     "output_type": "stream",
     "text": [
      "CPU times: user 1.58 s, sys: 337 ms, total: 1.92 s\n",
      "Wall time: 55.6 s\n"
     ]
    }
   ],
   "source": [
    "%%time\n",
    "## Performing the text preprocessing \n",
    "with mp.Pool(mp.cpu_count()) as pool:\n",
    "    merged_data['clean_text'] = pool.map(preprocess_text, merged_data['text'])"
   ]
  },
  {
   "cell_type": "code",
   "execution_count": 45,
   "metadata": {
    "colab": {},
    "colab_type": "code",
    "id": "QpiB_T-hb97b"
   },
   "outputs": [],
   "source": [
    "%%time\n",
    "## Tokenising the data and extracting the features \n",
    "text = merged_data['clean_text'].astype('str')\n",
    "X, tfidf_vectorizer = extract_features(text)\n",
    "y = labeled_data['label'].values # target"
   ]
  },
  {
   "cell_type": "code",
   "execution_count": 47,
   "metadata": {
    "colab": {},
    "colab_type": "code",
    "id": "JlcTloych8y3"
   },
   "outputs": [
    {
     "name": "stdout",
     "output_type": "stream",
     "text": [
      "CPU times: user 8min, sys: 58.4 s, total: 8min 59s\n",
      "Wall time: 5min 49s\n"
     ]
    }
   ],
   "source": [
    "%%time\n",
    "## Reducing the dimension of the data \n",
    "X_new = reduce_dimensions(X)"
   ]
  },
  {
   "cell_type": "code",
   "execution_count": 48,
   "metadata": {
    "colab": {},
    "colab_type": "code",
    "id": "HvCxHHPRiMWH"
   },
   "outputs": [],
   "source": [
    "## Transforming the data to dataframe which is needed in h2o packages \n",
    "X_dataframe = pd.DataFrame.from_records(X_new)"
   ]
  },
  {
   "cell_type": "code",
   "execution_count": 49,
   "metadata": {
    "colab": {},
    "colab_type": "code",
    "id": "Msc7Lf8inYSw"
   },
   "outputs": [],
   "source": [
    "## The first 50000 rows of data are labeled data and it is extracted for model training \n",
    "X_dataframe = X_dataframe.iloc[0:50000,]"
   ]
  },
  {
   "cell_type": "code",
   "execution_count": 50,
   "metadata": {
    "colab": {},
    "colab_type": "code",
    "id": "brm4XtlUoC21"
   },
   "outputs": [],
   "source": [
    "## y dataframe has all the labels and it is converted to dataframe for h2o to process \n",
    "y_dataframe = pd.DataFrame(y)"
   ]
  },
  {
   "cell_type": "code",
   "execution_count": 51,
   "metadata": {
    "colab": {},
    "colab_type": "code",
    "id": "BGFgpKnYbNRq"
   },
   "outputs": [],
   "source": [
    "## Spliting the data into training and testing set\n",
    "X_train_deeplearning, X_validation_deeplearning, y_train_deeplearning, y_validation_deeplearning = train_test_split(X_dataframe, \n",
    "                                                    y_dataframe, \n",
    "                                                    test_size = .3, \n",
    "                                                    shuffle = True, \n",
    "                                                    stratify = y, \n",
    "                                                    random_state = 3)"
   ]
  },
  {
   "cell_type": "code",
   "execution_count": 52,
   "metadata": {
    "colab": {},
    "colab_type": "code",
    "id": "HzZVmPbUZ_LL"
   },
   "outputs": [],
   "source": [
    "## Converting the training and testing data to dataframe which will be converted to h20 dataframe \n",
    "X_train_deeplearning = pd.DataFrame(X_train_deeplearning)\n",
    "y_train_deeplearning = pd.DataFrame(y_train_deeplearning)\n",
    "X_validation_deeplearning = pd.DataFrame(X_validation_deeplearning)\n",
    "y_validation_deeplearning = pd.DataFrame(y_validation_deeplearning)"
   ]
  },
  {
   "cell_type": "code",
   "execution_count": 53,
   "metadata": {
    "colab": {},
    "colab_type": "code",
    "id": "eluTKMOpSs62"
   },
   "outputs": [],
   "source": [
    "## Adding label data to the training dataset \n",
    "X_train_deeplearning[\"Class\"] = y_train_deeplearning"
   ]
  },
  {
   "cell_type": "code",
   "execution_count": 54,
   "metadata": {
    "colab": {},
    "colab_type": "code",
    "id": "59OVXaOlTE24"
   },
   "outputs": [],
   "source": [
    "## Converting the column to string which is required for the h2o dataframe conversion \n",
    "X_train_deeplearning.columns = X_train_deeplearning.columns.astype('str')\n",
    "X_validation_deeplearning.columns = X_validation_deeplearning.columns.astype('str')\n",
    "y_validation_deeplearning.columns = y_validation_deeplearning.columns.astype('str')"
   ]
  },
  {
   "cell_type": "code",
   "execution_count": 55,
   "metadata": {
    "colab": {
     "base_uri": "https://localhost:8080/",
     "height": 72
    },
    "colab_type": "code",
    "id": "pVm8Yy0GSzp1",
    "outputId": "f7127d3e-6282-46b7-fc3b-b376baa4e077"
   },
   "outputs": [
    {
     "name": "stdout",
     "output_type": "stream",
     "text": [
      "Parse progress: |█████████████████████████████████████████████████████████| 100%\n",
      "Parse progress: |█████████████████████████████████████████████████████████| 100%\n",
      "Parse progress: |█████████████████████████████████████████████████████████| 100%\n"
     ]
    }
   ],
   "source": [
    "## Converting the dataframe to h2o dataframe \n",
    "X_train_deeplearning = h2o.H2OFrame(X_train_deeplearning)\n",
    "X_validation_deeplearning = h2o.H2OFrame(X_validation_deeplearning)\n",
    "y_validation_deeplearning = h2o.H2OFrame(y_validation_deeplearning)"
   ]
  },
  {
   "cell_type": "code",
   "execution_count": 56,
   "metadata": {
    "colab": {},
    "colab_type": "code",
    "id": "1TW9eaIn-Rh9"
   },
   "outputs": [],
   "source": [
    "## Changing the datatype in Class column \n",
    "X_train_deeplearning[\"Class\"] = X_train_deeplearning[\"Class\"].asfactor()"
   ]
  },
  {
   "cell_type": "code",
   "execution_count": 57,
   "metadata": {
    "colab": {},
    "colab_type": "code",
    "id": "XZ1pNVGzNbA6"
   },
   "outputs": [],
   "source": [
    "## The column names of the training data is required for deep learning model \n",
    "predictors = X_train_deeplearning.names[0:500]\n",
    "response = \"Class\""
   ]
  },
  {
   "cell_type": "code",
   "execution_count": 58,
   "metadata": {
    "colab": {
     "base_uri": "https://localhost:8080/",
     "height": 35
    },
    "colab_type": "code",
    "id": "zBFzTgarUvyU",
    "outputId": "de174f24-0e07-418f-fbfb-43a695d2aac2"
   },
   "outputs": [
    {
     "name": "stdout",
     "output_type": "stream",
     "text": [
      "deeplearning Model Build progress: |██████████████████████████████████████| 100%\n"
     ]
    }
   ],
   "source": [
    "## Training the deeping learning model\n",
    "deep_learning = H2ODeepLearningEstimator(\n",
    "    distribution = 'multinomial',\n",
    "    activation = 'maxoutwithdropout',\n",
    "    hidden = [70, 70, 70],\n",
    "    input_dropout_ratio = 0.2,\n",
    "    sparse = True,\n",
    "    l1 = 1e-5,\n",
    "    epochs = 100\n",
    ")\n",
    "deep_learning.train(x = predictors, y = response, training_frame = X_train_deeplearning)"
   ]
  },
  {
   "cell_type": "code",
   "execution_count": 59,
   "metadata": {
    "colab": {
     "base_uri": "https://localhost:8080/",
     "height": 35
    },
    "colab_type": "code",
    "id": "pj-mESbvzURE",
    "outputId": "0e2d81b4-0961-4dff-9a76-27c326db211b"
   },
   "outputs": [
    {
     "name": "stdout",
     "output_type": "stream",
     "text": [
      "deeplearning prediction progress: |███████████████████████████████████████| 100%\n"
     ]
    }
   ],
   "source": [
    "## Performing the predictions using deep learning model \n",
    "X_validation_deeplearning[\"Class\"] = None\n",
    "pred = deep_learning.predict(X_validation_deeplearning)"
   ]
  },
  {
   "cell_type": "markdown",
   "metadata": {
    "colab_type": "text",
    "id": "C_CBPUjKJR1l"
   },
   "source": [
    "## Model evaluation on labeled dataset\n",
    "We use the classification report functionality in sklearn to obtain accuracy results. We evaluate the models, and produce a classification report and a confusion matrix for each one of them."
   ]
  },
  {
   "cell_type": "code",
   "execution_count": 60,
   "metadata": {
    "colab": {},
    "colab_type": "code",
    "id": "2lo-YpWM_ycl"
   },
   "outputs": [],
   "source": [
    "def evaluate_labels(y_true, y_pred):\n",
    "    \"\"\"Provides detailed metrics between true labels and\n",
    "    predicted labels outputted by a classifier\n",
    "    \"\"\"\n",
    "    print(\"Classification report:\")\n",
    "    print(classification_report(y_true, y_pred, digits=4))\n",
    "    print(\"Confusion matrix:\")\n",
    "    print(confusion_matrix(y_true, y_pred))"
   ]
  },
  {
   "cell_type": "markdown",
   "metadata": {
    "colab_type": "text",
    "id": "JgHVPsEZJrSK"
   },
   "source": [
    "### Stochastic gradient descent"
   ]
  },
  {
   "cell_type": "code",
   "execution_count": 61,
   "metadata": {
    "colab": {
     "base_uri": "https://localhost:8080/",
     "height": 345
    },
    "colab_type": "code",
    "id": "9_XLQGgaJaRS",
    "outputId": "066b3dd7-e428-419a-af1b-007aee6c0ffc"
   },
   "outputs": [
    {
     "name": "stdout",
     "output_type": "stream",
     "text": [
      "Classification report:\n",
      "              precision    recall  f1-score   support\n",
      "\n",
      "           1     0.6495    0.7705    0.7048      3037\n",
      "           2     0.5246    0.4647    0.4928      2987\n",
      "           3     0.5258    0.4581    0.4896      2984\n",
      "           4     0.5267    0.4687    0.4960      2987\n",
      "           5     0.6436    0.7481    0.6919      3005\n",
      "\n",
      "    accuracy                         0.5829     15000\n",
      "   macro avg     0.5740    0.5820    0.5750     15000\n",
      "weighted avg     0.5744    0.5829    0.5756     15000\n",
      "\n",
      "Confusion matrix:\n",
      "[[2340  522   88   21   66]\n",
      " [ 802 1388  583  117   97]\n",
      " [ 251  587 1367  576  203]\n",
      " [ 101  116  491 1400  879]\n",
      " [ 109   33   71  544 2248]]\n"
     ]
    }
   ],
   "source": [
    "y_sgd_pred = sgd_model.predict(X_validation)\n",
    "evaluate_labels(y_validation, y_sgd_pred)"
   ]
  },
  {
   "cell_type": "markdown",
   "metadata": {
    "colab_type": "text",
    "id": "b6u994IAJt5J"
   },
   "source": [
    "### Multinomial naive Bayes"
   ]
  },
  {
   "cell_type": "code",
   "execution_count": 62,
   "metadata": {
    "colab": {},
    "colab_type": "code",
    "id": "Qqduxak-JiiJ"
   },
   "outputs": [
    {
     "name": "stdout",
     "output_type": "stream",
     "text": [
      "Classification report:\n",
      "              precision    recall  f1-score   support\n",
      "\n",
      "           1     0.5871    0.7000    0.6386      3037\n",
      "           2     0.4546    0.5370    0.4924      2987\n",
      "           3     0.4807    0.5245    0.5016      2984\n",
      "           4     0.5082    0.5102    0.5092      2987\n",
      "           5     0.8289    0.4403    0.5751      3005\n",
      "\n",
      "    accuracy                         0.5428     15000\n",
      "   macro avg     0.5719    0.5424    0.5434     15000\n",
      "weighted avg     0.5723    0.5428    0.5437     15000\n",
      "\n",
      "Confusion matrix:\n",
      "[[2126  822   76    8    5]\n",
      " [ 713 1604  625   41    4]\n",
      " [ 303  745 1565  349   22]\n",
      " [ 169  259  793 1524  242]\n",
      " [ 310   98  197 1077 1323]]\n"
     ]
    }
   ],
   "source": [
    "y_mnb_pred = mnb_model.predict(X_validation)\n",
    "evaluate_labels(y_validation, y_mnb_pred)"
   ]
  },
  {
   "cell_type": "markdown",
   "metadata": {
    "colab_type": "text",
    "id": "ZslL-BEEh2_F"
   },
   "source": [
    "### Deep learning"
   ]
  },
  {
   "cell_type": "code",
   "execution_count": 63,
   "metadata": {
    "colab": {
     "base_uri": "https://localhost:8080/",
     "height": 366
    },
    "colab_type": "code",
    "id": "LJh_ABcxh8Be",
    "outputId": "c391d8f2-3c64-496e-928a-bbb17396db07"
   },
   "outputs": [
    {
     "name": "stdout",
     "output_type": "stream",
     "text": [
      "Classification report:\n",
      "              precision    recall  f1-score   support\n",
      "\n",
      "           1     0.7299    0.6477    0.6863      3037\n",
      "           2     0.4926    0.5598    0.5241      2987\n",
      "           3     0.5000    0.5328    0.5159      2984\n",
      "           4     0.5500    0.4473    0.4934      2987\n",
      "           5     0.6711    0.7374    0.7027      3005\n",
      "\n",
      "    accuracy                         0.5854     15000\n",
      "   macro avg     0.5887    0.5850    0.5845     15000\n",
      "weighted avg     0.5893    0.5854    0.5850     15000\n",
      "\n",
      "Confusion matrix:\n",
      "[[1967  907  110   18   35]\n",
      " [ 469 1672  701   72   73]\n",
      " [ 111  653 1590  472  158]\n",
      " [  65  117  649 1336  820]\n",
      " [  83   45  130  531 2216]]\n"
     ]
    }
   ],
   "source": [
    "y_validation_array = y_validation_deeplearning.as_data_frame().as_matrix()\n",
    "y_dl_pred = pred['predict'].as_data_frame().as_matrix()\n",
    "evaluate_labels(y_validation_array, y_dl_pred)"
   ]
  },
  {
   "cell_type": "markdown",
   "metadata": {
    "colab_type": "text",
    "id": "hmshIL3gIDxT"
   },
   "source": [
    "### Model comparison\n",
    "We compare the accuracy of the three different models."
   ]
  },
  {
   "cell_type": "code",
   "execution_count": 134,
   "metadata": {
    "colab": {},
    "colab_type": "code",
    "id": "N_YW6jxeILvi"
   },
   "outputs": [
    {
     "data": {
      "text/html": [
       "<div>\n",
       "<style scoped>\n",
       "    .dataframe tbody tr th:only-of-type {\n",
       "        vertical-align: middle;\n",
       "    }\n",
       "\n",
       "    .dataframe tbody tr th {\n",
       "        vertical-align: top;\n",
       "    }\n",
       "\n",
       "    .dataframe thead th {\n",
       "        text-align: right;\n",
       "    }\n",
       "</style>\n",
       "<table border=\"1\" class=\"dataframe\">\n",
       "  <thead>\n",
       "    <tr style=\"text-align: right;\">\n",
       "      <th>Classifier</th>\n",
       "      <th>Accuracy (labeled)</th>\n",
       "    </tr>\n",
       "  </thead>\n",
       "  <tbody>\n",
       "    <tr>\n",
       "      <th>Stochastic gradient descent</th>\n",
       "      <td>0.5829</td>\n",
       "    </tr>\n",
       "    <tr>\n",
       "      <th>Multinomial naive Bayes</th>\n",
       "      <td>0.5428</td>\n",
       "    </tr>\n",
       "    <tr>\n",
       "      <th>Deep learning</th>\n",
       "      <td>0.5854</td>\n",
       "    </tr>\n",
       "  </tbody>\n",
       "</table>\n",
       "</div>"
      ],
      "text/plain": [
       "Classifier                   Accuracy (labeled)\n",
       "Stochastic gradient descent 0.5829             \n",
       "Multinomial naive Bayes     0.5428             \n",
       "Deep learning               0.5854             "
      ]
     },
     "execution_count": 134,
     "metadata": {},
     "output_type": "execute_result"
    }
   ],
   "source": [
    "## Summarise label predictions in a dictionary\n",
    "labeled_predictions = {\n",
    "    \"Stochastic gradient descent\": [y_sgd_pred],\n",
    "    \"Multinomial naive Bayes\": [y_mnb_pred],\n",
    "    \"Deep learning\": [y_dl_pred]\n",
    "}\n",
    "\n",
    "## Arrange it into a dataframe, and compute the accuracy scores\n",
    "accuracy_comparison_df = pd.DataFrame(labeled_predictions).T\n",
    "accuracy_comparison_df.columns = ['Accuracy (labeled)']\n",
    "compute_accuracy = lambda y_pred: accuracy_score(y_validation, y_pred)\n",
    "accuracy_comparison_df['Accuracy (labeled)'] = \\\n",
    "    accuracy_comparison_df['Accuracy (labeled)'].apply(compute_accuracy)\n",
    "accuracy_comparison_df.columns.name = 'Classifier'\n",
    "\n",
    "## Display it\n",
    "accuracy_comparison_df"
   ]
  },
  {
   "cell_type": "markdown",
   "metadata": {
    "colab_type": "text",
    "id": "1GCZPGupAvjE"
   },
   "source": [
    "## Semi-supervised learning: Learning from unlabelled data\n",
    "We use a self-learning approach in an attempt to improve the classification accuracy of each model."
   ]
  },
  {
   "cell_type": "markdown",
   "metadata": {
    "colab_type": "text",
    "id": "IeW1xV8FNHFC"
   },
   "source": [
    "### Preprocessing and feature set generation on unlabelled set\n",
    "We first preprocess the text in unlabelled dataset, and generate the features using the same `tfidf_vectorizer` as we have used for the labelled set."
   ]
  },
  {
   "cell_type": "code",
   "execution_count": 87,
   "metadata": {
    "colab": {
     "base_uri": "https://localhost:8080/",
     "height": 54
    },
    "colab_type": "code",
    "id": "FHOkttHmJ405",
    "outputId": "3336cefa-b397-453b-8026-8bf26da3ca42"
   },
   "outputs": [
    {
     "name": "stdout",
     "output_type": "stream",
     "text": [
      "CPU times: user 9.05 s, sys: 2.58 s, total: 11.6 s\n",
      "Wall time: 6min 9s\n"
     ]
    }
   ],
   "source": [
    "%%time\n",
    "with mp.Pool(mp.cpu_count()) as pool:\n",
    "    clean_text = pool.map(preprocess_text, unlabeled_data['text'])"
   ]
  },
  {
   "cell_type": "code",
   "execution_count": 88,
   "metadata": {
    "colab": {
     "base_uri": "https://localhost:8080/",
     "height": 54
    },
    "colab_type": "code",
    "id": "PnJwY6G-cijQ",
    "outputId": "d7983e27-5872-4adc-f182-8b9bb6e9dae2"
   },
   "outputs": [
    {
     "name": "stdout",
     "output_type": "stream",
     "text": [
      "CPU times: user 1min 36s, sys: 5.46 s, total: 1min 42s\n",
      "Wall time: 1min 42s\n"
     ]
    }
   ],
   "source": [
    "%%time\n",
    "X_unlabeled = tfidf_vectorizer.transform(pd.Series(clean_text).astype('str'))"
   ]
  },
  {
   "cell_type": "markdown",
   "metadata": {},
   "source": [
    "For saving memory usage, we will delete the `clean_text` variable."
   ]
  },
  {
   "cell_type": "code",
   "execution_count": 89,
   "metadata": {},
   "outputs": [],
   "source": [
    "del clean_text"
   ]
  },
  {
   "cell_type": "code",
   "execution_count": 122,
   "metadata": {},
   "outputs": [],
   "source": [
    "del labeled_data"
   ]
  },
  {
   "cell_type": "markdown",
   "metadata": {
    "colab_type": "text",
    "id": "Prlqjbg8NUXg"
   },
   "source": [
    "### Algorithm\n",
    "Repeating until the unlabeled dataset becomes empty, we make some probability predictions for the unlabeled set, obtain the k most confident examples, then move these examples from the unlabeled to the labeled datasets."
   ]
  },
  {
   "cell_type": "code",
   "execution_count": 123,
   "metadata": {
    "scrolled": true
   },
   "outputs": [
    {
     "name": "stdout",
     "output_type": "stream",
     "text": [
      "__name__ 57\n",
      "__doc__ 86\n",
      "__package__ 16\n",
      "__loader__ 16\n",
      "__spec__ 16\n",
      "__builtin__ 80\n",
      "__builtins__ 80\n",
      "_ih 1072\n",
      "_oh 648\n",
      "_dh 72\n",
      "In 1072\n",
      "Out 648\n",
      "get_ipython 64\n",
      "exit 56\n",
      "quit 56\n",
      "_ 64\n",
      "__ 2160\n",
      "___ 282\n",
      "_i 65\n",
      "_ii 67\n",
      "_iii 250\n",
      "_i1 65\n",
      "_exit_code 24\n",
      "_i2 2040\n",
      "os 80\n",
      "itertools 80\n",
      "string 80\n",
      "operator 80\n",
      "re 80\n",
      "unicodedata 80\n",
      "nltk 80\n",
      "textwrap 80\n",
      "mp 80\n",
      "pd 80\n",
      "np 80\n",
      "itemgetter 400\n",
      "Counter 1056\n",
      "TweetTokenizer 1056\n",
      "wordnet 56\n",
      "WordNetLemmatizer 1056\n",
      "ENGLISH_STOP_WORDS 8416\n",
      "TruncatedSVD 1184\n",
      "TfidfVectorizer 2000\n",
      "Phrases 1184\n",
      "vstack 136\n",
      "DummyClassifier 1056\n",
      "SGDClassifier 2000\n",
      "LogisticRegression 1056\n",
      "GaussianNB 1056\n",
      "DecisionTreeClassifier 1056\n",
      "RandomForestClassifier 1056\n",
      "AdaBoostClassifier 1056\n",
      "KNeighborsClassifier 1056\n",
      "OneVsRestClassifier 1056\n",
      "MultinomialNB 1184\n",
      "h2o 80\n",
      "H2ODeepLearningEstimator 1464\n",
      "H2OGeneralizedLinearEstimator 1056\n",
      "H2OGradientBoostingEstimator 1056\n",
      "H2ORandomForestEstimator 1056\n",
      "H2OAutoEncoderEstimator 1056\n",
      "train_test_split 136\n",
      "GridSearchCV 1056\n",
      "accuracy_score 136\n",
      "confusion_matrix 136\n",
      "classification_report 136\n",
      "interp 136\n",
      "cycle 400\n",
      "plt 80\n",
      "sns 80\n",
      "display 136\n",
      "HTML 1056\n",
      "warnings 80\n",
      "_i3 175\n",
      "_3 28\n",
      "_i4 109\n",
      "_i5 278\n",
      "root_path 53\n",
      "test_data 101279457\n",
      "_i6 68\n",
      "_6 4146\n",
      "_i7 70\n",
      "_7 4537\n",
      "_i8 65\n",
      "_8 3558\n",
      "_i9 568\n",
      "preprocess_text 136\n",
      "_i10 3489\n",
      "c_dict 4704\n",
      "c_re 8008\n",
      "_i11 186\n",
      "expandContractions 136\n",
      "_i12 308\n",
      "casual_tokenizer 136\n",
      "_i13 342\n",
      "remove_misleading_characters 136\n",
      "_i14 174\n",
      "pool 56\n",
      "_i15 68\n",
      "_15 10754\n",
      "_i16 390\n",
      "extract_features 136\n",
      "_i17 298\n",
      "text 50726646\n",
      "tfidf_vectorizer 56\n",
      "y 96\n",
      "_i18 174\n",
      "reduce_dimensions 136\n",
      "_i19 84\n",
      "X_new 406000112\n",
      "_i20 54\n",
      "_20 200000112\n",
      "_i21 95\n",
      "_i22 78\n",
      "y_dataframe 400152\n",
      "_i23 108\n",
      "_23 891\n",
      "_i24 78\n",
      "_i25 242\n",
      "set_of_words 400096\n",
      "uniq_chars 245\n",
      "_i26 179\n",
      "_26 77657\n",
      "_i27 344\n",
      "_i28 495\n",
      "most_frequent_words 136\n",
      "_i29 137\n",
      "cl_text_list 400064\n",
      "_29 4973\n",
      "_i30 107\n",
      "word_count 136\n",
      "_i31 207\n",
      "avg_wc 232\n",
      "_31 232\n",
      "_i32 341\n",
      "_i33 63\n",
      "_33 7464\n",
      "_i34 943\n",
      "fig 56\n",
      "ax 160\n",
      "bins 28\n",
      "_i35 1075\n",
      "word_freq_bigrams 136\n",
      "bigram_freq 136\n",
      "_i36 588\n",
      "top_n 28\n",
      "wf_label_1 4984\n",
      "wf_label_2 4990\n",
      "wf_label_3 4992\n",
      "wf_label_4 4997\n",
      "wf_label_5 4999\n",
      "_i37 317\n",
      "wf_data 24354\n",
      "cols 144\n",
      "_37 24354\n",
      "_i38 506\n",
      "X_train 56\n",
      "X_validation 56\n",
      "y_train 280096\n",
      "y_validation 120096\n",
      "_i39 134\n",
      "sgd_model 56\n",
      "_39 56\n",
      "_i40 108\n",
      "mnb_model 56\n",
      "_40 56\n",
      "_i41 87\n",
      "_i42 212\n",
      "_i43 210\n",
      "_i44 210\n",
      "_i45 234\n",
      "_i46 123\n",
      "_i47 123\n",
      "_i48 166\n",
      "_i49 178\n",
      "_i50 165\n",
      "_i51 570\n",
      "X_train_deeplearning 56\n",
      "X_validation_deeplearning 56\n",
      "y_train_deeplearning 560024\n",
      "y_validation_deeplearning 56\n",
      "_i52 399\n",
      "_i53 147\n",
      "_i54 377\n",
      "_i55 288\n",
      "_i56 163\n",
      "_i57 192\n",
      "predictors 4064\n",
      "response 78\n",
      "_i58 401\n",
      "deep_learning 56\n",
      "_i59 203\n",
      "pred 56\n",
      "_i60 367\n",
      "evaluate_labels 136\n",
      "_i61 135\n",
      "y_sgd_pred 120096\n",
      "_i62 135\n",
      "y_mnb_pred 120096\n",
      "_i63 226\n",
      "y_validation_array 112\n",
      "y_dl_pred 112\n",
      "_i64 712\n",
      "labeled_predictions 240\n",
      "accuracy_comparison_df 282\n",
      "compute_accuracy 136\n",
      "_64 282\n",
      "_i65 255\n",
      "_i66 133\n",
      "X_unlabeled 56\n",
      "_i67 1310\n",
      "self_learning 136\n",
      "_i68 189\n",
      "_i69 163\n",
      "_i70 141\n",
      "X_unlabeled_new 20000112\n",
      "_i71 309\n",
      "X_dataframe_unlabeled 20000152\n",
      "X_train_unlabeled 56\n",
      "_i72 83\n",
      "_i73 142\n",
      "predict 56\n",
      "_i74 278\n",
      "pd_frame 240152\n",
      "unlabeled_frame 20040152\n",
      "_i75 1302\n",
      "_i76 189\n",
      "_i77 163\n",
      "_i78 141\n",
      "_i79 298\n",
      "_i80 189\n",
      "_i81 163\n",
      "_i82 133\n",
      "_i83 133\n",
      "_i84 63\n",
      "_i85 189\n",
      "sgd_model_ssl 56\n",
      "_i86 163\n",
      "mnb_model_ssl 56\n",
      "_i87 160\n",
      "_i88 133\n",
      "_i89 63\n",
      "_i90 1302\n",
      "_i91 189\n",
      "_i92 163\n",
      "_i93 141\n",
      "_i94 54\n",
      "_94 2160\n",
      "_i95 54\n",
      "_i96 65\n",
      "_i97 65\n",
      "_i98 65\n",
      "_i99 65\n",
      "_i100 65\n",
      "_i101 141\n",
      "_i102 128\n",
      "sys 80\n",
      "var 52\n",
      "obj 52\n",
      "_i103 128\n",
      "_i104 96\n",
      "_i105 141\n",
      "_i106 141\n",
      "_i107 128\n",
      "_i108 66\n",
      "_108 64\n",
      "_i109 128\n",
      "_i110 128\n",
      "_i111 128\n",
      "_i112 128\n",
      "_i113 64\n",
      "_i114 128\n",
      "_i115 64\n",
      "_i116 128\n",
      "_i117 76\n",
      "final_model 56\n",
      "_i118 168\n",
      "_i119 226\n",
      "test_text 51411847\n",
      "X_test 56\n",
      "y_test_pred 400096\n",
      "_i120 250\n",
      "predict_label 3738918\n",
      "_i121 67\n",
      "_i122 65\n",
      "_i123 128\n"
     ]
    }
   ],
   "source": [
    "import sys\n",
    "for var, obj in locals().items():\n",
    "    print(var, sys.getsizeof(obj))"
   ]
  },
  {
   "cell_type": "code",
   "execution_count": 128,
   "metadata": {
    "colab": {},
    "colab_type": "code",
    "id": "mMxYuaIG5bU3"
   },
   "outputs": [],
   "source": [
    "def self_learning(model, X_train, y_train, X_unlabeled, k = 1000):\n",
    "    X_ssl = np.copy(X_train)\n",
    "    X_ssl = X_ssl[()]\n",
    "    y_ssl = np.copy(y_train)\n",
    "\n",
    "    left_over_indices = np.arange(X_unlabeled.shape[0])\n",
    "    while len(left_over_indices) > 0:\n",
    "        ## Print how many unlabelled examples are left\n",
    "        print(len(left_over_indices), \"unlabelled examples left\")\n",
    "\n",
    "        ## Train model on new dataset\n",
    "        model.fit(X_ssl, y_ssl)\n",
    "\n",
    "        ## obtain prediction probabilities for all unlabeled examples\n",
    "        prediction_proba = model.predict_proba(X_unlabeled[left_over_indices])\n",
    "\n",
    "        ## obtain k most confident predictions\n",
    "        maximum_proba = prediction_proba.max(axis=1)\n",
    "        k_most_confident_predictions = np.argsort(maximum_proba)[::-1][:k]\n",
    "        y_predictions = np.argmax(prediction_proba[k_most_confident_predictions,], axis=1)\n",
    "\n",
    "        ## add k most confident predictions to labeled set\n",
    "        X_ssl = vstack((X_ssl, X_unlabeled[left_over_indices][k_most_confident_predictions]))\n",
    "        y_ssl = np.concatenate([y_ssl, y_predictions])\n",
    "\n",
    "        ## Remove k most confident predictions from unlabeled set\n",
    "        left_over_indices = np.setdiff1d(left_over_indices, left_over_indices[k_most_confident_predictions])\n",
    "        \n",
    "    ## Finalise training model on completely labeled dataset\n",
    "    print(\"Finalising training...\")\n",
    "    model.fit(X_ssl, y_ssl)\n",
    "\n",
    "    return model"
   ]
  },
  {
   "cell_type": "markdown",
   "metadata": {
    "colab_type": "text",
    "id": "qjie3dMGYRVu"
   },
   "source": [
    "### Stochastic gradient descent\n",
    "We train the stochastic gradient descent model using the self-learning procedure."
   ]
  },
  {
   "cell_type": "code",
   "execution_count": 129,
   "metadata": {
    "colab": {
     "base_uri": "https://localhost:8080/",
     "height": 437
    },
    "colab_type": "code",
    "id": "qcL_Z5cLN1ST",
    "outputId": "1170ffa8-50f8-4b6c-f6c9-4d926148fe57"
   },
   "outputs": [
    {
     "name": "stdout",
     "output_type": "stream",
     "text": [
      "600000 unlabelled examples left\n",
      "500000 unlabelled examples left\n",
      "400000 unlabelled examples left\n",
      "300000 unlabelled examples left\n",
      "200000 unlabelled examples left\n",
      "100000 unlabelled examples left\n",
      "Finalising training...\n",
      "CPU times: user 1min 25s, sys: 21 s, total: 1min 46s\n",
      "Wall time: 2min 17s\n"
     ]
    }
   ],
   "source": [
    "%%time\n",
    "sgd_model_ssl = self_learning(\n",
    "    SGDClassifier(random_state=3, loss='log'),\n",
    "    X_train, y_train,\n",
    "    X_unlabeled,\n",
    "    k = 100000\n",
    ")"
   ]
  },
  {
   "cell_type": "markdown",
   "metadata": {
    "colab_type": "text",
    "id": "aJFNi8YYYV3W"
   },
   "source": [
    "### Multinomial naive Bayes\n",
    "We train the multinomial naive Bayes model using the self-learning procedure."
   ]
  },
  {
   "cell_type": "code",
   "execution_count": 130,
   "metadata": {
    "colab": {},
    "colab_type": "code",
    "id": "RJW4BIr0YZc4"
   },
   "outputs": [
    {
     "name": "stdout",
     "output_type": "stream",
     "text": [
      "600000 unlabelled examples left\n",
      "500000 unlabelled examples left\n",
      "400000 unlabelled examples left\n",
      "300000 unlabelled examples left\n",
      "200000 unlabelled examples left\n",
      "100000 unlabelled examples left\n",
      "Finalising training...\n",
      "CPU times: user 14.7 s, sys: 2.58 s, total: 17.3 s\n",
      "Wall time: 31.6 s\n"
     ]
    }
   ],
   "source": [
    "%%time\n",
    "mnb_model_ssl = self_learning(\n",
    "    MultinomialNB(),\n",
    "    X_train, y_train,\n",
    "    X_unlabeled,\n",
    "    k = 100000\n",
    ")"
   ]
  },
  {
   "cell_type": "markdown",
   "metadata": {
    "colab_type": "text",
    "id": "1deeIuCfiyIk"
   },
   "source": [
    "### Deep learning\n",
    "Unlike the other two procedures, we use a different procedure to train the deep learning model on the unlabelled set."
   ]
  },
  {
   "cell_type": "code",
   "execution_count": 106,
   "metadata": {
    "colab": {},
    "colab_type": "code",
    "id": "ziXfy_6Wc1wU"
   },
   "outputs": [
    {
     "ename": "KeyboardInterrupt",
     "evalue": "",
     "output_type": "error",
     "traceback": [
      "\u001b[0;31m---------------------------------------------------------------------------\u001b[0m",
      "\u001b[0;31mKeyboardInterrupt\u001b[0m                         Traceback (most recent call last)",
      "\u001b[0;32m<ipython-input-106-d79073a2c4e9>\u001b[0m in \u001b[0;36m<module>\u001b[0;34m\u001b[0m\n\u001b[1;32m      1\u001b[0m \u001b[0;31m# Reducing the dimension for unlabeled data\u001b[0m\u001b[0;34m\u001b[0m\u001b[0;34m\u001b[0m\u001b[0;34m\u001b[0m\u001b[0m\n\u001b[0;32m----> 2\u001b[0;31m \u001b[0mX_unlabeled_new\u001b[0m \u001b[0;34m=\u001b[0m \u001b[0mreduce_dimensions\u001b[0m\u001b[0;34m(\u001b[0m\u001b[0mX_unlabeled\u001b[0m\u001b[0;34m)\u001b[0m\u001b[0;34m\u001b[0m\u001b[0;34m\u001b[0m\u001b[0m\n\u001b[0m",
      "\u001b[0;32m<ipython-input-18-5c673171ceb4>\u001b[0m in \u001b[0;36mreduce_dimensions\u001b[0;34m(X)\u001b[0m\n\u001b[1;32m      1\u001b[0m \u001b[0;32mdef\u001b[0m \u001b[0mreduce_dimensions\u001b[0m\u001b[0;34m(\u001b[0m\u001b[0mX\u001b[0m\u001b[0;34m)\u001b[0m\u001b[0;34m:\u001b[0m\u001b[0;34m\u001b[0m\u001b[0;34m\u001b[0m\u001b[0m\n\u001b[1;32m      2\u001b[0m     \u001b[0mlsa\u001b[0m \u001b[0;34m=\u001b[0m \u001b[0mTruncatedSVD\u001b[0m\u001b[0;34m(\u001b[0m\u001b[0mn_components\u001b[0m\u001b[0;34m=\u001b[0m\u001b[0;36m500\u001b[0m\u001b[0;34m,\u001b[0m \u001b[0mn_iter\u001b[0m\u001b[0;34m=\u001b[0m\u001b[0;36m10\u001b[0m\u001b[0;34m,\u001b[0m \u001b[0mrandom_state\u001b[0m\u001b[0;34m=\u001b[0m\u001b[0;36m3\u001b[0m\u001b[0;34m)\u001b[0m\u001b[0;34m\u001b[0m\u001b[0;34m\u001b[0m\u001b[0m\n\u001b[0;32m----> 3\u001b[0;31m     \u001b[0;32mreturn\u001b[0m \u001b[0mlsa\u001b[0m\u001b[0;34m.\u001b[0m\u001b[0mfit_transform\u001b[0m\u001b[0;34m(\u001b[0m\u001b[0mX\u001b[0m\u001b[0;34m)\u001b[0m\u001b[0;34m\u001b[0m\u001b[0;34m\u001b[0m\u001b[0m\n\u001b[0m",
      "\u001b[0;32m~/.local/lib/python3.6/site-packages/sklearn/decomposition/truncated_svd.py\u001b[0m in \u001b[0;36mfit_transform\u001b[0;34m(self, X, y)\u001b[0m\n\u001b[1;32m    176\u001b[0m             U, Sigma, VT = randomized_svd(X, self.n_components,\n\u001b[1;32m    177\u001b[0m                                           \u001b[0mn_iter\u001b[0m\u001b[0;34m=\u001b[0m\u001b[0mself\u001b[0m\u001b[0;34m.\u001b[0m\u001b[0mn_iter\u001b[0m\u001b[0;34m,\u001b[0m\u001b[0;34m\u001b[0m\u001b[0;34m\u001b[0m\u001b[0m\n\u001b[0;32m--> 178\u001b[0;31m                                           random_state=random_state)\n\u001b[0m\u001b[1;32m    179\u001b[0m         \u001b[0;32melse\u001b[0m\u001b[0;34m:\u001b[0m\u001b[0;34m\u001b[0m\u001b[0;34m\u001b[0m\u001b[0m\n\u001b[1;32m    180\u001b[0m             \u001b[0;32mraise\u001b[0m \u001b[0mValueError\u001b[0m\u001b[0;34m(\u001b[0m\u001b[0;34m\"unknown algorithm %r\"\u001b[0m \u001b[0;34m%\u001b[0m \u001b[0mself\u001b[0m\u001b[0;34m.\u001b[0m\u001b[0malgorithm\u001b[0m\u001b[0;34m)\u001b[0m\u001b[0;34m\u001b[0m\u001b[0;34m\u001b[0m\u001b[0m\n",
      "\u001b[0;32m~/.local/lib/python3.6/site-packages/sklearn/utils/extmath.py\u001b[0m in \u001b[0;36mrandomized_svd\u001b[0;34m(M, n_components, n_oversamples, n_iter, power_iteration_normalizer, transpose, flip_sign, random_state)\u001b[0m\n\u001b[1;32m    332\u001b[0m \u001b[0;34m\u001b[0m\u001b[0m\n\u001b[1;32m    333\u001b[0m     Q = randomized_range_finder(M, n_random, n_iter,\n\u001b[0;32m--> 334\u001b[0;31m                                 power_iteration_normalizer, random_state)\n\u001b[0m\u001b[1;32m    335\u001b[0m \u001b[0;34m\u001b[0m\u001b[0m\n\u001b[1;32m    336\u001b[0m     \u001b[0;31m# project M to the (k + p) dimensional space using the basis vectors\u001b[0m\u001b[0;34m\u001b[0m\u001b[0;34m\u001b[0m\u001b[0;34m\u001b[0m\u001b[0m\n",
      "\u001b[0;32m~/.local/lib/python3.6/site-packages/sklearn/utils/extmath.py\u001b[0m in \u001b[0;36mrandomized_range_finder\u001b[0;34m(A, size, n_iter, power_iteration_normalizer, random_state)\u001b[0m\n\u001b[1;32m    216\u001b[0m             \u001b[0mQ\u001b[0m \u001b[0;34m=\u001b[0m \u001b[0msafe_sparse_dot\u001b[0m\u001b[0;34m(\u001b[0m\u001b[0mA\u001b[0m\u001b[0;34m.\u001b[0m\u001b[0mT\u001b[0m\u001b[0;34m,\u001b[0m \u001b[0mQ\u001b[0m\u001b[0;34m)\u001b[0m\u001b[0;34m\u001b[0m\u001b[0;34m\u001b[0m\u001b[0m\n\u001b[1;32m    217\u001b[0m         \u001b[0;32melif\u001b[0m \u001b[0mpower_iteration_normalizer\u001b[0m \u001b[0;34m==\u001b[0m \u001b[0;34m'LU'\u001b[0m\u001b[0;34m:\u001b[0m\u001b[0;34m\u001b[0m\u001b[0;34m\u001b[0m\u001b[0m\n\u001b[0;32m--> 218\u001b[0;31m             \u001b[0mQ\u001b[0m\u001b[0;34m,\u001b[0m \u001b[0m_\u001b[0m \u001b[0;34m=\u001b[0m \u001b[0mlinalg\u001b[0m\u001b[0;34m.\u001b[0m\u001b[0mlu\u001b[0m\u001b[0;34m(\u001b[0m\u001b[0msafe_sparse_dot\u001b[0m\u001b[0;34m(\u001b[0m\u001b[0mA\u001b[0m\u001b[0;34m,\u001b[0m \u001b[0mQ\u001b[0m\u001b[0;34m)\u001b[0m\u001b[0;34m,\u001b[0m \u001b[0mpermute_l\u001b[0m\u001b[0;34m=\u001b[0m\u001b[0;32mTrue\u001b[0m\u001b[0;34m)\u001b[0m\u001b[0;34m\u001b[0m\u001b[0;34m\u001b[0m\u001b[0m\n\u001b[0m\u001b[1;32m    219\u001b[0m             \u001b[0mQ\u001b[0m\u001b[0;34m,\u001b[0m \u001b[0m_\u001b[0m \u001b[0;34m=\u001b[0m \u001b[0mlinalg\u001b[0m\u001b[0;34m.\u001b[0m\u001b[0mlu\u001b[0m\u001b[0;34m(\u001b[0m\u001b[0msafe_sparse_dot\u001b[0m\u001b[0;34m(\u001b[0m\u001b[0mA\u001b[0m\u001b[0;34m.\u001b[0m\u001b[0mT\u001b[0m\u001b[0;34m,\u001b[0m \u001b[0mQ\u001b[0m\u001b[0;34m)\u001b[0m\u001b[0;34m,\u001b[0m \u001b[0mpermute_l\u001b[0m\u001b[0;34m=\u001b[0m\u001b[0;32mTrue\u001b[0m\u001b[0;34m)\u001b[0m\u001b[0;34m\u001b[0m\u001b[0;34m\u001b[0m\u001b[0m\n\u001b[1;32m    220\u001b[0m         \u001b[0;32melif\u001b[0m \u001b[0mpower_iteration_normalizer\u001b[0m \u001b[0;34m==\u001b[0m \u001b[0;34m'QR'\u001b[0m\u001b[0;34m:\u001b[0m\u001b[0;34m\u001b[0m\u001b[0;34m\u001b[0m\u001b[0m\n",
      "\u001b[0;32m~/.local/lib/python3.6/site-packages/sklearn/utils/extmath.py\u001b[0m in \u001b[0;36msafe_sparse_dot\u001b[0;34m(a, b, dense_output)\u001b[0m\n\u001b[1;32m    135\u001b[0m     \"\"\"\n\u001b[1;32m    136\u001b[0m     \u001b[0;32mif\u001b[0m \u001b[0msparse\u001b[0m\u001b[0;34m.\u001b[0m\u001b[0missparse\u001b[0m\u001b[0;34m(\u001b[0m\u001b[0ma\u001b[0m\u001b[0;34m)\u001b[0m \u001b[0;32mor\u001b[0m \u001b[0msparse\u001b[0m\u001b[0;34m.\u001b[0m\u001b[0missparse\u001b[0m\u001b[0;34m(\u001b[0m\u001b[0mb\u001b[0m\u001b[0;34m)\u001b[0m\u001b[0;34m:\u001b[0m\u001b[0;34m\u001b[0m\u001b[0;34m\u001b[0m\u001b[0m\n\u001b[0;32m--> 137\u001b[0;31m         \u001b[0mret\u001b[0m \u001b[0;34m=\u001b[0m \u001b[0ma\u001b[0m \u001b[0;34m*\u001b[0m \u001b[0mb\u001b[0m\u001b[0;34m\u001b[0m\u001b[0;34m\u001b[0m\u001b[0m\n\u001b[0m\u001b[1;32m    138\u001b[0m         \u001b[0;32mif\u001b[0m \u001b[0mdense_output\u001b[0m \u001b[0;32mand\u001b[0m \u001b[0mhasattr\u001b[0m\u001b[0;34m(\u001b[0m\u001b[0mret\u001b[0m\u001b[0;34m,\u001b[0m \u001b[0;34m\"toarray\"\u001b[0m\u001b[0;34m)\u001b[0m\u001b[0;34m:\u001b[0m\u001b[0;34m\u001b[0m\u001b[0;34m\u001b[0m\u001b[0m\n\u001b[1;32m    139\u001b[0m             \u001b[0mret\u001b[0m \u001b[0;34m=\u001b[0m \u001b[0mret\u001b[0m\u001b[0;34m.\u001b[0m\u001b[0mtoarray\u001b[0m\u001b[0;34m(\u001b[0m\u001b[0;34m)\u001b[0m\u001b[0;34m\u001b[0m\u001b[0;34m\u001b[0m\u001b[0m\n",
      "\u001b[0;32m~/.local/lib/python3.6/site-packages/scipy/sparse/base.py\u001b[0m in \u001b[0;36m__mul__\u001b[0;34m(self, other)\u001b[0m\n\u001b[1;32m    470\u001b[0m                 \u001b[0;32mreturn\u001b[0m \u001b[0mself\u001b[0m\u001b[0;34m.\u001b[0m\u001b[0m_mul_vector\u001b[0m\u001b[0;34m(\u001b[0m\u001b[0mother\u001b[0m\u001b[0;34m.\u001b[0m\u001b[0mravel\u001b[0m\u001b[0;34m(\u001b[0m\u001b[0;34m)\u001b[0m\u001b[0;34m)\u001b[0m\u001b[0;34m.\u001b[0m\u001b[0mreshape\u001b[0m\u001b[0;34m(\u001b[0m\u001b[0mM\u001b[0m\u001b[0;34m,\u001b[0m \u001b[0;36m1\u001b[0m\u001b[0;34m)\u001b[0m\u001b[0;34m\u001b[0m\u001b[0;34m\u001b[0m\u001b[0m\n\u001b[1;32m    471\u001b[0m             \u001b[0;32melif\u001b[0m \u001b[0mother\u001b[0m\u001b[0;34m.\u001b[0m\u001b[0mndim\u001b[0m \u001b[0;34m==\u001b[0m \u001b[0;36m2\u001b[0m \u001b[0;32mand\u001b[0m \u001b[0mother\u001b[0m\u001b[0;34m.\u001b[0m\u001b[0mshape\u001b[0m\u001b[0;34m[\u001b[0m\u001b[0;36m0\u001b[0m\u001b[0;34m]\u001b[0m \u001b[0;34m==\u001b[0m \u001b[0mN\u001b[0m\u001b[0;34m:\u001b[0m\u001b[0;34m\u001b[0m\u001b[0;34m\u001b[0m\u001b[0m\n\u001b[0;32m--> 472\u001b[0;31m                 \u001b[0;32mreturn\u001b[0m \u001b[0mself\u001b[0m\u001b[0;34m.\u001b[0m\u001b[0m_mul_multivector\u001b[0m\u001b[0;34m(\u001b[0m\u001b[0mother\u001b[0m\u001b[0;34m)\u001b[0m\u001b[0;34m\u001b[0m\u001b[0;34m\u001b[0m\u001b[0m\n\u001b[0m\u001b[1;32m    473\u001b[0m \u001b[0;34m\u001b[0m\u001b[0m\n\u001b[1;32m    474\u001b[0m         \u001b[0;32mif\u001b[0m \u001b[0misscalarlike\u001b[0m\u001b[0;34m(\u001b[0m\u001b[0mother\u001b[0m\u001b[0;34m)\u001b[0m\u001b[0;34m:\u001b[0m\u001b[0;34m\u001b[0m\u001b[0;34m\u001b[0m\u001b[0m\n",
      "\u001b[0;32m~/.local/lib/python3.6/site-packages/scipy/sparse/compressed.py\u001b[0m in \u001b[0;36m_mul_multivector\u001b[0;34m(self, other)\u001b[0m\n\u001b[1;32m    485\u001b[0m         \u001b[0mfn\u001b[0m \u001b[0;34m=\u001b[0m \u001b[0mgetattr\u001b[0m\u001b[0;34m(\u001b[0m\u001b[0m_sparsetools\u001b[0m\u001b[0;34m,\u001b[0m \u001b[0mself\u001b[0m\u001b[0;34m.\u001b[0m\u001b[0mformat\u001b[0m \u001b[0;34m+\u001b[0m \u001b[0;34m'_matvecs'\u001b[0m\u001b[0;34m)\u001b[0m\u001b[0;34m\u001b[0m\u001b[0;34m\u001b[0m\u001b[0m\n\u001b[1;32m    486\u001b[0m         fn(M, N, n_vecs, self.indptr, self.indices, self.data,\n\u001b[0;32m--> 487\u001b[0;31m            other.ravel(), result.ravel())\n\u001b[0m\u001b[1;32m    488\u001b[0m \u001b[0;34m\u001b[0m\u001b[0m\n\u001b[1;32m    489\u001b[0m         \u001b[0;32mreturn\u001b[0m \u001b[0mresult\u001b[0m\u001b[0;34m\u001b[0m\u001b[0;34m\u001b[0m\u001b[0m\n",
      "\u001b[0;31mKeyboardInterrupt\u001b[0m: "
     ]
    }
   ],
   "source": [
    "# Reducing the dimension for unlabeled data\n",
    "X_unlabeled_new = reduce_dimensions(X_unlabeled)"
   ]
  },
  {
   "cell_type": "code",
   "execution_count": null,
   "metadata": {
    "colab": {},
    "colab_type": "code",
    "id": "AcQSKc4rMYb9"
   },
   "outputs": [],
   "source": [
    "# Cleaning and transforming the data frame to h2o dataframe  \n",
    "X_dataframe_unlabeled = pd.DataFrame.from_records(X_unlabeled_new)\n",
    "X_dataframe_unlabeled.columns = X_dataframe_unlabeled.columns.astype('str')\n",
    "X_train_unlabeled = h2o.H2OFrame(X_dataframe_unlabeled)"
   ]
  },
  {
   "cell_type": "code",
   "execution_count": null,
   "metadata": {
    "colab": {},
    "colab_type": "code",
    "id": "a4yaAG_Pi2ol"
   },
   "outputs": [],
   "source": [
    "X_train_unlabeled[\"Class\"] = None "
   ]
  },
  {
   "cell_type": "code",
   "execution_count": null,
   "metadata": {
    "colab": {},
    "colab_type": "code",
    "id": "XrpMzfoai6tR"
   },
   "outputs": [],
   "source": [
    "# Performing prediction on unlabeled data \n",
    "predict = deep_learning.predict(X_train_unlabeled)"
   ]
  },
  {
   "cell_type": "code",
   "execution_count": null,
   "metadata": {
    "colab": {},
    "colab_type": "code",
    "id": "K_HllFTPjAPG"
   },
   "outputs": [],
   "source": [
    "# Transferring to dataframe for easier data manipulation \n",
    "pd_frame = predict.as_data_frame(use_pandas=True)\n",
    "unlabeled_frame = X_train_unlabeled.as_data_frame(use_pandas=True)\n",
    "labeled_frame = X_train.as_data_frame(use_pandas=True)"
   ]
  },
  {
   "cell_type": "code",
   "execution_count": null,
   "metadata": {
    "colab": {},
    "colab_type": "code",
    "id": "UusBYq_6jDa5"
   },
   "outputs": [],
   "source": [
    "# The predictions with probability more than 80% is added to the labeled dataset  \n",
    "for i in range(len(pd_frame['p1'])):\n",
    "    if pd_frame['p1'].iloc[i] > 0.8:\n",
    "        unlabeled_frame.iloc[i,500] ='1'\n",
    "        labeled_frame = labeled_frame.append(unlabeled_frame.iloc[i])\n",
    "    if pd_frame['p2'].iloc[i] > 0.8:\n",
    "        unlabeled_frame.iloc[i,500] ='2'\n",
    "        labeled_frame = labeled_frame.append(unlabeled_frame.iloc[i])\n",
    "    if pd_frame['p3'].iloc[i] > 0.8:\n",
    "        unlabeled_frame.iloc[i,500] ='3'\n",
    "        labeled_frame = labeled_frame.append(unlabeled_frame.iloc[i])\n",
    "    if pd_frame['p4'].iloc[i] > 0.8:\n",
    "        unlabeled_frame.iloc[i,500] ='4'\n",
    "        labeled_frame = labeled_frame.append(unlabeled_frame.iloc[i])\n",
    "    if pd_frame['p5'].iloc[i] > 0.8:\n",
    "        unlabeled_frame.iloc[i,500] ='5'\n",
    "        labeled_frame = labeled_frame.append(unlabeled_frame.iloc[i])"
   ]
  },
  {
   "cell_type": "code",
   "execution_count": null,
   "metadata": {
    "colab": {},
    "colab_type": "code",
    "id": "B_BB4-E-jHNO"
   },
   "outputs": [],
   "source": [
    "labeled_frame.columns = labeled_frame.columns.astype('str')\n",
    "labeled_frame['Class'] = labeled_frame['Class'].astype('category')\n",
    "X_train = h2o.H2OFrame(labeled_frame)\n",
    "X_train[\"Class\"] = X_train[\"Class\"].asfactor()"
   ]
  },
  {
   "cell_type": "code",
   "execution_count": null,
   "metadata": {
    "colab": {},
    "colab_type": "code",
    "id": "hMGodzuAjQZY"
   },
   "outputs": [],
   "source": [
    "# redo the model training and prediction \n",
    "deep_learning = H2ODeepLearningEstimator(\n",
    "    distribution = 'multinomial',\n",
    "    activation = 'maxoutwithdropout',\n",
    "    hidden = [60,60,60],\n",
    "    input_dropout_ratio = 0.2,\n",
    "    sparse = True,\n",
    "    l1 = 1e-5,\n",
    "    epochs = 80\n",
    ")\n",
    "deep_learning.train(x = predictors, y = response, training_frame = X_train)"
   ]
  },
  {
   "cell_type": "markdown",
   "metadata": {
    "colab_type": "text",
    "id": "sM1cB3iQhyy5"
   },
   "source": [
    "## Evaluating semi-supervised models\n",
    "We evaluate our semi-supervised models, to see if the classification accuracy has been improved."
   ]
  },
  {
   "cell_type": "markdown",
   "metadata": {
    "colab_type": "text",
    "id": "x5e3t8HhZYP1"
   },
   "source": [
    "### Stochastic gradient descent"
   ]
  },
  {
   "cell_type": "code",
   "execution_count": 131,
   "metadata": {
    "colab": {},
    "colab_type": "code",
    "id": "AnoXD4-zMyiH"
   },
   "outputs": [
    {
     "name": "stdout",
     "output_type": "stream",
     "text": [
      "Classification report:\n",
      "              precision    recall  f1-score   support\n",
      "\n",
      "           0     0.0000    0.0000    0.0000         0\n",
      "           1     0.0000    0.0000    0.0000      3037\n",
      "           2     0.0000    0.0000    0.0000      2987\n",
      "           3     0.0000    0.0000    0.0000      2984\n",
      "           4     0.2230    0.9839    0.3636      2987\n",
      "           5     0.0000    0.0000    0.0000      3005\n",
      "\n",
      "    accuracy                         0.1959     15000\n",
      "   macro avg     0.0372    0.1640    0.0606     15000\n",
      "weighted avg     0.0444    0.1959    0.0724     15000\n",
      "\n",
      "Confusion matrix:\n",
      "[[   0    0    0    0    0    0]\n",
      " [1167    0    0    0 1870    0]\n",
      " [ 398    0    0    0 2589    0]\n",
      " [ 143    0    0    0 2841    0]\n",
      " [  48    0    0    0 2939    0]\n",
      " [  67    0    0    0 2938    0]]\n"
     ]
    }
   ],
   "source": [
    "y_sgd_ssl_pred = sgd_model_ssl.predict(X_validation)\n",
    "evaluate_labels(y_validation, y_sgd_ssl_pred)"
   ]
  },
  {
   "cell_type": "markdown",
   "metadata": {
    "colab_type": "text",
    "id": "ZxCO1lk6ZUP0"
   },
   "source": [
    "### Multinomial naive Bayes"
   ]
  },
  {
   "cell_type": "code",
   "execution_count": 132,
   "metadata": {
    "colab": {},
    "colab_type": "code",
    "id": "XABSqZdJY7Xi"
   },
   "outputs": [
    {
     "name": "stdout",
     "output_type": "stream",
     "text": [
      "Classification report:\n",
      "              precision    recall  f1-score   support\n",
      "\n",
      "           0     0.0000    0.0000    0.0000         0\n",
      "           1     0.0000    0.0000    0.0000      3037\n",
      "           2     0.0000    0.0000    0.0000      2987\n",
      "           3     0.3692    0.0080    0.0157      2984\n",
      "           4     0.0943    0.0017    0.0033      2987\n",
      "           5     0.0000    0.0000    0.0000      3005\n",
      "\n",
      "    accuracy                         0.0019     15000\n",
      "   macro avg     0.0773    0.0016    0.0032     15000\n",
      "weighted avg     0.0922    0.0019    0.0038     15000\n",
      "\n",
      "Confusion matrix:\n",
      "[[   0    0    0    0    0    0]\n",
      " [3031    0    0    3    3    0]\n",
      " [2976    0    0    8    3    0]\n",
      " [2959    0    0   24    1    0]\n",
      " [2962    0    0   20    5    0]\n",
      " [2954    0    0   10   41    0]]\n"
     ]
    }
   ],
   "source": [
    "y_mnb_ssl_pred = mnb_model_ssl.predict(X_validation)\n",
    "evaluate_labels(y_validation, y_mnb_ssl_pred)"
   ]
  },
  {
   "cell_type": "markdown",
   "metadata": {
    "colab_type": "text",
    "id": "dLnD7EISZO2f"
   },
   "source": [
    "### Deep learning"
   ]
  },
  {
   "cell_type": "code",
   "execution_count": 126,
   "metadata": {
    "colab": {},
    "colab_type": "code",
    "id": "-KInKasrkUi7"
   },
   "outputs": [
    {
     "ename": "ValueError",
     "evalue": "test_data must be an instance of H2OFrame",
     "output_type": "error",
     "traceback": [
      "\u001b[0;31m---------------------------------------------------------------------------\u001b[0m",
      "\u001b[0;31mValueError\u001b[0m                                Traceback (most recent call last)",
      "\u001b[0;32m<ipython-input-126-f9231f70c3f9>\u001b[0m in \u001b[0;36m<module>\u001b[0;34m\u001b[0m\n\u001b[0;32m----> 1\u001b[0;31m \u001b[0mdeep_learning_pred\u001b[0m \u001b[0;34m=\u001b[0m \u001b[0mdeep_learning\u001b[0m\u001b[0;34m.\u001b[0m\u001b[0mpredict\u001b[0m\u001b[0;34m(\u001b[0m\u001b[0mX_validation\u001b[0m\u001b[0;34m)\u001b[0m\u001b[0;34m\u001b[0m\u001b[0;34m\u001b[0m\u001b[0m\n\u001b[0m\u001b[1;32m      2\u001b[0m \u001b[0my_validation_array\u001b[0m \u001b[0;34m=\u001b[0m \u001b[0my_validation_deeplearning\u001b[0m\u001b[0;34m.\u001b[0m\u001b[0mas_matrix\u001b[0m\u001b[0;34m(\u001b[0m\u001b[0;34m)\u001b[0m\u001b[0;34m.\u001b[0m\u001b[0mflatten\u001b[0m\u001b[0;34m(\u001b[0m\u001b[0;34m)\u001b[0m\u001b[0;34m\u001b[0m\u001b[0;34m\u001b[0m\u001b[0m\n\u001b[1;32m      3\u001b[0m \u001b[0my_dl_ssl_pred\u001b[0m \u001b[0;34m=\u001b[0m \u001b[0mdeep_learning_pred\u001b[0m\u001b[0;34m[\u001b[0m\u001b[0;34m\"predict\"\u001b[0m\u001b[0;34m]\u001b[0m\u001b[0;34m.\u001b[0m\u001b[0mas_data_frame\u001b[0m\u001b[0;34m(\u001b[0m\u001b[0;34m)\u001b[0m\u001b[0;34m.\u001b[0m\u001b[0mas_matrix\u001b[0m\u001b[0;34m(\u001b[0m\u001b[0;34m)\u001b[0m\u001b[0;34m\u001b[0m\u001b[0;34m\u001b[0m\u001b[0m\n\u001b[1;32m      4\u001b[0m \u001b[0mevaluate_labels\u001b[0m\u001b[0;34m(\u001b[0m\u001b[0my_validation_array\u001b[0m\u001b[0;34m,\u001b[0m \u001b[0my_dl_ssl_pred\u001b[0m\u001b[0;34m)\u001b[0m\u001b[0;34m\u001b[0m\u001b[0;34m\u001b[0m\u001b[0m\n",
      "\u001b[0;32m~/.local/lib/python3.6/site-packages/h2o/model/model_base.py\u001b[0m in \u001b[0;36mpredict\u001b[0;34m(self, test_data, custom_metric, custom_metric_func)\u001b[0m\n\u001b[1;32m    226\u001b[0m                              \"The argument 'eval_func_ref' cannot be specified when eval_func is specified, \")\n\u001b[1;32m    227\u001b[0m             \u001b[0meval_func_ref\u001b[0m \u001b[0;34m=\u001b[0m \u001b[0mh2o\u001b[0m\u001b[0;34m.\u001b[0m\u001b[0mupload_custom_metric\u001b[0m\u001b[0;34m(\u001b[0m\u001b[0mcustom_metric\u001b[0m\u001b[0;34m)\u001b[0m\u001b[0;34m\u001b[0m\u001b[0;34m\u001b[0m\u001b[0m\n\u001b[0;32m--> 228\u001b[0;31m         \u001b[0;32mif\u001b[0m \u001b[0;32mnot\u001b[0m \u001b[0misinstance\u001b[0m\u001b[0;34m(\u001b[0m\u001b[0mtest_data\u001b[0m\u001b[0;34m,\u001b[0m \u001b[0mh2o\u001b[0m\u001b[0;34m.\u001b[0m\u001b[0mH2OFrame\u001b[0m\u001b[0;34m)\u001b[0m\u001b[0;34m:\u001b[0m \u001b[0;32mraise\u001b[0m \u001b[0mValueError\u001b[0m\u001b[0;34m(\u001b[0m\u001b[0;34m\"test_data must be an instance of H2OFrame\"\u001b[0m\u001b[0;34m)\u001b[0m\u001b[0;34m\u001b[0m\u001b[0;34m\u001b[0m\u001b[0m\n\u001b[0m\u001b[1;32m    229\u001b[0m         j = H2OJob(h2o.api(\"POST /4/Predictions/models/%s/frames/%s\" % (self.model_id, test_data.frame_id), data = {'custom_metric_func': custom_metric_func}),\n\u001b[1;32m    230\u001b[0m                    self._model_json[\"algo\"] + \" prediction\")\n",
      "\u001b[0;31mValueError\u001b[0m: test_data must be an instance of H2OFrame"
     ]
    }
   ],
   "source": [
    "deep_learning_pred = deep_learning.predict(X_validation)\n",
    "y_validation_array = y_validation_deeplearning.as_matrix().flatten()\n",
    "y_dl_ssl_pred = deep_learning_pred[\"predict\"].as_data_frame().as_matrix()\n",
    "evaluate_labels(y_validation_array, y_dl_ssl_pred)"
   ]
  },
  {
   "cell_type": "markdown",
   "metadata": {
    "colab_type": "text",
    "id": "FvTnI96yLww1"
   },
   "source": [
    "### Model comparison\n",
    "We see how well each model performs with regards to accuracy scores, and compare it with the accuracy scores on only the labelled dataset."
   ]
  },
  {
   "cell_type": "code",
   "execution_count": 135,
   "metadata": {
    "colab": {},
    "colab_type": "code",
    "id": "lJLq3MCrLymL"
   },
   "outputs": [
    {
     "data": {
      "text/html": [
       "<div>\n",
       "<style scoped>\n",
       "    .dataframe tbody tr th:only-of-type {\n",
       "        vertical-align: middle;\n",
       "    }\n",
       "\n",
       "    .dataframe tbody tr th {\n",
       "        vertical-align: top;\n",
       "    }\n",
       "\n",
       "    .dataframe thead th {\n",
       "        text-align: right;\n",
       "    }\n",
       "</style>\n",
       "<table border=\"1\" class=\"dataframe\">\n",
       "  <thead>\n",
       "    <tr style=\"text-align: right;\">\n",
       "      <th>Classifier</th>\n",
       "      <th>Accuracy (labeled)</th>\n",
       "      <th>Accuracy (SSL)</th>\n",
       "    </tr>\n",
       "  </thead>\n",
       "  <tbody>\n",
       "    <tr>\n",
       "      <th>Stochastic gradient descent</th>\n",
       "      <td>0.5829</td>\n",
       "      <td>0.1959</td>\n",
       "    </tr>\n",
       "    <tr>\n",
       "      <th>Multinomial naive Bayes</th>\n",
       "      <td>0.5428</td>\n",
       "      <td>0.0019</td>\n",
       "    </tr>\n",
       "  </tbody>\n",
       "</table>\n",
       "</div>"
      ],
      "text/plain": [
       "Classifier                   Accuracy (labeled)  Accuracy (SSL)\n",
       "Stochastic gradient descent 0.5829              0.1959         \n",
       "Multinomial naive Bayes     0.5428              0.0019         "
      ]
     },
     "execution_count": 135,
     "metadata": {},
     "output_type": "execute_result"
    }
   ],
   "source": [
    "## Summarise label predictions in a dictionary\n",
    "ssl_predictions = {\n",
    "    \"Stochastic gradient descent\": [y_sgd_ssl_pred],\n",
    "    \"Multinomial naive Bayes\": [y_mnb_ssl_pred]#,\n",
    "    #\"Deep learning\": [y_dl_ssl_pred]\n",
    "}\n",
    "\n",
    "## Arrange it into a dataframe, and compute the accuracy scores\n",
    "accuracy_comparison_ssl_df = pd.DataFrame(ssl_predictions).T\n",
    "accuracy_comparison_ssl_df.columns = ['Accuracy (SSL)']\n",
    "accuracy_comparison_ssl_df['Accuracy (SSL)'] = \\\n",
    "    accuracy_comparison_ssl_df['Accuracy (SSL)'].apply(compute_accuracy)\n",
    "accuracy_comparison_ssl_df.columns.name = 'Classifier'\n",
    "accuracy_comparison_ssl_df\n",
    "\n",
    "## Merge the two dataframes together\n",
    "accuracy_comparison_df = \\\n",
    "    pd.merge(accuracy_comparison_df,\n",
    "             accuracy_comparison_ssl_df,\n",
    "             left_index=True,\n",
    "             right_index=True\n",
    "    )\n",
    "\n",
    "## Display it\n",
    "accuracy_comparison_df"
   ]
  },
  {
   "cell_type": "markdown",
   "metadata": {
    "colab_type": "text",
    "id": "jA1O7Ta8SHxk"
   },
   "source": [
    "## Predicting test labels\n",
    "We first decide which final model to use. We choose the SGD model trained using the self-learning procedure."
   ]
  },
  {
   "cell_type": "code",
   "execution_count": 136,
   "metadata": {
    "colab": {
     "base_uri": "https://localhost:8080/",
     "height": 174
    },
    "colab_type": "code",
    "id": "-rl4Ru4hX_t6",
    "outputId": "f2412dc4-97f4-46eb-c664-7be61db8cb34"
   },
   "outputs": [],
   "source": [
    "final_model = sgd_model"
   ]
  },
  {
   "cell_type": "code",
   "execution_count": 137,
   "metadata": {
    "colab": {},
    "colab_type": "code",
    "id": "HhazDW6BQGkk"
   },
   "outputs": [
    {
     "name": "stdout",
     "output_type": "stream",
     "text": [
      "CPU times: user 731 ms, sys: 532 ms, total: 1.26 s\n",
      "Wall time: 27 s\n"
     ]
    }
   ],
   "source": [
    "%%time\n",
    "with mp.Pool(mp.cpu_count()) as pool:\n",
    "    test_data['clean_text'] = pool.map(preprocess_text, test_data['text'])"
   ]
  },
  {
   "cell_type": "code",
   "execution_count": 138,
   "metadata": {
    "colab": {
     "base_uri": "https://localhost:8080/",
     "height": 369
    },
    "colab_type": "code",
    "id": "yQ9-9Rl3SKHa",
    "outputId": "837728c1-3f2a-4625-83c8-16e97e527b34"
   },
   "outputs": [],
   "source": [
    "test_text = test_data['clean_text'].astype('str')\n",
    "\n",
    "X_test = tfidf_vectorizer.transform(test_text)\n",
    "# X_test = reduce_dimensions(X_test)\n",
    "\n",
    "y_test_pred = final_model.predict(X_test)"
   ]
  },
  {
   "cell_type": "code",
   "execution_count": 139,
   "metadata": {
    "colab": {
     "base_uri": "https://localhost:8080/",
     "height": 212
    },
    "colab_type": "code",
    "id": "ImEYR9rsY8ox",
    "outputId": "4355ab74-a599-48c5-da9d-97f53ed46560"
   },
   "outputs": [],
   "source": [
    "predict_label = pd.DataFrame([y_test_pred]).T\n",
    "predict_label.columns = [\"label\"]\n",
    "predict_label.index.name = \"test_id\"\n",
    "predict_label.index = test_data[\"test_id\"]\n",
    "predict_label.to_csv(\"predict_label.csv\")"
   ]
  }
 ],
 "metadata": {
  "colab": {
   "collapsed_sections": [],
   "name": "FIT5149 S2 2019 - A2 - Group 21",
   "provenance": []
  },
  "kernelspec": {
   "display_name": "Python 3",
   "language": "python",
   "name": "python3"
  },
  "language_info": {
   "codemirror_mode": {
    "name": "ipython",
    "version": 3
   },
   "file_extension": ".py",
   "mimetype": "text/x-python",
   "name": "python",
   "nbconvert_exporter": "python",
   "pygments_lexer": "ipython3",
   "version": "3.6.8"
  }
 },
 "nbformat": 4,
 "nbformat_minor": 1
}
